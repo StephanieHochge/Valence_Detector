{
 "cells": [
  {
   "cell_type": "code",
   "execution_count": 1,
   "id": "faa25237-bd63-46d1-8bda-6eb5eb1e7541",
   "metadata": {},
   "outputs": [],
   "source": [
    "import random\n",
    "from pathlib import Path\n",
    "\n",
    "import torch\n",
    "import torchvision.models as models\n",
    "from torchvision import transforms\n",
    "from torchinfo import summary\n",
    "\n",
    "from load_data_functions import create_cv_datasets, create_dataloaders\n",
    "from engine import load_adapted_emonet, get_loss_optimizer, create_writer, train, pretty_json, plot_loss_curves, pred_and_plot_n_images, calculate_cv_performance"
   ]
  },
  {
   "cell_type": "code",
   "execution_count": 2,
   "id": "64ce76f8-60ad-4991-b282-f9f8403f0173",
   "metadata": {},
   "outputs": [],
   "source": [
    "# get current hyperparameter setup\n",
    "batch_size = 64\n",
    "loss_fn_str = \"MSE\"\n",
    "learning_rate = 0.001\n",
    "optimizer_str = \"Adam\"\n",
    "num_epochs = 10\n",
    "train_percentage = 1.0"
   ]
  },
  {
   "cell_type": "code",
   "execution_count": 3,
   "id": "1cf816d9-c1fb-449b-aa8a-05e6c6bc9268",
   "metadata": {},
   "outputs": [],
   "source": [
    "# other variables relevant for training\n",
    "split_path = Path(\"data/train_test_split\")\n",
    "fold_list = [split_path / f\"fold_{i}\" for i in range(1, 6)]\n",
    "img_size = 256\n",
    "model_name = \"adapted_emonet\""
   ]
  },
  {
   "cell_type": "code",
   "execution_count": 4,
   "id": "fcb48e35-3244-457a-afd1-b4d9e20259fb",
   "metadata": {},
   "outputs": [
    {
     "name": "stdout",
     "output_type": "stream",
     "text": [
      "cuda\n"
     ]
    }
   ],
   "source": [
    "# setup device agnostic code\n",
    "device = torch.device(\"cuda\" if torch.cuda.is_available() else \"cpu\")\n",
    "print(device)"
   ]
  },
  {
   "cell_type": "code",
   "execution_count": 5,
   "id": "e29ebda1-98e0-44fd-b12a-88e1d7a46053",
   "metadata": {},
   "outputs": [
    {
     "name": "stdout",
     "output_type": "stream",
     "text": [
      "[INFO] Created SummaryWriter, saving to: runs\\model_selection_cv\\adapted_emonet\\2024-05-26_13-28-53...\n"
     ]
    }
   ],
   "source": [
    "# create a writer to track training results\n",
    "writer = create_writer(f\"model_selection_cv\", model_name)"
   ]
  },
  {
   "cell_type": "code",
   "execution_count": 6,
   "id": "4491c45b-af0d-4dbd-a05b-f7776b1a0d68",
   "metadata": {},
   "outputs": [],
   "source": [
    "# track hyperparameters and other important information\n",
    "info = {\n",
    "        \"model_name\": model_name,\n",
    "        \"batch_size\": batch_size,\n",
    "        \"loss_fn_str\": loss_fn_str,\n",
    "        \"learning_rate\": learning_rate,\n",
    "        \"split_path\": str(split_path),\n",
    "        \"fold_list\": [str(fold) for fold in fold_list],\n",
    "        \"img_size\": img_size,\n",
    "        \"num_epochs\": num_epochs,\n",
    "        \"optimizer_str\": optimizer_str,\n",
    "        \"percentage\": train_percentage\n",
    "    }\n",
    "\n",
    "writer.add_text(\"Miscellaneous\", pretty_json(info))"
   ]
  },
  {
   "cell_type": "code",
   "execution_count": 7,
   "id": "799c1af0-77bf-4b83-894c-26ff6e85ba70",
   "metadata": {},
   "outputs": [],
   "source": [
    "# define the transforms (standard transforms are performed, as these are not specified in Toisoul et al., 2021)\n",
    "data_transforms = transforms.Compose([\n",
    "    transforms.Resize((img_size, img_size)),\n",
    "    transforms.ToTensor(),\n",
    "    transforms.Normalize(mean=[0.485, 0.456, 0.406],\n",
    "                         std=[0.229, 0.224, 0.225])\n",
    "])"
   ]
  },
  {
   "cell_type": "code",
   "execution_count": 8,
   "id": "e618ae12-2d97-421e-b797-5860ec75082a",
   "metadata": {},
   "outputs": [
    {
     "name": "stdout",
     "output_type": "stream",
     "text": [
      "\n",
      "----------------------------------------------------------------------------------------\n",
      "Size of the training set: 19803\n",
      "Size of the validation set: 4915\n",
      "[INFO] Created a new baseline EmoNet model.\n",
      "Training results for fold_1:\n"
     ]
    },
    {
     "data": {
      "application/vnd.jupyter.widget-view+json": {
       "model_id": "053910be8b1c4818a13f846c3f358619",
       "version_major": 2,
       "version_minor": 0
      },
      "text/plain": [
       "  0%|          | 0/10 [00:00<?, ?it/s]"
      ]
     },
     "metadata": {},
     "output_type": "display_data"
    },
    {
     "name": "stdout",
     "output_type": "stream",
     "text": [
      "Epoch: 1 | train_loss: 0.0386 | train_ccc: 0.7552 | train_pcc: 0.7767 | val_loss: 0.1541 | val_ccc: 0.1329 | val_pcc: 0.2933\n",
      "Epoch: 2 | train_loss: 0.0178 | train_ccc: 0.8687 | train_pcc: 0.8841 | val_loss: 0.1918 | val_ccc: 0.1184 | val_pcc: 0.3399\n",
      "Epoch: 3 | train_loss: 0.0155 | train_ccc: 0.8889 | train_pcc: 0.9055 | val_loss: 0.2559 | val_ccc: 0.1023 | val_pcc: 0.3548\n",
      "Epoch: 4 | train_loss: 0.0129 | train_ccc: 0.9081 | train_pcc: 0.9207 | val_loss: 0.1113 | val_ccc: 0.1960 | val_pcc: 0.3117\n",
      "Epoch: 5 | train_loss: 0.0119 | train_ccc: 0.9151 | train_pcc: 0.9280 | val_loss: 0.0745 | val_ccc: 0.2292 | val_pcc: 0.3618\n",
      "Epoch: 6 | train_loss: 0.0111 | train_ccc: 0.9221 | train_pcc: 0.9348 | val_loss: 0.1820 | val_ccc: 0.1252 | val_pcc: 0.3703\n",
      "Epoch: 7 | train_loss: 0.0102 | train_ccc: 0.9288 | train_pcc: 0.9412 | val_loss: 0.1507 | val_ccc: 0.1387 | val_pcc: 0.3598\n",
      "Epoch: 8 | train_loss: 0.0101 | train_ccc: 0.9295 | train_pcc: 0.9420 | val_loss: 0.0892 | val_ccc: 0.1905 | val_pcc: 0.2680\n",
      "Epoch: 9 | train_loss: 0.0089 | train_ccc: 0.9384 | train_pcc: 0.9495 | val_loss: 0.0874 | val_ccc: 0.2623 | val_pcc: 0.3756\n",
      "Epoch: 10 | train_loss: 0.0088 | train_ccc: 0.9388 | train_pcc: 0.9487 | val_loss: 0.3391 | val_ccc: 0.0754 | val_pcc: 0.3707\n",
      "\n",
      "----------------------------------------------------------------------------------------\n",
      "Size of the training set: 19703\n",
      "Size of the validation set: 5015\n",
      "[INFO] Created a new baseline EmoNet model.\n",
      "Training results for fold_2:\n"
     ]
    },
    {
     "data": {
      "application/vnd.jupyter.widget-view+json": {
       "model_id": "c2f132cbdacc4fecb060e09fde6b1900",
       "version_major": 2,
       "version_minor": 0
      },
      "text/plain": [
       "  0%|          | 0/10 [00:00<?, ?it/s]"
      ]
     },
     "metadata": {},
     "output_type": "display_data"
    },
    {
     "name": "stdout",
     "output_type": "stream",
     "text": [
      "Epoch: 1 | train_loss: 0.0408 | train_ccc: 0.7403 | train_pcc: 0.7636 | val_loss: 0.3436 | val_ccc: 0.0614 | val_pcc: 0.2986\n",
      "Epoch: 2 | train_loss: 0.0189 | train_ccc: 0.8594 | train_pcc: 0.8754 | val_loss: 0.0625 | val_ccc: 0.1677 | val_pcc: 0.2547\n",
      "Epoch: 3 | train_loss: 0.0153 | train_ccc: 0.8892 | train_pcc: 0.9036 | val_loss: 0.0826 | val_ccc: 0.1874 | val_pcc: 0.3157\n",
      "Epoch: 4 | train_loss: 0.0135 | train_ccc: 0.9022 | train_pcc: 0.9158 | val_loss: 0.0583 | val_ccc: 0.1694 | val_pcc: 0.2789\n",
      "Epoch: 5 | train_loss: 0.0123 | train_ccc: 0.9121 | train_pcc: 0.9258 | val_loss: 0.1140 | val_ccc: 0.1248 | val_pcc: 0.2548\n",
      "Epoch: 6 | train_loss: 0.0112 | train_ccc: 0.9205 | train_pcc: 0.9314 | val_loss: 0.0875 | val_ccc: 0.1587 | val_pcc: 0.2555\n",
      "Epoch: 7 | train_loss: 0.0105 | train_ccc: 0.9258 | train_pcc: 0.9378 | val_loss: 0.1603 | val_ccc: 0.1286 | val_pcc: 0.3171\n",
      "Epoch: 8 | train_loss: 0.0103 | train_ccc: 0.9273 | train_pcc: 0.9401 | val_loss: 0.0584 | val_ccc: 0.1637 | val_pcc: 0.2408\n",
      "Epoch: 9 | train_loss: 0.0094 | train_ccc: 0.9342 | train_pcc: 0.9446 | val_loss: 0.3903 | val_ccc: 0.0390 | val_pcc: 0.3278\n",
      "Epoch: 10 | train_loss: 0.0089 | train_ccc: 0.9372 | train_pcc: 0.9468 | val_loss: 0.0635 | val_ccc: 0.2239 | val_pcc: 0.3259\n",
      "\n",
      "----------------------------------------------------------------------------------------\n",
      "Size of the training set: 19826\n",
      "Size of the validation set: 4892\n",
      "[INFO] Created a new baseline EmoNet model.\n",
      "Training results for fold_3:\n"
     ]
    },
    {
     "data": {
      "application/vnd.jupyter.widget-view+json": {
       "model_id": "401522304cc1460cb6a049ad37401b5f",
       "version_major": 2,
       "version_minor": 0
      },
      "text/plain": [
       "  0%|          | 0/10 [00:00<?, ?it/s]"
      ]
     },
     "metadata": {},
     "output_type": "display_data"
    },
    {
     "name": "stdout",
     "output_type": "stream",
     "text": [
      "Epoch: 1 | train_loss: 0.0400 | train_ccc: 0.7531 | train_pcc: 0.7763 | val_loss: 0.2118 | val_ccc: 0.0981 | val_pcc: 0.2320\n",
      "Epoch: 2 | train_loss: 0.0180 | train_ccc: 0.8728 | train_pcc: 0.8883 | val_loss: 0.0898 | val_ccc: 0.1760 | val_pcc: 0.3314\n",
      "Epoch: 3 | train_loss: 0.0151 | train_ccc: 0.8946 | train_pcc: 0.9087 | val_loss: 0.1038 | val_ccc: 0.1132 | val_pcc: 0.2570\n",
      "Epoch: 4 | train_loss: 0.0134 | train_ccc: 0.9074 | train_pcc: 0.9211 | val_loss: 0.1796 | val_ccc: 0.0617 | val_pcc: 0.1430\n",
      "Epoch: 5 | train_loss: 0.0117 | train_ccc: 0.9197 | train_pcc: 0.9311 | val_loss: 0.1806 | val_ccc: 0.0932 | val_pcc: 0.2573\n",
      "Epoch: 6 | train_loss: 0.0110 | train_ccc: 0.9246 | train_pcc: 0.9355 | val_loss: 0.0617 | val_ccc: 0.1524 | val_pcc: 0.2417\n",
      "Epoch: 7 | train_loss: 0.0109 | train_ccc: 0.9261 | train_pcc: 0.9385 | val_loss: 0.1929 | val_ccc: 0.0854 | val_pcc: 0.2334\n",
      "Epoch: 8 | train_loss: 0.0099 | train_ccc: 0.9329 | train_pcc: 0.9437 | val_loss: 0.0771 | val_ccc: 0.1588 | val_pcc: 0.2985\n",
      "Epoch: 9 | train_loss: 0.0094 | train_ccc: 0.9361 | train_pcc: 0.9466 | val_loss: 0.3815 | val_ccc: 0.0349 | val_pcc: 0.2131\n",
      "Epoch: 10 | train_loss: 0.0092 | train_ccc: 0.9384 | train_pcc: 0.9492 | val_loss: 0.1723 | val_ccc: 0.0676 | val_pcc: 0.2072\n",
      "\n",
      "----------------------------------------------------------------------------------------\n",
      "Size of the training set: 19667\n",
      "Size of the validation set: 5051\n",
      "[INFO] Created a new baseline EmoNet model.\n",
      "Training results for fold_4:\n"
     ]
    },
    {
     "data": {
      "application/vnd.jupyter.widget-view+json": {
       "model_id": "ce47e94f9bb2437c8247576eaae82fcd",
       "version_major": 2,
       "version_minor": 0
      },
      "text/plain": [
       "  0%|          | 0/10 [00:00<?, ?it/s]"
      ]
     },
     "metadata": {},
     "output_type": "display_data"
    },
    {
     "name": "stdout",
     "output_type": "stream",
     "text": [
      "Epoch: 1 | train_loss: 0.0383 | train_ccc: 0.7670 | train_pcc: 0.7890 | val_loss: 0.3045 | val_ccc: 0.0552 | val_pcc: 0.1903\n",
      "Epoch: 2 | train_loss: 0.0178 | train_ccc: 0.8724 | train_pcc: 0.8882 | val_loss: 0.0923 | val_ccc: 0.1705 | val_pcc: 0.2857\n",
      "Epoch: 3 | train_loss: 0.0153 | train_ccc: 0.8933 | train_pcc: 0.9093 | val_loss: 0.0665 | val_ccc: 0.2200 | val_pcc: 0.3142\n",
      "Epoch: 4 | train_loss: 0.0130 | train_ccc: 0.9101 | train_pcc: 0.9241 | val_loss: 0.1428 | val_ccc: 0.0982 | val_pcc: 0.2187\n",
      "Epoch: 5 | train_loss: 0.0120 | train_ccc: 0.9180 | train_pcc: 0.9316 | val_loss: 0.0549 | val_ccc: 0.2486 | val_pcc: 0.3747\n",
      "Epoch: 6 | train_loss: 0.0112 | train_ccc: 0.9233 | train_pcc: 0.9351 | val_loss: 0.0892 | val_ccc: 0.1821 | val_pcc: 0.3067\n",
      "Epoch: 7 | train_loss: 0.0106 | train_ccc: 0.9284 | train_pcc: 0.9403 | val_loss: 0.0915 | val_ccc: 0.1307 | val_pcc: 0.3063\n",
      "Epoch: 8 | train_loss: 0.0097 | train_ccc: 0.9339 | train_pcc: 0.9447 | val_loss: 0.2207 | val_ccc: 0.0612 | val_pcc: 0.2810\n",
      "Epoch: 9 | train_loss: 0.0095 | train_ccc: 0.9354 | train_pcc: 0.9474 | val_loss: 0.1879 | val_ccc: 0.0349 | val_pcc: 0.1923\n",
      "Epoch: 10 | train_loss: 0.0089 | train_ccc: 0.9391 | train_pcc: 0.9509 | val_loss: 0.3344 | val_ccc: 0.0550 | val_pcc: 0.3404\n",
      "\n",
      "----------------------------------------------------------------------------------------\n",
      "Size of the training set: 19873\n",
      "Size of the validation set: 4845\n",
      "[INFO] Created a new baseline EmoNet model.\n",
      "Training results for fold_5:\n"
     ]
    },
    {
     "data": {
      "application/vnd.jupyter.widget-view+json": {
       "model_id": "3e048b0030da48cea15d83341f658a56",
       "version_major": 2,
       "version_minor": 0
      },
      "text/plain": [
       "  0%|          | 0/10 [00:00<?, ?it/s]"
      ]
     },
     "metadata": {},
     "output_type": "display_data"
    },
    {
     "name": "stdout",
     "output_type": "stream",
     "text": [
      "Epoch: 1 | train_loss: 0.0392 | train_ccc: 0.7549 | train_pcc: 0.7760 | val_loss: 0.1620 | val_ccc: 0.1742 | val_pcc: 0.3239\n",
      "Epoch: 2 | train_loss: 0.0188 | train_ccc: 0.8629 | train_pcc: 0.8791 | val_loss: 0.0799 | val_ccc: 0.1558 | val_pcc: 0.2705\n",
      "Epoch: 3 | train_loss: 0.0153 | train_ccc: 0.8895 | train_pcc: 0.9038 | val_loss: 0.2493 | val_ccc: 0.0342 | val_pcc: 0.1336\n",
      "Epoch: 4 | train_loss: 0.0133 | train_ccc: 0.9050 | train_pcc: 0.9172 | val_loss: 0.0794 | val_ccc: 0.1562 | val_pcc: 0.2157\n",
      "Epoch: 5 | train_loss: 0.0123 | train_ccc: 0.9135 | train_pcc: 0.9281 | val_loss: 0.0696 | val_ccc: 0.1686 | val_pcc: 0.2741\n",
      "Epoch: 6 | train_loss: 0.0114 | train_ccc: 0.9206 | train_pcc: 0.9338 | val_loss: 0.0723 | val_ccc: 0.1586 | val_pcc: 0.2629\n",
      "Epoch: 7 | train_loss: 0.0106 | train_ccc: 0.9255 | train_pcc: 0.9375 | val_loss: 0.0752 | val_ccc: 0.2172 | val_pcc: 0.3249\n",
      "Epoch: 8 | train_loss: 0.0099 | train_ccc: 0.9306 | train_pcc: 0.9421 | val_loss: 0.1332 | val_ccc: 0.1621 | val_pcc: 0.3116\n",
      "Epoch: 9 | train_loss: 0.0096 | train_ccc: 0.9325 | train_pcc: 0.9446 | val_loss: 0.1143 | val_ccc: 0.1103 | val_pcc: 0.2605\n",
      "Epoch: 10 | train_loss: 0.0088 | train_ccc: 0.9389 | train_pcc: 0.9490 | val_loss: 0.1018 | val_ccc: 0.1497 | val_pcc: 0.3092\n"
     ]
    }
   ],
   "source": [
    "# perform cross_validation\n",
    "datasets = create_cv_datasets(fold_list, data_transforms, select_one=False, train_percentage=train_percentage)\n",
    "cv_results = {}\n",
    "for fold in datasets.keys():\n",
    "    train_data = datasets[fold][\"train\"]\n",
    "    validation_data = datasets[fold][\"validation\"]\n",
    "    print(\"\\n----------------------------------------------------------------------------------------\")\n",
    "    print(f\"Size of the training set: {len(train_data)}\")\n",
    "    print(f\"Size of the validation set: {len(validation_data)}\")\n",
    "    train_loader, val_loader = create_dataloaders(train_data, validation_data, device, batch_size)\n",
    "\n",
    "    # initialize model and optimizer\n",
    "    model = load_adapted_emonet(device)\n",
    "    loss_fn, optimizer = get_loss_optimizer(loss_fn_str, optimizer_str, model, learning_rate)\n",
    "\n",
    "    print(f\"Training results for {fold}:\")\n",
    "    cv_results[fold] = train(num_epochs=num_epochs,\n",
    "                             model=model,\n",
    "                             train_loader=train_loader,\n",
    "                             val_loader=val_loader,\n",
    "                             loss_fn=loss_fn,\n",
    "                             optimizer=optimizer,\n",
    "                             device=device,\n",
    "                             writer=writer,\n",
    "                             early_stopping=False)"
   ]
  },
  {
   "cell_type": "code",
   "execution_count": 9,
   "id": "cd0a48b4-2929-42f3-b101-9d0544b54c2a",
   "metadata": {},
   "outputs": [
    {
     "name": "stdout",
     "output_type": "stream",
     "text": [
      "{'mean_ccc': [0.10435836246336216, 0.1576760560081269, 0.131408068784071, 0.1363025848148965, 0.17289629764062364, 0.15541196937977836, 0.14010797613674986, 0.14725770813684316, 0.09629689286283259, 0.11432585607493437], 'mean_pcc': [0.2676325717233182, 0.2964442736841765, 0.2750759858522874, 0.2335732939615598, 0.3045271766597279, 0.2874149853458184, 0.3083120813335928, 0.27995669921946115, 0.2738658929952806, 0.31067092832045257]}\n"
     ]
    }
   ],
   "source": [
    "# calculate average performance across folds \n",
    "cv_performance = calculate_cv_performance(cv_results, num_epochs, writer)"
   ]
  },
  {
   "cell_type": "code",
   "execution_count": 10,
   "id": "995fcabd-0868-4082-8de9-ea6f202c502a",
   "metadata": {},
   "outputs": [
    {
     "data": {
      "image/png": "[encoded data removed]",
      "text/plain": [
       "<Figure size 1500x400 with 3 Axes>"
      ]
     },
     "metadata": {},
     "output_type": "display_data"
    }
   ],
   "source": [
    "# plot loss curves\n",
    "plot_loss_curves(cv_performance)"
   ]
  },
  {
   "cell_type": "code",
   "execution_count": null,
   "id": "389fcea6-94e5-4ab2-af94-3e14bdeb7c5a",
   "metadata": {},
   "outputs": [],
   "source": []
  }
 ],
 "metadata": {
  "kernelspec": {
   "display_name": "Python 3 (ipykernel)",
   "language": "python",
   "name": "python3"
  },
  "language_info": {
   "codemirror_mode": {
    "name": "ipython",
    "version": 3
   },
   "file_extension": ".py",
   "mimetype": "text/x-python",
   "name": "python",
   "nbconvert_exporter": "python",
   "pygments_lexer": "ipython3",
   "version": "3.11.9"
  }
 },
 "nbformat": 4,
 "nbformat_minor": 5
}
