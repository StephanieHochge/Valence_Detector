{
 "cells": [
  {
   "cell_type": "code",
   "execution_count": 1,
   "id": "faa25237-bd63-46d1-8bda-6eb5eb1e7541",
   "metadata": {},
   "outputs": [],
   "source": [
    "import random\n",
    "from pathlib import Path\n",
    "\n",
    "import torch\n",
    "import torchvision.models as models\n",
    "from torchvision import transforms\n",
    "from torchinfo import summary\n",
    "\n",
    "from load_data_functions import create_cv_datasets, create_dataloaders\n",
    "from engine import load_enet_best, get_loss_optimizer, create_writer, train, pretty_json, plot_loss_curves, pred_and_plot_n_images, calculate_cv_performance"
   ]
  },
  {
   "cell_type": "code",
   "execution_count": 2,
   "id": "64ce76f8-60ad-4991-b282-f9f8403f0173",
   "metadata": {},
   "outputs": [],
   "source": [
    "# get current hyperparameter setup\n",
    "batch_size = 64\n",
    "loss_fn_str = \"MSE\"\n",
    "learning_rate = 0.001\n",
    "optimizer_str = \"Adam\"\n",
    "num_epochs = 10\n",
    "train_percentage = 1.0\n",
    "dropout = 0"
   ]
  },
  {
   "cell_type": "code",
   "execution_count": 3,
   "id": "1cf816d9-c1fb-449b-aa8a-05e6c6bc9268",
   "metadata": {},
   "outputs": [],
   "source": [
    "# other variables relevant for training\n",
    "split_path = Path(\"data/train_test_split\")\n",
    "fold_list = [split_path / f\"fold_{i}\" for i in range(1, 6)]\n",
    "img_size = 224\n",
    "model_name = \"pretrained_enet\""
   ]
  },
  {
   "cell_type": "code",
   "execution_count": 4,
   "id": "fcb48e35-3244-457a-afd1-b4d9e20259fb",
   "metadata": {},
   "outputs": [
    {
     "name": "stdout",
     "output_type": "stream",
     "text": [
      "cuda\n"
     ]
    }
   ],
   "source": [
    "# setup device agnostic code\n",
    "device = torch.device(\"cuda\" if torch.cuda.is_available() else \"cpu\")\n",
    "print(device)"
   ]
  },
  {
   "cell_type": "code",
   "execution_count": 5,
   "id": "e29ebda1-98e0-44fd-b12a-88e1d7a46053",
   "metadata": {},
   "outputs": [
    {
     "name": "stdout",
     "output_type": "stream",
     "text": [
      "[INFO] Created SummaryWriter, saving to: runs\\model_selection_cv\\pretrained_enet\\2024-05-26_17-49-20...\n"
     ]
    }
   ],
   "source": [
    "# create a writer to track training results\n",
    "writer = create_writer(f\"model_selection_cv\", model_name)"
   ]
  },
  {
   "cell_type": "code",
   "execution_count": 6,
   "id": "4491c45b-af0d-4dbd-a05b-f7776b1a0d68",
   "metadata": {},
   "outputs": [],
   "source": [
    "# track hyperparameters and other important information\n",
    "info = {\n",
    "        \"model_name\": model_name,\n",
    "        \"batch_size\": batch_size,\n",
    "        \"loss_fn_str\": loss_fn_str,\n",
    "        \"learning_rate\": learning_rate,\n",
    "        \"augmentation\": False,\n",
    "        \"split_path\": str(split_path),\n",
    "        \"fold_list\": [str(fold) for fold in fold_list],\n",
    "        \"img_size\": img_size,\n",
    "        \"num_epochs\": num_epochs,\n",
    "        \"optimizer_str\": optimizer_str,\n",
    "        \"percentage\": train_percentage\n",
    "    }\n",
    "\n",
    "writer.add_text(\"Miscellaneous\", pretty_json(info))"
   ]
  },
  {
   "cell_type": "code",
   "execution_count": 7,
   "id": "799c1af0-77bf-4b83-894c-26ff6e85ba70",
   "metadata": {},
   "outputs": [],
   "source": [
    "# define the transforms (standard transforms are performed, as these are not specified in Toisoul et al., 2021)\n",
    "data_transforms = transforms.Compose([\n",
    "    transforms.Resize((img_size, img_size)),\n",
    "    transforms.ToTensor(),\n",
    "    transforms.Normalize(mean=[0.485, 0.456, 0.406],\n",
    "                         std=[0.229, 0.224, 0.225])\n",
    "])"
   ]
  },
  {
   "cell_type": "code",
   "execution_count": 8,
   "id": "e618ae12-2d97-421e-b797-5860ec75082a",
   "metadata": {},
   "outputs": [
    {
     "name": "stdout",
     "output_type": "stream",
     "text": [
      "\n",
      "----------------------------------------------------------------------------------------\n",
      "Size of the training set: 19803\n",
      "Size of the validation set: 4915\n",
      "[INFO] Created a new pretrained EfficientNet-B0 model.\n",
      "Training results for fold_1:\n"
     ]
    },
    {
     "data": {
      "application/vnd.jupyter.widget-view+json": {
       "model_id": "049ba608fac84d23aa2f9c79c4a52d46",
       "version_major": 2,
       "version_minor": 0
      },
      "text/plain": [
       "  0%|          | 0/10 [00:00<?, ?it/s]"
      ]
     },
     "metadata": {},
     "output_type": "display_data"
    },
    {
     "name": "stdout",
     "output_type": "stream",
     "text": [
      "Epoch: 1 | train_loss: 0.0453 | train_ccc: 0.6428 | train_pcc: 0.6852 | val_loss: 0.0540 | val_ccc: 0.2669 | val_pcc: 0.3901\n",
      "Epoch: 2 | train_loss: 0.0302 | train_ccc: 0.7642 | train_pcc: 0.7962 | val_loss: 0.0587 | val_ccc: 0.2538 | val_pcc: 0.3687\n",
      "Epoch: 3 | train_loss: 0.0265 | train_ccc: 0.7945 | train_pcc: 0.8212 | val_loss: 0.0606 | val_ccc: 0.2033 | val_pcc: 0.2929\n",
      "Epoch: 4 | train_loss: 0.0245 | train_ccc: 0.8111 | train_pcc: 0.8373 | val_loss: 0.0561 | val_ccc: 0.2408 | val_pcc: 0.3325\n",
      "Epoch: 5 | train_loss: 0.0238 | train_ccc: 0.8186 | train_pcc: 0.8426 | val_loss: 0.0566 | val_ccc: 0.2505 | val_pcc: 0.3344\n",
      "Epoch: 6 | train_loss: 0.0237 | train_ccc: 0.8230 | train_pcc: 0.8458 | val_loss: 0.0605 | val_ccc: 0.2309 | val_pcc: 0.3155\n",
      "Epoch: 7 | train_loss: 0.0219 | train_ccc: 0.8348 | train_pcc: 0.8561 | val_loss: 0.0813 | val_ccc: 0.1240 | val_pcc: 0.1731\n",
      "Epoch: 8 | train_loss: 0.0239 | train_ccc: 0.8272 | train_pcc: 0.8471 | val_loss: 0.0742 | val_ccc: 0.2382 | val_pcc: 0.3284\n",
      "Epoch: 9 | train_loss: 0.0243 | train_ccc: 0.8284 | train_pcc: 0.8482 | val_loss: 0.0795 | val_ccc: 0.2388 | val_pcc: 0.3274\n",
      "Epoch: 10 | train_loss: 0.0222 | train_ccc: 0.8409 | train_pcc: 0.8589 | val_loss: 0.0608 | val_ccc: 0.2289 | val_pcc: 0.3059\n",
      "\n",
      "----------------------------------------------------------------------------------------\n",
      "Size of the training set: 19703\n",
      "Size of the validation set: 5015\n",
      "[INFO] Created a new pretrained EfficientNet-B0 model.\n",
      "Training results for fold_2:\n"
     ]
    },
    {
     "data": {
      "application/vnd.jupyter.widget-view+json": {
       "model_id": "9ac68767aa204fcf944224ee2fe4a1b5",
       "version_major": 2,
       "version_minor": 0
      },
      "text/plain": [
       "  0%|          | 0/10 [00:00<?, ?it/s]"
      ]
     },
     "metadata": {},
     "output_type": "display_data"
    },
    {
     "name": "stdout",
     "output_type": "stream",
     "text": [
      "Epoch: 1 | train_loss: 0.0461 | train_ccc: 0.6072 | train_pcc: 0.6634 | val_loss: 0.0399 | val_ccc: 0.3185 | val_pcc: 0.4355\n",
      "Epoch: 2 | train_loss: 0.0320 | train_ccc: 0.7365 | train_pcc: 0.7762 | val_loss: 0.0367 | val_ccc: 0.3285 | val_pcc: 0.4399\n",
      "Epoch: 3 | train_loss: 0.0289 | train_ccc: 0.7710 | train_pcc: 0.8014 | val_loss: 0.0602 | val_ccc: 0.2382 | val_pcc: 0.3330\n",
      "Epoch: 4 | train_loss: 0.0261 | train_ccc: 0.7921 | train_pcc: 0.8211 | val_loss: 0.0395 | val_ccc: 0.3248 | val_pcc: 0.4289\n",
      "Epoch: 5 | train_loss: 0.0262 | train_ccc: 0.7984 | train_pcc: 0.8253 | val_loss: 0.0507 | val_ccc: 0.2808 | val_pcc: 0.3881\n",
      "Epoch: 6 | train_loss: 0.0242 | train_ccc: 0.8111 | train_pcc: 0.8363 | val_loss: 0.0449 | val_ccc: 0.3349 | val_pcc: 0.4439\n",
      "Epoch: 7 | train_loss: 0.0233 | train_ccc: 0.8181 | train_pcc: 0.8425 | val_loss: 0.0778 | val_ccc: 0.2121 | val_pcc: 0.2961\n",
      "Epoch: 8 | train_loss: 0.0231 | train_ccc: 0.8238 | train_pcc: 0.8466 | val_loss: 0.0499 | val_ccc: 0.2826 | val_pcc: 0.3782\n",
      "Epoch: 9 | train_loss: 0.0232 | train_ccc: 0.8246 | train_pcc: 0.8473 | val_loss: 0.0492 | val_ccc: 0.2797 | val_pcc: 0.3635\n",
      "Epoch: 10 | train_loss: 0.0227 | train_ccc: 0.8304 | train_pcc: 0.8509 | val_loss: 0.0442 | val_ccc: 0.3350 | val_pcc: 0.4480\n",
      "\n",
      "----------------------------------------------------------------------------------------\n",
      "Size of the training set: 19826\n",
      "Size of the validation set: 4892\n",
      "[INFO] Created a new pretrained EfficientNet-B0 model.\n",
      "Training results for fold_3:\n"
     ]
    },
    {
     "data": {
      "application/vnd.jupyter.widget-view+json": {
       "model_id": "cbdb215106874fa28beeb447a918e3dd",
       "version_major": 2,
       "version_minor": 0
      },
      "text/plain": [
       "  0%|          | 0/10 [00:00<?, ?it/s]"
      ]
     },
     "metadata": {},
     "output_type": "display_data"
    },
    {
     "name": "stdout",
     "output_type": "stream",
     "text": [
      "Epoch: 1 | train_loss: 0.0436 | train_ccc: 0.6706 | train_pcc: 0.7116 | val_loss: 0.0517 | val_ccc: 0.2562 | val_pcc: 0.3773\n",
      "Epoch: 2 | train_loss: 0.0290 | train_ccc: 0.7775 | train_pcc: 0.8101 | val_loss: 0.0499 | val_ccc: 0.2436 | val_pcc: 0.3783\n",
      "Epoch: 3 | train_loss: 0.0268 | train_ccc: 0.8000 | train_pcc: 0.8254 | val_loss: 0.0555 | val_ccc: 0.2161 | val_pcc: 0.3305\n",
      "Epoch: 4 | train_loss: 0.0266 | train_ccc: 0.8095 | train_pcc: 0.8323 | val_loss: 0.0637 | val_ccc: 0.1925 | val_pcc: 0.3005\n",
      "Epoch: 5 | train_loss: 0.0241 | train_ccc: 0.8250 | train_pcc: 0.8465 | val_loss: 0.0536 | val_ccc: 0.2200 | val_pcc: 0.3493\n",
      "Epoch: 6 | train_loss: 0.0238 | train_ccc: 0.8306 | train_pcc: 0.8505 | val_loss: 0.0561 | val_ccc: 0.2293 | val_pcc: 0.3517\n",
      "Epoch: 7 | train_loss: 0.0231 | train_ccc: 0.8363 | train_pcc: 0.8566 | val_loss: 0.0549 | val_ccc: 0.2345 | val_pcc: 0.3599\n",
      "Epoch: 8 | train_loss: 0.0220 | train_ccc: 0.8422 | train_pcc: 0.8617 | val_loss: 0.0594 | val_ccc: 0.1943 | val_pcc: 0.3026\n",
      "Epoch: 9 | train_loss: 0.0213 | train_ccc: 0.8492 | train_pcc: 0.8680 | val_loss: 0.0749 | val_ccc: 0.1559 | val_pcc: 0.2080\n",
      "Epoch: 10 | train_loss: 0.0214 | train_ccc: 0.8483 | train_pcc: 0.8672 | val_loss: 0.0563 | val_ccc: 0.2274 | val_pcc: 0.3451\n",
      "\n",
      "----------------------------------------------------------------------------------------\n",
      "Size of the training set: 19667\n",
      "Size of the validation set: 5051\n",
      "[INFO] Created a new pretrained EfficientNet-B0 model.\n",
      "Training results for fold_4:\n"
     ]
    },
    {
     "data": {
      "application/vnd.jupyter.widget-view+json": {
       "model_id": "9c649bf3496c4297abb0578799292f6a",
       "version_major": 2,
       "version_minor": 0
      },
      "text/plain": [
       "  0%|          | 0/10 [00:00<?, ?it/s]"
      ]
     },
     "metadata": {},
     "output_type": "display_data"
    },
    {
     "name": "stdout",
     "output_type": "stream",
     "text": [
      "Epoch: 1 | train_loss: 0.0446 | train_ccc: 0.6455 | train_pcc: 0.6915 | val_loss: 0.0471 | val_ccc: 0.2394 | val_pcc: 0.3721\n",
      "Epoch: 2 | train_loss: 0.0313 | train_ccc: 0.7594 | train_pcc: 0.7941 | val_loss: 0.0474 | val_ccc: 0.2275 | val_pcc: 0.3753\n",
      "Epoch: 3 | train_loss: 0.0284 | train_ccc: 0.7860 | train_pcc: 0.8144 | val_loss: 0.0507 | val_ccc: 0.2165 | val_pcc: 0.3501\n",
      "Epoch: 4 | train_loss: 0.0260 | train_ccc: 0.8073 | train_pcc: 0.8331 | val_loss: 0.0504 | val_ccc: 0.2218 | val_pcc: 0.3606\n",
      "Epoch: 5 | train_loss: 0.0247 | train_ccc: 0.8186 | train_pcc: 0.8417 | val_loss: 0.0564 | val_ccc: 0.2109 | val_pcc: 0.3337\n",
      "Epoch: 6 | train_loss: 0.0242 | train_ccc: 0.8243 | train_pcc: 0.8465 | val_loss: 0.0639 | val_ccc: 0.1854 | val_pcc: 0.2933\n",
      "Epoch: 7 | train_loss: 0.0221 | train_ccc: 0.8383 | train_pcc: 0.8599 | val_loss: 0.0534 | val_ccc: 0.2167 | val_pcc: 0.3387\n",
      "Epoch: 8 | train_loss: 0.0230 | train_ccc: 0.8355 | train_pcc: 0.8556 | val_loss: 0.0547 | val_ccc: 0.2271 | val_pcc: 0.3471\n",
      "Epoch: 9 | train_loss: 0.0215 | train_ccc: 0.8444 | train_pcc: 0.8643 | val_loss: 0.0633 | val_ccc: 0.1979 | val_pcc: 0.3129\n",
      "Epoch: 10 | train_loss: 0.0207 | train_ccc: 0.8512 | train_pcc: 0.8692 | val_loss: 0.0558 | val_ccc: 0.2247 | val_pcc: 0.3386\n",
      "\n",
      "----------------------------------------------------------------------------------------\n",
      "Size of the training set: 19873\n",
      "Size of the validation set: 4845\n",
      "[INFO] Created a new pretrained EfficientNet-B0 model.\n",
      "Training results for fold_5:\n"
     ]
    },
    {
     "data": {
      "application/vnd.jupyter.widget-view+json": {
       "model_id": "b1cb2151e7434951be899418d95381e5",
       "version_major": 2,
       "version_minor": 0
      },
      "text/plain": [
       "  0%|          | 0/10 [00:00<?, ?it/s]"
      ]
     },
     "metadata": {},
     "output_type": "display_data"
    },
    {
     "name": "stdout",
     "output_type": "stream",
     "text": [
      "Epoch: 1 | train_loss: 0.0463 | train_ccc: 0.6332 | train_pcc: 0.6785 | val_loss: 0.0456 | val_ccc: 0.2603 | val_pcc: 0.3892\n",
      "Epoch: 2 | train_loss: 0.0311 | train_ccc: 0.7537 | train_pcc: 0.7876 | val_loss: 0.0508 | val_ccc: 0.2316 | val_pcc: 0.3620\n",
      "Epoch: 3 | train_loss: 0.0275 | train_ccc: 0.7878 | train_pcc: 0.8152 | val_loss: 0.0476 | val_ccc: 0.2546 | val_pcc: 0.3832\n",
      "Epoch: 4 | train_loss: 0.0255 | train_ccc: 0.8036 | train_pcc: 0.8297 | val_loss: 0.0687 | val_ccc: 0.1944 | val_pcc: 0.2788\n",
      "Epoch: 5 | train_loss: 0.0253 | train_ccc: 0.8100 | train_pcc: 0.8349 | val_loss: 0.0578 | val_ccc: 0.2538 | val_pcc: 0.3847\n",
      "Epoch: 6 | train_loss: 0.0251 | train_ccc: 0.8154 | train_pcc: 0.8379 | val_loss: 0.0541 | val_ccc: 0.2147 | val_pcc: 0.3228\n",
      "Epoch: 7 | train_loss: 0.0229 | train_ccc: 0.8282 | train_pcc: 0.8502 | val_loss: 0.0487 | val_ccc: 0.2542 | val_pcc: 0.3728\n",
      "Epoch: 8 | train_loss: 0.0222 | train_ccc: 0.8348 | train_pcc: 0.8565 | val_loss: 0.0548 | val_ccc: 0.2206 | val_pcc: 0.3222\n",
      "Epoch: 9 | train_loss: 0.0203 | train_ccc: 0.8468 | train_pcc: 0.8668 | val_loss: 0.0542 | val_ccc: 0.2099 | val_pcc: 0.3101\n",
      "Epoch: 10 | train_loss: 0.0211 | train_ccc: 0.8426 | train_pcc: 0.8624 | val_loss: 0.0534 | val_ccc: 0.2131 | val_pcc: 0.3142\n"
     ]
    }
   ],
   "source": [
    "# perform cross_validation\n",
    "datasets = create_cv_datasets(fold_list, data_transforms, select_one=False, train_percentage=train_percentage)\n",
    "cv_results = {}\n",
    "for fold in datasets.keys():\n",
    "    train_data = datasets[fold][\"train\"]\n",
    "    validation_data = datasets[fold][\"validation\"]\n",
    "    print(\"\\n----------------------------------------------------------------------------------------\")\n",
    "    print(f\"Size of the training set: {len(train_data)}\")\n",
    "    print(f\"Size of the validation set: {len(validation_data)}\")\n",
    "    train_loader, val_loader = create_dataloaders(train_data, validation_data, device, batch_size)\n",
    "\n",
    "    # initialize model and optimizer\n",
    "    model = load_enet_best(device, dropout=dropout)\n",
    "    loss_fn, optimizer = get_loss_optimizer(loss_fn_str, optimizer_str, model, learning_rate)\n",
    "    \n",
    "    print(f\"Training results for {fold}:\")\n",
    "    cv_results[fold] = train(num_epochs=num_epochs,\n",
    "                             model=model,\n",
    "                             train_loader=train_loader,\n",
    "                             val_loader=val_loader,\n",
    "                             loss_fn=loss_fn,\n",
    "                             optimizer=optimizer,\n",
    "                             device=device,\n",
    "                             writer=writer,\n",
    "                             early_stopping=False)"
   ]
  },
  {
   "cell_type": "code",
   "execution_count": 9,
   "id": "cd0a48b4-2929-42f3-b101-9d0544b54c2a",
   "metadata": {},
   "outputs": [
    {
     "name": "stdout",
     "output_type": "stream",
     "text": [
      "{'mean_ccc': [0.26825157881482653, 0.2570205003999163, 0.2257471836773938, 0.23485102786429848, 0.24317927640914805, 0.23904010708585602, 0.2083011137693632, 0.2325575708483001, 0.21642077568277066, 0.2458412462481967], 'mean_pcc': [0.39284572074265134, 0.38485371337390184, 0.3379052709639163, 0.34026033845620784, 0.3580390779146511, 0.3454454466293823, 0.3081220166590077, 0.3357210944733925, 0.3043831369091487, 0.3503530000049799]}\n"
     ]
    }
   ],
   "source": [
    "# calculate average performance across folds \n",
    "cv_performance = calculate_cv_performance(cv_results, num_epochs, writer)"
   ]
  },
  {
   "cell_type": "code",
   "execution_count": 10,
   "id": "995fcabd-0868-4082-8de9-ea6f202c502a",
   "metadata": {},
   "outputs": [
    {
     "data": {
      "image/png": "[encoded data removed]",
      "text/plain": [
       "<Figure size 1500x400 with 3 Axes>"
      ]
     },
     "metadata": {},
     "output_type": "display_data"
    }
   ],
   "source": [
    "# plot loss curves\n",
    "plot_loss_curves(cv_performance)"
   ]
  },
  {
   "cell_type": "code",
   "execution_count": null,
   "id": "389fcea6-94e5-4ab2-af94-3e14bdeb7c5a",
   "metadata": {},
   "outputs": [],
   "source": []
  }
 ],
 "metadata": {
  "kernelspec": {
   "display_name": "Python 3 (ipykernel)",
   "language": "python",
   "name": "python3"
  },
  "language_info": {
   "codemirror_mode": {
    "name": "ipython",
    "version": 3
   },
   "file_extension": ".py",
   "mimetype": "text/x-python",
   "name": "python",
   "nbconvert_exporter": "python",
   "pygments_lexer": "ipython3",
   "version": "3.11.9"
  }
 },
 "nbformat": 4,
 "nbformat_minor": 5
}
