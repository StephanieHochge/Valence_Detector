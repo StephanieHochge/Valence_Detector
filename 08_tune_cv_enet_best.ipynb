{
 "cells": [
  {
   "cell_type": "code",
   "execution_count": 1,
   "id": "1725cd6d-6c24-4239-b641-0ff547bf5595",
   "metadata": {},
   "outputs": [],
   "source": [
    "import logging\n",
    "import os\n",
    "from datetime import datetime as dt\n",
    "from pathlib import Path\n",
    "from typing import Dict\n",
    "\n",
    "import numpy as np\n",
    "import ray\n",
    "import torch\n",
    "from ray import train, tune\n",
    "from torchvision import transforms\n",
    "\n",
    "from engine import (load_enet_best, get_loss_optimizer, create_writer, pretty_json)\n",
    "from engine import train as train_enet\n",
    "from load_data_functions import create_cv_datasets, create_dataloaders"
   ]
  },
  {
   "cell_type": "code",
   "execution_count": 2,
   "id": "65aa5e35-fa44-405a-b588-95db2bddbb6e",
   "metadata": {},
   "outputs": [],
   "source": [
    "project_path = os.getcwd()\n",
    "\n",
    "def tune_cv_enet(config: Dict[str, any], start_time_tuning: str):\n",
    "    \"\"\"\n",
    "    Tune the pretrained EfficientNet model based on the given hyperparameter configuration using cross validation and\n",
    "    log the results using ray train.report and Tensorboard.\n",
    "\n",
    "    :param config:  Dictionary containing hyperparameters for tuning.\n",
    "        - \"bs\" (int): Batch size.\n",
    "        - \"do\" (float): Dropout probability for the dropout layer.\n",
    "        - \"loss_fn\" (str): Name of the loss function. \n",
    "        - \"lr\" (float): Learning rate.\n",
    "        - \"aug\" (bool): Whether to apply data augmentation to increase the training set size.\n",
    "    :param start_time_tuning: Start time of the tuning run for logging purposes.\n",
    "    \"\"\"\n",
    "    # Extract hyperparameters from the config\n",
    "    batch_size = config[\"bs\"]\n",
    "    dropout_p = config[\"do\"]\n",
    "    loss_fn_str = config[\"loss_fn\"]\n",
    "    learning_rate = config[\"lr\"]\n",
    "    augmentation = config[\"aug\"]\n",
    "\n",
    "    # fixed parameters and other variables\n",
    "    split_path = Path(project_path) / \"data/train_test_split\"\n",
    "    fold_list = [split_path / f\"fold_{i}\" for i in range(1, 6)]\n",
    "    used_fold = \"all\"\n",
    "    img_size = 224\n",
    "    model_name = \"pretrained_enet\"\n",
    "    optimizer_str = \"Adam\"\n",
    "    num_epochs = 20\n",
    "    train_percentage = 1.0\n",
    "\n",
    "    # setup device agnostic code\n",
    "    device = torch.device(\"cuda\" if torch.cuda.is_available() else \"cpu\")\n",
    "    print(device)\n",
    "\n",
    "    # create a writer to track training results\n",
    "    writer = create_writer(f\"hp_tuning_cv\", model_name, f\"start_{start_time_tuning}\", project_path)\n",
    "\n",
    "    # track hyperparameters and other relevant information\n",
    "    info = {\n",
    "        \"model_name\": model_name,\n",
    "        \"batch_size\": batch_size,\n",
    "        \"dropout_p\": dropout_p,\n",
    "        \"loss_fn_str\": loss_fn_str,\n",
    "        \"learning_rate\": learning_rate,\n",
    "        \"augmentation\": augmentation,\n",
    "        \"split_path\": str(split_path),\n",
    "        \"fold_list\": [str(fold) for fold in fold_list],\n",
    "        \"validation_fold\": used_fold,\n",
    "        \"fold_num\": len(fold_list),\n",
    "        \"img_size\": img_size,\n",
    "        \"num_epochs\": num_epochs,\n",
    "        \"optimizer_str\": optimizer_str,\n",
    "        \"percentage\": train_percentage,\n",
    "        \"cross_validation\": True\n",
    "    }\n",
    "\n",
    "    writer.add_text(\"Miscellaneous\", pretty_json(info))\n",
    "\n",
    "    # define data transforms\n",
    "    data_transforms = transforms.Compose([\n",
    "        transforms.Resize((img_size, img_size)),\n",
    "        transforms.ToTensor(),\n",
    "        transforms.Normalize(mean=[0.485, 0.456, 0.406],\n",
    "                             std=[0.229, 0.224, 0.225])\n",
    "    ])\n",
    "\n",
    "    augment_transform = transforms.Compose([\n",
    "        transforms.Resize(size=(img_size, img_size)),  # resize the images\n",
    "        # randomly add Gaussian blur\n",
    "        transforms.RandomApply([transforms.GaussianBlur(kernel_size=3)], p=0.7),\n",
    "        # randomly perform a horizontal flip\n",
    "        transforms.RandomHorizontalFlip(p=0.7),\n",
    "        # turn the images into a torch.Tensor\n",
    "        transforms.ToTensor(),\n",
    "        transforms.Normalize(mean=[0.485, 0.456, 0.406],\n",
    "                             std=[0.229, 0.224, 0.225])\n",
    "    ])\n",
    "\n",
    "    # perform cross validation\n",
    "    datasets = create_cv_datasets(fold_list, data_transforms, select_one=False,\n",
    "                                  train_percentage=train_percentage,\n",
    "                                  augmentation=augmentation, augment_transform=augment_transform)\n",
    "    cv_results = {}\n",
    "    for fold in datasets.keys():\n",
    "        train_data = datasets[fold][\"train\"]\n",
    "        validation_data = datasets[fold][\"validation\"]\n",
    "        print(\"\\n-------------------------------------------------------------------------\")\n",
    "        print(f\"Size of the training set: {len(train_data)}\")\n",
    "        print(f\"Size of the validation set: {len(validation_data)}\")\n",
    "        train_loader, val_loader = create_dataloaders(train_data, validation_data, device, batch_size)\n",
    "\n",
    "        # initialize model and optimizer\n",
    "        model = load_enet_best(device, dropout=dropout_p, project_path=project_path)\n",
    "        model.to(device)\n",
    "        loss_fn, optimizer = get_loss_optimizer(loss_fn_str, optimizer_str, model, learning_rate)\n",
    "\n",
    "        # train the model\n",
    "        print(f\"Training results for {fold}:\")\n",
    "        cv_results[fold] = train_enet(num_epochs=num_epochs,\n",
    "                                      model=model,\n",
    "                                      train_loader=train_loader,\n",
    "                                      val_loader=val_loader,\n",
    "                                      loss_fn=loss_fn,\n",
    "                                      optimizer=optimizer,\n",
    "                                      device=device,\n",
    "                                      writer=writer,\n",
    "                                      fold=fold)\n",
    "\n",
    "    # initialize lists to store epoch-wise averages\n",
    "    epoch_avg_ccc = []\n",
    "    epoch_avg_pcc = []\n",
    "    epoch_avg_loss = []\n",
    "\n",
    "    # calculate cross validation performance\n",
    "    for epoch in range(num_epochs):\n",
    "        # extract validation and training metrics for all folds\n",
    "        fold_val_cccs = [perf[\"val_ccc\"][epoch] for perf in cv_results.values()]\n",
    "        fold_val_pccs = [perf[\"val_pcc\"][epoch] for perf in cv_results.values()]\n",
    "        fold_val_loss = [perf[\"val_loss\"][epoch] for perf in cv_results.values()]\n",
    "        fold_train_cccs = [perf[\"train_ccc\"][epoch] for perf in cv_results.values()]\n",
    "        fold_train_pccs = [perf[\"train_pcc\"][epoch] for perf in cv_results.values()]\n",
    "        fold_train_loss = [perf[\"train_loss\"][epoch] for perf in cv_results.values()]\n",
    "\n",
    "        # calculate mean metrics for validation and training\n",
    "        mean_val_ccc = np.mean(fold_val_cccs)\n",
    "        mean_val_pcc = np.mean(fold_val_pccs)\n",
    "        mean_val_loss = np.mean(fold_val_loss)\n",
    "        mean_train_ccc = np.mean(fold_train_cccs)\n",
    "        mean_train_pcc = np.mean(fold_train_pccs)\n",
    "        mean_train_loss = np.mean(fold_train_loss)\n",
    "\n",
    "        # append to epoch-wise lists\n",
    "        epoch_avg_ccc.append(mean_val_ccc)\n",
    "        epoch_avg_pcc.append(mean_val_pcc)\n",
    "        epoch_avg_loss.append(mean_val_loss)\n",
    "\n",
    "        writer.add_scalars(main_tag=\"avg_ccc\",\n",
    "                           tag_scalar_dict={\"mean_val_ccc\": mean_val_ccc,\n",
    "                                            \"mean_train_ccc\": mean_train_ccc},\n",
    "                           global_step=epoch)\n",
    "        writer.add_scalars(main_tag=\"avg_pcc\",\n",
    "                           tag_scalar_dict={\"mean_val_pcc\": mean_val_pcc,\n",
    "                                            \"mean_train_pcc\": mean_train_pcc},\n",
    "                           global_step=epoch)\n",
    "        writer.add_scalars(main_tag=\"avg_loss\",\n",
    "                           tag_scalar_dict={\"mean_val_loss\": mean_val_loss,\n",
    "                                            \"mean_train_loss\": mean_train_loss})\n",
    "\n",
    "    # evaluate and report results with ray\n",
    "    best_ccc = max(epoch_avg_ccc)\n",
    "    best_epoch = epoch_avg_ccc.index(best_ccc)\n",
    "    best_epoch_pcc = epoch_avg_pcc[best_epoch]\n",
    "    best_epoch_loss = epoch_avg_loss[best_epoch]\n",
    "    train.report({\"best_epoch\": best_epoch, \"best_avg_ccc\": best_ccc,\n",
    "                  \"val_avg_pcc\": best_epoch_pcc, \"val_avg_loss\": best_epoch_loss})\n",
    "\n",
    "    # log hyperparameters and metrics for the best epoch (in terms of ccc)\n",
    "    hparam_dict = {f\"{key}\": value for key, value in config.items()}\n",
    "    hparam_dict[\"best_epoch\"] = best_epoch\n",
    "    metric_dict = {\"hparam/best_val_ccc\": best_ccc,\n",
    "                   \"hparam/val_pcc\": best_epoch_pcc,\n",
    "                   \"hparam/val_loss\": best_epoch_loss}\n",
    "    writer.add_hparams(hparam_dict, metric_dict)"
   ]
  },
  {
   "cell_type": "code",
   "execution_count": 3,
   "id": "977dd369-31db-4a3a-8f5a-1c0ca34e1ea9",
   "metadata": {},
   "outputs": [
    {
     "data": {
      "text/html": [
       "<div class=\"tuneStatus\">\n",
       "  <div style=\"display: flex;flex-direction: row\">\n",
       "    <div style=\"display: flex;flex-direction: column;\">\n",
       "      <h3>Tune Status</h3>\n",
       "      <table>\n",
       "<tbody>\n",
       "<tr><td>Current time:</td><td>2024-05-31 04:26:51</td></tr>\n",
       "<tr><td>Running for: </td><td>21:14:55.13        </td></tr>\n",
       "<tr><td>Memory:      </td><td>23.0/63.7 GiB      </td></tr>\n",
       "</tbody>\n",
       "</table>\n",
       "    </div>\n",
       "    <div class=\"vDivider\"></div>\n",
       "    <div class=\"systemInfo\">\n",
       "      <h3>System Info</h3>\n",
       "      Using FIFO scheduling algorithm.<br>Logical resource usage: 0/32 CPUs, 1.0/1 GPUs (0.0/1.0 accelerator_type:G)\n",
       "    </div>\n",
       "    \n",
       "  </div>\n",
       "  <div class=\"hDivider\"></div>\n",
       "  <div class=\"trialStatus\">\n",
       "    <h3>Trial Status</h3>\n",
       "    <table>\n",
       "<thead>\n",
       "<tr><th>Trial name              </th><th>status    </th><th>loc            </th><th>aug  </th><th style=\"text-align: right;\">       do</th><th style=\"text-align: right;\">     lr</th><th style=\"text-align: right;\">  iter</th><th style=\"text-align: right;\">  total time (s)</th><th style=\"text-align: right;\">  best_epoch</th><th style=\"text-align: right;\">  best_avg_ccc</th><th style=\"text-align: right;\">  val_avg_pcc</th></tr>\n",
       "</thead>\n",
       "<tbody>\n",
       "<tr><td>tune_cv_enet_22b15_00000</td><td>TERMINATED</td><td>127.0.0.1:24456</td><td>True </td><td style=\"text-align: right;\">0.261807 </td><td style=\"text-align: right;\">0.0009 </td><td style=\"text-align: right;\">     1</td><td style=\"text-align: right;\">        14905.2 </td><td style=\"text-align: right;\">          12</td><td style=\"text-align: right;\">      0.489123</td><td style=\"text-align: right;\">     0.569537</td></tr>\n",
       "<tr><td>tune_cv_enet_22b15_00001</td><td>TERMINATED</td><td>127.0.0.1:4860 </td><td>False</td><td style=\"text-align: right;\">0.0474058</td><td style=\"text-align: right;\">0.00095</td><td style=\"text-align: right;\">     1</td><td style=\"text-align: right;\">         7951.73</td><td style=\"text-align: right;\">          16</td><td style=\"text-align: right;\">      0.47904 </td><td style=\"text-align: right;\">     0.552278</td></tr>\n",
       "<tr><td>tune_cv_enet_22b15_00002</td><td>TERMINATED</td><td>127.0.0.1:22860</td><td>False</td><td style=\"text-align: right;\">0.490073 </td><td style=\"text-align: right;\">0.0003 </td><td style=\"text-align: right;\">     1</td><td style=\"text-align: right;\">         7959.02</td><td style=\"text-align: right;\">          13</td><td style=\"text-align: right;\">      0.47911 </td><td style=\"text-align: right;\">     0.571479</td></tr>\n",
       "<tr><td>tune_cv_enet_22b15_00003</td><td>TERMINATED</td><td>127.0.0.1:29204</td><td>False</td><td style=\"text-align: right;\">0.418211 </td><td style=\"text-align: right;\">0.0004 </td><td style=\"text-align: right;\">     1</td><td style=\"text-align: right;\">         7961.81</td><td style=\"text-align: right;\">          13</td><td style=\"text-align: right;\">      0.483974</td><td style=\"text-align: right;\">     0.57419 </td></tr>\n",
       "<tr><td>tune_cv_enet_22b15_00004</td><td>TERMINATED</td><td>127.0.0.1:29152</td><td>False</td><td style=\"text-align: right;\">0.0239753</td><td style=\"text-align: right;\">0.0009 </td><td style=\"text-align: right;\">     1</td><td style=\"text-align: right;\">         7958.07</td><td style=\"text-align: right;\">           4</td><td style=\"text-align: right;\">      0.478582</td><td style=\"text-align: right;\">     0.562621</td></tr>\n",
       "<tr><td>tune_cv_enet_22b15_00005</td><td>TERMINATED</td><td>127.0.0.1:22968</td><td>True </td><td style=\"text-align: right;\">0.0268888</td><td style=\"text-align: right;\">0.00065</td><td style=\"text-align: right;\">     1</td><td style=\"text-align: right;\">        14874.8 </td><td style=\"text-align: right;\">          12</td><td style=\"text-align: right;\">      0.472936</td><td style=\"text-align: right;\">     0.543772</td></tr>\n",
       "<tr><td>tune_cv_enet_22b15_00006</td><td>TERMINATED</td><td>127.0.0.1:12720</td><td>True </td><td style=\"text-align: right;\">0.0628378</td><td style=\"text-align: right;\">0.00035</td><td style=\"text-align: right;\">     1</td><td style=\"text-align: right;\">        14854.1 </td><td style=\"text-align: right;\">           5</td><td style=\"text-align: right;\">      0.48029 </td><td style=\"text-align: right;\">     0.561809</td></tr>\n",
       "</tbody>\n",
       "</table>\n",
       "  </div>\n",
       "</div>\n",
       "<style>\n",
       ".tuneStatus {\n",
       "  color: var(--jp-ui-font-color1);\n",
       "}\n",
       ".tuneStatus .systemInfo {\n",
       "  display: flex;\n",
       "  flex-direction: column;\n",
       "}\n",
       ".tuneStatus td {\n",
       "  white-space: nowrap;\n",
       "}\n",
       ".tuneStatus .trialStatus {\n",
       "  display: flex;\n",
       "  flex-direction: column;\n",
       "}\n",
       ".tuneStatus h3 {\n",
       "  font-weight: bold;\n",
       "}\n",
       ".tuneStatus .hDivider {\n",
       "  border-bottom-width: var(--jp-border-width);\n",
       "  border-bottom-color: var(--jp-border-color0);\n",
       "  border-bottom-style: solid;\n",
       "}\n",
       ".tuneStatus .vDivider {\n",
       "  border-left-width: var(--jp-border-width);\n",
       "  border-left-color: var(--jp-border-color0);\n",
       "  border-left-style: solid;\n",
       "  margin: 0.5em 1em 0.5em 1em;\n",
       "}\n",
       "</style>\n"
      ],
      "text/plain": [
       "<IPython.core.display.HTML object>"
      ]
     },
     "metadata": {},
     "output_type": "display_data"
    },
    {
     "name": "stdout",
     "output_type": "stream",
     "text": [
      "\u001b[36m(tune_cv_enet pid=24456)\u001b[0m cuda\n",
      "\u001b[36m(tune_cv_enet pid=24456)\u001b[0m [INFO] Created SummaryWriter, saving to: C:\\local\\AIProject\\runs\\hp_tuning_cv\\pretrained_enet\\start_07-11-56\\2024-05-30_07-12-01...\n",
      "\u001b[36m(tune_cv_enet pid=24456)\u001b[0m \n",
      "\u001b[36m(tune_cv_enet pid=24456)\u001b[0m -------------------------------------------------------------------------\n",
      "\u001b[36m(tune_cv_enet pid=24456)\u001b[0m Size of the training set: 39606\n",
      "\u001b[36m(tune_cv_enet pid=24456)\u001b[0m Size of the validation set: 4915\n"
     ]
    },
    {
     "name": "stderr",
     "output_type": "stream",
     "text": [
      "  0%|          | 0/20 [00:00<?, ?it/s]\n"
     ]
    },
    {
     "name": "stdout",
     "output_type": "stream",
     "text": [
      "\u001b[36m(tune_cv_enet pid=24456)\u001b[0m [INFO] Created a new pretrained EfficientNet-B0 model.\n",
      "\u001b[36m(tune_cv_enet pid=24456)\u001b[0m Training results for fold_1:\n"
     ]
    },
    {
     "name": "stderr",
     "output_type": "stream",
     "text": [
      "  5%|▌         | 1/20 [02:36<49:30, 156.32s/it]\n"
     ]
    },
    {
     "name": "stdout",
     "output_type": "stream",
     "text": [
      "\u001b[36m(tune_cv_enet pid=24456)\u001b[0m Epoch: 1 | train_loss: 0.0507 | train_ccc: 0.6089 | train_pcc: 0.6292 | val_loss: 0.0550 | val_ccc: 0.4430 | val_pcc: 0.5079\n"
     ]
    },
    {
     "name": "stderr",
     "output_type": "stream",
     "text": [
      " 10%|█         | 2/20 [05:08<46:06, 153.70s/it]\n"
     ]
    },
    {
     "name": "stdout",
     "output_type": "stream",
     "text": [
      "\u001b[36m(tune_cv_enet pid=24456)\u001b[0m Epoch: 2 | train_loss: 0.0389 | train_ccc: 0.7117 | train_pcc: 0.7276 | val_loss: 0.0567 | val_ccc: 0.4488 | val_pcc: 0.5044\n"
     ]
    },
    {
     "name": "stderr",
     "output_type": "stream",
     "text": [
      " 15%|█▌        | 3/20 [07:40<43:20, 152.98s/it]\n"
     ]
    },
    {
     "name": "stdout",
     "output_type": "stream",
     "text": [
      "\u001b[36m(tune_cv_enet pid=24456)\u001b[0m Epoch: 3 | train_loss: 0.0350 | train_ccc: 0.7365 | train_pcc: 0.7517 | val_loss: 0.0508 | val_ccc: 0.4370 | val_pcc: 0.4936\n"
     ]
    },
    {
     "name": "stderr",
     "output_type": "stream",
     "text": [
      " 20%|██        | 4/20 [10:12<40:40, 152.50s/it]\n"
     ]
    },
    {
     "name": "stdout",
     "output_type": "stream",
     "text": [
      "\u001b[36m(tune_cv_enet pid=24456)\u001b[0m Epoch: 4 | train_loss: 0.0339 | train_ccc: 0.7477 | train_pcc: 0.7621 | val_loss: 0.0516 | val_ccc: 0.3725 | val_pcc: 0.4479\n"
     ]
    },
    {
     "name": "stderr",
     "output_type": "stream",
     "text": [
      " 25%|██▌       | 5/20 [12:43<37:59, 151.99s/it]\n"
     ]
    },
    {
     "name": "stdout",
     "output_type": "stream",
     "text": [
      "\u001b[36m(tune_cv_enet pid=24456)\u001b[0m Epoch: 5 | train_loss: 0.0339 | train_ccc: 0.7517 | train_pcc: 0.7644 | val_loss: 0.0501 | val_ccc: 0.4433 | val_pcc: 0.4992\n"
     ]
    },
    {
     "name": "stderr",
     "output_type": "stream",
     "text": [
      " 30%|███       | 6/20 [15:14<35:23, 151.68s/it]\n"
     ]
    },
    {
     "name": "stdout",
     "output_type": "stream",
     "text": [
      "\u001b[36m(tune_cv_enet pid=24456)\u001b[0m Epoch: 6 | train_loss: 0.0319 | train_ccc: 0.7603 | train_pcc: 0.7747 | val_loss: 0.0509 | val_ccc: 0.4325 | val_pcc: 0.4832\n"
     ]
    },
    {
     "name": "stderr",
     "output_type": "stream",
     "text": [
      " 35%|███▌      | 7/20 [17:45<32:49, 151.51s/it]\n"
     ]
    },
    {
     "name": "stdout",
     "output_type": "stream",
     "text": [
      "\u001b[36m(tune_cv_enet pid=24456)\u001b[0m Epoch: 7 | train_loss: 0.0344 | train_ccc: 0.7526 | train_pcc: 0.7659 | val_loss: 0.0507 | val_ccc: 0.4310 | val_pcc: 0.4903\n"
     ]
    },
    {
     "name": "stderr",
     "output_type": "stream",
     "text": [
      " 40%|████      | 8/20 [20:15<30:12, 151.02s/it]\n"
     ]
    },
    {
     "name": "stdout",
     "output_type": "stream",
     "text": [
      "\u001b[36m(tune_cv_enet pid=24456)\u001b[0m Epoch: 8 | train_loss: 0.0321 | train_ccc: 0.7628 | train_pcc: 0.7752 | val_loss: 0.0515 | val_ccc: 0.3902 | val_pcc: 0.4558\n"
     ]
    },
    {
     "name": "stderr",
     "output_type": "stream",
     "text": [
      " 45%|████▌     | 9/20 [22:45<27:38, 150.80s/it]\n"
     ]
    },
    {
     "name": "stdout",
     "output_type": "stream",
     "text": [
      "\u001b[36m(tune_cv_enet pid=24456)\u001b[0m Epoch: 9 | train_loss: 0.0325 | train_ccc: 0.7601 | train_pcc: 0.7732 | val_loss: 0.0518 | val_ccc: 0.4354 | val_pcc: 0.4850\n"
     ]
    },
    {
     "name": "stderr",
     "output_type": "stream",
     "text": [
      " 50%|█████     | 10/20 [25:15<25:04, 150.50s/it]\n"
     ]
    },
    {
     "name": "stdout",
     "output_type": "stream",
     "text": [
      "\u001b[36m(tune_cv_enet pid=24456)\u001b[0m Epoch: 10 | train_loss: 0.0340 | train_ccc: 0.7541 | train_pcc: 0.7669 | val_loss: 0.0539 | val_ccc: 0.4374 | val_pcc: 0.4921\n"
     ]
    },
    {
     "name": "stderr",
     "output_type": "stream",
     "text": [
      " 55%|█████▌    | 11/20 [27:45<22:32, 150.23s/it]\n"
     ]
    },
    {
     "name": "stdout",
     "output_type": "stream",
     "text": [
      "\u001b[36m(tune_cv_enet pid=24456)\u001b[0m Epoch: 11 | train_loss: 0.0321 | train_ccc: 0.7635 | train_pcc: 0.7755 | val_loss: 0.0509 | val_ccc: 0.4188 | val_pcc: 0.4782\n"
     ]
    },
    {
     "name": "stderr",
     "output_type": "stream",
     "text": [
      " 60%|██████    | 12/20 [30:15<20:02, 150.27s/it]\n"
     ]
    },
    {
     "name": "stdout",
     "output_type": "stream",
     "text": [
      "\u001b[36m(tune_cv_enet pid=24456)\u001b[0m Epoch: 12 | train_loss: 0.0328 | train_ccc: 0.7581 | train_pcc: 0.7723 | val_loss: 0.0541 | val_ccc: 0.3430 | val_pcc: 0.4249\n"
     ]
    },
    {
     "name": "stderr",
     "output_type": "stream",
     "text": [
      " 65%|██████▌   | 13/20 [32:44<17:29, 149.92s/it]\n"
     ]
    },
    {
     "name": "stdout",
     "output_type": "stream",
     "text": [
      "\u001b[36m(tune_cv_enet pid=24456)\u001b[0m Epoch: 13 | train_loss: 0.0316 | train_ccc: 0.7633 | train_pcc: 0.7775 | val_loss: 0.0545 | val_ccc: 0.4305 | val_pcc: 0.4856\n"
     ]
    },
    {
     "name": "stderr",
     "output_type": "stream",
     "text": [
      " 70%|███████   | 14/20 [35:14<14:59, 149.91s/it]\n"
     ]
    },
    {
     "name": "stdout",
     "output_type": "stream",
     "text": [
      "\u001b[36m(tune_cv_enet pid=24456)\u001b[0m Epoch: 14 | train_loss: 0.0325 | train_ccc: 0.7605 | train_pcc: 0.7741 | val_loss: 0.0514 | val_ccc: 0.4051 | val_pcc: 0.4676\n"
     ]
    },
    {
     "name": "stderr",
     "output_type": "stream",
     "text": [
      " 75%|███████▌  | 15/20 [37:43<12:28, 149.75s/it]\n"
     ]
    },
    {
     "name": "stdout",
     "output_type": "stream",
     "text": [
      "\u001b[36m(tune_cv_enet pid=24456)\u001b[0m Epoch: 15 | train_loss: 0.0329 | train_ccc: 0.7607 | train_pcc: 0.7730 | val_loss: 0.0530 | val_ccc: 0.3700 | val_pcc: 0.4299\n"
     ]
    },
    {
     "name": "stderr",
     "output_type": "stream",
     "text": [
      " 80%|████████  | 16/20 [40:13<09:59, 149.84s/it]\n"
     ]
    },
    {
     "name": "stdout",
     "output_type": "stream",
     "text": [
      "\u001b[36m(tune_cv_enet pid=24456)\u001b[0m Epoch: 16 | train_loss: 0.0323 | train_ccc: 0.7617 | train_pcc: 0.7749 | val_loss: 0.0522 | val_ccc: 0.4408 | val_pcc: 0.4887\n"
     ]
    },
    {
     "name": "stderr",
     "output_type": "stream",
     "text": [
      " 85%|████████▌ | 17/20 [42:42<07:28, 149.45s/it]\n"
     ]
    },
    {
     "name": "stdout",
     "output_type": "stream",
     "text": [
      "\u001b[36m(tune_cv_enet pid=24456)\u001b[0m Epoch: 17 | train_loss: 0.0334 | train_ccc: 0.7591 | train_pcc: 0.7716 | val_loss: 0.0515 | val_ccc: 0.4397 | val_pcc: 0.4853\n"
     ]
    },
    {
     "name": "stderr",
     "output_type": "stream",
     "text": [
      " 90%|█████████ | 18/20 [45:11<04:58, 149.24s/it]\n"
     ]
    },
    {
     "name": "stdout",
     "output_type": "stream",
     "text": [
      "\u001b[36m(tune_cv_enet pid=24456)\u001b[0m Epoch: 18 | train_loss: 0.0320 | train_ccc: 0.7652 | train_pcc: 0.7780 | val_loss: 0.0506 | val_ccc: 0.4009 | val_pcc: 0.4602\n"
     ]
    },
    {
     "name": "stderr",
     "output_type": "stream",
     "text": [
      " 95%|█████████▌| 19/20 [47:40<02:29, 149.12s/it]\n"
     ]
    },
    {
     "name": "stdout",
     "output_type": "stream",
     "text": [
      "\u001b[36m(tune_cv_enet pid=24456)\u001b[0m Epoch: 19 | train_loss: 0.0319 | train_ccc: 0.7649 | train_pcc: 0.7773 | val_loss: 0.0517 | val_ccc: 0.4021 | val_pcc: 0.4595\n"
     ]
    },
    {
     "name": "stderr",
     "output_type": "stream",
     "text": [
      "100%|██████████| 20/20 [50:08<00:00, 150.44s/it]\n",
      "  0%|          | 0/20 [00:00<?, ?it/s]\n"
     ]
    },
    {
     "name": "stdout",
     "output_type": "stream",
     "text": [
      "\u001b[36m(tune_cv_enet pid=24456)\u001b[0m Epoch: 20 | train_loss: 0.0315 | train_ccc: 0.7659 | train_pcc: 0.7786 | val_loss: 0.0517 | val_ccc: 0.4112 | val_pcc: 0.4649\n",
      "\u001b[36m(tune_cv_enet pid=24456)\u001b[0m \n",
      "\u001b[36m(tune_cv_enet pid=24456)\u001b[0m -------------------------------------------------------------------------\n",
      "\u001b[36m(tune_cv_enet pid=24456)\u001b[0m Size of the training set: 39406\n",
      "\u001b[36m(tune_cv_enet pid=24456)\u001b[0m Size of the validation set: 5015\n",
      "\u001b[36m(tune_cv_enet pid=24456)\u001b[0m [INFO] Created a new pretrained EfficientNet-B0 model.\n",
      "\u001b[36m(tune_cv_enet pid=24456)\u001b[0m Training results for fold_2:\n",
      "\u001b[36m(tune_cv_enet pid=24456)\u001b[0m Epoch: 1 | train_loss: 0.0515 | train_ccc: 0.5818 | train_pcc: 0.6083 | val_loss: 0.0369 | val_ccc: 0.5771 | val_pcc: 0.6384\n"
     ]
    },
    {
     "name": "stderr",
     "output_type": "stream",
     "text": [
      "  5%|▌         | 1/20 [02:27<46:49, 147.84s/it]\n",
      " 10%|█         | 2/20 [04:55<44:18, 147.67s/it]\n"
     ]
    },
    {
     "name": "stdout",
     "output_type": "stream",
     "text": [
      "\u001b[36m(tune_cv_enet pid=24456)\u001b[0m Epoch: 2 | train_loss: 0.0399 | train_ccc: 0.6874 | train_pcc: 0.7081 | val_loss: 0.0364 | val_ccc: 0.5727 | val_pcc: 0.6392\n"
     ]
    },
    {
     "name": "stderr",
     "output_type": "stream",
     "text": [
      " 15%|█▌        | 3/20 [07:23<41:54, 147.90s/it]\n"
     ]
    },
    {
     "name": "stdout",
     "output_type": "stream",
     "text": [
      "\u001b[36m(tune_cv_enet pid=24456)\u001b[0m Epoch: 3 | train_loss: 0.0371 | train_ccc: 0.7119 | train_pcc: 0.7317 | val_loss: 0.0461 | val_ccc: 0.4943 | val_pcc: 0.5746\n"
     ]
    },
    {
     "name": "stderr",
     "output_type": "stream",
     "text": [
      " 20%|██        | 4/20 [09:52<39:31, 148.24s/it]\n"
     ]
    },
    {
     "name": "stdout",
     "output_type": "stream",
     "text": [
      "\u001b[36m(tune_cv_enet pid=24456)\u001b[0m Epoch: 4 | train_loss: 0.0354 | train_ccc: 0.7268 | train_pcc: 0.7453 | val_loss: 0.0423 | val_ccc: 0.5161 | val_pcc: 0.5974\n"
     ]
    },
    {
     "name": "stderr",
     "output_type": "stream",
     "text": [
      " 25%|██▌       | 5/20 [12:19<37:00, 148.03s/it]\n"
     ]
    },
    {
     "name": "stdout",
     "output_type": "stream",
     "text": [
      "\u001b[36m(tune_cv_enet pid=24456)\u001b[0m Epoch: 5 | train_loss: 0.0355 | train_ccc: 0.7252 | train_pcc: 0.7448 | val_loss: 0.0467 | val_ccc: 0.5209 | val_pcc: 0.5997\n"
     ]
    },
    {
     "name": "stderr",
     "output_type": "stream",
     "text": [
      " 30%|███       | 6/20 [14:48<34:34, 148.16s/it]\n"
     ]
    },
    {
     "name": "stdout",
     "output_type": "stream",
     "text": [
      "\u001b[36m(tune_cv_enet pid=24456)\u001b[0m Epoch: 6 | train_loss: 0.0346 | train_ccc: 0.7318 | train_pcc: 0.7501 | val_loss: 0.0352 | val_ccc: 0.6096 | val_pcc: 0.6703\n"
     ]
    },
    {
     "name": "stderr",
     "output_type": "stream",
     "text": [
      " 35%|███▌      | 7/20 [17:16<32:04, 148.04s/it]\n"
     ]
    },
    {
     "name": "stdout",
     "output_type": "stream",
     "text": [
      "\u001b[36m(tune_cv_enet pid=24456)\u001b[0m Epoch: 7 | train_loss: 0.0350 | train_ccc: 0.7312 | train_pcc: 0.7487 | val_loss: 0.0559 | val_ccc: 0.4554 | val_pcc: 0.5507\n"
     ]
    },
    {
     "name": "stderr",
     "output_type": "stream",
     "text": [
      " 40%|████      | 8/20 [19:44<29:38, 148.24s/it]\n"
     ]
    },
    {
     "name": "stdout",
     "output_type": "stream",
     "text": [
      "\u001b[36m(tune_cv_enet pid=24456)\u001b[0m Epoch: 8 | train_loss: 0.0365 | train_ccc: 0.7274 | train_pcc: 0.7443 | val_loss: 0.0354 | val_ccc: 0.6088 | val_pcc: 0.6711\n"
     ]
    },
    {
     "name": "stderr",
     "output_type": "stream",
     "text": [
      " 45%|████▌     | 9/20 [22:13<27:11, 148.30s/it]\n"
     ]
    },
    {
     "name": "stdout",
     "output_type": "stream",
     "text": [
      "\u001b[36m(tune_cv_enet pid=24456)\u001b[0m Epoch: 9 | train_loss: 0.0338 | train_ccc: 0.7412 | train_pcc: 0.7565 | val_loss: 0.0462 | val_ccc: 0.4982 | val_pcc: 0.5774\n"
     ]
    },
    {
     "name": "stderr",
     "output_type": "stream",
     "text": [
      " 50%|█████     | 10/20 [24:41<24:41, 148.17s/it]\n"
     ]
    },
    {
     "name": "stdout",
     "output_type": "stream",
     "text": [
      "\u001b[36m(tune_cv_enet pid=24456)\u001b[0m Epoch: 10 | train_loss: 0.0350 | train_ccc: 0.7328 | train_pcc: 0.7495 | val_loss: 0.0361 | val_ccc: 0.6093 | val_pcc: 0.6660\n"
     ]
    },
    {
     "name": "stderr",
     "output_type": "stream",
     "text": [
      " 55%|█████▌    | 11/20 [27:09<22:15, 148.36s/it]\n"
     ]
    },
    {
     "name": "stdout",
     "output_type": "stream",
     "text": [
      "\u001b[36m(tune_cv_enet pid=24456)\u001b[0m Epoch: 11 | train_loss: 0.0361 | train_ccc: 0.7302 | train_pcc: 0.7463 | val_loss: 0.0354 | val_ccc: 0.6017 | val_pcc: 0.6651\n"
     ]
    },
    {
     "name": "stderr",
     "output_type": "stream",
     "text": [
      " 60%|██████    | 12/20 [29:37<19:46, 148.26s/it]\n"
     ]
    },
    {
     "name": "stdout",
     "output_type": "stream",
     "text": [
      "\u001b[36m(tune_cv_enet pid=24456)\u001b[0m Epoch: 12 | train_loss: 0.0359 | train_ccc: 0.7298 | train_pcc: 0.7454 | val_loss: 0.0368 | val_ccc: 0.5873 | val_pcc: 0.6527\n"
     ]
    },
    {
     "name": "stderr",
     "output_type": "stream",
     "text": [
      " 65%|██████▌   | 13/20 [32:06<17:19, 148.44s/it]\n"
     ]
    },
    {
     "name": "stdout",
     "output_type": "stream",
     "text": [
      "\u001b[36m(tune_cv_enet pid=24456)\u001b[0m Epoch: 13 | train_loss: 0.0356 | train_ccc: 0.7331 | train_pcc: 0.7491 | val_loss: 0.0366 | val_ccc: 0.6067 | val_pcc: 0.6647\n"
     ]
    },
    {
     "name": "stderr",
     "output_type": "stream",
     "text": [
      " 70%|███████   | 14/20 [34:35<14:51, 148.51s/it]\n"
     ]
    },
    {
     "name": "stdout",
     "output_type": "stream",
     "text": [
      "\u001b[36m(tune_cv_enet pid=24456)\u001b[0m Epoch: 14 | train_loss: 0.0367 | train_ccc: 0.7288 | train_pcc: 0.7443 | val_loss: 0.0428 | val_ccc: 0.5978 | val_pcc: 0.6635\n"
     ]
    },
    {
     "name": "stderr",
     "output_type": "stream",
     "text": [
      " 75%|███████▌  | 15/20 [37:04<12:22, 148.57s/it]\n"
     ]
    },
    {
     "name": "stdout",
     "output_type": "stream",
     "text": [
      "\u001b[36m(tune_cv_enet pid=24456)\u001b[0m Epoch: 15 | train_loss: 0.0351 | train_ccc: 0.7370 | train_pcc: 0.7513 | val_loss: 0.0357 | val_ccc: 0.5923 | val_pcc: 0.6558\n",
      "\u001b[36m(tune_cv_enet pid=24456)\u001b[0m Epoch: 16 | train_loss: 0.0379 | train_ccc: 0.7227 | train_pcc: 0.7368 | val_loss: 0.0369 | val_ccc: 0.6077 | val_pcc: 0.6601\n",
      "\u001b[36m(tune_cv_enet pid=24456)\u001b[0m \n"
     ]
    },
    {
     "name": "stderr",
     "output_type": "stream",
     "text": [
      " 80%|████████  | 16/20 [39:33<09:55, 148.77s/it]\n",
      " 85%|████████▌ | 17/20 [42:02<07:26, 148.75s/it]\n"
     ]
    },
    {
     "name": "stdout",
     "output_type": "stream",
     "text": [
      "\u001b[36m(tune_cv_enet pid=24456)\u001b[0m Epoch: 17 | train_loss: 0.0350 | train_ccc: 0.7350 | train_pcc: 0.7503 | val_loss: 0.0385 | val_ccc: 0.6097 | val_pcc: 0.6677\n"
     ]
    },
    {
     "name": "stderr",
     "output_type": "stream",
     "text": [
      " 90%|█████████ | 18/20 [44:30<04:57, 148.57s/it]\n"
     ]
    },
    {
     "name": "stdout",
     "output_type": "stream",
     "text": [
      "\u001b[36m(tune_cv_enet pid=24456)\u001b[0m Epoch: 18 | train_loss: 0.0345 | train_ccc: 0.7388 | train_pcc: 0.7542 | val_loss: 0.0449 | val_ccc: 0.5112 | val_pcc: 0.5950\n"
     ]
    },
    {
     "name": "stderr",
     "output_type": "stream",
     "text": [
      " 95%|█████████▌| 19/20 [46:58<02:28, 148.53s/it]\n"
     ]
    },
    {
     "name": "stdout",
     "output_type": "stream",
     "text": [
      "\u001b[36m(tune_cv_enet pid=24456)\u001b[0m Epoch: 19 | train_loss: 0.0348 | train_ccc: 0.7362 | train_pcc: 0.7527 | val_loss: 0.0369 | val_ccc: 0.6043 | val_pcc: 0.6625\n"
     ]
    },
    {
     "name": "stderr",
     "output_type": "stream",
     "text": [
      "100%|██████████| 20/20 [49:27<00:00, 148.36s/it]\n",
      "  0%|          | 0/20 [00:00<?, ?it/s]\n"
     ]
    },
    {
     "name": "stdout",
     "output_type": "stream",
     "text": [
      "\u001b[36m(tune_cv_enet pid=24456)\u001b[0m Epoch: 20 | train_loss: 0.0349 | train_ccc: 0.7372 | train_pcc: 0.7528 | val_loss: 0.0371 | val_ccc: 0.6089 | val_pcc: 0.6619\n",
      "\u001b[36m(tune_cv_enet pid=24456)\u001b[0m \n",
      "\u001b[36m(tune_cv_enet pid=24456)\u001b[0m -------------------------------------------------------------------------\n",
      "\u001b[36m(tune_cv_enet pid=24456)\u001b[0m Size of the training set: 39652\n",
      "\u001b[36m(tune_cv_enet pid=24456)\u001b[0m Size of the validation set: 4892\n",
      "\u001b[36m(tune_cv_enet pid=24456)\u001b[0m [INFO] Created a new pretrained EfficientNet-B0 model.\n",
      "\u001b[36m(tune_cv_enet pid=24456)\u001b[0m Training results for fold_3:\n"
     ]
    },
    {
     "name": "stderr",
     "output_type": "stream",
     "text": [
      "  5%|▌         | 1/20 [02:28<47:04, 148.65s/it]\n"
     ]
    },
    {
     "name": "stdout",
     "output_type": "stream",
     "text": [
      "\u001b[36m(tune_cv_enet pid=24456)\u001b[0m Epoch: 1 | train_loss: 0.0510 | train_ccc: 0.6234 | train_pcc: 0.6437 | val_loss: 0.0488 | val_ccc: 0.3669 | val_pcc: 0.4449\n"
     ]
    },
    {
     "name": "stderr",
     "output_type": "stream",
     "text": [
      " 10%|█         | 2/20 [04:56<44:31, 148.44s/it]\n"
     ]
    },
    {
     "name": "stdout",
     "output_type": "stream",
     "text": [
      "\u001b[36m(tune_cv_enet pid=24456)\u001b[0m Epoch: 2 | train_loss: 0.0377 | train_ccc: 0.7272 | train_pcc: 0.7430 | val_loss: 0.0461 | val_ccc: 0.3743 | val_pcc: 0.4621\n"
     ]
    },
    {
     "name": "stderr",
     "output_type": "stream",
     "text": [
      " 15%|█▌        | 3/20 [07:25<42:04, 148.49s/it]\n"
     ]
    },
    {
     "name": "stdout",
     "output_type": "stream",
     "text": [
      "\u001b[36m(tune_cv_enet pid=24456)\u001b[0m Epoch: 3 | train_loss: 0.0351 | train_ccc: 0.7465 | train_pcc: 0.7625 | val_loss: 0.0454 | val_ccc: 0.3857 | val_pcc: 0.4683\n"
     ]
    },
    {
     "name": "stderr",
     "output_type": "stream",
     "text": [
      " 20%|██        | 4/20 [09:53<39:33, 148.33s/it]\n"
     ]
    },
    {
     "name": "stdout",
     "output_type": "stream",
     "text": [
      "\u001b[36m(tune_cv_enet pid=24456)\u001b[0m Epoch: 4 | train_loss: 0.0339 | train_ccc: 0.7559 | train_pcc: 0.7700 | val_loss: 0.0512 | val_ccc: 0.3093 | val_pcc: 0.4089\n"
     ]
    },
    {
     "name": "stderr",
     "output_type": "stream",
     "text": [
      " 25%|██▌       | 5/20 [12:22<37:08, 148.57s/it]\n"
     ]
    },
    {
     "name": "stdout",
     "output_type": "stream",
     "text": [
      "\u001b[36m(tune_cv_enet pid=24456)\u001b[0m Epoch: 5 | train_loss: 0.0327 | train_ccc: 0.7619 | train_pcc: 0.7771 | val_loss: 0.0463 | val_ccc: 0.3941 | val_pcc: 0.4695\n",
      "\u001b[36m(tune_cv_enet pid=24456)\u001b[0m Epoch: 6 | train_loss: 0.0329 | train_ccc: 0.7647 | train_pcc: 0.7781 | val_loss: 0.0466 | val_ccc: 0.3935 | val_pcc: 0.4717\n"
     ]
    },
    {
     "name": "stderr",
     "output_type": "stream",
     "text": [
      " 30%|███       | 6/20 [14:51<34:39, 148.57s/it]\n",
      " 35%|███▌      | 7/20 [17:19<32:10, 148.54s/it]\n"
     ]
    },
    {
     "name": "stdout",
     "output_type": "stream",
     "text": [
      "\u001b[36m(tune_cv_enet pid=24456)\u001b[0m Epoch: 7 | train_loss: 0.0325 | train_ccc: 0.7662 | train_pcc: 0.7799 | val_loss: 0.0460 | val_ccc: 0.3840 | val_pcc: 0.4611\n"
     ]
    },
    {
     "name": "stderr",
     "output_type": "stream",
     "text": [
      " 40%|████      | 8/20 [19:47<29:40, 148.39s/it]\n"
     ]
    },
    {
     "name": "stdout",
     "output_type": "stream",
     "text": [
      "\u001b[36m(tune_cv_enet pid=24456)\u001b[0m Epoch: 8 | train_loss: 0.0327 | train_ccc: 0.7660 | train_pcc: 0.7794 | val_loss: 0.0472 | val_ccc: 0.3456 | val_pcc: 0.4412\n"
     ]
    },
    {
     "name": "stderr",
     "output_type": "stream",
     "text": [
      " 45%|████▌     | 9/20 [22:16<27:14, 148.58s/it]\n"
     ]
    },
    {
     "name": "stdout",
     "output_type": "stream",
     "text": [
      "\u001b[36m(tune_cv_enet pid=24456)\u001b[0m Epoch: 9 | train_loss: 0.0325 | train_ccc: 0.7678 | train_pcc: 0.7809 | val_loss: 0.0486 | val_ccc: 0.3859 | val_pcc: 0.4613\n"
     ]
    },
    {
     "name": "stderr",
     "output_type": "stream",
     "text": [
      " 50%|█████     | 10/20 [24:44<24:43, 148.30s/it]\n"
     ]
    },
    {
     "name": "stdout",
     "output_type": "stream",
     "text": [
      "\u001b[36m(tune_cv_enet pid=24456)\u001b[0m Epoch: 10 | train_loss: 0.0334 | train_ccc: 0.7635 | train_pcc: 0.7764 | val_loss: 0.0458 | val_ccc: 0.3647 | val_pcc: 0.4552\n"
     ]
    },
    {
     "name": "stderr",
     "output_type": "stream",
     "text": [
      " 55%|█████▌    | 11/20 [27:13<22:17, 148.59s/it]\n"
     ]
    },
    {
     "name": "stdout",
     "output_type": "stream",
     "text": [
      "\u001b[36m(tune_cv_enet pid=24456)\u001b[0m Epoch: 11 | train_loss: 0.0334 | train_ccc: 0.7644 | train_pcc: 0.7764 | val_loss: 0.0476 | val_ccc: 0.3855 | val_pcc: 0.4578\n"
     ]
    },
    {
     "name": "stderr",
     "output_type": "stream",
     "text": [
      " 60%|██████    | 12/20 [29:41<19:48, 148.53s/it]\n"
     ]
    },
    {
     "name": "stdout",
     "output_type": "stream",
     "text": [
      "\u001b[36m(tune_cv_enet pid=24456)\u001b[0m Epoch: 12 | train_loss: 0.0326 | train_ccc: 0.7688 | train_pcc: 0.7810 | val_loss: 0.0512 | val_ccc: 0.3794 | val_pcc: 0.4529\n"
     ]
    },
    {
     "name": "stderr",
     "output_type": "stream",
     "text": [
      " 65%|██████▌   | 13/20 [32:10<17:20, 148.67s/it]\n"
     ]
    },
    {
     "name": "stdout",
     "output_type": "stream",
     "text": [
      "\u001b[36m(tune_cv_enet pid=24456)\u001b[0m Epoch: 13 | train_loss: 0.0329 | train_ccc: 0.7675 | train_pcc: 0.7797 | val_loss: 0.0464 | val_ccc: 0.3754 | val_pcc: 0.4599\n"
     ]
    },
    {
     "name": "stderr",
     "output_type": "stream",
     "text": [
      " 70%|███████   | 14/20 [34:39<14:51, 148.66s/it]\n"
     ]
    },
    {
     "name": "stdout",
     "output_type": "stream",
     "text": [
      "\u001b[36m(tune_cv_enet pid=24456)\u001b[0m Epoch: 14 | train_loss: 0.0322 | train_ccc: 0.7706 | train_pcc: 0.7826 | val_loss: 0.0518 | val_ccc: 0.3729 | val_pcc: 0.4497\n"
     ]
    },
    {
     "name": "stderr",
     "output_type": "stream",
     "text": [
      " 75%|███████▌  | 15/20 [37:07<12:22, 148.57s/it]\n"
     ]
    },
    {
     "name": "stdout",
     "output_type": "stream",
     "text": [
      "\u001b[36m(tune_cv_enet pid=24456)\u001b[0m Epoch: 15 | train_loss: 0.0323 | train_ccc: 0.7698 | train_pcc: 0.7819 | val_loss: 0.0460 | val_ccc: 0.3712 | val_pcc: 0.4580\n"
     ]
    },
    {
     "name": "stderr",
     "output_type": "stream",
     "text": [
      " 80%|████████  | 16/20 [39:36<09:54, 148.59s/it]\n"
     ]
    },
    {
     "name": "stdout",
     "output_type": "stream",
     "text": [
      "\u001b[36m(tune_cv_enet pid=24456)\u001b[0m Epoch: 16 | train_loss: 0.0327 | train_ccc: 0.7651 | train_pcc: 0.7789 | val_loss: 0.0540 | val_ccc: 0.3913 | val_pcc: 0.4645\n"
     ]
    },
    {
     "name": "stderr",
     "output_type": "stream",
     "text": [
      " 85%|████████▌ | 17/20 [42:05<07:26, 148.73s/it]\n"
     ]
    },
    {
     "name": "stdout",
     "output_type": "stream",
     "text": [
      "\u001b[36m(tune_cv_enet pid=24456)\u001b[0m Epoch: 17 | train_loss: 0.0323 | train_ccc: 0.7694 | train_pcc: 0.7820 | val_loss: 0.0512 | val_ccc: 0.3041 | val_pcc: 0.4013\n"
     ]
    },
    {
     "name": "stderr",
     "output_type": "stream",
     "text": [
      " 90%|█████████ | 18/20 [44:33<04:57, 148.59s/it]\n"
     ]
    },
    {
     "name": "stdout",
     "output_type": "stream",
     "text": [
      "\u001b[36m(tune_cv_enet pid=24456)\u001b[0m Epoch: 18 | train_loss: 0.0322 | train_ccc: 0.7692 | train_pcc: 0.7820 | val_loss: 0.0459 | val_ccc: 0.3827 | val_pcc: 0.4620\n",
      "\u001b[36m(tune_cv_enet pid=24456)\u001b[0m Epoch: 19 | train_loss: 0.0336 | train_ccc: 0.7628 | train_pcc: 0.7754 | val_loss: 0.0474 | val_ccc: 0.3937 | val_pcc: 0.4702\n"
     ]
    },
    {
     "name": "stderr",
     "output_type": "stream",
     "text": [
      " 95%|█████████▌| 19/20 [47:02<02:28, 148.48s/it]\n",
      "100%|██████████| 20/20 [49:30<00:00, 148.52s/it]\n",
      "  0%|          | 0/20 [00:00<?, ?it/s]\n"
     ]
    },
    {
     "name": "stdout",
     "output_type": "stream",
     "text": [
      "\u001b[36m(tune_cv_enet pid=24456)\u001b[0m Epoch: 20 | train_loss: 0.0329 | train_ccc: 0.7669 | train_pcc: 0.7793 | val_loss: 0.0469 | val_ccc: 0.3582 | val_pcc: 0.4396\n",
      "\u001b[36m(tune_cv_enet pid=24456)\u001b[0m \n",
      "\u001b[36m(tune_cv_enet pid=24456)\u001b[0m -------------------------------------------------------------------------\n",
      "\u001b[36m(tune_cv_enet pid=24456)\u001b[0m Size of the training set: 39334\n",
      "\u001b[36m(tune_cv_enet pid=24456)\u001b[0m Size of the validation set: 5051\n",
      "\u001b[36m(tune_cv_enet pid=24456)\u001b[0m [INFO] Created a new pretrained EfficientNet-B0 model.\n",
      "\u001b[36m(tune_cv_enet pid=24456)\u001b[0m Training results for fold_4:\n"
     ]
    },
    {
     "name": "stderr",
     "output_type": "stream",
     "text": [
      "  5%|▌         | 1/20 [02:28<46:59, 148.38s/it]\n"
     ]
    },
    {
     "name": "stdout",
     "output_type": "stream",
     "text": [
      "\u001b[36m(tune_cv_enet pid=24456)\u001b[0m Epoch: 1 | train_loss: 0.0496 | train_ccc: 0.6151 | train_pcc: 0.6382 | val_loss: 0.0466 | val_ccc: 0.4864 | val_pcc: 0.5968\n"
     ]
    },
    {
     "name": "stderr",
     "output_type": "stream",
     "text": [
      " 10%|█         | 2/20 [04:56<44:30, 148.37s/it]\n"
     ]
    },
    {
     "name": "stdout",
     "output_type": "stream",
     "text": [
      "\u001b[36m(tune_cv_enet pid=24456)\u001b[0m Epoch: 2 | train_loss: 0.0374 | train_ccc: 0.7202 | train_pcc: 0.7382 | val_loss: 0.0463 | val_ccc: 0.4814 | val_pcc: 0.5931\n"
     ]
    },
    {
     "name": "stderr",
     "output_type": "stream",
     "text": [
      " 15%|█▌        | 3/20 [07:25<42:06, 148.63s/it]\n"
     ]
    },
    {
     "name": "stdout",
     "output_type": "stream",
     "text": [
      "\u001b[36m(tune_cv_enet pid=24456)\u001b[0m Epoch: 3 | train_loss: 0.0366 | train_ccc: 0.7367 | train_pcc: 0.7521 | val_loss: 0.0492 | val_ccc: 0.5078 | val_pcc: 0.6078\n"
     ]
    },
    {
     "name": "stderr",
     "output_type": "stream",
     "text": [
      " 20%|██        | 4/20 [09:55<39:44, 149.00s/it]\n"
     ]
    },
    {
     "name": "stdout",
     "output_type": "stream",
     "text": [
      "\u001b[36m(tune_cv_enet pid=24456)\u001b[0m Epoch: 4 | train_loss: 0.0338 | train_ccc: 0.7532 | train_pcc: 0.7682 | val_loss: 0.0469 | val_ccc: 0.4895 | val_pcc: 0.5912\n"
     ]
    },
    {
     "name": "stderr",
     "output_type": "stream",
     "text": [
      " 25%|██▌       | 5/20 [12:24<37:18, 149.23s/it]\n"
     ]
    },
    {
     "name": "stdout",
     "output_type": "stream",
     "text": [
      "\u001b[36m(tune_cv_enet pid=24456)\u001b[0m Epoch: 5 | train_loss: 0.0350 | train_ccc: 0.7470 | train_pcc: 0.7626 | val_loss: 0.0486 | val_ccc: 0.4391 | val_pcc: 0.5491\n"
     ]
    },
    {
     "name": "stderr",
     "output_type": "stream",
     "text": [
      " 30%|███       | 6/20 [14:53<34:48, 149.17s/it]\n"
     ]
    },
    {
     "name": "stdout",
     "output_type": "stream",
     "text": [
      "\u001b[36m(tune_cv_enet pid=24456)\u001b[0m Epoch: 6 | train_loss: 0.0330 | train_ccc: 0.7593 | train_pcc: 0.7747 | val_loss: 0.0449 | val_ccc: 0.5057 | val_pcc: 0.5996\n"
     ]
    },
    {
     "name": "stderr",
     "output_type": "stream",
     "text": [
      " 35%|███▌      | 7/20 [17:22<32:18, 149.10s/it]\n"
     ]
    },
    {
     "name": "stdout",
     "output_type": "stream",
     "text": [
      "\u001b[36m(tune_cv_enet pid=24456)\u001b[0m Epoch: 7 | train_loss: 0.0323 | train_ccc: 0.7636 | train_pcc: 0.7786 | val_loss: 0.0507 | val_ccc: 0.5020 | val_pcc: 0.5977\n"
     ]
    },
    {
     "name": "stderr",
     "output_type": "stream",
     "text": [
      " 40%|████      | 8/20 [19:51<29:48, 149.07s/it]\n"
     ]
    },
    {
     "name": "stdout",
     "output_type": "stream",
     "text": [
      "\u001b[36m(tune_cv_enet pid=24456)\u001b[0m Epoch: 8 | train_loss: 0.0329 | train_ccc: 0.7613 | train_pcc: 0.7756 | val_loss: 0.0485 | val_ccc: 0.4975 | val_pcc: 0.5955\n"
     ]
    },
    {
     "name": "stderr",
     "output_type": "stream",
     "text": [
      " 45%|████▌     | 9/20 [22:20<27:19, 149.03s/it]\n"
     ]
    },
    {
     "name": "stdout",
     "output_type": "stream",
     "text": [
      "\u001b[36m(tune_cv_enet pid=24456)\u001b[0m Epoch: 9 | train_loss: 0.0323 | train_ccc: 0.7649 | train_pcc: 0.7792 | val_loss: 0.0466 | val_ccc: 0.4922 | val_pcc: 0.5949\n"
     ]
    },
    {
     "name": "stderr",
     "output_type": "stream",
     "text": [
      " 50%|█████     | 10/20 [24:48<24:46, 148.69s/it]\n"
     ]
    },
    {
     "name": "stdout",
     "output_type": "stream",
     "text": [
      "\u001b[36m(tune_cv_enet pid=24456)\u001b[0m Epoch: 10 | train_loss: 0.0333 | train_ccc: 0.7592 | train_pcc: 0.7736 | val_loss: 0.0479 | val_ccc: 0.4882 | val_pcc: 0.5925\n"
     ]
    },
    {
     "name": "stderr",
     "output_type": "stream",
     "text": [
      " 55%|█████▌    | 11/20 [27:17<22:18, 148.68s/it]\n"
     ]
    },
    {
     "name": "stdout",
     "output_type": "stream",
     "text": [
      "\u001b[36m(tune_cv_enet pid=24456)\u001b[0m Epoch: 11 | train_loss: 0.0321 | train_ccc: 0.7671 | train_pcc: 0.7804 | val_loss: 0.0478 | val_ccc: 0.4611 | val_pcc: 0.5748\n"
     ]
    },
    {
     "name": "stderr",
     "output_type": "stream",
     "text": [
      " 60%|██████    | 12/20 [29:47<19:51, 148.99s/it]\n"
     ]
    },
    {
     "name": "stdout",
     "output_type": "stream",
     "text": [
      "\u001b[36m(tune_cv_enet pid=24456)\u001b[0m Epoch: 12 | train_loss: 0.0331 | train_ccc: 0.7608 | train_pcc: 0.7748 | val_loss: 0.0491 | val_ccc: 0.4862 | val_pcc: 0.5931\n",
      "\u001b[36m(tune_cv_enet pid=24456)\u001b[0m Epoch: 13 | train_loss: 0.0332 | train_ccc: 0.7596 | train_pcc: 0.7739 | val_loss: 0.0510 | val_ccc: 0.5157 | val_pcc: 0.6088\n"
     ]
    },
    {
     "name": "stderr",
     "output_type": "stream",
     "text": [
      " 65%|██████▌   | 13/20 [32:15<17:22, 148.87s/it]\n",
      " 70%|███████   | 14/20 [34:44<14:53, 148.98s/it]\n"
     ]
    },
    {
     "name": "stdout",
     "output_type": "stream",
     "text": [
      "\u001b[36m(tune_cv_enet pid=24456)\u001b[0m Epoch: 14 | train_loss: 0.0343 | train_ccc: 0.7568 | train_pcc: 0.7699 | val_loss: 0.0501 | val_ccc: 0.5159 | val_pcc: 0.6098\n"
     ]
    },
    {
     "name": "stderr",
     "output_type": "stream",
     "text": [
      " 75%|███████▌  | 15/20 [37:14<12:25, 149.03s/it]\n"
     ]
    },
    {
     "name": "stdout",
     "output_type": "stream",
     "text": [
      "\u001b[36m(tune_cv_enet pid=24456)\u001b[0m Epoch: 15 | train_loss: 0.0330 | train_ccc: 0.7635 | train_pcc: 0.7766 | val_loss: 0.0465 | val_ccc: 0.5026 | val_pcc: 0.6022\n"
     ]
    },
    {
     "name": "stderr",
     "output_type": "stream",
     "text": [
      " 80%|████████  | 16/20 [39:43<09:56, 149.01s/it]\n"
     ]
    },
    {
     "name": "stdout",
     "output_type": "stream",
     "text": [
      "\u001b[36m(tune_cv_enet pid=24456)\u001b[0m Epoch: 16 | train_loss: 0.0329 | train_ccc: 0.7635 | train_pcc: 0.7771 | val_loss: 0.0458 | val_ccc: 0.4875 | val_pcc: 0.5907\n"
     ]
    },
    {
     "name": "stderr",
     "output_type": "stream",
     "text": [
      " 85%|████████▌ | 17/20 [42:11<07:26, 148.72s/it]\n"
     ]
    },
    {
     "name": "stdout",
     "output_type": "stream",
     "text": [
      "\u001b[36m(tune_cv_enet pid=24456)\u001b[0m Epoch: 17 | train_loss: 0.0324 | train_ccc: 0.7657 | train_pcc: 0.7789 | val_loss: 0.0477 | val_ccc: 0.4888 | val_pcc: 0.5890\n"
     ]
    },
    {
     "name": "stderr",
     "output_type": "stream",
     "text": [
      " 90%|█████████ | 18/20 [44:39<04:57, 148.59s/it]\n"
     ]
    },
    {
     "name": "stdout",
     "output_type": "stream",
     "text": [
      "\u001b[36m(tune_cv_enet pid=24456)\u001b[0m Epoch: 18 | train_loss: 0.0322 | train_ccc: 0.7670 | train_pcc: 0.7807 | val_loss: 0.0476 | val_ccc: 0.4982 | val_pcc: 0.5975\n"
     ]
    },
    {
     "name": "stderr",
     "output_type": "stream",
     "text": [
      " 95%|█████████▌| 19/20 [47:08<02:28, 148.69s/it]\n"
     ]
    },
    {
     "name": "stdout",
     "output_type": "stream",
     "text": [
      "\u001b[36m(tune_cv_enet pid=24456)\u001b[0m Epoch: 19 | train_loss: 0.0322 | train_ccc: 0.7658 | train_pcc: 0.7801 | val_loss: 0.0469 | val_ccc: 0.4814 | val_pcc: 0.5943\n"
     ]
    },
    {
     "name": "stderr",
     "output_type": "stream",
     "text": [
      "100%|██████████| 20/20 [49:37<00:00, 148.87s/it]\n",
      "  0%|          | 0/20 [00:00<?, ?it/s]\n"
     ]
    },
    {
     "name": "stdout",
     "output_type": "stream",
     "text": [
      "\u001b[36m(tune_cv_enet pid=24456)\u001b[0m Epoch: 20 | train_loss: 0.0330 | train_ccc: 0.7626 | train_pcc: 0.7757 | val_loss: 0.0466 | val_ccc: 0.4689 | val_pcc: 0.5818\n",
      "\u001b[36m(tune_cv_enet pid=24456)\u001b[0m \n",
      "\u001b[36m(tune_cv_enet pid=24456)\u001b[0m -------------------------------------------------------------------------\n",
      "\u001b[36m(tune_cv_enet pid=24456)\u001b[0m Size of the training set: 39746\n",
      "\u001b[36m(tune_cv_enet pid=24456)\u001b[0m Size of the validation set: 4845\n",
      "\u001b[36m(tune_cv_enet pid=24456)\u001b[0m [INFO] Created a new pretrained EfficientNet-B0 model.\n",
      "\u001b[36m(tune_cv_enet pid=24456)\u001b[0m Training results for fold_5:\n"
     ]
    },
    {
     "name": "stderr",
     "output_type": "stream",
     "text": [
      "\u001b[36m(tune_cv_enet pid=24456)\u001b[0m C:\\local\\AIProject\\venv\\Lib\\site-packages\\torch\\nn\\modules\\conv.py:456: UserWarning: Plan failed with a cudnnException: CUDNN_BACKEND_EXECUTION_PLAN_DESCRIPTOR: cudnnFinalize Descriptor Failed cudnn_status: CUDNN_STATUS_NOT_SUPPORTED (Triggered internally at ..\\aten\\src\\ATen\\native\\cudnn\\Conv_v8.cpp:919.)\n",
      "\u001b[36m(tune_cv_enet pid=24456)\u001b[0m   return F.conv2d(input, weight, bias, self.stride,\n",
      "  5%|▌         | 1/20 [02:28<47:04, 148.67s/it]\n"
     ]
    },
    {
     "name": "stdout",
     "output_type": "stream",
     "text": [
      "\u001b[36m(tune_cv_enet pid=24456)\u001b[0m Epoch: 1 | train_loss: 0.0528 | train_ccc: 0.5930 | train_pcc: 0.6149 | val_loss: 0.0473 | val_ccc: 0.4764 | val_pcc: 0.5930\n",
      "\u001b[36m(tune_cv_enet pid=24456)\u001b[0m Epoch: 2 | train_loss: 0.0378 | train_ccc: 0.7117 | train_pcc: 0.7300 | val_loss: 0.0543 | val_ccc: 0.4078 | val_pcc: 0.5404\n"
     ]
    },
    {
     "name": "stderr",
     "output_type": "stream",
     "text": [
      " 10%|█         | 2/20 [04:56<44:32, 148.47s/it]\n",
      " 15%|█▌        | 3/20 [07:26<42:08, 148.73s/it]\n"
     ]
    },
    {
     "name": "stdout",
     "output_type": "stream",
     "text": [
      "\u001b[36m(tune_cv_enet pid=24456)\u001b[0m Epoch: 3 | train_loss: 0.0360 | train_ccc: 0.7315 | train_pcc: 0.7477 | val_loss: 0.0487 | val_ccc: 0.4938 | val_pcc: 0.6050\n"
     ]
    },
    {
     "name": "stderr",
     "output_type": "stream",
     "text": [
      " 20%|██        | 4/20 [09:54<39:37, 148.60s/it]\n"
     ]
    },
    {
     "name": "stdout",
     "output_type": "stream",
     "text": [
      "\u001b[36m(tune_cv_enet pid=24456)\u001b[0m Epoch: 4 | train_loss: 0.0335 | train_ccc: 0.7469 | train_pcc: 0.7622 | val_loss: 0.0461 | val_ccc: 0.5070 | val_pcc: 0.6239\n"
     ]
    },
    {
     "name": "stderr",
     "output_type": "stream",
     "text": [
      " 25%|██▌       | 5/20 [12:23<37:09, 148.65s/it]\n"
     ]
    },
    {
     "name": "stdout",
     "output_type": "stream",
     "text": [
      "\u001b[36m(tune_cv_enet pid=24456)\u001b[0m Epoch: 5 | train_loss: 0.0341 | train_ccc: 0.7470 | train_pcc: 0.7618 | val_loss: 0.0507 | val_ccc: 0.4440 | val_pcc: 0.5883\n"
     ]
    },
    {
     "name": "stderr",
     "output_type": "stream",
     "text": [
      " 30%|███       | 6/20 [14:53<34:48, 149.16s/it]\n"
     ]
    },
    {
     "name": "stdout",
     "output_type": "stream",
     "text": [
      "\u001b[36m(tune_cv_enet pid=24456)\u001b[0m Epoch: 6 | train_loss: 0.0338 | train_ccc: 0.7483 | train_pcc: 0.7629 | val_loss: 0.0590 | val_ccc: 0.3945 | val_pcc: 0.5009\n"
     ]
    },
    {
     "name": "stderr",
     "output_type": "stream",
     "text": [
      " 35%|███▌      | 7/20 [17:22<32:19, 149.18s/it]\n"
     ]
    },
    {
     "name": "stdout",
     "output_type": "stream",
     "text": [
      "\u001b[36m(tune_cv_enet pid=24456)\u001b[0m Epoch: 7 | train_loss: 0.0342 | train_ccc: 0.7484 | train_pcc: 0.7620 | val_loss: 0.0467 | val_ccc: 0.4946 | val_pcc: 0.6191\n"
     ]
    },
    {
     "name": "stderr",
     "output_type": "stream",
     "text": [
      " 40%|████      | 8/20 [19:51<29:48, 149.02s/it]\n"
     ]
    },
    {
     "name": "stdout",
     "output_type": "stream",
     "text": [
      "\u001b[36m(tune_cv_enet pid=24456)\u001b[0m Epoch: 8 | train_loss: 0.0335 | train_ccc: 0.7497 | train_pcc: 0.7652 | val_loss: 0.0460 | val_ccc: 0.5048 | val_pcc: 0.6305\n"
     ]
    },
    {
     "name": "stderr",
     "output_type": "stream",
     "text": [
      " 45%|████▌     | 9/20 [22:20<27:20, 149.15s/it]\n"
     ]
    },
    {
     "name": "stdout",
     "output_type": "stream",
     "text": [
      "\u001b[36m(tune_cv_enet pid=24456)\u001b[0m Epoch: 9 | train_loss: 0.0345 | train_ccc: 0.7479 | train_pcc: 0.7618 | val_loss: 0.0454 | val_ccc: 0.5162 | val_pcc: 0.6332\n"
     ]
    },
    {
     "name": "stderr",
     "output_type": "stream",
     "text": [
      " 50%|█████     | 10/20 [24:49<24:51, 149.15s/it]\n"
     ]
    },
    {
     "name": "stdout",
     "output_type": "stream",
     "text": [
      "\u001b[36m(tune_cv_enet pid=24456)\u001b[0m Epoch: 10 | train_loss: 0.0335 | train_ccc: 0.7520 | train_pcc: 0.7656 | val_loss: 0.0461 | val_ccc: 0.5099 | val_pcc: 0.6331\n"
     ]
    },
    {
     "name": "stderr",
     "output_type": "stream",
     "text": [
      " 55%|█████▌    | 11/20 [27:17<22:18, 148.78s/it]\n"
     ]
    },
    {
     "name": "stdout",
     "output_type": "stream",
     "text": [
      "\u001b[36m(tune_cv_enet pid=24456)\u001b[0m Epoch: 11 | train_loss: 0.0334 | train_ccc: 0.7543 | train_pcc: 0.7678 | val_loss: 0.0564 | val_ccc: 0.4116 | val_pcc: 0.5226\n"
     ]
    },
    {
     "name": "stderr",
     "output_type": "stream",
     "text": [
      " 60%|██████    | 12/20 [29:46<19:50, 148.77s/it]\n"
     ]
    },
    {
     "name": "stdout",
     "output_type": "stream",
     "text": [
      "\u001b[36m(tune_cv_enet pid=24456)\u001b[0m Epoch: 12 | train_loss: 0.0339 | train_ccc: 0.7499 | train_pcc: 0.7638 | val_loss: 0.0455 | val_ccc: 0.5173 | val_pcc: 0.6363\n"
     ]
    },
    {
     "name": "stderr",
     "output_type": "stream",
     "text": [
      " 65%|██████▌   | 13/20 [32:15<17:21, 148.81s/it]\n"
     ]
    },
    {
     "name": "stdout",
     "output_type": "stream",
     "text": [
      "\u001b[36m(tune_cv_enet pid=24456)\u001b[0m Epoch: 13 | train_loss: 0.0338 | train_ccc: 0.7506 | train_pcc: 0.7637 | val_loss: 0.0464 | val_ccc: 0.5173 | val_pcc: 0.6287\n"
     ]
    },
    {
     "name": "stderr",
     "output_type": "stream",
     "text": [
      " 70%|███████   | 14/20 [34:44<14:53, 149.00s/it]\n"
     ]
    },
    {
     "name": "stdout",
     "output_type": "stream",
     "text": [
      "\u001b[36m(tune_cv_enet pid=24456)\u001b[0m Epoch: 14 | train_loss: 0.0333 | train_ccc: 0.7536 | train_pcc: 0.7674 | val_loss: 0.0491 | val_ccc: 0.4826 | val_pcc: 0.6264\n"
     ]
    },
    {
     "name": "stderr",
     "output_type": "stream",
     "text": [
      " 75%|███████▌  | 15/20 [37:14<12:25, 149.09s/it]\n"
     ]
    },
    {
     "name": "stdout",
     "output_type": "stream",
     "text": [
      "\u001b[36m(tune_cv_enet pid=24456)\u001b[0m Epoch: 15 | train_loss: 0.0351 | train_ccc: 0.7461 | train_pcc: 0.7596 | val_loss: 0.0505 | val_ccc: 0.4566 | val_pcc: 0.5987\n"
     ]
    },
    {
     "name": "stderr",
     "output_type": "stream",
     "text": [
      " 80%|████████  | 16/20 [39:43<09:56, 149.16s/it]\n"
     ]
    },
    {
     "name": "stdout",
     "output_type": "stream",
     "text": [
      "\u001b[36m(tune_cv_enet pid=24456)\u001b[0m Epoch: 16 | train_loss: 0.0319 | train_ccc: 0.7623 | train_pcc: 0.7753 | val_loss: 0.0467 | val_ccc: 0.5011 | val_pcc: 0.6257\n"
     ]
    },
    {
     "name": "stderr",
     "output_type": "stream",
     "text": [
      " 85%|████████▌ | 17/20 [42:12<07:27, 149.01s/it]\n"
     ]
    },
    {
     "name": "stdout",
     "output_type": "stream",
     "text": [
      "\u001b[36m(tune_cv_enet pid=24456)\u001b[0m Epoch: 17 | train_loss: 0.0337 | train_ccc: 0.7516 | train_pcc: 0.7648 | val_loss: 0.0469 | val_ccc: 0.4949 | val_pcc: 0.6205\n"
     ]
    },
    {
     "name": "stderr",
     "output_type": "stream",
     "text": [
      " 90%|█████████ | 18/20 [44:40<04:57, 148.74s/it]\n"
     ]
    },
    {
     "name": "stdout",
     "output_type": "stream",
     "text": [
      "\u001b[36m(tune_cv_enet pid=24456)\u001b[0m Epoch: 18 | train_loss: 0.0330 | train_ccc: 0.7541 | train_pcc: 0.7679 | val_loss: 0.0464 | val_ccc: 0.5138 | val_pcc: 0.6248\n"
     ]
    },
    {
     "name": "stderr",
     "output_type": "stream",
     "text": [
      " 95%|█████████▌| 19/20 [47:09<02:28, 148.94s/it]\n"
     ]
    },
    {
     "name": "stdout",
     "output_type": "stream",
     "text": [
      "\u001b[36m(tune_cv_enet pid=24456)\u001b[0m Epoch: 19 | train_loss: 0.0328 | train_ccc: 0.7581 | train_pcc: 0.7712 | val_loss: 0.0599 | val_ccc: 0.4697 | val_pcc: 0.5731\n"
     ]
    },
    {
     "name": "stderr",
     "output_type": "stream",
     "text": [
      "100%|██████████| 20/20 [49:38<00:00, 148.95s/it]\n"
     ]
    },
    {
     "name": "stdout",
     "output_type": "stream",
     "text": [
      "\u001b[36m(tune_cv_enet pid=24456)\u001b[0m Epoch: 20 | train_loss: 0.0333 | train_ccc: 0.7528 | train_pcc: 0.7677 | val_loss: 0.0461 | val_ccc: 0.5118 | val_pcc: 0.6374\n",
      "\u001b[36m(tune_cv_enet pid=4860)\u001b[0m cuda\n",
      "\u001b[36m(tune_cv_enet pid=4860)\u001b[0m [INFO] Created SummaryWriter, saving to: C:\\local\\AIProject\\runs\\hp_tuning_cv\\pretrained_enet\\start_07-11-56\\2024-05-30_11-20-30...\n",
      "\u001b[36m(tune_cv_enet pid=4860)\u001b[0m \n",
      "\u001b[36m(tune_cv_enet pid=4860)\u001b[0m -------------------------------------------------------------------------\n",
      "\u001b[36m(tune_cv_enet pid=4860)\u001b[0m Size of the training set: 19803\n",
      "\u001b[36m(tune_cv_enet pid=4860)\u001b[0m Size of the validation set: 4915\n"
     ]
    },
    {
     "name": "stderr",
     "output_type": "stream",
     "text": [
      "  0%|          | 0/20 [00:00<?, ?it/s]\n"
     ]
    },
    {
     "name": "stdout",
     "output_type": "stream",
     "text": [
      "\u001b[36m(tune_cv_enet pid=4860)\u001b[0m [INFO] Created a new pretrained EfficientNet-B0 model.\n",
      "\u001b[36m(tune_cv_enet pid=4860)\u001b[0m Training results for fold_1:\n"
     ]
    },
    {
     "name": "stderr",
     "output_type": "stream",
     "text": [
      "  5%|▌         | 1/20 [01:21<25:52, 81.73s/it]\n"
     ]
    },
    {
     "name": "stdout",
     "output_type": "stream",
     "text": [
      "\u001b[36m(tune_cv_enet pid=4860)\u001b[0m Epoch: 1 | train_loss: 0.0531 | train_ccc: 0.5693 | train_pcc: 0.6018 | val_loss: 0.0502 | val_ccc: 0.3947 | val_pcc: 0.4894\n"
     ]
    },
    {
     "name": "stderr",
     "output_type": "stream",
     "text": [
      " 10%|█         | 2/20 [02:41<24:15, 80.86s/it]\n"
     ]
    },
    {
     "name": "stdout",
     "output_type": "stream",
     "text": [
      "\u001b[36m(tune_cv_enet pid=4860)\u001b[0m Epoch: 2 | train_loss: 0.0346 | train_ccc: 0.7168 | train_pcc: 0.7500 | val_loss: 0.0514 | val_ccc: 0.3763 | val_pcc: 0.4588\n"
     ]
    },
    {
     "name": "stderr",
     "output_type": "stream",
     "text": [
      " 15%|█▌        | 3/20 [04:02<22:48, 80.50s/it]\n"
     ]
    },
    {
     "name": "stdout",
     "output_type": "stream",
     "text": [
      "\u001b[36m(tune_cv_enet pid=4860)\u001b[0m Epoch: 3 | train_loss: 0.0313 | train_ccc: 0.7481 | train_pcc: 0.7777 | val_loss: 0.0499 | val_ccc: 0.4155 | val_pcc: 0.4791\n"
     ]
    },
    {
     "name": "stderr",
     "output_type": "stream",
     "text": [
      " 20%|██        | 4/20 [05:23<21:31, 80.69s/it]\n"
     ]
    },
    {
     "name": "stdout",
     "output_type": "stream",
     "text": [
      "\u001b[36m(tune_cv_enet pid=4860)\u001b[0m Epoch: 4 | train_loss: 0.0299 | train_ccc: 0.7669 | train_pcc: 0.7905 | val_loss: 0.0536 | val_ccc: 0.3475 | val_pcc: 0.4257\n"
     ]
    },
    {
     "name": "stderr",
     "output_type": "stream",
     "text": [
      " 25%|██▌       | 5/20 [06:43<20:09, 80.62s/it]\n"
     ]
    },
    {
     "name": "stdout",
     "output_type": "stream",
     "text": [
      "\u001b[36m(tune_cv_enet pid=4860)\u001b[0m Epoch: 5 | train_loss: 0.0281 | train_ccc: 0.7814 | train_pcc: 0.8034 | val_loss: 0.0532 | val_ccc: 0.4529 | val_pcc: 0.5046\n"
     ]
    },
    {
     "name": "stderr",
     "output_type": "stream",
     "text": [
      " 30%|███       | 6/20 [08:03<18:45, 80.41s/it]\n"
     ]
    },
    {
     "name": "stdout",
     "output_type": "stream",
     "text": [
      "\u001b[36m(tune_cv_enet pid=4860)\u001b[0m Epoch: 6 | train_loss: 0.0273 | train_ccc: 0.7895 | train_pcc: 0.8104 | val_loss: 0.0498 | val_ccc: 0.4212 | val_pcc: 0.4749\n"
     ]
    },
    {
     "name": "stderr",
     "output_type": "stream",
     "text": [
      " 35%|███▌      | 7/20 [09:24<17:26, 80.50s/it]\n"
     ]
    },
    {
     "name": "stdout",
     "output_type": "stream",
     "text": [
      "\u001b[36m(tune_cv_enet pid=4860)\u001b[0m Epoch: 7 | train_loss: 0.0257 | train_ccc: 0.8020 | train_pcc: 0.8211 | val_loss: 0.0506 | val_ccc: 0.4384 | val_pcc: 0.4833\n"
     ]
    },
    {
     "name": "stderr",
     "output_type": "stream",
     "text": [
      " 40%|████      | 8/20 [10:44<16:05, 80.45s/it]\n"
     ]
    },
    {
     "name": "stdout",
     "output_type": "stream",
     "text": [
      "\u001b[36m(tune_cv_enet pid=4860)\u001b[0m Epoch: 8 | train_loss: 0.0260 | train_ccc: 0.8017 | train_pcc: 0.8202 | val_loss: 0.0530 | val_ccc: 0.4009 | val_pcc: 0.4525\n"
     ]
    },
    {
     "name": "stderr",
     "output_type": "stream",
     "text": [
      " 45%|████▌     | 9/20 [12:05<14:46, 80.61s/it]\n"
     ]
    },
    {
     "name": "stdout",
     "output_type": "stream",
     "text": [
      "\u001b[36m(tune_cv_enet pid=4860)\u001b[0m Epoch: 9 | train_loss: 0.0248 | train_ccc: 0.8114 | train_pcc: 0.8280 | val_loss: 0.0531 | val_ccc: 0.4420 | val_pcc: 0.4866\n"
     ]
    },
    {
     "name": "stderr",
     "output_type": "stream",
     "text": [
      " 50%|█████     | 10/20 [13:25<13:25, 80.56s/it]\n"
     ]
    },
    {
     "name": "stdout",
     "output_type": "stream",
     "text": [
      "\u001b[36m(tune_cv_enet pid=4860)\u001b[0m Epoch: 10 | train_loss: 0.0246 | train_ccc: 0.8170 | train_pcc: 0.8313 | val_loss: 0.0570 | val_ccc: 0.3484 | val_pcc: 0.4065\n"
     ]
    },
    {
     "name": "stderr",
     "output_type": "stream",
     "text": [
      " 55%|█████▌    | 11/20 [14:46<12:04, 80.49s/it]\n"
     ]
    },
    {
     "name": "stdout",
     "output_type": "stream",
     "text": [
      "\u001b[36m(tune_cv_enet pid=4860)\u001b[0m Epoch: 11 | train_loss: 0.0241 | train_ccc: 0.8182 | train_pcc: 0.8343 | val_loss: 0.0536 | val_ccc: 0.3956 | val_pcc: 0.4464\n"
     ]
    },
    {
     "name": "stderr",
     "output_type": "stream",
     "text": [
      " 60%|██████    | 12/20 [16:06<10:44, 80.55s/it]\n"
     ]
    },
    {
     "name": "stdout",
     "output_type": "stream",
     "text": [
      "\u001b[36m(tune_cv_enet pid=4860)\u001b[0m Epoch: 12 | train_loss: 0.0243 | train_ccc: 0.8189 | train_pcc: 0.8341 | val_loss: 0.0541 | val_ccc: 0.3935 | val_pcc: 0.4450\n"
     ]
    },
    {
     "name": "stderr",
     "output_type": "stream",
     "text": [
      " 65%|██████▌   | 13/20 [17:27<09:24, 80.59s/it]\n"
     ]
    },
    {
     "name": "stdout",
     "output_type": "stream",
     "text": [
      "\u001b[36m(tune_cv_enet pid=4860)\u001b[0m Epoch: 13 | train_loss: 0.0248 | train_ccc: 0.8181 | train_pcc: 0.8331 | val_loss: 0.0600 | val_ccc: 0.3050 | val_pcc: 0.3613\n"
     ]
    },
    {
     "name": "stderr",
     "output_type": "stream",
     "text": [
      " 70%|███████   | 14/20 [18:48<08:03, 80.52s/it]\n"
     ]
    },
    {
     "name": "stdout",
     "output_type": "stream",
     "text": [
      "\u001b[36m(tune_cv_enet pid=4860)\u001b[0m Epoch: 14 | train_loss: 0.0235 | train_ccc: 0.8251 | train_pcc: 0.8389 | val_loss: 0.0540 | val_ccc: 0.4086 | val_pcc: 0.4476\n"
     ]
    },
    {
     "name": "stderr",
     "output_type": "stream",
     "text": [
      " 75%|███████▌  | 15/20 [20:08<06:41, 80.40s/it]\n"
     ]
    },
    {
     "name": "stdout",
     "output_type": "stream",
     "text": [
      "\u001b[36m(tune_cv_enet pid=4860)\u001b[0m Epoch: 15 | train_loss: 0.0230 | train_ccc: 0.8298 | train_pcc: 0.8420 | val_loss: 0.0555 | val_ccc: 0.3818 | val_pcc: 0.4258\n"
     ]
    },
    {
     "name": "stderr",
     "output_type": "stream",
     "text": [
      " 80%|████████  | 16/20 [21:28<05:21, 80.49s/it]\n"
     ]
    },
    {
     "name": "stdout",
     "output_type": "stream",
     "text": [
      "\u001b[36m(tune_cv_enet pid=4860)\u001b[0m Epoch: 16 | train_loss: 0.0228 | train_ccc: 0.8303 | train_pcc: 0.8444 | val_loss: 0.0533 | val_ccc: 0.4303 | val_pcc: 0.4700\n"
     ]
    },
    {
     "name": "stderr",
     "output_type": "stream",
     "text": [
      " 85%|████████▌ | 17/20 [22:48<04:01, 80.36s/it]\n"
     ]
    },
    {
     "name": "stdout",
     "output_type": "stream",
     "text": [
      "\u001b[36m(tune_cv_enet pid=4860)\u001b[0m Epoch: 17 | train_loss: 0.0229 | train_ccc: 0.8311 | train_pcc: 0.8434 | val_loss: 0.0577 | val_ccc: 0.4401 | val_pcc: 0.4804\n"
     ]
    },
    {
     "name": "stderr",
     "output_type": "stream",
     "text": [
      " 90%|█████████ | 18/20 [24:09<02:40, 80.35s/it]\n"
     ]
    },
    {
     "name": "stdout",
     "output_type": "stream",
     "text": [
      "\u001b[36m(tune_cv_enet pid=4860)\u001b[0m Epoch: 18 | train_loss: 0.0241 | train_ccc: 0.8262 | train_pcc: 0.8384 | val_loss: 0.0539 | val_ccc: 0.4085 | val_pcc: 0.4493\n"
     ]
    },
    {
     "name": "stderr",
     "output_type": "stream",
     "text": [
      " 95%|█████████▌| 19/20 [25:29<01:20, 80.37s/it]\n"
     ]
    },
    {
     "name": "stdout",
     "output_type": "stream",
     "text": [
      "\u001b[36m(tune_cv_enet pid=4860)\u001b[0m Epoch: 19 | train_loss: 0.0232 | train_ccc: 0.8311 | train_pcc: 0.8431 | val_loss: 0.0555 | val_ccc: 0.3863 | val_pcc: 0.4262\n"
     ]
    },
    {
     "name": "stderr",
     "output_type": "stream",
     "text": [
      "100%|██████████| 20/20 [26:49<00:00, 80.49s/it]\n",
      "  0%|          | 0/20 [00:00<?, ?it/s]\n"
     ]
    },
    {
     "name": "stdout",
     "output_type": "stream",
     "text": [
      "\u001b[36m(tune_cv_enet pid=4860)\u001b[0m Epoch: 20 | train_loss: 0.0227 | train_ccc: 0.8335 | train_pcc: 0.8449 | val_loss: 0.0569 | val_ccc: 0.3682 | val_pcc: 0.4151\n",
      "\u001b[36m(tune_cv_enet pid=4860)\u001b[0m \n",
      "\u001b[36m(tune_cv_enet pid=4860)\u001b[0m -------------------------------------------------------------------------\n",
      "\u001b[36m(tune_cv_enet pid=4860)\u001b[0m Size of the training set: 19703\n",
      "\u001b[36m(tune_cv_enet pid=4860)\u001b[0m Size of the validation set: 5015\n",
      "\u001b[36m(tune_cv_enet pid=4860)\u001b[0m [INFO] Created a new pretrained EfficientNet-B0 model.\n",
      "\u001b[36m(tune_cv_enet pid=4860)\u001b[0m Training results for fold_2:\n"
     ]
    },
    {
     "name": "stderr",
     "output_type": "stream",
     "text": [
      "  5%|▌         | 1/20 [01:19<25:13, 79.68s/it]\n"
     ]
    },
    {
     "name": "stdout",
     "output_type": "stream",
     "text": [
      "\u001b[36m(tune_cv_enet pid=4860)\u001b[0m Epoch: 1 | train_loss: 0.0547 | train_ccc: 0.5283 | train_pcc: 0.5751 | val_loss: 0.0397 | val_ccc: 0.4957 | val_pcc: 0.5987\n"
     ]
    },
    {
     "name": "stderr",
     "output_type": "stream",
     "text": [
      " 10%|█         | 2/20 [02:39<23:51, 79.55s/it]\n"
     ]
    },
    {
     "name": "stdout",
     "output_type": "stream",
     "text": [
      "\u001b[36m(tune_cv_enet pid=4860)\u001b[0m Epoch: 2 | train_loss: 0.0396 | train_ccc: 0.6716 | train_pcc: 0.7089 | val_loss: 0.0384 | val_ccc: 0.5333 | val_pcc: 0.6186\n"
     ]
    },
    {
     "name": "stderr",
     "output_type": "stream",
     "text": [
      " 15%|█▌        | 3/20 [03:58<22:29, 79.37s/it]\n"
     ]
    },
    {
     "name": "stdout",
     "output_type": "stream",
     "text": [
      "\u001b[36m(tune_cv_enet pid=4860)\u001b[0m Epoch: 3 | train_loss: 0.0350 | train_ccc: 0.7119 | train_pcc: 0.7463 | val_loss: 0.0429 | val_ccc: 0.5733 | val_pcc: 0.6319\n"
     ]
    },
    {
     "name": "stderr",
     "output_type": "stream",
     "text": [
      " 20%|██        | 4/20 [05:17<21:11, 79.45s/it]\n"
     ]
    },
    {
     "name": "stdout",
     "output_type": "stream",
     "text": [
      "\u001b[36m(tune_cv_enet pid=4860)\u001b[0m Epoch: 4 | train_loss: 0.0328 | train_ccc: 0.7343 | train_pcc: 0.7646 | val_loss: 0.0375 | val_ccc: 0.5645 | val_pcc: 0.6409\n"
     ]
    },
    {
     "name": "stderr",
     "output_type": "stream",
     "text": [
      " 25%|██▌       | 5/20 [06:37<19:51, 79.45s/it]\n"
     ]
    },
    {
     "name": "stdout",
     "output_type": "stream",
     "text": [
      "\u001b[36m(tune_cv_enet pid=4860)\u001b[0m Epoch: 5 | train_loss: 0.0302 | train_ccc: 0.7572 | train_pcc: 0.7837 | val_loss: 0.0357 | val_ccc: 0.5879 | val_pcc: 0.6541\n"
     ]
    },
    {
     "name": "stderr",
     "output_type": "stream",
     "text": [
      " 30%|███       | 6/20 [07:56<18:30, 79.30s/it]\n"
     ]
    },
    {
     "name": "stdout",
     "output_type": "stream",
     "text": [
      "\u001b[36m(tune_cv_enet pid=4860)\u001b[0m Epoch: 6 | train_loss: 0.0297 | train_ccc: 0.7637 | train_pcc: 0.7890 | val_loss: 0.0365 | val_ccc: 0.5841 | val_pcc: 0.6484\n"
     ]
    },
    {
     "name": "stderr",
     "output_type": "stream",
     "text": [
      " 35%|███▌      | 7/20 [09:15<17:09, 79.18s/it]\n"
     ]
    },
    {
     "name": "stdout",
     "output_type": "stream",
     "text": [
      "\u001b[36m(tune_cv_enet pid=4860)\u001b[0m Epoch: 7 | train_loss: 0.0290 | train_ccc: 0.7717 | train_pcc: 0.7958 | val_loss: 0.0404 | val_ccc: 0.5387 | val_pcc: 0.6128\n"
     ]
    },
    {
     "name": "stderr",
     "output_type": "stream",
     "text": [
      " 40%|████      | 8/20 [10:34<15:50, 79.19s/it]\n"
     ]
    },
    {
     "name": "stdout",
     "output_type": "stream",
     "text": [
      "\u001b[36m(tune_cv_enet pid=4860)\u001b[0m Epoch: 8 | train_loss: 0.0279 | train_ccc: 0.7820 | train_pcc: 0.8039 | val_loss: 0.0382 | val_ccc: 0.5716 | val_pcc: 0.6456\n"
     ]
    },
    {
     "name": "stderr",
     "output_type": "stream",
     "text": [
      " 45%|████▌     | 9/20 [11:53<14:31, 79.20s/it]\n"
     ]
    },
    {
     "name": "stdout",
     "output_type": "stream",
     "text": [
      "\u001b[36m(tune_cv_enet pid=4860)\u001b[0m Epoch: 9 | train_loss: 0.0277 | train_ccc: 0.7843 | train_pcc: 0.8060 | val_loss: 0.0411 | val_ccc: 0.5959 | val_pcc: 0.6476\n"
     ]
    },
    {
     "name": "stderr",
     "output_type": "stream",
     "text": [
      " 50%|█████     | 10/20 [13:12<13:11, 79.16s/it]\n"
     ]
    },
    {
     "name": "stdout",
     "output_type": "stream",
     "text": [
      "\u001b[36m(tune_cv_enet pid=4860)\u001b[0m Epoch: 10 | train_loss: 0.0273 | train_ccc: 0.7904 | train_pcc: 0.8088 | val_loss: 0.0378 | val_ccc: 0.5911 | val_pcc: 0.6526\n"
     ]
    },
    {
     "name": "stderr",
     "output_type": "stream",
     "text": [
      " 55%|█████▌    | 11/20 [14:31<11:51, 79.08s/it]\n"
     ]
    },
    {
     "name": "stdout",
     "output_type": "stream",
     "text": [
      "\u001b[36m(tune_cv_enet pid=4860)\u001b[0m Epoch: 11 | train_loss: 0.0271 | train_ccc: 0.7928 | train_pcc: 0.8103 | val_loss: 0.0395 | val_ccc: 0.5678 | val_pcc: 0.6339\n"
     ]
    },
    {
     "name": "stderr",
     "output_type": "stream",
     "text": [
      " 60%|██████    | 12/20 [15:50<10:32, 79.06s/it]\n"
     ]
    },
    {
     "name": "stdout",
     "output_type": "stream",
     "text": [
      "\u001b[36m(tune_cv_enet pid=4860)\u001b[0m Epoch: 12 | train_loss: 0.0256 | train_ccc: 0.8030 | train_pcc: 0.8207 | val_loss: 0.0460 | val_ccc: 0.5050 | val_pcc: 0.5870\n"
     ]
    },
    {
     "name": "stderr",
     "output_type": "stream",
     "text": [
      " 65%|██████▌   | 13/20 [17:10<09:14, 79.19s/it]\n"
     ]
    },
    {
     "name": "stdout",
     "output_type": "stream",
     "text": [
      "\u001b[36m(tune_cv_enet pid=4860)\u001b[0m Epoch: 13 | train_loss: 0.0262 | train_ccc: 0.7991 | train_pcc: 0.8175 | val_loss: 0.0393 | val_ccc: 0.5886 | val_pcc: 0.6452\n"
     ]
    },
    {
     "name": "stderr",
     "output_type": "stream",
     "text": [
      " 70%|███████   | 14/20 [18:29<07:55, 79.18s/it]\n"
     ]
    },
    {
     "name": "stdout",
     "output_type": "stream",
     "text": [
      "\u001b[36m(tune_cv_enet pid=4860)\u001b[0m Epoch: 14 | train_loss: 0.0254 | train_ccc: 0.8052 | train_pcc: 0.8221 | val_loss: 0.0405 | val_ccc: 0.5684 | val_pcc: 0.6313\n"
     ]
    },
    {
     "name": "stderr",
     "output_type": "stream",
     "text": [
      " 75%|███████▌  | 15/20 [19:48<06:36, 79.22s/it]\n"
     ]
    },
    {
     "name": "stdout",
     "output_type": "stream",
     "text": [
      "\u001b[36m(tune_cv_enet pid=4860)\u001b[0m Epoch: 15 | train_loss: 0.0252 | train_ccc: 0.8081 | train_pcc: 0.8245 | val_loss: 0.0397 | val_ccc: 0.5838 | val_pcc: 0.6429\n"
     ]
    },
    {
     "name": "stderr",
     "output_type": "stream",
     "text": [
      " 80%|████████  | 16/20 [21:07<05:16, 79.20s/it]\n"
     ]
    },
    {
     "name": "stdout",
     "output_type": "stream",
     "text": [
      "\u001b[36m(tune_cv_enet pid=4860)\u001b[0m Epoch: 16 | train_loss: 0.0280 | train_ccc: 0.7940 | train_pcc: 0.8102 | val_loss: 0.0469 | val_ccc: 0.5100 | val_pcc: 0.5797\n"
     ]
    },
    {
     "name": "stderr",
     "output_type": "stream",
     "text": [
      " 85%|████████▌ | 17/20 [22:26<03:57, 79.19s/it]\n"
     ]
    },
    {
     "name": "stdout",
     "output_type": "stream",
     "text": [
      "\u001b[36m(tune_cv_enet pid=4860)\u001b[0m Epoch: 17 | train_loss: 0.0251 | train_ccc: 0.8108 | train_pcc: 0.8259 | val_loss: 0.0403 | val_ccc: 0.5905 | val_pcc: 0.6469\n"
     ]
    },
    {
     "name": "stderr",
     "output_type": "stream",
     "text": [
      " 90%|█████████ | 18/20 [23:46<02:38, 79.18s/it]\n"
     ]
    },
    {
     "name": "stdout",
     "output_type": "stream",
     "text": [
      "\u001b[36m(tune_cv_enet pid=4860)\u001b[0m Epoch: 18 | train_loss: 0.0257 | train_ccc: 0.8068 | train_pcc: 0.8224 | val_loss: 0.0405 | val_ccc: 0.5947 | val_pcc: 0.6484\n",
      "\u001b[36m(tune_cv_enet pid=4860)\u001b[0m Epoch: 19 | train_loss: 0.0251 | train_ccc: 0.8124 | train_pcc: 0.8269 | val_loss: 0.0468 | val_ccc: 0.5234 | val_pcc: 0.5981\n"
     ]
    },
    {
     "name": "stderr",
     "output_type": "stream",
     "text": [
      " 95%|█████████▌| 19/20 [25:05<01:19, 79.19s/it]\n",
      "100%|██████████| 20/20 [26:24<00:00, 79.23s/it]\n",
      "  0%|          | 0/20 [00:00<?, ?it/s]\n"
     ]
    },
    {
     "name": "stdout",
     "output_type": "stream",
     "text": [
      "\u001b[36m(tune_cv_enet pid=4860)\u001b[0m Epoch: 20 | train_loss: 0.0241 | train_ccc: 0.8181 | train_pcc: 0.8322 | val_loss: 0.0452 | val_ccc: 0.5364 | val_pcc: 0.6029\n",
      "\u001b[36m(tune_cv_enet pid=4860)\u001b[0m \n",
      "\u001b[36m(tune_cv_enet pid=4860)\u001b[0m -------------------------------------------------------------------------\n",
      "\u001b[36m(tune_cv_enet pid=4860)\u001b[0m Size of the training set: 19826\n",
      "\u001b[36m(tune_cv_enet pid=4860)\u001b[0m Size of the validation set: 4892\n",
      "\u001b[36m(tune_cv_enet pid=4860)\u001b[0m [INFO] Created a new pretrained EfficientNet-B0 model.\n",
      "\u001b[36m(tune_cv_enet pid=4860)\u001b[0m Training results for fold_3:\n"
     ]
    },
    {
     "name": "stderr",
     "output_type": "stream",
     "text": [
      "  5%|▌         | 1/20 [01:18<24:59, 78.91s/it]\n"
     ]
    },
    {
     "name": "stdout",
     "output_type": "stream",
     "text": [
      "\u001b[36m(tune_cv_enet pid=4860)\u001b[0m Epoch: 1 | train_loss: 0.0553 | train_ccc: 0.5692 | train_pcc: 0.6033 | val_loss: 0.0506 | val_ccc: 0.3021 | val_pcc: 0.3892\n"
     ]
    },
    {
     "name": "stderr",
     "output_type": "stream",
     "text": [
      " 10%|█         | 2/20 [02:37<23:40, 78.92s/it]\n"
     ]
    },
    {
     "name": "stdout",
     "output_type": "stream",
     "text": [
      "\u001b[36m(tune_cv_enet pid=4860)\u001b[0m Epoch: 2 | train_loss: 0.0351 | train_ccc: 0.7223 | train_pcc: 0.7555 | val_loss: 0.0482 | val_ccc: 0.3499 | val_pcc: 0.4356\n"
     ]
    },
    {
     "name": "stderr",
     "output_type": "stream",
     "text": [
      " 15%|█▌        | 3/20 [03:56<22:19, 78.80s/it]\n"
     ]
    },
    {
     "name": "stdout",
     "output_type": "stream",
     "text": [
      "\u001b[36m(tune_cv_enet pid=4860)\u001b[0m Epoch: 3 | train_loss: 0.0316 | train_ccc: 0.7561 | train_pcc: 0.7831 | val_loss: 0.0481 | val_ccc: 0.3513 | val_pcc: 0.4363\n"
     ]
    },
    {
     "name": "stderr",
     "output_type": "stream",
     "text": [
      " 20%|██        | 4/20 [05:15<20:59, 78.72s/it]\n"
     ]
    },
    {
     "name": "stdout",
     "output_type": "stream",
     "text": [
      "\u001b[36m(tune_cv_enet pid=4860)\u001b[0m Epoch: 4 | train_loss: 0.0286 | train_ccc: 0.7819 | train_pcc: 0.8057 | val_loss: 0.0589 | val_ccc: 0.2698 | val_pcc: 0.3454\n"
     ]
    },
    {
     "name": "stderr",
     "output_type": "stream",
     "text": [
      " 25%|██▌       | 5/20 [06:34<19:41, 78.80s/it]\n"
     ]
    },
    {
     "name": "stdout",
     "output_type": "stream",
     "text": [
      "\u001b[36m(tune_cv_enet pid=4860)\u001b[0m Epoch: 5 | train_loss: 0.0302 | train_ccc: 0.7797 | train_pcc: 0.8001 | val_loss: 0.0500 | val_ccc: 0.3703 | val_pcc: 0.4462\n"
     ]
    },
    {
     "name": "stderr",
     "output_type": "stream",
     "text": [
      " 30%|███       | 6/20 [07:53<18:24, 78.88s/it]\n"
     ]
    },
    {
     "name": "stdout",
     "output_type": "stream",
     "text": [
      "\u001b[36m(tune_cv_enet pid=4860)\u001b[0m Epoch: 6 | train_loss: 0.0280 | train_ccc: 0.7988 | train_pcc: 0.8164 | val_loss: 0.0509 | val_ccc: 0.3751 | val_pcc: 0.4433\n"
     ]
    },
    {
     "name": "stderr",
     "output_type": "stream",
     "text": [
      " 35%|███▌      | 7/20 [09:11<17:04, 78.79s/it]\n"
     ]
    },
    {
     "name": "stdout",
     "output_type": "stream",
     "text": [
      "\u001b[36m(tune_cv_enet pid=4860)\u001b[0m Epoch: 7 | train_loss: 0.0268 | train_ccc: 0.8031 | train_pcc: 0.8204 | val_loss: 0.0490 | val_ccc: 0.3519 | val_pcc: 0.4273\n"
     ]
    },
    {
     "name": "stderr",
     "output_type": "stream",
     "text": [
      " 40%|████      | 8/20 [10:30<15:45, 78.79s/it]\n"
     ]
    },
    {
     "name": "stdout",
     "output_type": "stream",
     "text": [
      "\u001b[36m(tune_cv_enet pid=4860)\u001b[0m Epoch: 8 | train_loss: 0.0255 | train_ccc: 0.8140 | train_pcc: 0.8299 | val_loss: 0.0507 | val_ccc: 0.3367 | val_pcc: 0.4143\n"
     ]
    },
    {
     "name": "stderr",
     "output_type": "stream",
     "text": [
      " 45%|████▌     | 9/20 [11:49<14:25, 78.71s/it]\n"
     ]
    },
    {
     "name": "stdout",
     "output_type": "stream",
     "text": [
      "\u001b[36m(tune_cv_enet pid=4860)\u001b[0m Epoch: 9 | train_loss: 0.0247 | train_ccc: 0.8199 | train_pcc: 0.8361 | val_loss: 0.0499 | val_ccc: 0.3419 | val_pcc: 0.4158\n"
     ]
    },
    {
     "name": "stderr",
     "output_type": "stream",
     "text": [
      " 50%|█████     | 10/20 [13:07<13:07, 78.77s/it]\n"
     ]
    },
    {
     "name": "stdout",
     "output_type": "stream",
     "text": [
      "\u001b[36m(tune_cv_enet pid=4860)\u001b[0m Epoch: 10 | train_loss: 0.0253 | train_ccc: 0.8189 | train_pcc: 0.8328 | val_loss: 0.0505 | val_ccc: 0.3584 | val_pcc: 0.4239\n"
     ]
    },
    {
     "name": "stderr",
     "output_type": "stream",
     "text": [
      " 55%|█████▌    | 11/20 [14:26<11:49, 78.79s/it]\n"
     ]
    },
    {
     "name": "stdout",
     "output_type": "stream",
     "text": [
      "\u001b[36m(tune_cv_enet pid=4860)\u001b[0m Epoch: 11 | train_loss: 0.0245 | train_ccc: 0.8231 | train_pcc: 0.8378 | val_loss: 0.0497 | val_ccc: 0.3735 | val_pcc: 0.4421\n"
     ]
    },
    {
     "name": "stderr",
     "output_type": "stream",
     "text": [
      " 60%|██████    | 12/20 [15:45<10:29, 78.64s/it]\n"
     ]
    },
    {
     "name": "stdout",
     "output_type": "stream",
     "text": [
      "\u001b[36m(tune_cv_enet pid=4860)\u001b[0m Epoch: 12 | train_loss: 0.0244 | train_ccc: 0.8252 | train_pcc: 0.8392 | val_loss: 0.0506 | val_ccc: 0.3732 | val_pcc: 0.4383\n"
     ]
    },
    {
     "name": "stderr",
     "output_type": "stream",
     "text": [
      " 65%|██████▌   | 13/20 [17:04<09:11, 78.75s/it]\n"
     ]
    },
    {
     "name": "stdout",
     "output_type": "stream",
     "text": [
      "\u001b[36m(tune_cv_enet pid=4860)\u001b[0m Epoch: 13 | train_loss: 0.0240 | train_ccc: 0.8297 | train_pcc: 0.8437 | val_loss: 0.0507 | val_ccc: 0.3648 | val_pcc: 0.4365\n"
     ]
    },
    {
     "name": "stderr",
     "output_type": "stream",
     "text": [
      " 70%|███████   | 14/20 [18:22<07:52, 78.80s/it]\n"
     ]
    },
    {
     "name": "stdout",
     "output_type": "stream",
     "text": [
      "\u001b[36m(tune_cv_enet pid=4860)\u001b[0m Epoch: 14 | train_loss: 0.0241 | train_ccc: 0.8289 | train_pcc: 0.8417 | val_loss: 0.0498 | val_ccc: 0.3604 | val_pcc: 0.4307\n"
     ]
    },
    {
     "name": "stderr",
     "output_type": "stream",
     "text": [
      " 75%|███████▌  | 15/20 [19:42<06:34, 78.95s/it]\n"
     ]
    },
    {
     "name": "stdout",
     "output_type": "stream",
     "text": [
      "\u001b[36m(tune_cv_enet pid=4860)\u001b[0m Epoch: 15 | train_loss: 0.0229 | train_ccc: 0.8352 | train_pcc: 0.8480 | val_loss: 0.0531 | val_ccc: 0.3739 | val_pcc: 0.4364\n"
     ]
    },
    {
     "name": "stderr",
     "output_type": "stream",
     "text": [
      " 80%|████████  | 16/20 [21:00<05:15, 78.87s/it]\n"
     ]
    },
    {
     "name": "stdout",
     "output_type": "stream",
     "text": [
      "\u001b[36m(tune_cv_enet pid=4860)\u001b[0m Epoch: 16 | train_loss: 0.0235 | train_ccc: 0.8326 | train_pcc: 0.8461 | val_loss: 0.0516 | val_ccc: 0.3503 | val_pcc: 0.4145\n"
     ]
    },
    {
     "name": "stderr",
     "output_type": "stream",
     "text": [
      " 85%|████████▌ | 17/20 [22:19<03:56, 78.78s/it]\n"
     ]
    },
    {
     "name": "stdout",
     "output_type": "stream",
     "text": [
      "\u001b[36m(tune_cv_enet pid=4860)\u001b[0m Epoch: 17 | train_loss: 0.0225 | train_ccc: 0.8395 | train_pcc: 0.8520 | val_loss: 0.0523 | val_ccc: 0.3698 | val_pcc: 0.4321\n"
     ]
    },
    {
     "name": "stderr",
     "output_type": "stream",
     "text": [
      " 90%|█████████ | 18/20 [23:38<02:37, 78.75s/it]\n"
     ]
    },
    {
     "name": "stdout",
     "output_type": "stream",
     "text": [
      "\u001b[36m(tune_cv_enet pid=4860)\u001b[0m Epoch: 18 | train_loss: 0.0228 | train_ccc: 0.8394 | train_pcc: 0.8502 | val_loss: 0.0511 | val_ccc: 0.3405 | val_pcc: 0.4071\n"
     ]
    },
    {
     "name": "stderr",
     "output_type": "stream",
     "text": [
      " 95%|█████████▌| 19/20 [24:56<01:18, 78.76s/it]\n"
     ]
    },
    {
     "name": "stdout",
     "output_type": "stream",
     "text": [
      "\u001b[36m(tune_cv_enet pid=4860)\u001b[0m Epoch: 19 | train_loss: 0.0222 | train_ccc: 0.8412 | train_pcc: 0.8533 | val_loss: 0.0508 | val_ccc: 0.3623 | val_pcc: 0.4226\n"
     ]
    },
    {
     "name": "stderr",
     "output_type": "stream",
     "text": [
      "100%|██████████| 20/20 [26:15<00:00, 78.80s/it]\n",
      "  0%|          | 0/20 [00:00<?, ?it/s]\n"
     ]
    },
    {
     "name": "stdout",
     "output_type": "stream",
     "text": [
      "\u001b[36m(tune_cv_enet pid=4860)\u001b[0m Epoch: 20 | train_loss: 0.0224 | train_ccc: 0.8422 | train_pcc: 0.8521 | val_loss: 0.0547 | val_ccc: 0.3589 | val_pcc: 0.4191\n",
      "\u001b[36m(tune_cv_enet pid=4860)\u001b[0m \n",
      "\u001b[36m(tune_cv_enet pid=4860)\u001b[0m -------------------------------------------------------------------------\n",
      "\u001b[36m(tune_cv_enet pid=4860)\u001b[0m Size of the training set: 19667\n",
      "\u001b[36m(tune_cv_enet pid=4860)\u001b[0m Size of the validation set: 5051\n",
      "\u001b[36m(tune_cv_enet pid=4860)\u001b[0m [INFO] Created a new pretrained EfficientNet-B0 model.\n",
      "\u001b[36m(tune_cv_enet pid=4860)\u001b[0m Training results for fold_4:\n",
      "\u001b[36m(tune_cv_enet pid=4860)\u001b[0m Epoch: 1 | train_loss: 0.0562 | train_ccc: 0.5564 | train_pcc: 0.5914 | val_loss: 0.0489 | val_ccc: 0.4359 | val_pcc: 0.5595\n"
     ]
    },
    {
     "name": "stderr",
     "output_type": "stream",
     "text": [
      "  5%|▌         | 1/20 [01:19<25:01, 79.01s/it]\n",
      " 10%|█         | 2/20 [02:39<23:52, 79.59s/it]\n"
     ]
    },
    {
     "name": "stdout",
     "output_type": "stream",
     "text": [
      "\u001b[36m(tune_cv_enet pid=4860)\u001b[0m Epoch: 2 | train_loss: 0.0371 | train_ccc: 0.7033 | train_pcc: 0.7386 | val_loss: 0.0497 | val_ccc: 0.4962 | val_pcc: 0.6041\n"
     ]
    },
    {
     "name": "stderr",
     "output_type": "stream",
     "text": [
      " 15%|█▌        | 3/20 [03:58<22:32, 79.57s/it]\n"
     ]
    },
    {
     "name": "stdout",
     "output_type": "stream",
     "text": [
      "\u001b[36m(tune_cv_enet pid=4860)\u001b[0m Epoch: 3 | train_loss: 0.0325 | train_ccc: 0.7480 | train_pcc: 0.7761 | val_loss: 0.0452 | val_ccc: 0.4980 | val_pcc: 0.6015\n"
     ]
    },
    {
     "name": "stderr",
     "output_type": "stream",
     "text": [
      " 20%|██        | 4/20 [05:17<21:10, 79.42s/it]\n"
     ]
    },
    {
     "name": "stdout",
     "output_type": "stream",
     "text": [
      "\u001b[36m(tune_cv_enet pid=4860)\u001b[0m Epoch: 4 | train_loss: 0.0302 | train_ccc: 0.7694 | train_pcc: 0.7942 | val_loss: 0.0481 | val_ccc: 0.5046 | val_pcc: 0.5990\n"
     ]
    },
    {
     "name": "stderr",
     "output_type": "stream",
     "text": [
      " 25%|██▌       | 5/20 [06:37<19:51, 79.41s/it]\n"
     ]
    },
    {
     "name": "stdout",
     "output_type": "stream",
     "text": [
      "\u001b[36m(tune_cv_enet pid=4860)\u001b[0m Epoch: 5 | train_loss: 0.0300 | train_ccc: 0.7759 | train_pcc: 0.7963 | val_loss: 0.0461 | val_ccc: 0.5127 | val_pcc: 0.6028\n"
     ]
    },
    {
     "name": "stderr",
     "output_type": "stream",
     "text": [
      " 30%|███       | 6/20 [07:56<18:30, 79.33s/it]\n"
     ]
    },
    {
     "name": "stdout",
     "output_type": "stream",
     "text": [
      "\u001b[36m(tune_cv_enet pid=4860)\u001b[0m Epoch: 6 | train_loss: 0.0284 | train_ccc: 0.7888 | train_pcc: 0.8083 | val_loss: 0.0480 | val_ccc: 0.4665 | val_pcc: 0.5718\n"
     ]
    },
    {
     "name": "stderr",
     "output_type": "stream",
     "text": [
      " 35%|███▌      | 7/20 [09:15<17:12, 79.41s/it]\n"
     ]
    },
    {
     "name": "stdout",
     "output_type": "stream",
     "text": [
      "\u001b[36m(tune_cv_enet pid=4860)\u001b[0m Epoch: 7 | train_loss: 0.0267 | train_ccc: 0.8012 | train_pcc: 0.8206 | val_loss: 0.0490 | val_ccc: 0.4594 | val_pcc: 0.5684\n"
     ]
    },
    {
     "name": "stderr",
     "output_type": "stream",
     "text": [
      " 40%|████      | 8/20 [10:35<15:55, 79.59s/it]\n"
     ]
    },
    {
     "name": "stdout",
     "output_type": "stream",
     "text": [
      "\u001b[36m(tune_cv_enet pid=4860)\u001b[0m Epoch: 8 | train_loss: 0.0262 | train_ccc: 0.8062 | train_pcc: 0.8246 | val_loss: 0.0471 | val_ccc: 0.4763 | val_pcc: 0.5698\n"
     ]
    },
    {
     "name": "stderr",
     "output_type": "stream",
     "text": [
      " 45%|████▌     | 9/20 [11:55<14:35, 79.63s/it]\n"
     ]
    },
    {
     "name": "stdout",
     "output_type": "stream",
     "text": [
      "\u001b[36m(tune_cv_enet pid=4860)\u001b[0m Epoch: 9 | train_loss: 0.0263 | train_ccc: 0.8079 | train_pcc: 0.8251 | val_loss: 0.0492 | val_ccc: 0.5038 | val_pcc: 0.5889\n"
     ]
    },
    {
     "name": "stderr",
     "output_type": "stream",
     "text": [
      " 50%|█████     | 10/20 [13:15<13:16, 79.68s/it]\n"
     ]
    },
    {
     "name": "stdout",
     "output_type": "stream",
     "text": [
      "\u001b[36m(tune_cv_enet pid=4860)\u001b[0m Epoch: 10 | train_loss: 0.0254 | train_ccc: 0.8146 | train_pcc: 0.8310 | val_loss: 0.0500 | val_ccc: 0.4974 | val_pcc: 0.5866\n"
     ]
    },
    {
     "name": "stderr",
     "output_type": "stream",
     "text": [
      " 55%|█████▌    | 11/20 [14:34<11:55, 79.50s/it]\n"
     ]
    },
    {
     "name": "stdout",
     "output_type": "stream",
     "text": [
      "\u001b[36m(tune_cv_enet pid=4860)\u001b[0m Epoch: 11 | train_loss: 0.0268 | train_ccc: 0.8080 | train_pcc: 0.8233 | val_loss: 0.0485 | val_ccc: 0.4790 | val_pcc: 0.5712\n"
     ]
    },
    {
     "name": "stderr",
     "output_type": "stream",
     "text": [
      " 60%|██████    | 12/20 [15:53<10:35, 79.41s/it]\n"
     ]
    },
    {
     "name": "stdout",
     "output_type": "stream",
     "text": [
      "\u001b[36m(tune_cv_enet pid=4860)\u001b[0m Epoch: 12 | train_loss: 0.0253 | train_ccc: 0.8160 | train_pcc: 0.8313 | val_loss: 0.0500 | val_ccc: 0.4865 | val_pcc: 0.5754\n"
     ]
    },
    {
     "name": "stderr",
     "output_type": "stream",
     "text": [
      " 65%|██████▌   | 13/20 [17:12<09:14, 79.26s/it]\n"
     ]
    },
    {
     "name": "stdout",
     "output_type": "stream",
     "text": [
      "\u001b[36m(tune_cv_enet pid=4860)\u001b[0m Epoch: 13 | train_loss: 0.0241 | train_ccc: 0.8241 | train_pcc: 0.8389 | val_loss: 0.0489 | val_ccc: 0.4743 | val_pcc: 0.5692\n"
     ]
    },
    {
     "name": "stderr",
     "output_type": "stream",
     "text": [
      " 70%|███████   | 14/20 [18:32<07:55, 79.31s/it]\n"
     ]
    },
    {
     "name": "stdout",
     "output_type": "stream",
     "text": [
      "\u001b[36m(tune_cv_enet pid=4860)\u001b[0m Epoch: 14 | train_loss: 0.0243 | train_ccc: 0.8258 | train_pcc: 0.8395 | val_loss: 0.0507 | val_ccc: 0.5019 | val_pcc: 0.5807\n"
     ]
    },
    {
     "name": "stderr",
     "output_type": "stream",
     "text": [
      " 75%|███████▌  | 15/20 [19:51<06:37, 79.48s/it]\n"
     ]
    },
    {
     "name": "stdout",
     "output_type": "stream",
     "text": [
      "\u001b[36m(tune_cv_enet pid=4860)\u001b[0m Epoch: 15 | train_loss: 0.0241 | train_ccc: 0.8267 | train_pcc: 0.8403 | val_loss: 0.0540 | val_ccc: 0.4988 | val_pcc: 0.5829\n"
     ]
    },
    {
     "name": "stderr",
     "output_type": "stream",
     "text": [
      " 80%|████████  | 16/20 [21:11<05:18, 79.56s/it]\n"
     ]
    },
    {
     "name": "stdout",
     "output_type": "stream",
     "text": [
      "\u001b[36m(tune_cv_enet pid=4860)\u001b[0m Epoch: 16 | train_loss: 0.0240 | train_ccc: 0.8283 | train_pcc: 0.8419 | val_loss: 0.0505 | val_ccc: 0.4858 | val_pcc: 0.5709\n"
     ]
    },
    {
     "name": "stderr",
     "output_type": "stream",
     "text": [
      " 85%|████████▌ | 17/20 [22:31<03:58, 79.64s/it]\n"
     ]
    },
    {
     "name": "stdout",
     "output_type": "stream",
     "text": [
      "\u001b[36m(tune_cv_enet pid=4860)\u001b[0m Epoch: 17 | train_loss: 0.0232 | train_ccc: 0.8324 | train_pcc: 0.8456 | val_loss: 0.0517 | val_ccc: 0.4751 | val_pcc: 0.5688\n",
      "\u001b[36m(tune_cv_enet pid=4860)\u001b[0m Epoch: 18 | train_loss: 0.0235 | train_ccc: 0.8324 | train_pcc: 0.8453 | val_loss: 0.0506 | val_ccc: 0.4851 | val_pcc: 0.5673\n"
     ]
    },
    {
     "name": "stderr",
     "output_type": "stream",
     "text": [
      " 90%|█████████ | 18/20 [23:51<02:39, 79.65s/it]\n",
      " 95%|█████████▌| 19/20 [25:10<01:19, 79.67s/it]\n"
     ]
    },
    {
     "name": "stdout",
     "output_type": "stream",
     "text": [
      "\u001b[36m(tune_cv_enet pid=4860)\u001b[0m Epoch: 19 | train_loss: 0.0229 | train_ccc: 0.8353 | train_pcc: 0.8475 | val_loss: 0.0509 | val_ccc: 0.4632 | val_pcc: 0.5541\n"
     ]
    },
    {
     "name": "stderr",
     "output_type": "stream",
     "text": [
      "100%|██████████| 20/20 [26:30<00:00, 79.53s/it]\n",
      "  0%|          | 0/20 [00:00<?, ?it/s]\n"
     ]
    },
    {
     "name": "stdout",
     "output_type": "stream",
     "text": [
      "\u001b[36m(tune_cv_enet pid=4860)\u001b[0m Epoch: 20 | train_loss: 0.0230 | train_ccc: 0.8349 | train_pcc: 0.8479 | val_loss: 0.0519 | val_ccc: 0.4617 | val_pcc: 0.5490\n",
      "\u001b[36m(tune_cv_enet pid=4860)\u001b[0m \n",
      "\u001b[36m(tune_cv_enet pid=4860)\u001b[0m -------------------------------------------------------------------------\n",
      "\u001b[36m(tune_cv_enet pid=4860)\u001b[0m Size of the training set: 19873\n",
      "\u001b[36m(tune_cv_enet pid=4860)\u001b[0m Size of the validation set: 4845\n",
      "\u001b[36m(tune_cv_enet pid=4860)\u001b[0m [INFO] Created a new pretrained EfficientNet-B0 model.\n",
      "\u001b[36m(tune_cv_enet pid=4860)\u001b[0m Training results for fold_5:\n"
     ]
    },
    {
     "name": "stderr",
     "output_type": "stream",
     "text": [
      "  5%|▌         | 1/20 [01:20<25:21, 80.10s/it]\n"
     ]
    },
    {
     "name": "stdout",
     "output_type": "stream",
     "text": [
      "\u001b[36m(tune_cv_enet pid=4860)\u001b[0m Epoch: 1 | train_loss: 0.0553 | train_ccc: 0.5459 | train_pcc: 0.5849 | val_loss: 0.0479 | val_ccc: 0.4657 | val_pcc: 0.5870\n",
      "\u001b[36m(tune_cv_enet pid=4860)\u001b[0m Epoch: 2 | train_loss: 0.0362 | train_ccc: 0.6989 | train_pcc: 0.7363 | val_loss: 0.0480 | val_ccc: 0.4585 | val_pcc: 0.5982\n"
     ]
    },
    {
     "name": "stderr",
     "output_type": "stream",
     "text": [
      " 10%|█         | 2/20 [02:39<23:51, 79.50s/it]\n",
      " 15%|█▌        | 3/20 [03:58<22:28, 79.32s/it]\n"
     ]
    },
    {
     "name": "stdout",
     "output_type": "stream",
     "text": [
      "\u001b[36m(tune_cv_enet pid=4860)\u001b[0m Epoch: 3 | train_loss: 0.0337 | train_ccc: 0.7320 | train_pcc: 0.7603 | val_loss: 0.0464 | val_ccc: 0.4993 | val_pcc: 0.6098\n",
      "\u001b[36m(tune_cv_enet pid=4860)\u001b[0m Epoch: 4 | train_loss: 0.0302 | train_ccc: 0.7622 | train_pcc: 0.7875 | val_loss: 0.0469 | val_ccc: 0.4950 | val_pcc: 0.6278\n",
      "\u001b[36m(tune_cv_enet pid=4860)\u001b[0m \n"
     ]
    },
    {
     "name": "stderr",
     "output_type": "stream",
     "text": [
      " 20%|██        | 4/20 [05:17<21:09, 79.36s/it]\n",
      " 25%|██▌       | 5/20 [06:37<19:51, 79.42s/it]\n"
     ]
    },
    {
     "name": "stdout",
     "output_type": "stream",
     "text": [
      "\u001b[36m(tune_cv_enet pid=4860)\u001b[0m Epoch: 5 | train_loss: 0.0296 | train_ccc: 0.7716 | train_pcc: 0.7933 | val_loss: 0.0538 | val_ccc: 0.4307 | val_pcc: 0.5597\n"
     ]
    },
    {
     "name": "stderr",
     "output_type": "stream",
     "text": [
      " 30%|███       | 6/20 [07:56<18:32, 79.48s/it]\n"
     ]
    },
    {
     "name": "stdout",
     "output_type": "stream",
     "text": [
      "\u001b[36m(tune_cv_enet pid=4860)\u001b[0m Epoch: 6 | train_loss: 0.0276 | train_ccc: 0.7856 | train_pcc: 0.8066 | val_loss: 0.0491 | val_ccc: 0.5032 | val_pcc: 0.6258\n"
     ]
    },
    {
     "name": "stderr",
     "output_type": "stream",
     "text": [
      " 35%|███▌      | 7/20 [09:16<17:12, 79.44s/it]\n"
     ]
    },
    {
     "name": "stdout",
     "output_type": "stream",
     "text": [
      "\u001b[36m(tune_cv_enet pid=4860)\u001b[0m Epoch: 7 | train_loss: 0.0270 | train_ccc: 0.7923 | train_pcc: 0.8127 | val_loss: 0.0464 | val_ccc: 0.5143 | val_pcc: 0.6342\n"
     ]
    },
    {
     "name": "stderr",
     "output_type": "stream",
     "text": [
      " 40%|████      | 8/20 [10:35<15:51, 79.27s/it]\n"
     ]
    },
    {
     "name": "stdout",
     "output_type": "stream",
     "text": [
      "\u001b[36m(tune_cv_enet pid=4860)\u001b[0m Epoch: 8 | train_loss: 0.0260 | train_ccc: 0.8001 | train_pcc: 0.8183 | val_loss: 0.0485 | val_ccc: 0.4902 | val_pcc: 0.6187\n"
     ]
    },
    {
     "name": "stderr",
     "output_type": "stream",
     "text": [
      " 45%|████▌     | 9/20 [11:54<14:33, 79.43s/it]\n"
     ]
    },
    {
     "name": "stdout",
     "output_type": "stream",
     "text": [
      "\u001b[36m(tune_cv_enet pid=4860)\u001b[0m Epoch: 9 | train_loss: 0.0261 | train_ccc: 0.8032 | train_pcc: 0.8195 | val_loss: 0.0472 | val_ccc: 0.4955 | val_pcc: 0.6164\n"
     ]
    },
    {
     "name": "stderr",
     "output_type": "stream",
     "text": [
      " 50%|█████     | 10/20 [13:14<13:15, 79.55s/it]\n"
     ]
    },
    {
     "name": "stdout",
     "output_type": "stream",
     "text": [
      "\u001b[36m(tune_cv_enet pid=4860)\u001b[0m Epoch: 10 | train_loss: 0.0252 | train_ccc: 0.8091 | train_pcc: 0.8256 | val_loss: 0.0478 | val_ccc: 0.4954 | val_pcc: 0.6209\n"
     ]
    },
    {
     "name": "stderr",
     "output_type": "stream",
     "text": [
      " 55%|█████▌    | 11/20 [14:33<11:54, 79.43s/it]\n"
     ]
    },
    {
     "name": "stdout",
     "output_type": "stream",
     "text": [
      "\u001b[36m(tune_cv_enet pid=4860)\u001b[0m Epoch: 11 | train_loss: 0.0251 | train_ccc: 0.8117 | train_pcc: 0.8277 | val_loss: 0.0604 | val_ccc: 0.4047 | val_pcc: 0.5053\n"
     ]
    },
    {
     "name": "stderr",
     "output_type": "stream",
     "text": [
      " 60%|██████    | 12/20 [15:53<10:35, 79.48s/it]\n"
     ]
    },
    {
     "name": "stdout",
     "output_type": "stream",
     "text": [
      "\u001b[36m(tune_cv_enet pid=4860)\u001b[0m Epoch: 12 | train_loss: 0.0253 | train_ccc: 0.8120 | train_pcc: 0.8268 | val_loss: 0.0524 | val_ccc: 0.4534 | val_pcc: 0.5811\n"
     ]
    },
    {
     "name": "stderr",
     "output_type": "stream",
     "text": [
      " 65%|██████▌   | 13/20 [17:12<09:16, 79.50s/it]\n"
     ]
    },
    {
     "name": "stdout",
     "output_type": "stream",
     "text": [
      "\u001b[36m(tune_cv_enet pid=4860)\u001b[0m Epoch: 13 | train_loss: 0.0247 | train_ccc: 0.8163 | train_pcc: 0.8308 | val_loss: 0.0479 | val_ccc: 0.4975 | val_pcc: 0.6160\n"
     ]
    },
    {
     "name": "stderr",
     "output_type": "stream",
     "text": [
      " 70%|███████   | 14/20 [18:32<07:56, 79.41s/it]\n"
     ]
    },
    {
     "name": "stdout",
     "output_type": "stream",
     "text": [
      "\u001b[36m(tune_cv_enet pid=4860)\u001b[0m Epoch: 14 | train_loss: 0.0243 | train_ccc: 0.8205 | train_pcc: 0.8344 | val_loss: 0.0490 | val_ccc: 0.4796 | val_pcc: 0.6014\n"
     ]
    },
    {
     "name": "stderr",
     "output_type": "stream",
     "text": [
      " 75%|███████▌  | 15/20 [19:51<06:37, 79.42s/it]\n"
     ]
    },
    {
     "name": "stdout",
     "output_type": "stream",
     "text": [
      "\u001b[36m(tune_cv_enet pid=4860)\u001b[0m Epoch: 15 | train_loss: 0.0241 | train_ccc: 0.8218 | train_pcc: 0.8357 | val_loss: 0.0495 | val_ccc: 0.5171 | val_pcc: 0.6159\n"
     ]
    },
    {
     "name": "stderr",
     "output_type": "stream",
     "text": [
      " 80%|████████  | 16/20 [21:10<05:17, 79.40s/it]\n"
     ]
    },
    {
     "name": "stdout",
     "output_type": "stream",
     "text": [
      "\u001b[36m(tune_cv_enet pid=4860)\u001b[0m Epoch: 16 | train_loss: 0.0236 | train_ccc: 0.8246 | train_pcc: 0.8389 | val_loss: 0.0480 | val_ccc: 0.5035 | val_pcc: 0.6163\n"
     ]
    },
    {
     "name": "stderr",
     "output_type": "stream",
     "text": [
      " 85%|████████▌ | 17/20 [22:30<03:58, 79.33s/it]\n"
     ]
    },
    {
     "name": "stdout",
     "output_type": "stream",
     "text": [
      "\u001b[36m(tune_cv_enet pid=4860)\u001b[0m Epoch: 17 | train_loss: 0.0244 | train_ccc: 0.8210 | train_pcc: 0.8345 | val_loss: 0.0472 | val_ccc: 0.5197 | val_pcc: 0.6332\n"
     ]
    },
    {
     "name": "stderr",
     "output_type": "stream",
     "text": [
      " 90%|█████████ | 18/20 [23:49<02:38, 79.34s/it]\n"
     ]
    },
    {
     "name": "stdout",
     "output_type": "stream",
     "text": [
      "\u001b[36m(tune_cv_enet pid=4860)\u001b[0m Epoch: 18 | train_loss: 0.0241 | train_ccc: 0.8228 | train_pcc: 0.8355 | val_loss: 0.0495 | val_ccc: 0.4891 | val_pcc: 0.6128\n"
     ]
    },
    {
     "name": "stderr",
     "output_type": "stream",
     "text": [
      " 95%|█████████▌| 19/20 [25:08<01:19, 79.31s/it]\n"
     ]
    },
    {
     "name": "stdout",
     "output_type": "stream",
     "text": [
      "\u001b[36m(tune_cv_enet pid=4860)\u001b[0m Epoch: 19 | train_loss: 0.0256 | train_ccc: 0.8166 | train_pcc: 0.8298 | val_loss: 0.0478 | val_ccc: 0.5103 | val_pcc: 0.6190\n"
     ]
    },
    {
     "name": "stderr",
     "output_type": "stream",
     "text": [
      "100%|██████████| 20/20 [26:28<00:00, 79.44s/it]\n"
     ]
    },
    {
     "name": "stdout",
     "output_type": "stream",
     "text": [
      "\u001b[36m(tune_cv_enet pid=4860)\u001b[0m Epoch: 20 | train_loss: 0.0233 | train_ccc: 0.8299 | train_pcc: 0.8418 | val_loss: 0.0484 | val_ccc: 0.5094 | val_pcc: 0.6227\n",
      "\u001b[36m(tune_cv_enet pid=22860)\u001b[0m cuda\n",
      "\u001b[36m(tune_cv_enet pid=22860)\u001b[0m [INFO] Created SummaryWriter, saving to: C:\\local\\AIProject\\runs\\hp_tuning_cv\\pretrained_enet\\start_07-11-56\\2024-05-30_13-33-06...\n",
      "\u001b[36m(tune_cv_enet pid=22860)\u001b[0m \n",
      "\u001b[36m(tune_cv_enet pid=22860)\u001b[0m -------------------------------------------------------------------------\n",
      "\u001b[36m(tune_cv_enet pid=22860)\u001b[0m Size of the training set: 19803\n",
      "\u001b[36m(tune_cv_enet pid=22860)\u001b[0m Size of the validation set: 4915\n"
     ]
    },
    {
     "name": "stderr",
     "output_type": "stream",
     "text": [
      "  0%|          | 0/20 [00:00<?, ?it/s]\n"
     ]
    },
    {
     "name": "stdout",
     "output_type": "stream",
     "text": [
      "\u001b[36m(tune_cv_enet pid=22860)\u001b[0m [INFO] Created a new pretrained EfficientNet-B0 model.\n",
      "\u001b[36m(tune_cv_enet pid=22860)\u001b[0m Training results for fold_1:\n"
     ]
    },
    {
     "name": "stderr",
     "output_type": "stream",
     "text": [
      "  5%|▌         | 1/20 [01:22<26:16, 82.98s/it]\n"
     ]
    },
    {
     "name": "stdout",
     "output_type": "stream",
     "text": [
      "\u001b[36m(tune_cv_enet pid=22860)\u001b[0m Epoch: 1 | train_loss: 0.0739 | train_ccc: 0.4205 | train_pcc: 0.4329 | val_loss: 0.0633 | val_ccc: 0.3621 | val_pcc: 0.4466\n"
     ]
    },
    {
     "name": "stderr",
     "output_type": "stream",
     "text": [
      " 10%|█         | 2/20 [02:43<24:25, 81.42s/it]\n"
     ]
    },
    {
     "name": "stdout",
     "output_type": "stream",
     "text": [
      "\u001b[36m(tune_cv_enet pid=22860)\u001b[0m Epoch: 2 | train_loss: 0.0551 | train_ccc: 0.5747 | train_pcc: 0.5888 | val_loss: 0.0554 | val_ccc: 0.3972 | val_pcc: 0.4867\n"
     ]
    },
    {
     "name": "stderr",
     "output_type": "stream",
     "text": [
      " 15%|█▌        | 3/20 [04:03<22:57, 81.02s/it]\n"
     ]
    },
    {
     "name": "stdout",
     "output_type": "stream",
     "text": [
      "\u001b[36m(tune_cv_enet pid=22860)\u001b[0m Epoch: 3 | train_loss: 0.0505 | train_ccc: 0.6146 | train_pcc: 0.6288 | val_loss: 0.0565 | val_ccc: 0.4146 | val_pcc: 0.4961\n"
     ]
    },
    {
     "name": "stderr",
     "output_type": "stream",
     "text": [
      " 20%|██        | 4/20 [05:24<21:32, 80.77s/it]\n"
     ]
    },
    {
     "name": "stdout",
     "output_type": "stream",
     "text": [
      "\u001b[36m(tune_cv_enet pid=22860)\u001b[0m Epoch: 4 | train_loss: 0.0468 | train_ccc: 0.6495 | train_pcc: 0.6627 | val_loss: 0.0527 | val_ccc: 0.4262 | val_pcc: 0.5049\n"
     ]
    },
    {
     "name": "stderr",
     "output_type": "stream",
     "text": [
      " 25%|██▌       | 5/20 [06:44<20:09, 80.65s/it]\n"
     ]
    },
    {
     "name": "stdout",
     "output_type": "stream",
     "text": [
      "\u001b[36m(tune_cv_enet pid=22860)\u001b[0m Epoch: 5 | train_loss: 0.0444 | train_ccc: 0.6662 | train_pcc: 0.6805 | val_loss: 0.0493 | val_ccc: 0.4184 | val_pcc: 0.5051\n"
     ]
    },
    {
     "name": "stderr",
     "output_type": "stream",
     "text": [
      " 30%|███       | 6/20 [08:04<18:47, 80.53s/it]\n"
     ]
    },
    {
     "name": "stdout",
     "output_type": "stream",
     "text": [
      "\u001b[36m(tune_cv_enet pid=22860)\u001b[0m Epoch: 6 | train_loss: 0.0432 | train_ccc: 0.6727 | train_pcc: 0.6880 | val_loss: 0.0482 | val_ccc: 0.4115 | val_pcc: 0.5060\n"
     ]
    },
    {
     "name": "stderr",
     "output_type": "stream",
     "text": [
      " 35%|███▌      | 7/20 [09:25<17:28, 80.63s/it]\n"
     ]
    },
    {
     "name": "stdout",
     "output_type": "stream",
     "text": [
      "\u001b[36m(tune_cv_enet pid=22860)\u001b[0m Epoch: 7 | train_loss: 0.0419 | train_ccc: 0.6791 | train_pcc: 0.6964 | val_loss: 0.0505 | val_ccc: 0.4461 | val_pcc: 0.5159\n"
     ]
    },
    {
     "name": "stderr",
     "output_type": "stream",
     "text": [
      " 40%|████      | 8/20 [10:46<16:06, 80.52s/it]\n"
     ]
    },
    {
     "name": "stdout",
     "output_type": "stream",
     "text": [
      "\u001b[36m(tune_cv_enet pid=22860)\u001b[0m Epoch: 8 | train_loss: 0.0403 | train_ccc: 0.6909 | train_pcc: 0.7075 | val_loss: 0.0497 | val_ccc: 0.4373 | val_pcc: 0.5112\n"
     ]
    },
    {
     "name": "stderr",
     "output_type": "stream",
     "text": [
      " 45%|████▌     | 9/20 [12:06<14:46, 80.55s/it]\n"
     ]
    },
    {
     "name": "stdout",
     "output_type": "stream",
     "text": [
      "\u001b[36m(tune_cv_enet pid=22860)\u001b[0m Epoch: 9 | train_loss: 0.0396 | train_ccc: 0.6957 | train_pcc: 0.7129 | val_loss: 0.0484 | val_ccc: 0.4383 | val_pcc: 0.5161\n"
     ]
    },
    {
     "name": "stderr",
     "output_type": "stream",
     "text": [
      " 50%|█████     | 10/20 [13:26<13:23, 80.39s/it]\n"
     ]
    },
    {
     "name": "stdout",
     "output_type": "stream",
     "text": [
      "\u001b[36m(tune_cv_enet pid=22860)\u001b[0m Epoch: 10 | train_loss: 0.0390 | train_ccc: 0.7029 | train_pcc: 0.7194 | val_loss: 0.0492 | val_ccc: 0.4424 | val_pcc: 0.5177\n"
     ]
    },
    {
     "name": "stderr",
     "output_type": "stream",
     "text": [
      " 55%|█████▌    | 11/20 [14:47<12:03, 80.35s/it]\n"
     ]
    },
    {
     "name": "stdout",
     "output_type": "stream",
     "text": [
      "\u001b[36m(tune_cv_enet pid=22860)\u001b[0m Epoch: 11 | train_loss: 0.0386 | train_ccc: 0.7045 | train_pcc: 0.7231 | val_loss: 0.0485 | val_ccc: 0.4456 | val_pcc: 0.5214\n"
     ]
    },
    {
     "name": "stderr",
     "output_type": "stream",
     "text": [
      " 60%|██████    | 12/20 [16:07<10:44, 80.50s/it]\n"
     ]
    },
    {
     "name": "stdout",
     "output_type": "stream",
     "text": [
      "\u001b[36m(tune_cv_enet pid=22860)\u001b[0m Epoch: 12 | train_loss: 0.0381 | train_ccc: 0.7064 | train_pcc: 0.7240 | val_loss: 0.0486 | val_ccc: 0.4437 | val_pcc: 0.5189\n"
     ]
    },
    {
     "name": "stderr",
     "output_type": "stream",
     "text": [
      " 65%|██████▌   | 13/20 [17:28<09:23, 80.52s/it]\n"
     ]
    },
    {
     "name": "stdout",
     "output_type": "stream",
     "text": [
      "\u001b[36m(tune_cv_enet pid=22860)\u001b[0m Epoch: 13 | train_loss: 0.0384 | train_ccc: 0.7048 | train_pcc: 0.7224 | val_loss: 0.0475 | val_ccc: 0.4377 | val_pcc: 0.5212\n"
     ]
    },
    {
     "name": "stderr",
     "output_type": "stream",
     "text": [
      " 70%|███████   | 14/20 [18:48<08:02, 80.43s/it]\n"
     ]
    },
    {
     "name": "stdout",
     "output_type": "stream",
     "text": [
      "\u001b[36m(tune_cv_enet pid=22860)\u001b[0m Epoch: 14 | train_loss: 0.0374 | train_ccc: 0.7095 | train_pcc: 0.7296 | val_loss: 0.0496 | val_ccc: 0.4451 | val_pcc: 0.5209\n"
     ]
    },
    {
     "name": "stderr",
     "output_type": "stream",
     "text": [
      " 75%|███████▌  | 15/20 [20:08<06:41, 80.34s/it]\n"
     ]
    },
    {
     "name": "stdout",
     "output_type": "stream",
     "text": [
      "\u001b[36m(tune_cv_enet pid=22860)\u001b[0m Epoch: 15 | train_loss: 0.0375 | train_ccc: 0.7084 | train_pcc: 0.7274 | val_loss: 0.0538 | val_ccc: 0.4455 | val_pcc: 0.5156\n"
     ]
    },
    {
     "name": "stderr",
     "output_type": "stream",
     "text": [
      " 80%|████████  | 16/20 [21:29<05:21, 80.42s/it]\n"
     ]
    },
    {
     "name": "stdout",
     "output_type": "stream",
     "text": [
      "\u001b[36m(tune_cv_enet pid=22860)\u001b[0m Epoch: 16 | train_loss: 0.0375 | train_ccc: 0.7080 | train_pcc: 0.7273 | val_loss: 0.0472 | val_ccc: 0.4340 | val_pcc: 0.5212\n"
     ]
    },
    {
     "name": "stderr",
     "output_type": "stream",
     "text": [
      " 85%|████████▌ | 17/20 [22:49<04:01, 80.40s/it]\n"
     ]
    },
    {
     "name": "stdout",
     "output_type": "stream",
     "text": [
      "\u001b[36m(tune_cv_enet pid=22860)\u001b[0m Epoch: 17 | train_loss: 0.0367 | train_ccc: 0.7145 | train_pcc: 0.7338 | val_loss: 0.0479 | val_ccc: 0.4362 | val_pcc: 0.5188\n"
     ]
    },
    {
     "name": "stderr",
     "output_type": "stream",
     "text": [
      " 90%|█████████ | 18/20 [24:09<02:40, 80.33s/it]\n"
     ]
    },
    {
     "name": "stdout",
     "output_type": "stream",
     "text": [
      "\u001b[36m(tune_cv_enet pid=22860)\u001b[0m Epoch: 18 | train_loss: 0.0363 | train_ccc: 0.7122 | train_pcc: 0.7365 | val_loss: 0.0477 | val_ccc: 0.4288 | val_pcc: 0.5150\n"
     ]
    },
    {
     "name": "stderr",
     "output_type": "stream",
     "text": [
      " 95%|█████████▌| 19/20 [25:30<01:20, 80.27s/it]\n"
     ]
    },
    {
     "name": "stdout",
     "output_type": "stream",
     "text": [
      "\u001b[36m(tune_cv_enet pid=22860)\u001b[0m Epoch: 19 | train_loss: 0.0366 | train_ccc: 0.7164 | train_pcc: 0.7354 | val_loss: 0.0479 | val_ccc: 0.4340 | val_pcc: 0.5159\n"
     ]
    },
    {
     "name": "stderr",
     "output_type": "stream",
     "text": [
      "100%|██████████| 20/20 [26:50<00:00, 80.52s/it]\n",
      "  0%|          | 0/20 [00:00<?, ?it/s]\n"
     ]
    },
    {
     "name": "stdout",
     "output_type": "stream",
     "text": [
      "\u001b[36m(tune_cv_enet pid=22860)\u001b[0m Epoch: 20 | train_loss: 0.0363 | train_ccc: 0.7169 | train_pcc: 0.7370 | val_loss: 0.0490 | val_ccc: 0.4446 | val_pcc: 0.5221\n",
      "\u001b[36m(tune_cv_enet pid=22860)\u001b[0m \n",
      "\u001b[36m(tune_cv_enet pid=22860)\u001b[0m -------------------------------------------------------------------------\n",
      "\u001b[36m(tune_cv_enet pid=22860)\u001b[0m Size of the training set: 19703\n",
      "\u001b[36m(tune_cv_enet pid=22860)\u001b[0m Size of the validation set: 5015\n",
      "\u001b[36m(tune_cv_enet pid=22860)\u001b[0m [INFO] Created a new pretrained EfficientNet-B0 model.\n",
      "\u001b[36m(tune_cv_enet pid=22860)\u001b[0m Training results for fold_2:\n"
     ]
    },
    {
     "name": "stderr",
     "output_type": "stream",
     "text": [
      "  5%|▌         | 1/20 [01:19<25:14, 79.70s/it]\n"
     ]
    },
    {
     "name": "stdout",
     "output_type": "stream",
     "text": [
      "\u001b[36m(tune_cv_enet pid=22860)\u001b[0m Epoch: 1 | train_loss: 0.0766 | train_ccc: 0.3826 | train_pcc: 0.3979 | val_loss: 0.0549 | val_ccc: 0.3841 | val_pcc: 0.4996\n"
     ]
    },
    {
     "name": "stderr",
     "output_type": "stream",
     "text": [
      " 10%|█         | 2/20 [02:38<23:50, 79.45s/it]\n"
     ]
    },
    {
     "name": "stdout",
     "output_type": "stream",
     "text": [
      "\u001b[36m(tune_cv_enet pid=22860)\u001b[0m Epoch: 2 | train_loss: 0.0609 | train_ccc: 0.5271 | train_pcc: 0.5430 | val_loss: 0.0447 | val_ccc: 0.4398 | val_pcc: 0.5657\n"
     ]
    },
    {
     "name": "stderr",
     "output_type": "stream",
     "text": [
      " 15%|█▌        | 3/20 [03:58<22:29, 79.36s/it]\n"
     ]
    },
    {
     "name": "stdout",
     "output_type": "stream",
     "text": [
      "\u001b[36m(tune_cv_enet pid=22860)\u001b[0m Epoch: 3 | train_loss: 0.0554 | train_ccc: 0.5661 | train_pcc: 0.5837 | val_loss: 0.0421 | val_ccc: 0.4998 | val_pcc: 0.5962\n"
     ]
    },
    {
     "name": "stderr",
     "output_type": "stream",
     "text": [
      " 20%|██        | 4/20 [05:17<21:08, 79.31s/it]\n"
     ]
    },
    {
     "name": "stdout",
     "output_type": "stream",
     "text": [
      "\u001b[36m(tune_cv_enet pid=22860)\u001b[0m Epoch: 4 | train_loss: 0.0515 | train_ccc: 0.5981 | train_pcc: 0.6141 | val_loss: 0.0406 | val_ccc: 0.5317 | val_pcc: 0.6177\n"
     ]
    },
    {
     "name": "stderr",
     "output_type": "stream",
     "text": [
      " 25%|██▌       | 5/20 [06:36<19:49, 79.31s/it]\n"
     ]
    },
    {
     "name": "stdout",
     "output_type": "stream",
     "text": [
      "\u001b[36m(tune_cv_enet pid=22860)\u001b[0m Epoch: 5 | train_loss: 0.0487 | train_ccc: 0.6188 | train_pcc: 0.6356 | val_loss: 0.0394 | val_ccc: 0.5447 | val_pcc: 0.6282\n"
     ]
    },
    {
     "name": "stderr",
     "output_type": "stream",
     "text": [
      " 30%|███       | 6/20 [07:55<18:28, 79.20s/it]\n"
     ]
    },
    {
     "name": "stdout",
     "output_type": "stream",
     "text": [
      "\u001b[36m(tune_cv_enet pid=22860)\u001b[0m Epoch: 6 | train_loss: 0.0465 | train_ccc: 0.6346 | train_pcc: 0.6530 | val_loss: 0.0377 | val_ccc: 0.5553 | val_pcc: 0.6355\n"
     ]
    },
    {
     "name": "stderr",
     "output_type": "stream",
     "text": [
      " 35%|███▌      | 7/20 [09:14<17:09, 79.18s/it]\n"
     ]
    },
    {
     "name": "stdout",
     "output_type": "stream",
     "text": [
      "\u001b[36m(tune_cv_enet pid=22860)\u001b[0m Epoch: 7 | train_loss: 0.0441 | train_ccc: 0.6543 | train_pcc: 0.6737 | val_loss: 0.0392 | val_ccc: 0.5140 | val_pcc: 0.6178\n"
     ]
    },
    {
     "name": "stderr",
     "output_type": "stream",
     "text": [
      " 40%|████      | 8/20 [10:34<15:52, 79.39s/it]\n"
     ]
    },
    {
     "name": "stdout",
     "output_type": "stream",
     "text": [
      "\u001b[36m(tune_cv_enet pid=22860)\u001b[0m Epoch: 8 | train_loss: 0.0434 | train_ccc: 0.6570 | train_pcc: 0.6786 | val_loss: 0.0359 | val_ccc: 0.5560 | val_pcc: 0.6461\n"
     ]
    },
    {
     "name": "stderr",
     "output_type": "stream",
     "text": [
      " 45%|████▌     | 9/20 [11:54<14:33, 79.38s/it]\n"
     ]
    },
    {
     "name": "stdout",
     "output_type": "stream",
     "text": [
      "\u001b[36m(tune_cv_enet pid=22860)\u001b[0m Epoch: 9 | train_loss: 0.0426 | train_ccc: 0.6594 | train_pcc: 0.6826 | val_loss: 0.0380 | val_ccc: 0.5720 | val_pcc: 0.6392\n"
     ]
    },
    {
     "name": "stderr",
     "output_type": "stream",
     "text": [
      " 50%|█████     | 10/20 [13:13<13:14, 79.41s/it]\n"
     ]
    },
    {
     "name": "stdout",
     "output_type": "stream",
     "text": [
      "\u001b[36m(tune_cv_enet pid=22860)\u001b[0m Epoch: 10 | train_loss: 0.0424 | train_ccc: 0.6672 | train_pcc: 0.6890 | val_loss: 0.0375 | val_ccc: 0.5735 | val_pcc: 0.6432\n"
     ]
    },
    {
     "name": "stderr",
     "output_type": "stream",
     "text": [
      " 55%|█████▌    | 11/20 [14:32<11:54, 79.40s/it]\n"
     ]
    },
    {
     "name": "stdout",
     "output_type": "stream",
     "text": [
      "\u001b[36m(tune_cv_enet pid=22860)\u001b[0m Epoch: 11 | train_loss: 0.0416 | train_ccc: 0.6695 | train_pcc: 0.6904 | val_loss: 0.0362 | val_ccc: 0.5806 | val_pcc: 0.6520\n"
     ]
    },
    {
     "name": "stderr",
     "output_type": "stream",
     "text": [
      " 60%|██████    | 12/20 [15:52<10:36, 79.51s/it]\n"
     ]
    },
    {
     "name": "stdout",
     "output_type": "stream",
     "text": [
      "\u001b[36m(tune_cv_enet pid=22860)\u001b[0m Epoch: 12 | train_loss: 0.0411 | train_ccc: 0.6689 | train_pcc: 0.6934 | val_loss: 0.0350 | val_ccc: 0.5780 | val_pcc: 0.6560\n"
     ]
    },
    {
     "name": "stderr",
     "output_type": "stream",
     "text": [
      " 65%|██████▌   | 13/20 [17:12<09:17, 79.66s/it]\n"
     ]
    },
    {
     "name": "stdout",
     "output_type": "stream",
     "text": [
      "\u001b[36m(tune_cv_enet pid=22860)\u001b[0m Epoch: 13 | train_loss: 0.0402 | train_ccc: 0.6763 | train_pcc: 0.7002 | val_loss: 0.0343 | val_ccc: 0.5737 | val_pcc: 0.6579\n"
     ]
    },
    {
     "name": "stderr",
     "output_type": "stream",
     "text": [
      " 70%|███████   | 14/20 [18:32<07:57, 79.63s/it]\n"
     ]
    },
    {
     "name": "stdout",
     "output_type": "stream",
     "text": [
      "\u001b[36m(tune_cv_enet pid=22860)\u001b[0m Epoch: 14 | train_loss: 0.0403 | train_ccc: 0.6762 | train_pcc: 0.6998 | val_loss: 0.0341 | val_ccc: 0.5832 | val_pcc: 0.6601\n"
     ]
    },
    {
     "name": "stderr",
     "output_type": "stream",
     "text": [
      " 75%|███████▌  | 15/20 [19:51<06:37, 79.50s/it]\n"
     ]
    },
    {
     "name": "stdout",
     "output_type": "stream",
     "text": [
      "\u001b[36m(tune_cv_enet pid=22860)\u001b[0m Epoch: 15 | train_loss: 0.0403 | train_ccc: 0.6743 | train_pcc: 0.6998 | val_loss: 0.0358 | val_ccc: 0.5928 | val_pcc: 0.6538\n"
     ]
    },
    {
     "name": "stderr",
     "output_type": "stream",
     "text": [
      " 80%|████████  | 16/20 [21:11<05:18, 79.51s/it]\n"
     ]
    },
    {
     "name": "stdout",
     "output_type": "stream",
     "text": [
      "\u001b[36m(tune_cv_enet pid=22860)\u001b[0m Epoch: 16 | train_loss: 0.0399 | train_ccc: 0.6768 | train_pcc: 0.7022 | val_loss: 0.0389 | val_ccc: 0.5305 | val_pcc: 0.6284\n"
     ]
    },
    {
     "name": "stderr",
     "output_type": "stream",
     "text": [
      " 85%|████████▌ | 17/20 [22:29<03:57, 79.33s/it]\n"
     ]
    },
    {
     "name": "stdout",
     "output_type": "stream",
     "text": [
      "\u001b[36m(tune_cv_enet pid=22860)\u001b[0m Epoch: 17 | train_loss: 0.0407 | train_ccc: 0.6723 | train_pcc: 0.6983 | val_loss: 0.0352 | val_ccc: 0.5704 | val_pcc: 0.6509\n"
     ]
    },
    {
     "name": "stderr",
     "output_type": "stream",
     "text": [
      " 90%|█████████ | 18/20 [23:49<02:38, 79.36s/it]\n"
     ]
    },
    {
     "name": "stdout",
     "output_type": "stream",
     "text": [
      "\u001b[36m(tune_cv_enet pid=22860)\u001b[0m Epoch: 18 | train_loss: 0.0398 | train_ccc: 0.6817 | train_pcc: 0.7052 | val_loss: 0.0355 | val_ccc: 0.5650 | val_pcc: 0.6535\n"
     ]
    },
    {
     "name": "stderr",
     "output_type": "stream",
     "text": [
      " 95%|█████████▌| 19/20 [25:08<01:19, 79.32s/it]\n"
     ]
    },
    {
     "name": "stdout",
     "output_type": "stream",
     "text": [
      "\u001b[36m(tune_cv_enet pid=22860)\u001b[0m Epoch: 19 | train_loss: 0.0390 | train_ccc: 0.6838 | train_pcc: 0.7108 | val_loss: 0.0345 | val_ccc: 0.5800 | val_pcc: 0.6631\n"
     ]
    },
    {
     "name": "stderr",
     "output_type": "stream",
     "text": [
      "100%|██████████| 20/20 [26:28<00:00, 79.41s/it]\n",
      "  0%|          | 0/20 [00:00<?, ?it/s]\n"
     ]
    },
    {
     "name": "stdout",
     "output_type": "stream",
     "text": [
      "\u001b[36m(tune_cv_enet pid=22860)\u001b[0m Epoch: 20 | train_loss: 0.0391 | train_ccc: 0.6822 | train_pcc: 0.7081 | val_loss: 0.0353 | val_ccc: 0.5809 | val_pcc: 0.6532\n",
      "\u001b[36m(tune_cv_enet pid=22860)\u001b[0m \n",
      "\u001b[36m(tune_cv_enet pid=22860)\u001b[0m -------------------------------------------------------------------------\n",
      "\u001b[36m(tune_cv_enet pid=22860)\u001b[0m Size of the training set: 19826\n",
      "\u001b[36m(tune_cv_enet pid=22860)\u001b[0m Size of the validation set: 4892\n",
      "\u001b[36m(tune_cv_enet pid=22860)\u001b[0m [INFO] Created a new pretrained EfficientNet-B0 model.\n",
      "\u001b[36m(tune_cv_enet pid=22860)\u001b[0m Training results for fold_3:\n",
      "\u001b[36m(tune_cv_enet pid=22860)\u001b[0m Epoch: 1 | train_loss: 0.0761 | train_ccc: 0.4290 | train_pcc: 0.4397 | val_loss: 0.0575 | val_ccc: 0.3025 | val_pcc: 0.3627\n"
     ]
    },
    {
     "name": "stderr",
     "output_type": "stream",
     "text": [
      "  5%|▌         | 1/20 [01:19<25:07, 79.33s/it]\n",
      " 10%|█         | 2/20 [02:38<23:44, 79.14s/it]\n"
     ]
    },
    {
     "name": "stdout",
     "output_type": "stream",
     "text": [
      "\u001b[36m(tune_cv_enet pid=22860)\u001b[0m Epoch: 2 | train_loss: 0.0559 | train_ccc: 0.5792 | train_pcc: 0.5956 | val_loss: 0.0536 | val_ccc: 0.3281 | val_pcc: 0.3947\n"
     ]
    },
    {
     "name": "stderr",
     "output_type": "stream",
     "text": [
      " 15%|█▌        | 3/20 [03:57<22:24, 79.06s/it]\n"
     ]
    },
    {
     "name": "stdout",
     "output_type": "stream",
     "text": [
      "\u001b[36m(tune_cv_enet pid=22860)\u001b[0m Epoch: 3 | train_loss: 0.0511 | train_ccc: 0.6280 | train_pcc: 0.6415 | val_loss: 0.0493 | val_ccc: 0.3362 | val_pcc: 0.4127\n"
     ]
    },
    {
     "name": "stderr",
     "output_type": "stream",
     "text": [
      " 20%|██        | 4/20 [05:16<21:03, 78.98s/it]\n"
     ]
    },
    {
     "name": "stdout",
     "output_type": "stream",
     "text": [
      "\u001b[36m(tune_cv_enet pid=22860)\u001b[0m Epoch: 4 | train_loss: 0.0468 | train_ccc: 0.6582 | train_pcc: 0.6720 | val_loss: 0.0496 | val_ccc: 0.3498 | val_pcc: 0.4276\n"
     ]
    },
    {
     "name": "stderr",
     "output_type": "stream",
     "text": [
      " 25%|██▌       | 5/20 [06:35<19:46, 79.08s/it]\n"
     ]
    },
    {
     "name": "stdout",
     "output_type": "stream",
     "text": [
      "\u001b[36m(tune_cv_enet pid=22860)\u001b[0m Epoch: 5 | train_loss: 0.0454 | train_ccc: 0.6714 | train_pcc: 0.6850 | val_loss: 0.0473 | val_ccc: 0.3463 | val_pcc: 0.4317\n"
     ]
    },
    {
     "name": "stderr",
     "output_type": "stream",
     "text": [
      " 30%|███       | 6/20 [07:54<18:25, 78.98s/it]\n"
     ]
    },
    {
     "name": "stdout",
     "output_type": "stream",
     "text": [
      "\u001b[36m(tune_cv_enet pid=22860)\u001b[0m Epoch: 6 | train_loss: 0.0427 | train_ccc: 0.6889 | train_pcc: 0.7024 | val_loss: 0.0473 | val_ccc: 0.3589 | val_pcc: 0.4430\n"
     ]
    },
    {
     "name": "stderr",
     "output_type": "stream",
     "text": [
      " 35%|███▌      | 7/20 [09:12<17:05, 78.87s/it]\n"
     ]
    },
    {
     "name": "stdout",
     "output_type": "stream",
     "text": [
      "\u001b[36m(tune_cv_enet pid=22860)\u001b[0m Epoch: 7 | train_loss: 0.0416 | train_ccc: 0.6936 | train_pcc: 0.7084 | val_loss: 0.0480 | val_ccc: 0.3630 | val_pcc: 0.4440\n"
     ]
    },
    {
     "name": "stderr",
     "output_type": "stream",
     "text": [
      " 40%|████      | 8/20 [10:31<15:47, 78.93s/it]\n"
     ]
    },
    {
     "name": "stdout",
     "output_type": "stream",
     "text": [
      "\u001b[36m(tune_cv_enet pid=22860)\u001b[0m Epoch: 8 | train_loss: 0.0401 | train_ccc: 0.7063 | train_pcc: 0.7215 | val_loss: 0.0456 | val_ccc: 0.3673 | val_pcc: 0.4520\n"
     ]
    },
    {
     "name": "stderr",
     "output_type": "stream",
     "text": [
      " 45%|████▌     | 9/20 [11:50<14:28, 78.94s/it]\n"
     ]
    },
    {
     "name": "stdout",
     "output_type": "stream",
     "text": [
      "\u001b[36m(tune_cv_enet pid=22860)\u001b[0m Epoch: 9 | train_loss: 0.0402 | train_ccc: 0.7054 | train_pcc: 0.7204 | val_loss: 0.0459 | val_ccc: 0.3713 | val_pcc: 0.4540\n"
     ]
    },
    {
     "name": "stderr",
     "output_type": "stream",
     "text": [
      " 50%|█████     | 10/20 [13:09<13:09, 78.95s/it]\n"
     ]
    },
    {
     "name": "stdout",
     "output_type": "stream",
     "text": [
      "\u001b[36m(tune_cv_enet pid=22860)\u001b[0m Epoch: 10 | train_loss: 0.0389 | train_ccc: 0.7135 | train_pcc: 0.7296 | val_loss: 0.0488 | val_ccc: 0.3746 | val_pcc: 0.4538\n"
     ]
    },
    {
     "name": "stderr",
     "output_type": "stream",
     "text": [
      " 55%|█████▌    | 11/20 [14:28<11:49, 78.89s/it]\n"
     ]
    },
    {
     "name": "stdout",
     "output_type": "stream",
     "text": [
      "\u001b[36m(tune_cv_enet pid=22860)\u001b[0m Epoch: 11 | train_loss: 0.0387 | train_ccc: 0.7139 | train_pcc: 0.7303 | val_loss: 0.0463 | val_ccc: 0.3718 | val_pcc: 0.4547\n"
     ]
    },
    {
     "name": "stderr",
     "output_type": "stream",
     "text": [
      " 60%|██████    | 12/20 [15:47<10:30, 78.84s/it]\n"
     ]
    },
    {
     "name": "stdout",
     "output_type": "stream",
     "text": [
      "\u001b[36m(tune_cv_enet pid=22860)\u001b[0m Epoch: 12 | train_loss: 0.0377 | train_ccc: 0.7228 | train_pcc: 0.7379 | val_loss: 0.0456 | val_ccc: 0.3670 | val_pcc: 0.4554\n"
     ]
    },
    {
     "name": "stderr",
     "output_type": "stream",
     "text": [
      " 65%|██████▌   | 13/20 [17:06<09:12, 78.87s/it]\n"
     ]
    },
    {
     "name": "stdout",
     "output_type": "stream",
     "text": [
      "\u001b[36m(tune_cv_enet pid=22860)\u001b[0m Epoch: 13 | train_loss: 0.0375 | train_ccc: 0.7203 | train_pcc: 0.7388 | val_loss: 0.0449 | val_ccc: 0.3715 | val_pcc: 0.4604\n"
     ]
    },
    {
     "name": "stderr",
     "output_type": "stream",
     "text": [
      " 70%|███████   | 14/20 [18:24<07:52, 78.81s/it]\n"
     ]
    },
    {
     "name": "stdout",
     "output_type": "stream",
     "text": [
      "\u001b[36m(tune_cv_enet pid=22860)\u001b[0m Epoch: 14 | train_loss: 0.0371 | train_ccc: 0.7209 | train_pcc: 0.7389 | val_loss: 0.0454 | val_ccc: 0.3799 | val_pcc: 0.4629\n"
     ]
    },
    {
     "name": "stderr",
     "output_type": "stream",
     "text": [
      " 75%|███████▌  | 15/20 [19:44<06:34, 78.95s/it]\n"
     ]
    },
    {
     "name": "stdout",
     "output_type": "stream",
     "text": [
      "\u001b[36m(tune_cv_enet pid=22860)\u001b[0m Epoch: 15 | train_loss: 0.0372 | train_ccc: 0.7198 | train_pcc: 0.7398 | val_loss: 0.0456 | val_ccc: 0.3752 | val_pcc: 0.4586\n"
     ]
    },
    {
     "name": "stderr",
     "output_type": "stream",
     "text": [
      " 80%|████████  | 16/20 [21:02<05:15, 78.86s/it]\n"
     ]
    },
    {
     "name": "stdout",
     "output_type": "stream",
     "text": [
      "\u001b[36m(tune_cv_enet pid=22860)\u001b[0m Epoch: 16 | train_loss: 0.0371 | train_ccc: 0.7212 | train_pcc: 0.7405 | val_loss: 0.0452 | val_ccc: 0.3572 | val_pcc: 0.4543\n"
     ]
    },
    {
     "name": "stderr",
     "output_type": "stream",
     "text": [
      " 85%|████████▌ | 17/20 [22:21<03:56, 78.87s/it]\n"
     ]
    },
    {
     "name": "stdout",
     "output_type": "stream",
     "text": [
      "\u001b[36m(tune_cv_enet pid=22860)\u001b[0m Epoch: 17 | train_loss: 0.0371 | train_ccc: 0.7216 | train_pcc: 0.7412 | val_loss: 0.0462 | val_ccc: 0.3756 | val_pcc: 0.4568\n"
     ]
    },
    {
     "name": "stderr",
     "output_type": "stream",
     "text": [
      " 90%|█████████ | 18/20 [23:40<02:37, 78.97s/it]\n"
     ]
    },
    {
     "name": "stdout",
     "output_type": "stream",
     "text": [
      "\u001b[36m(tune_cv_enet pid=22860)\u001b[0m Epoch: 18 | train_loss: 0.0366 | train_ccc: 0.7272 | train_pcc: 0.7453 | val_loss: 0.0453 | val_ccc: 0.3783 | val_pcc: 0.4613\n"
     ]
    },
    {
     "name": "stderr",
     "output_type": "stream",
     "text": [
      " 95%|█████████▌| 19/20 [24:59<01:18, 78.88s/it]\n"
     ]
    },
    {
     "name": "stdout",
     "output_type": "stream",
     "text": [
      "\u001b[36m(tune_cv_enet pid=22860)\u001b[0m Epoch: 19 | train_loss: 0.0375 | train_ccc: 0.7165 | train_pcc: 0.7373 | val_loss: 0.0445 | val_ccc: 0.3747 | val_pcc: 0.4625\n"
     ]
    },
    {
     "name": "stderr",
     "output_type": "stream",
     "text": [
      "100%|██████████| 20/20 [26:18<00:00, 78.93s/it]\n",
      "  0%|          | 0/20 [00:00<?, ?it/s]\n"
     ]
    },
    {
     "name": "stdout",
     "output_type": "stream",
     "text": [
      "\u001b[36m(tune_cv_enet pid=22860)\u001b[0m Epoch: 20 | train_loss: 0.0365 | train_ccc: 0.7248 | train_pcc: 0.7439 | val_loss: 0.0444 | val_ccc: 0.3721 | val_pcc: 0.4614\n",
      "\u001b[36m(tune_cv_enet pid=22860)\u001b[0m \n",
      "\u001b[36m(tune_cv_enet pid=22860)\u001b[0m -------------------------------------------------------------------------\n",
      "\u001b[36m(tune_cv_enet pid=22860)\u001b[0m Size of the training set: 19667\n",
      "\u001b[36m(tune_cv_enet pid=22860)\u001b[0m Size of the validation set: 5051\n",
      "\u001b[36m(tune_cv_enet pid=22860)\u001b[0m [INFO] Created a new pretrained EfficientNet-B0 model.\n",
      "\u001b[36m(tune_cv_enet pid=22860)\u001b[0m Training results for fold_4:\n"
     ]
    },
    {
     "name": "stderr",
     "output_type": "stream",
     "text": [
      "  5%|▌         | 1/20 [01:19<25:07, 79.32s/it]\n"
     ]
    },
    {
     "name": "stdout",
     "output_type": "stream",
     "text": [
      "\u001b[36m(tune_cv_enet pid=22860)\u001b[0m Epoch: 1 | train_loss: 0.0783 | train_ccc: 0.4038 | train_pcc: 0.4185 | val_loss: 0.0579 | val_ccc: 0.3733 | val_pcc: 0.4622\n"
     ]
    },
    {
     "name": "stderr",
     "output_type": "stream",
     "text": [
      " 10%|█         | 2/20 [02:39<23:53, 79.62s/it]\n"
     ]
    },
    {
     "name": "stdout",
     "output_type": "stream",
     "text": [
      "\u001b[36m(tune_cv_enet pid=22860)\u001b[0m Epoch: 2 | train_loss: 0.0580 | train_ccc: 0.5701 | train_pcc: 0.5840 | val_loss: 0.0544 | val_ccc: 0.3876 | val_pcc: 0.5000\n"
     ]
    },
    {
     "name": "stderr",
     "output_type": "stream",
     "text": [
      " 15%|█▌        | 3/20 [03:58<22:31, 79.52s/it]\n"
     ]
    },
    {
     "name": "stdout",
     "output_type": "stream",
     "text": [
      "\u001b[36m(tune_cv_enet pid=22860)\u001b[0m Epoch: 3 | train_loss: 0.0528 | train_ccc: 0.6092 | train_pcc: 0.6233 | val_loss: 0.0523 | val_ccc: 0.4424 | val_pcc: 0.5572\n"
     ]
    },
    {
     "name": "stderr",
     "output_type": "stream",
     "text": [
      " 20%|██        | 4/20 [05:17<21:09, 79.35s/it]\n"
     ]
    },
    {
     "name": "stdout",
     "output_type": "stream",
     "text": [
      "\u001b[36m(tune_cv_enet pid=22860)\u001b[0m Epoch: 4 | train_loss: 0.0482 | train_ccc: 0.6464 | train_pcc: 0.6597 | val_loss: 0.0509 | val_ccc: 0.4476 | val_pcc: 0.5689\n"
     ]
    },
    {
     "name": "stderr",
     "output_type": "stream",
     "text": [
      " 25%|██▌       | 5/20 [06:37<19:51, 79.43s/it]\n"
     ]
    },
    {
     "name": "stdout",
     "output_type": "stream",
     "text": [
      "\u001b[36m(tune_cv_enet pid=22860)\u001b[0m Epoch: 5 | train_loss: 0.0459 | train_ccc: 0.6606 | train_pcc: 0.6754 | val_loss: 0.0513 | val_ccc: 0.4735 | val_pcc: 0.5874\n"
     ]
    },
    {
     "name": "stderr",
     "output_type": "stream",
     "text": [
      " 30%|███       | 6/20 [07:56<18:29, 79.25s/it]\n"
     ]
    },
    {
     "name": "stdout",
     "output_type": "stream",
     "text": [
      "\u001b[36m(tune_cv_enet pid=22860)\u001b[0m Epoch: 6 | train_loss: 0.0428 | train_ccc: 0.6810 | train_pcc: 0.6961 | val_loss: 0.0496 | val_ccc: 0.4735 | val_pcc: 0.5886\n"
     ]
    },
    {
     "name": "stderr",
     "output_type": "stream",
     "text": [
      " 35%|███▌      | 7/20 [09:15<17:12, 79.42s/it]\n"
     ]
    },
    {
     "name": "stdout",
     "output_type": "stream",
     "text": [
      "\u001b[36m(tune_cv_enet pid=22860)\u001b[0m Epoch: 7 | train_loss: 0.0422 | train_ccc: 0.6874 | train_pcc: 0.7033 | val_loss: 0.0481 | val_ccc: 0.4754 | val_pcc: 0.5924\n"
     ]
    },
    {
     "name": "stderr",
     "output_type": "stream",
     "text": [
      " 40%|████      | 8/20 [10:35<15:52, 79.40s/it]\n"
     ]
    },
    {
     "name": "stdout",
     "output_type": "stream",
     "text": [
      "\u001b[36m(tune_cv_enet pid=22860)\u001b[0m Epoch: 8 | train_loss: 0.0417 | train_ccc: 0.6918 | train_pcc: 0.7089 | val_loss: 0.0486 | val_ccc: 0.4841 | val_pcc: 0.5979\n"
     ]
    },
    {
     "name": "stderr",
     "output_type": "stream",
     "text": [
      " 45%|████▌     | 9/20 [11:55<14:34, 79.52s/it]\n"
     ]
    },
    {
     "name": "stdout",
     "output_type": "stream",
     "text": [
      "\u001b[36m(tune_cv_enet pid=22860)\u001b[0m Epoch: 9 | train_loss: 0.0397 | train_ccc: 0.6999 | train_pcc: 0.7175 | val_loss: 0.0477 | val_ccc: 0.4842 | val_pcc: 0.5968\n"
     ]
    },
    {
     "name": "stderr",
     "output_type": "stream",
     "text": [
      " 50%|█████     | 10/20 [13:14<13:15, 79.55s/it]\n"
     ]
    },
    {
     "name": "stdout",
     "output_type": "stream",
     "text": [
      "\u001b[36m(tune_cv_enet pid=22860)\u001b[0m Epoch: 10 | train_loss: 0.0392 | train_ccc: 0.7036 | train_pcc: 0.7225 | val_loss: 0.0482 | val_ccc: 0.4827 | val_pcc: 0.5963\n"
     ]
    },
    {
     "name": "stderr",
     "output_type": "stream",
     "text": [
      " 55%|█████▌    | 11/20 [14:33<11:54, 79.37s/it]\n"
     ]
    },
    {
     "name": "stdout",
     "output_type": "stream",
     "text": [
      "\u001b[36m(tune_cv_enet pid=22860)\u001b[0m Epoch: 11 | train_loss: 0.0391 | train_ccc: 0.7046 | train_pcc: 0.7230 | val_loss: 0.0476 | val_ccc: 0.4768 | val_pcc: 0.5931\n"
     ]
    },
    {
     "name": "stderr",
     "output_type": "stream",
     "text": [
      " 60%|██████    | 12/20 [15:53<10:35, 79.42s/it]\n"
     ]
    },
    {
     "name": "stdout",
     "output_type": "stream",
     "text": [
      "\u001b[36m(tune_cv_enet pid=22860)\u001b[0m Epoch: 12 | train_loss: 0.0382 | train_ccc: 0.7087 | train_pcc: 0.7292 | val_loss: 0.0486 | val_ccc: 0.4840 | val_pcc: 0.6005\n"
     ]
    },
    {
     "name": "stderr",
     "output_type": "stream",
     "text": [
      " 65%|██████▌   | 13/20 [17:12<09:15, 79.36s/it]\n"
     ]
    },
    {
     "name": "stdout",
     "output_type": "stream",
     "text": [
      "\u001b[36m(tune_cv_enet pid=22860)\u001b[0m Epoch: 13 | train_loss: 0.0377 | train_ccc: 0.7114 | train_pcc: 0.7325 | val_loss: 0.0470 | val_ccc: 0.4735 | val_pcc: 0.5957\n"
     ]
    },
    {
     "name": "stderr",
     "output_type": "stream",
     "text": [
      " 70%|███████   | 14/20 [18:31<07:55, 79.33s/it]\n"
     ]
    },
    {
     "name": "stdout",
     "output_type": "stream",
     "text": [
      "\u001b[36m(tune_cv_enet pid=22860)\u001b[0m Epoch: 14 | train_loss: 0.0376 | train_ccc: 0.7109 | train_pcc: 0.7325 | val_loss: 0.0485 | val_ccc: 0.4926 | val_pcc: 0.6007\n"
     ]
    },
    {
     "name": "stderr",
     "output_type": "stream",
     "text": [
      " 75%|███████▌  | 15/20 [19:51<06:37, 79.59s/it]\n"
     ]
    },
    {
     "name": "stdout",
     "output_type": "stream",
     "text": [
      "\u001b[36m(tune_cv_enet pid=22860)\u001b[0m Epoch: 15 | train_loss: 0.0376 | train_ccc: 0.7147 | train_pcc: 0.7341 | val_loss: 0.0483 | val_ccc: 0.4829 | val_pcc: 0.5980\n"
     ]
    },
    {
     "name": "stderr",
     "output_type": "stream",
     "text": [
      " 80%|████████  | 16/20 [21:11<05:18, 79.55s/it]\n"
     ]
    },
    {
     "name": "stdout",
     "output_type": "stream",
     "text": [
      "\u001b[36m(tune_cv_enet pid=22860)\u001b[0m Epoch: 16 | train_loss: 0.0377 | train_ccc: 0.7129 | train_pcc: 0.7336 | val_loss: 0.0470 | val_ccc: 0.4853 | val_pcc: 0.6010\n"
     ]
    },
    {
     "name": "stderr",
     "output_type": "stream",
     "text": [
      " 85%|████████▌ | 17/20 [22:31<03:58, 79.65s/it]\n"
     ]
    },
    {
     "name": "stdout",
     "output_type": "stream",
     "text": [
      "\u001b[36m(tune_cv_enet pid=22860)\u001b[0m Epoch: 17 | train_loss: 0.0373 | train_ccc: 0.7131 | train_pcc: 0.7356 | val_loss: 0.0476 | val_ccc: 0.4843 | val_pcc: 0.5984\n"
     ]
    },
    {
     "name": "stderr",
     "output_type": "stream",
     "text": [
      " 90%|█████████ | 18/20 [23:50<02:39, 79.65s/it]\n"
     ]
    },
    {
     "name": "stdout",
     "output_type": "stream",
     "text": [
      "\u001b[36m(tune_cv_enet pid=22860)\u001b[0m Epoch: 18 | train_loss: 0.0375 | train_ccc: 0.7168 | train_pcc: 0.7359 | val_loss: 0.0481 | val_ccc: 0.4898 | val_pcc: 0.6023\n"
     ]
    },
    {
     "name": "stderr",
     "output_type": "stream",
     "text": [
      " 95%|█████████▌| 19/20 [25:10<01:19, 79.71s/it]\n"
     ]
    },
    {
     "name": "stdout",
     "output_type": "stream",
     "text": [
      "\u001b[36m(tune_cv_enet pid=22860)\u001b[0m Epoch: 19 | train_loss: 0.0365 | train_ccc: 0.7205 | train_pcc: 0.7420 | val_loss: 0.0460 | val_ccc: 0.4728 | val_pcc: 0.5935\n"
     ]
    },
    {
     "name": "stderr",
     "output_type": "stream",
     "text": [
      "100%|██████████| 20/20 [26:30<00:00, 79.55s/it]\n",
      "  0%|          | 0/20 [00:00<?, ?it/s]\n"
     ]
    },
    {
     "name": "stdout",
     "output_type": "stream",
     "text": [
      "\u001b[36m(tune_cv_enet pid=22860)\u001b[0m Epoch: 20 | train_loss: 0.0366 | train_ccc: 0.7187 | train_pcc: 0.7402 | val_loss: 0.0470 | val_ccc: 0.4877 | val_pcc: 0.6020\n",
      "\u001b[36m(tune_cv_enet pid=22860)\u001b[0m \n",
      "\u001b[36m(tune_cv_enet pid=22860)\u001b[0m -------------------------------------------------------------------------\n",
      "\u001b[36m(tune_cv_enet pid=22860)\u001b[0m Size of the training set: 19873\n",
      "\u001b[36m(tune_cv_enet pid=22860)\u001b[0m Size of the validation set: 4845\n",
      "\u001b[36m(tune_cv_enet pid=22860)\u001b[0m [INFO] Created a new pretrained EfficientNet-B0 model.\n",
      "\u001b[36m(tune_cv_enet pid=22860)\u001b[0m Training results for fold_5:\n"
     ]
    },
    {
     "name": "stderr",
     "output_type": "stream",
     "text": [
      "  5%|▌         | 1/20 [01:19<25:09, 79.44s/it]\n"
     ]
    },
    {
     "name": "stdout",
     "output_type": "stream",
     "text": [
      "\u001b[36m(tune_cv_enet pid=22860)\u001b[0m Epoch: 1 | train_loss: 0.0773 | train_ccc: 0.3953 | train_pcc: 0.4087 | val_loss: 0.0557 | val_ccc: 0.4137 | val_pcc: 0.5371\n"
     ]
    },
    {
     "name": "stderr",
     "output_type": "stream",
     "text": [
      " 10%|█         | 2/20 [02:38<23:48, 79.35s/it]\n"
     ]
    },
    {
     "name": "stdout",
     "output_type": "stream",
     "text": [
      "\u001b[36m(tune_cv_enet pid=22860)\u001b[0m Epoch: 2 | train_loss: 0.0573 | train_ccc: 0.5550 | train_pcc: 0.5710 | val_loss: 0.0479 | val_ccc: 0.4504 | val_pcc: 0.5866\n",
      "\u001b[36m(tune_cv_enet pid=22860)\u001b[0m Epoch: 3 | train_loss: 0.0521 | train_ccc: 0.6007 | train_pcc: 0.6168 | val_loss: 0.0473 | val_ccc: 0.4653 | val_pcc: 0.5922\n"
     ]
    },
    {
     "name": "stderr",
     "output_type": "stream",
     "text": [
      " 15%|█▌        | 3/20 [03:57<22:27, 79.25s/it]\n",
      " 20%|██        | 4/20 [05:17<21:09, 79.36s/it]\n"
     ]
    },
    {
     "name": "stdout",
     "output_type": "stream",
     "text": [
      "\u001b[36m(tune_cv_enet pid=22860)\u001b[0m Epoch: 4 | train_loss: 0.0484 | train_ccc: 0.6304 | train_pcc: 0.6462 | val_loss: 0.0467 | val_ccc: 0.4501 | val_pcc: 0.6123\n"
     ]
    },
    {
     "name": "stderr",
     "output_type": "stream",
     "text": [
      " 25%|██▌       | 5/20 [06:37<19:51, 79.46s/it]\n"
     ]
    },
    {
     "name": "stdout",
     "output_type": "stream",
     "text": [
      "\u001b[36m(tune_cv_enet pid=22860)\u001b[0m Epoch: 5 | train_loss: 0.0458 | train_ccc: 0.6507 | train_pcc: 0.6665 | val_loss: 0.0460 | val_ccc: 0.4646 | val_pcc: 0.6105\n"
     ]
    },
    {
     "name": "stderr",
     "output_type": "stream",
     "text": [
      " 30%|███       | 6/20 [07:56<18:34, 79.60s/it]\n"
     ]
    },
    {
     "name": "stdout",
     "output_type": "stream",
     "text": [
      "\u001b[36m(tune_cv_enet pid=22860)\u001b[0m Epoch: 6 | train_loss: 0.0439 | train_ccc: 0.6635 | train_pcc: 0.6807 | val_loss: 0.0479 | val_ccc: 0.4819 | val_pcc: 0.5947\n"
     ]
    },
    {
     "name": "stderr",
     "output_type": "stream",
     "text": [
      " 35%|███▌      | 7/20 [09:16<17:14, 79.58s/it]\n"
     ]
    },
    {
     "name": "stdout",
     "output_type": "stream",
     "text": [
      "\u001b[36m(tune_cv_enet pid=22860)\u001b[0m Epoch: 7 | train_loss: 0.0430 | train_ccc: 0.6741 | train_pcc: 0.6902 | val_loss: 0.0452 | val_ccc: 0.4797 | val_pcc: 0.6310\n"
     ]
    },
    {
     "name": "stderr",
     "output_type": "stream",
     "text": [
      " 40%|████      | 8/20 [10:35<15:52, 79.37s/it]\n"
     ]
    },
    {
     "name": "stdout",
     "output_type": "stream",
     "text": [
      "\u001b[36m(tune_cv_enet pid=22860)\u001b[0m Epoch: 8 | train_loss: 0.0413 | train_ccc: 0.6801 | train_pcc: 0.6981 | val_loss: 0.0463 | val_ccc: 0.4671 | val_pcc: 0.6247\n"
     ]
    },
    {
     "name": "stderr",
     "output_type": "stream",
     "text": [
      " 45%|████▌     | 9/20 [11:55<14:34, 79.47s/it]\n"
     ]
    },
    {
     "name": "stdout",
     "output_type": "stream",
     "text": [
      "\u001b[36m(tune_cv_enet pid=22860)\u001b[0m Epoch: 9 | train_loss: 0.0407 | train_ccc: 0.6872 | train_pcc: 0.7047 | val_loss: 0.0452 | val_ccc: 0.4832 | val_pcc: 0.6312\n"
     ]
    },
    {
     "name": "stderr",
     "output_type": "stream",
     "text": [
      " 50%|█████     | 10/20 [13:14<13:14, 79.42s/it]\n"
     ]
    },
    {
     "name": "stdout",
     "output_type": "stream",
     "text": [
      "\u001b[36m(tune_cv_enet pid=22860)\u001b[0m Epoch: 10 | train_loss: 0.0396 | train_ccc: 0.6937 | train_pcc: 0.7120 | val_loss: 0.0450 | val_ccc: 0.4916 | val_pcc: 0.6227\n"
     ]
    },
    {
     "name": "stderr",
     "output_type": "stream",
     "text": [
      " 55%|█████▌    | 11/20 [14:33<11:55, 79.45s/it]\n"
     ]
    },
    {
     "name": "stdout",
     "output_type": "stream",
     "text": [
      "\u001b[36m(tune_cv_enet pid=22860)\u001b[0m Epoch: 11 | train_loss: 0.0396 | train_ccc: 0.6939 | train_pcc: 0.7122 | val_loss: 0.0449 | val_ccc: 0.4857 | val_pcc: 0.6250\n"
     ]
    },
    {
     "name": "stderr",
     "output_type": "stream",
     "text": [
      " 60%|██████    | 12/20 [15:53<10:36, 79.60s/it]\n"
     ]
    },
    {
     "name": "stdout",
     "output_type": "stream",
     "text": [
      "\u001b[36m(tune_cv_enet pid=22860)\u001b[0m Epoch: 12 | train_loss: 0.0387 | train_ccc: 0.6983 | train_pcc: 0.7186 | val_loss: 0.0482 | val_ccc: 0.4872 | val_pcc: 0.6034\n"
     ]
    },
    {
     "name": "stderr",
     "output_type": "stream",
     "text": [
      " 65%|██████▌   | 13/20 [17:13<09:16, 79.52s/it]\n"
     ]
    },
    {
     "name": "stdout",
     "output_type": "stream",
     "text": [
      "\u001b[36m(tune_cv_enet pid=22860)\u001b[0m Epoch: 13 | train_loss: 0.0384 | train_ccc: 0.6993 | train_pcc: 0.7198 | val_loss: 0.0448 | val_ccc: 0.4945 | val_pcc: 0.6370\n"
     ]
    },
    {
     "name": "stderr",
     "output_type": "stream",
     "text": [
      " 70%|███████   | 14/20 [18:32<07:56, 79.49s/it]\n"
     ]
    },
    {
     "name": "stdout",
     "output_type": "stream",
     "text": [
      "\u001b[36m(tune_cv_enet pid=22860)\u001b[0m Epoch: 14 | train_loss: 0.0379 | train_ccc: 0.7036 | train_pcc: 0.7235 | val_loss: 0.0468 | val_ccc: 0.4947 | val_pcc: 0.6127\n"
     ]
    },
    {
     "name": "stderr",
     "output_type": "stream",
     "text": [
      " 75%|███████▌  | 15/20 [19:51<06:36, 79.37s/it]\n"
     ]
    },
    {
     "name": "stdout",
     "output_type": "stream",
     "text": [
      "\u001b[36m(tune_cv_enet pid=22860)\u001b[0m Epoch: 15 | train_loss: 0.0385 | train_ccc: 0.7004 | train_pcc: 0.7205 | val_loss: 0.0457 | val_ccc: 0.4892 | val_pcc: 0.6260\n"
     ]
    },
    {
     "name": "stderr",
     "output_type": "stream",
     "text": [
      " 80%|████████  | 16/20 [21:11<05:17, 79.39s/it]\n"
     ]
    },
    {
     "name": "stdout",
     "output_type": "stream",
     "text": [
      "\u001b[36m(tune_cv_enet pid=22860)\u001b[0m Epoch: 16 | train_loss: 0.0378 | train_ccc: 0.7032 | train_pcc: 0.7246 | val_loss: 0.0456 | val_ccc: 0.4814 | val_pcc: 0.6324\n"
     ]
    },
    {
     "name": "stderr",
     "output_type": "stream",
     "text": [
      " 85%|████████▌ | 17/20 [22:30<03:58, 79.34s/it]\n"
     ]
    },
    {
     "name": "stdout",
     "output_type": "stream",
     "text": [
      "\u001b[36m(tune_cv_enet pid=22860)\u001b[0m Epoch: 17 | train_loss: 0.0381 | train_ccc: 0.7028 | train_pcc: 0.7223 | val_loss: 0.0452 | val_ccc: 0.4823 | val_pcc: 0.6334\n"
     ]
    },
    {
     "name": "stderr",
     "output_type": "stream",
     "text": [
      " 90%|█████████ | 18/20 [23:49<02:38, 79.34s/it]\n"
     ]
    },
    {
     "name": "stdout",
     "output_type": "stream",
     "text": [
      "\u001b[36m(tune_cv_enet pid=22860)\u001b[0m Epoch: 18 | train_loss: 0.0376 | train_ccc: 0.7016 | train_pcc: 0.7244 | val_loss: 0.0448 | val_ccc: 0.4946 | val_pcc: 0.6343\n"
     ]
    },
    {
     "name": "stderr",
     "output_type": "stream",
     "text": [
      " 95%|█████████▌| 19/20 [25:08<01:19, 79.31s/it]\n"
     ]
    },
    {
     "name": "stdout",
     "output_type": "stream",
     "text": [
      "\u001b[36m(tune_cv_enet pid=22860)\u001b[0m Epoch: 19 | train_loss: 0.0373 | train_ccc: 0.7035 | train_pcc: 0.7273 | val_loss: 0.0453 | val_ccc: 0.4916 | val_pcc: 0.6248\n"
     ]
    },
    {
     "name": "stderr",
     "output_type": "stream",
     "text": [
      "100%|██████████| 20/20 [26:28<00:00, 79.43s/it]\n"
     ]
    },
    {
     "name": "stdout",
     "output_type": "stream",
     "text": [
      "\u001b[36m(tune_cv_enet pid=22860)\u001b[0m Epoch: 20 | train_loss: 0.0380 | train_ccc: 0.7022 | train_pcc: 0.7245 | val_loss: 0.0450 | val_ccc: 0.4873 | val_pcc: 0.6370\n",
      "\u001b[36m(tune_cv_enet pid=29204)\u001b[0m cuda\n",
      "\u001b[36m(tune_cv_enet pid=29204)\u001b[0m [INFO] Created SummaryWriter, saving to: C:\\local\\AIProject\\runs\\hp_tuning_cv\\pretrained_enet\\start_07-11-56\\2024-05-30_15-45-49...\n",
      "\u001b[36m(tune_cv_enet pid=29204)\u001b[0m \n",
      "\u001b[36m(tune_cv_enet pid=29204)\u001b[0m -------------------------------------------------------------------------\n",
      "\u001b[36m(tune_cv_enet pid=29204)\u001b[0m Size of the training set: 19803\n",
      "\u001b[36m(tune_cv_enet pid=29204)\u001b[0m Size of the validation set: 4915\n"
     ]
    },
    {
     "name": "stderr",
     "output_type": "stream",
     "text": [
      "  0%|          | 0/20 [00:00<?, ?it/s]\n"
     ]
    },
    {
     "name": "stdout",
     "output_type": "stream",
     "text": [
      "\u001b[36m(tune_cv_enet pid=29204)\u001b[0m [INFO] Created a new pretrained EfficientNet-B0 model.\n",
      "\u001b[36m(tune_cv_enet pid=29204)\u001b[0m Training results for fold_1:\n"
     ]
    },
    {
     "name": "stderr",
     "output_type": "stream",
     "text": [
      "  5%|▌         | 1/20 [01:21<25:52, 81.71s/it]\n"
     ]
    },
    {
     "name": "stdout",
     "output_type": "stream",
     "text": [
      "\u001b[36m(tune_cv_enet pid=29204)\u001b[0m Epoch: 1 | train_loss: 0.0685 | train_ccc: 0.4629 | train_pcc: 0.4783 | val_loss: 0.0628 | val_ccc: 0.3829 | val_pcc: 0.4677\n"
     ]
    },
    {
     "name": "stderr",
     "output_type": "stream",
     "text": [
      " 10%|█         | 2/20 [02:42<24:17, 80.95s/it]\n"
     ]
    },
    {
     "name": "stdout",
     "output_type": "stream",
     "text": [
      "\u001b[36m(tune_cv_enet pid=29204)\u001b[0m Epoch: 2 | train_loss: 0.0509 | train_ccc: 0.6067 | train_pcc: 0.6229 | val_loss: 0.0533 | val_ccc: 0.4161 | val_pcc: 0.4996\n"
     ]
    },
    {
     "name": "stderr",
     "output_type": "stream",
     "text": [
      " 15%|█▌        | 3/20 [04:02<22:50, 80.65s/it]\n"
     ]
    },
    {
     "name": "stdout",
     "output_type": "stream",
     "text": [
      "\u001b[36m(tune_cv_enet pid=29204)\u001b[0m Epoch: 3 | train_loss: 0.0460 | train_ccc: 0.6445 | train_pcc: 0.6615 | val_loss: 0.0544 | val_ccc: 0.4294 | val_pcc: 0.5047\n",
      "\u001b[36m(tune_cv_enet pid=29204)\u001b[0m Epoch: 4 | train_loss: 0.0428 | train_ccc: 0.6774 | train_pcc: 0.6920 | val_loss: 0.0492 | val_ccc: 0.4322 | val_pcc: 0.5113\n"
     ]
    },
    {
     "name": "stderr",
     "output_type": "stream",
     "text": [
      " 20%|██        | 4/20 [05:22<21:28, 80.55s/it]\n",
      " 25%|██▌       | 5/20 [06:43<20:06, 80.43s/it]\n"
     ]
    },
    {
     "name": "stdout",
     "output_type": "stream",
     "text": [
      "\u001b[36m(tune_cv_enet pid=29204)\u001b[0m Epoch: 5 | train_loss: 0.0411 | train_ccc: 0.6861 | train_pcc: 0.7030 | val_loss: 0.0489 | val_ccc: 0.3980 | val_pcc: 0.4915\n"
     ]
    },
    {
     "name": "stderr",
     "output_type": "stream",
     "text": [
      " 30%|███       | 6/20 [08:03<18:45, 80.42s/it]\n"
     ]
    },
    {
     "name": "stdout",
     "output_type": "stream",
     "text": [
      "\u001b[36m(tune_cv_enet pid=29204)\u001b[0m Epoch: 6 | train_loss: 0.0401 | train_ccc: 0.6962 | train_pcc: 0.7136 | val_loss: 0.0483 | val_ccc: 0.3961 | val_pcc: 0.4956\n"
     ]
    },
    {
     "name": "stderr",
     "output_type": "stream",
     "text": [
      " 35%|███▌      | 7/20 [09:23<17:25, 80.42s/it]\n"
     ]
    },
    {
     "name": "stdout",
     "output_type": "stream",
     "text": [
      "\u001b[36m(tune_cv_enet pid=29204)\u001b[0m Epoch: 7 | train_loss: 0.0383 | train_ccc: 0.7054 | train_pcc: 0.7231 | val_loss: 0.0486 | val_ccc: 0.4094 | val_pcc: 0.4939\n"
     ]
    },
    {
     "name": "stderr",
     "output_type": "stream",
     "text": [
      " 40%|████      | 8/20 [10:43<16:03, 80.29s/it]\n"
     ]
    },
    {
     "name": "stdout",
     "output_type": "stream",
     "text": [
      "\u001b[36m(tune_cv_enet pid=29204)\u001b[0m Epoch: 8 | train_loss: 0.0377 | train_ccc: 0.7116 | train_pcc: 0.7288 | val_loss: 0.0487 | val_ccc: 0.4318 | val_pcc: 0.5070\n"
     ]
    },
    {
     "name": "stderr",
     "output_type": "stream",
     "text": [
      " 45%|████▌     | 9/20 [12:04<14:44, 80.41s/it]\n"
     ]
    },
    {
     "name": "stdout",
     "output_type": "stream",
     "text": [
      "\u001b[36m(tune_cv_enet pid=29204)\u001b[0m Epoch: 9 | train_loss: 0.0376 | train_ccc: 0.7134 | train_pcc: 0.7313 | val_loss: 0.0477 | val_ccc: 0.4204 | val_pcc: 0.5083\n"
     ]
    },
    {
     "name": "stderr",
     "output_type": "stream",
     "text": [
      " 50%|█████     | 10/20 [13:24<13:23, 80.38s/it]\n"
     ]
    },
    {
     "name": "stdout",
     "output_type": "stream",
     "text": [
      "\u001b[36m(tune_cv_enet pid=29204)\u001b[0m Epoch: 10 | train_loss: 0.0370 | train_ccc: 0.7216 | train_pcc: 0.7363 | val_loss: 0.0518 | val_ccc: 0.4492 | val_pcc: 0.5156\n"
     ]
    },
    {
     "name": "stderr",
     "output_type": "stream",
     "text": [
      " 55%|█████▌    | 11/20 [14:45<12:03, 80.40s/it]\n"
     ]
    },
    {
     "name": "stdout",
     "output_type": "stream",
     "text": [
      "\u001b[36m(tune_cv_enet pid=29204)\u001b[0m Epoch: 11 | train_loss: 0.0365 | train_ccc: 0.7210 | train_pcc: 0.7392 | val_loss: 0.0485 | val_ccc: 0.4480 | val_pcc: 0.5180\n"
     ]
    },
    {
     "name": "stderr",
     "output_type": "stream",
     "text": [
      " 60%|██████    | 12/20 [16:06<10:44, 80.51s/it]\n"
     ]
    },
    {
     "name": "stdout",
     "output_type": "stream",
     "text": [
      "\u001b[36m(tune_cv_enet pid=29204)\u001b[0m Epoch: 12 | train_loss: 0.0361 | train_ccc: 0.7240 | train_pcc: 0.7411 | val_loss: 0.0480 | val_ccc: 0.4161 | val_pcc: 0.5011\n"
     ]
    },
    {
     "name": "stderr",
     "output_type": "stream",
     "text": [
      " 65%|██████▌   | 13/20 [17:26<09:23, 80.52s/it]\n"
     ]
    },
    {
     "name": "stdout",
     "output_type": "stream",
     "text": [
      "\u001b[36m(tune_cv_enet pid=29204)\u001b[0m Epoch: 13 | train_loss: 0.0367 | train_ccc: 0.7184 | train_pcc: 0.7356 | val_loss: 0.0482 | val_ccc: 0.4361 | val_pcc: 0.5112\n"
     ]
    },
    {
     "name": "stderr",
     "output_type": "stream",
     "text": [
      " 70%|███████   | 14/20 [18:46<08:02, 80.42s/it]\n"
     ]
    },
    {
     "name": "stdout",
     "output_type": "stream",
     "text": [
      "\u001b[36m(tune_cv_enet pid=29204)\u001b[0m Epoch: 14 | train_loss: 0.0356 | train_ccc: 0.7266 | train_pcc: 0.7456 | val_loss: 0.0490 | val_ccc: 0.4447 | val_pcc: 0.5145\n"
     ]
    },
    {
     "name": "stderr",
     "output_type": "stream",
     "text": [
      " 75%|███████▌  | 15/20 [20:06<06:41, 80.28s/it]\n"
     ]
    },
    {
     "name": "stdout",
     "output_type": "stream",
     "text": [
      "\u001b[36m(tune_cv_enet pid=29204)\u001b[0m Epoch: 15 | train_loss: 0.0352 | train_ccc: 0.7283 | train_pcc: 0.7458 | val_loss: 0.0490 | val_ccc: 0.4433 | val_pcc: 0.5092\n"
     ]
    },
    {
     "name": "stderr",
     "output_type": "stream",
     "text": [
      " 80%|████████  | 16/20 [21:27<05:21, 80.39s/it]\n"
     ]
    },
    {
     "name": "stdout",
     "output_type": "stream",
     "text": [
      "\u001b[36m(tune_cv_enet pid=29204)\u001b[0m Epoch: 16 | train_loss: 0.0356 | train_ccc: 0.7244 | train_pcc: 0.7435 | val_loss: 0.0473 | val_ccc: 0.4332 | val_pcc: 0.5130\n"
     ]
    },
    {
     "name": "stderr",
     "output_type": "stream",
     "text": [
      " 85%|████████▌ | 17/20 [22:47<04:01, 80.33s/it]\n"
     ]
    },
    {
     "name": "stdout",
     "output_type": "stream",
     "text": [
      "\u001b[36m(tune_cv_enet pid=29204)\u001b[0m Epoch: 17 | train_loss: 0.0349 | train_ccc: 0.7315 | train_pcc: 0.7486 | val_loss: 0.0478 | val_ccc: 0.4229 | val_pcc: 0.5049\n"
     ]
    },
    {
     "name": "stderr",
     "output_type": "stream",
     "text": [
      " 90%|█████████ | 18/20 [24:08<02:40, 80.38s/it]\n"
     ]
    },
    {
     "name": "stdout",
     "output_type": "stream",
     "text": [
      "\u001b[36m(tune_cv_enet pid=29204)\u001b[0m Epoch: 18 | train_loss: 0.0348 | train_ccc: 0.7269 | train_pcc: 0.7490 | val_loss: 0.0493 | val_ccc: 0.4376 | val_pcc: 0.5077\n"
     ]
    },
    {
     "name": "stderr",
     "output_type": "stream",
     "text": [
      " 95%|█████████▌| 19/20 [25:28<01:20, 80.37s/it]\n"
     ]
    },
    {
     "name": "stdout",
     "output_type": "stream",
     "text": [
      "\u001b[36m(tune_cv_enet pid=29204)\u001b[0m Epoch: 19 | train_loss: 0.0350 | train_ccc: 0.7329 | train_pcc: 0.7504 | val_loss: 0.0490 | val_ccc: 0.4388 | val_pcc: 0.5074\n"
     ]
    },
    {
     "name": "stderr",
     "output_type": "stream",
     "text": [
      "100%|██████████| 20/20 [26:49<00:00, 80.45s/it]\n",
      "  0%|          | 0/20 [00:00<?, ?it/s]\n"
     ]
    },
    {
     "name": "stdout",
     "output_type": "stream",
     "text": [
      "\u001b[36m(tune_cv_enet pid=29204)\u001b[0m Epoch: 20 | train_loss: 0.0349 | train_ccc: 0.7321 | train_pcc: 0.7498 | val_loss: 0.0507 | val_ccc: 0.4502 | val_pcc: 0.5135\n",
      "\u001b[36m(tune_cv_enet pid=29204)\u001b[0m \n",
      "\u001b[36m(tune_cv_enet pid=29204)\u001b[0m -------------------------------------------------------------------------\n",
      "\u001b[36m(tune_cv_enet pid=29204)\u001b[0m Size of the training set: 19703\n",
      "\u001b[36m(tune_cv_enet pid=29204)\u001b[0m Size of the validation set: 5015\n",
      "\u001b[36m(tune_cv_enet pid=29204)\u001b[0m [INFO] Created a new pretrained EfficientNet-B0 model.\n",
      "\u001b[36m(tune_cv_enet pid=29204)\u001b[0m Training results for fold_2:\n"
     ]
    },
    {
     "name": "stderr",
     "output_type": "stream",
     "text": [
      "  5%|▌         | 1/20 [01:19<25:17, 79.87s/it]\n"
     ]
    },
    {
     "name": "stdout",
     "output_type": "stream",
     "text": [
      "\u001b[36m(tune_cv_enet pid=29204)\u001b[0m Epoch: 1 | train_loss: 0.0713 | train_ccc: 0.4204 | train_pcc: 0.4395 | val_loss: 0.0476 | val_ccc: 0.3994 | val_pcc: 0.5387\n"
     ]
    },
    {
     "name": "stderr",
     "output_type": "stream",
     "text": [
      " 10%|█         | 2/20 [02:39<23:53, 79.63s/it]\n"
     ]
    },
    {
     "name": "stdout",
     "output_type": "stream",
     "text": [
      "\u001b[36m(tune_cv_enet pid=29204)\u001b[0m Epoch: 2 | train_loss: 0.0554 | train_ccc: 0.5600 | train_pcc: 0.5804 | val_loss: 0.0420 | val_ccc: 0.4519 | val_pcc: 0.5689\n"
     ]
    },
    {
     "name": "stderr",
     "output_type": "stream",
     "text": [
      " 15%|█▌        | 3/20 [03:58<22:30, 79.45s/it]\n"
     ]
    },
    {
     "name": "stdout",
     "output_type": "stream",
     "text": [
      "\u001b[36m(tune_cv_enet pid=29204)\u001b[0m Epoch: 3 | train_loss: 0.0498 | train_ccc: 0.6062 | train_pcc: 0.6267 | val_loss: 0.0382 | val_ccc: 0.5071 | val_pcc: 0.6010\n"
     ]
    },
    {
     "name": "stderr",
     "output_type": "stream",
     "text": [
      " 20%|██        | 4/20 [05:18<21:11, 79.45s/it]\n"
     ]
    },
    {
     "name": "stdout",
     "output_type": "stream",
     "text": [
      "\u001b[36m(tune_cv_enet pid=29204)\u001b[0m Epoch: 4 | train_loss: 0.0468 | train_ccc: 0.6320 | train_pcc: 0.6512 | val_loss: 0.0360 | val_ccc: 0.5544 | val_pcc: 0.6337\n"
     ]
    },
    {
     "name": "stderr",
     "output_type": "stream",
     "text": [
      " 25%|██▌       | 5/20 [06:37<19:51, 79.44s/it]\n"
     ]
    },
    {
     "name": "stdout",
     "output_type": "stream",
     "text": [
      "\u001b[36m(tune_cv_enet pid=29204)\u001b[0m Epoch: 5 | train_loss: 0.0444 | train_ccc: 0.6517 | train_pcc: 0.6697 | val_loss: 0.0363 | val_ccc: 0.5589 | val_pcc: 0.6370\n"
     ]
    },
    {
     "name": "stderr",
     "output_type": "stream",
     "text": [
      " 30%|███       | 6/20 [07:56<18:31, 79.39s/it]\n"
     ]
    },
    {
     "name": "stdout",
     "output_type": "stream",
     "text": [
      "\u001b[36m(tune_cv_enet pid=29204)\u001b[0m Epoch: 6 | train_loss: 0.0427 | train_ccc: 0.6631 | train_pcc: 0.6831 | val_loss: 0.0359 | val_ccc: 0.5670 | val_pcc: 0.6438\n"
     ]
    },
    {
     "name": "stderr",
     "output_type": "stream",
     "text": [
      " 35%|███▌      | 7/20 [09:15<17:11, 79.32s/it]\n"
     ]
    },
    {
     "name": "stdout",
     "output_type": "stream",
     "text": [
      "\u001b[36m(tune_cv_enet pid=29204)\u001b[0m Epoch: 7 | train_loss: 0.0404 | train_ccc: 0.6770 | train_pcc: 0.7004 | val_loss: 0.0353 | val_ccc: 0.5659 | val_pcc: 0.6457\n",
      "\u001b[36m(tune_cv_enet pid=29204)\u001b[0m Epoch: 8 | train_loss: 0.0395 | train_ccc: 0.6850 | train_pcc: 0.7079 | val_loss: 0.0346 | val_ccc: 0.5718 | val_pcc: 0.6507\n"
     ]
    },
    {
     "name": "stderr",
     "output_type": "stream",
     "text": [
      " 40%|████      | 8/20 [10:35<15:52, 79.37s/it]\n",
      " 45%|████▌     | 9/20 [11:54<14:33, 79.39s/it]\n"
     ]
    },
    {
     "name": "stdout",
     "output_type": "stream",
     "text": [
      "\u001b[36m(tune_cv_enet pid=29204)\u001b[0m Epoch: 9 | train_loss: 0.0395 | train_ccc: 0.6857 | train_pcc: 0.7085 | val_loss: 0.0359 | val_ccc: 0.5873 | val_pcc: 0.6452\n"
     ]
    },
    {
     "name": "stderr",
     "output_type": "stream",
     "text": [
      " 50%|█████     | 10/20 [13:14<13:13, 79.36s/it]\n"
     ]
    },
    {
     "name": "stdout",
     "output_type": "stream",
     "text": [
      "\u001b[36m(tune_cv_enet pid=29204)\u001b[0m Epoch: 10 | train_loss: 0.0405 | train_ccc: 0.6823 | train_pcc: 0.7033 | val_loss: 0.0377 | val_ccc: 0.5885 | val_pcc: 0.6474\n"
     ]
    },
    {
     "name": "stderr",
     "output_type": "stream",
     "text": [
      " 55%|█████▌    | 11/20 [14:33<11:54, 79.36s/it]\n"
     ]
    },
    {
     "name": "stdout",
     "output_type": "stream",
     "text": [
      "\u001b[36m(tune_cv_enet pid=29204)\u001b[0m Epoch: 11 | train_loss: 0.0393 | train_ccc: 0.6897 | train_pcc: 0.7109 | val_loss: 0.0352 | val_ccc: 0.5923 | val_pcc: 0.6620\n"
     ]
    },
    {
     "name": "stderr",
     "output_type": "stream",
     "text": [
      " 60%|██████    | 12/20 [15:53<10:35, 79.45s/it]\n"
     ]
    },
    {
     "name": "stdout",
     "output_type": "stream",
     "text": [
      "\u001b[36m(tune_cv_enet pid=29204)\u001b[0m Epoch: 12 | train_loss: 0.0384 | train_ccc: 0.6941 | train_pcc: 0.7167 | val_loss: 0.0339 | val_ccc: 0.5885 | val_pcc: 0.6643\n"
     ]
    },
    {
     "name": "stderr",
     "output_type": "stream",
     "text": [
      " 65%|██████▌   | 13/20 [17:12<09:16, 79.54s/it]\n"
     ]
    },
    {
     "name": "stdout",
     "output_type": "stream",
     "text": [
      "\u001b[36m(tune_cv_enet pid=29204)\u001b[0m Epoch: 13 | train_loss: 0.0383 | train_ccc: 0.6937 | train_pcc: 0.7174 | val_loss: 0.0393 | val_ccc: 0.5300 | val_pcc: 0.6322\n"
     ]
    },
    {
     "name": "stderr",
     "output_type": "stream",
     "text": [
      " 70%|███████   | 14/20 [18:32<07:57, 79.55s/it]\n"
     ]
    },
    {
     "name": "stdout",
     "output_type": "stream",
     "text": [
      "\u001b[36m(tune_cv_enet pid=29204)\u001b[0m Epoch: 14 | train_loss: 0.0377 | train_ccc: 0.6980 | train_pcc: 0.7216 | val_loss: 0.0337 | val_ccc: 0.5943 | val_pcc: 0.6632\n"
     ]
    },
    {
     "name": "stderr",
     "output_type": "stream",
     "text": [
      " 75%|███████▌  | 15/20 [19:51<06:37, 79.44s/it]\n"
     ]
    },
    {
     "name": "stdout",
     "output_type": "stream",
     "text": [
      "\u001b[36m(tune_cv_enet pid=29204)\u001b[0m Epoch: 15 | train_loss: 0.0383 | train_ccc: 0.6949 | train_pcc: 0.7182 | val_loss: 0.0369 | val_ccc: 0.6000 | val_pcc: 0.6561\n"
     ]
    },
    {
     "name": "stderr",
     "output_type": "stream",
     "text": [
      " 80%|████████  | 16/20 [21:10<05:17, 79.39s/it]\n"
     ]
    },
    {
     "name": "stdout",
     "output_type": "stream",
     "text": [
      "\u001b[36m(tune_cv_enet pid=29204)\u001b[0m Epoch: 16 | train_loss: 0.0380 | train_ccc: 0.6967 | train_pcc: 0.7194 | val_loss: 0.0352 | val_ccc: 0.5824 | val_pcc: 0.6516\n"
     ]
    },
    {
     "name": "stderr",
     "output_type": "stream",
     "text": [
      " 85%|████████▌ | 17/20 [22:29<03:57, 79.30s/it]\n"
     ]
    },
    {
     "name": "stdout",
     "output_type": "stream",
     "text": [
      "\u001b[36m(tune_cv_enet pid=29204)\u001b[0m Epoch: 17 | train_loss: 0.0380 | train_ccc: 0.6969 | train_pcc: 0.7203 | val_loss: 0.0361 | val_ccc: 0.5823 | val_pcc: 0.6488\n"
     ]
    },
    {
     "name": "stderr",
     "output_type": "stream",
     "text": [
      " 90%|█████████ | 18/20 [23:49<02:38, 79.27s/it]\n"
     ]
    },
    {
     "name": "stdout",
     "output_type": "stream",
     "text": [
      "\u001b[36m(tune_cv_enet pid=29204)\u001b[0m Epoch: 18 | train_loss: 0.0381 | train_ccc: 0.6980 | train_pcc: 0.7209 | val_loss: 0.0426 | val_ccc: 0.5080 | val_pcc: 0.5963\n"
     ]
    },
    {
     "name": "stderr",
     "output_type": "stream",
     "text": [
      " 95%|█████████▌| 19/20 [25:08<01:19, 79.34s/it]\n"
     ]
    },
    {
     "name": "stdout",
     "output_type": "stream",
     "text": [
      "\u001b[36m(tune_cv_enet pid=29204)\u001b[0m Epoch: 19 | train_loss: 0.0374 | train_ccc: 0.7012 | train_pcc: 0.7254 | val_loss: 0.0370 | val_ccc: 0.5579 | val_pcc: 0.6477\n"
     ]
    },
    {
     "name": "stderr",
     "output_type": "stream",
     "text": [
      "100%|██████████| 20/20 [26:28<00:00, 79.41s/it]\n",
      "  0%|          | 0/20 [00:00<?, ?it/s]\n"
     ]
    },
    {
     "name": "stdout",
     "output_type": "stream",
     "text": [
      "\u001b[36m(tune_cv_enet pid=29204)\u001b[0m Epoch: 20 | train_loss: 0.0376 | train_ccc: 0.7002 | train_pcc: 0.7226 | val_loss: 0.0356 | val_ccc: 0.5663 | val_pcc: 0.6513\n",
      "\u001b[36m(tune_cv_enet pid=29204)\u001b[0m \n",
      "\u001b[36m(tune_cv_enet pid=29204)\u001b[0m -------------------------------------------------------------------------\n",
      "\u001b[36m(tune_cv_enet pid=29204)\u001b[0m Size of the training set: 19826\n",
      "\u001b[36m(tune_cv_enet pid=29204)\u001b[0m Size of the validation set: 4892\n",
      "\u001b[36m(tune_cv_enet pid=29204)\u001b[0m [INFO] Created a new pretrained EfficientNet-B0 model.\n",
      "\u001b[36m(tune_cv_enet pid=29204)\u001b[0m Training results for fold_3:\n"
     ]
    },
    {
     "name": "stderr",
     "output_type": "stream",
     "text": [
      "  5%|▌         | 1/20 [01:19<25:07, 79.35s/it]\n"
     ]
    },
    {
     "name": "stdout",
     "output_type": "stream",
     "text": [
      "\u001b[36m(tune_cv_enet pid=29204)\u001b[0m Epoch: 1 | train_loss: 0.0714 | train_ccc: 0.4632 | train_pcc: 0.4776 | val_loss: 0.0565 | val_ccc: 0.3147 | val_pcc: 0.3734\n"
     ]
    },
    {
     "name": "stderr",
     "output_type": "stream",
     "text": [
      " 10%|█         | 2/20 [02:38<23:45, 79.20s/it]\n"
     ]
    },
    {
     "name": "stdout",
     "output_type": "stream",
     "text": [
      "\u001b[36m(tune_cv_enet pid=29204)\u001b[0m Epoch: 2 | train_loss: 0.0511 | train_ccc: 0.6113 | train_pcc: 0.6307 | val_loss: 0.0548 | val_ccc: 0.3309 | val_pcc: 0.3982\n"
     ]
    },
    {
     "name": "stderr",
     "output_type": "stream",
     "text": [
      " 15%|█▌        | 3/20 [03:57<22:24, 79.07s/it]\n"
     ]
    },
    {
     "name": "stdout",
     "output_type": "stream",
     "text": [
      "\u001b[36m(tune_cv_enet pid=29204)\u001b[0m Epoch: 3 | train_loss: 0.0460 | train_ccc: 0.6649 | train_pcc: 0.6793 | val_loss: 0.0484 | val_ccc: 0.3301 | val_pcc: 0.4100\n"
     ]
    },
    {
     "name": "stderr",
     "output_type": "stream",
     "text": [
      " 20%|██        | 4/20 [05:16<21:05, 79.08s/it]\n"
     ]
    },
    {
     "name": "stdout",
     "output_type": "stream",
     "text": [
      "\u001b[36m(tune_cv_enet pid=29204)\u001b[0m Epoch: 4 | train_loss: 0.0430 | train_ccc: 0.6851 | train_pcc: 0.7001 | val_loss: 0.0518 | val_ccc: 0.3549 | val_pcc: 0.4304\n"
     ]
    },
    {
     "name": "stderr",
     "output_type": "stream",
     "text": [
      " 25%|██▌       | 5/20 [06:35<19:47, 79.17s/it]\n"
     ]
    },
    {
     "name": "stdout",
     "output_type": "stream",
     "text": [
      "\u001b[36m(tune_cv_enet pid=29204)\u001b[0m Epoch: 5 | train_loss: 0.0419 | train_ccc: 0.6941 | train_pcc: 0.7092 | val_loss: 0.0471 | val_ccc: 0.3452 | val_pcc: 0.4329\n"
     ]
    },
    {
     "name": "stderr",
     "output_type": "stream",
     "text": [
      " 30%|███       | 6/20 [07:55<18:28, 79.19s/it]\n"
     ]
    },
    {
     "name": "stdout",
     "output_type": "stream",
     "text": [
      "\u001b[36m(tune_cv_enet pid=29204)\u001b[0m Epoch: 6 | train_loss: 0.0409 | train_ccc: 0.7086 | train_pcc: 0.7216 | val_loss: 0.0496 | val_ccc: 0.3681 | val_pcc: 0.4467\n"
     ]
    },
    {
     "name": "stderr",
     "output_type": "stream",
     "text": [
      " 35%|███▌      | 7/20 [09:13<17:08, 79.10s/it]\n"
     ]
    },
    {
     "name": "stdout",
     "output_type": "stream",
     "text": [
      "\u001b[36m(tune_cv_enet pid=29204)\u001b[0m Epoch: 7 | train_loss: 0.0392 | train_ccc: 0.7155 | train_pcc: 0.7289 | val_loss: 0.0472 | val_ccc: 0.3727 | val_pcc: 0.4531\n"
     ]
    },
    {
     "name": "stderr",
     "output_type": "stream",
     "text": [
      " 40%|████      | 8/20 [10:33<15:51, 79.27s/it]\n"
     ]
    },
    {
     "name": "stdout",
     "output_type": "stream",
     "text": [
      "\u001b[36m(tune_cv_enet pid=29204)\u001b[0m Epoch: 8 | train_loss: 0.0368 | train_ccc: 0.7279 | train_pcc: 0.7440 | val_loss: 0.0451 | val_ccc: 0.3699 | val_pcc: 0.4591\n"
     ]
    },
    {
     "name": "stderr",
     "output_type": "stream",
     "text": [
      " 45%|████▌     | 9/20 [11:52<14:31, 79.19s/it]\n"
     ]
    },
    {
     "name": "stdout",
     "output_type": "stream",
     "text": [
      "\u001b[36m(tune_cv_enet pid=29204)\u001b[0m Epoch: 9 | train_loss: 0.0375 | train_ccc: 0.7247 | train_pcc: 0.7403 | val_loss: 0.0467 | val_ccc: 0.3777 | val_pcc: 0.4565\n"
     ]
    },
    {
     "name": "stderr",
     "output_type": "stream",
     "text": [
      " 50%|█████     | 10/20 [13:11<13:11, 79.20s/it]\n"
     ]
    },
    {
     "name": "stdout",
     "output_type": "stream",
     "text": [
      "\u001b[36m(tune_cv_enet pid=29204)\u001b[0m Epoch: 10 | train_loss: 0.0380 | train_ccc: 0.7241 | train_pcc: 0.7389 | val_loss: 0.0466 | val_ccc: 0.3772 | val_pcc: 0.4580\n"
     ]
    },
    {
     "name": "stderr",
     "output_type": "stream",
     "text": [
      " 55%|█████▌    | 11/20 [14:31<11:53, 79.23s/it]\n"
     ]
    },
    {
     "name": "stdout",
     "output_type": "stream",
     "text": [
      "\u001b[36m(tune_cv_enet pid=29204)\u001b[0m Epoch: 11 | train_loss: 0.0364 | train_ccc: 0.7314 | train_pcc: 0.7484 | val_loss: 0.0473 | val_ccc: 0.3824 | val_pcc: 0.4604\n"
     ]
    },
    {
     "name": "stderr",
     "output_type": "stream",
     "text": [
      " 60%|██████    | 12/20 [15:49<10:32, 79.03s/it]\n"
     ]
    },
    {
     "name": "stdout",
     "output_type": "stream",
     "text": [
      "\u001b[36m(tune_cv_enet pid=29204)\u001b[0m Epoch: 12 | train_loss: 0.0362 | train_ccc: 0.7354 | train_pcc: 0.7508 | val_loss: 0.0448 | val_ccc: 0.3687 | val_pcc: 0.4602\n",
      "\u001b[36m(tune_cv_enet pid=29204)\u001b[0m Epoch: 13 | train_loss: 0.0356 | train_ccc: 0.7360 | train_pcc: 0.7538 | val_loss: 0.0450 | val_ccc: 0.3780 | val_pcc: 0.4636\n"
     ]
    },
    {
     "name": "stderr",
     "output_type": "stream",
     "text": [
      " 65%|██████▌   | 13/20 [17:08<09:13, 79.02s/it]\n",
      " 70%|███████   | 14/20 [18:27<07:54, 79.03s/it]\n"
     ]
    },
    {
     "name": "stdout",
     "output_type": "stream",
     "text": [
      "\u001b[36m(tune_cv_enet pid=29204)\u001b[0m Epoch: 14 | train_loss: 0.0352 | train_ccc: 0.7385 | train_pcc: 0.7550 | val_loss: 0.0450 | val_ccc: 0.3822 | val_pcc: 0.4656\n"
     ]
    },
    {
     "name": "stderr",
     "output_type": "stream",
     "text": [
      " 75%|███████▌  | 15/20 [19:47<06:35, 79.17s/it]\n"
     ]
    },
    {
     "name": "stdout",
     "output_type": "stream",
     "text": [
      "\u001b[36m(tune_cv_enet pid=29204)\u001b[0m Epoch: 15 | train_loss: 0.0350 | train_ccc: 0.7387 | train_pcc: 0.7568 | val_loss: 0.0451 | val_ccc: 0.3810 | val_pcc: 0.4642\n"
     ]
    },
    {
     "name": "stderr",
     "output_type": "stream",
     "text": [
      " 80%|████████  | 16/20 [21:05<05:16, 79.04s/it]\n"
     ]
    },
    {
     "name": "stdout",
     "output_type": "stream",
     "text": [
      "\u001b[36m(tune_cv_enet pid=29204)\u001b[0m Epoch: 16 | train_loss: 0.0351 | train_ccc: 0.7396 | train_pcc: 0.7571 | val_loss: 0.0454 | val_ccc: 0.3499 | val_pcc: 0.4501\n"
     ]
    },
    {
     "name": "stderr",
     "output_type": "stream",
     "text": [
      " 85%|████████▌ | 17/20 [22:24<03:57, 79.04s/it]\n"
     ]
    },
    {
     "name": "stdout",
     "output_type": "stream",
     "text": [
      "\u001b[36m(tune_cv_enet pid=29204)\u001b[0m Epoch: 17 | train_loss: 0.0358 | train_ccc: 0.7363 | train_pcc: 0.7532 | val_loss: 0.0451 | val_ccc: 0.3763 | val_pcc: 0.4583\n"
     ]
    },
    {
     "name": "stderr",
     "output_type": "stream",
     "text": [
      " 90%|█████████ | 18/20 [23:44<02:38, 79.05s/it]\n"
     ]
    },
    {
     "name": "stdout",
     "output_type": "stream",
     "text": [
      "\u001b[36m(tune_cv_enet pid=29204)\u001b[0m Epoch: 18 | train_loss: 0.0349 | train_ccc: 0.7436 | train_pcc: 0.7599 | val_loss: 0.0475 | val_ccc: 0.3286 | val_pcc: 0.4320\n"
     ]
    },
    {
     "name": "stderr",
     "output_type": "stream",
     "text": [
      " 95%|█████████▌| 19/20 [25:03<01:19, 79.07s/it]\n"
     ]
    },
    {
     "name": "stdout",
     "output_type": "stream",
     "text": [
      "\u001b[36m(tune_cv_enet pid=29204)\u001b[0m Epoch: 19 | train_loss: 0.0362 | train_ccc: 0.7315 | train_pcc: 0.7502 | val_loss: 0.0458 | val_ccc: 0.3825 | val_pcc: 0.4634\n"
     ]
    },
    {
     "name": "stderr",
     "output_type": "stream",
     "text": [
      "100%|██████████| 20/20 [26:22<00:00, 79.10s/it]\n",
      "  0%|          | 0/20 [00:00<?, ?it/s]\n"
     ]
    },
    {
     "name": "stdout",
     "output_type": "stream",
     "text": [
      "\u001b[36m(tune_cv_enet pid=29204)\u001b[0m Epoch: 20 | train_loss: 0.0342 | train_ccc: 0.7449 | train_pcc: 0.7624 | val_loss: 0.0448 | val_ccc: 0.3807 | val_pcc: 0.4627\n",
      "\u001b[36m(tune_cv_enet pid=29204)\u001b[0m \n",
      "\u001b[36m(tune_cv_enet pid=29204)\u001b[0m -------------------------------------------------------------------------\n",
      "\u001b[36m(tune_cv_enet pid=29204)\u001b[0m Size of the training set: 19667\n",
      "\u001b[36m(tune_cv_enet pid=29204)\u001b[0m Size of the validation set: 5051\n",
      "\u001b[36m(tune_cv_enet pid=29204)\u001b[0m [INFO] Created a new pretrained EfficientNet-B0 model.\n",
      "\u001b[36m(tune_cv_enet pid=29204)\u001b[0m Training results for fold_4:\n"
     ]
    },
    {
     "name": "stderr",
     "output_type": "stream",
     "text": [
      "  5%|▌         | 1/20 [01:19<25:10, 79.52s/it]\n"
     ]
    },
    {
     "name": "stdout",
     "output_type": "stream",
     "text": [
      "\u001b[36m(tune_cv_enet pid=29204)\u001b[0m Epoch: 1 | train_loss: 0.0710 | train_ccc: 0.4498 | train_pcc: 0.4677 | val_loss: 0.0571 | val_ccc: 0.3958 | val_pcc: 0.4870\n"
     ]
    },
    {
     "name": "stderr",
     "output_type": "stream",
     "text": [
      " 10%|█         | 2/20 [02:39<23:56, 79.79s/it]\n"
     ]
    },
    {
     "name": "stdout",
     "output_type": "stream",
     "text": [
      "\u001b[36m(tune_cv_enet pid=29204)\u001b[0m Epoch: 2 | train_loss: 0.0531 | train_ccc: 0.6008 | train_pcc: 0.6177 | val_loss: 0.0520 | val_ccc: 0.4226 | val_pcc: 0.5433\n"
     ]
    },
    {
     "name": "stderr",
     "output_type": "stream",
     "text": [
      " 15%|█▌        | 3/20 [03:59<22:35, 79.76s/it]\n"
     ]
    },
    {
     "name": "stdout",
     "output_type": "stream",
     "text": [
      "\u001b[36m(tune_cv_enet pid=29204)\u001b[0m Epoch: 3 | train_loss: 0.0476 | train_ccc: 0.6454 | train_pcc: 0.6609 | val_loss: 0.0493 | val_ccc: 0.4545 | val_pcc: 0.5747\n"
     ]
    },
    {
     "name": "stderr",
     "output_type": "stream",
     "text": [
      " 20%|██        | 4/20 [05:19<21:16, 79.77s/it]\n"
     ]
    },
    {
     "name": "stdout",
     "output_type": "stream",
     "text": [
      "\u001b[36m(tune_cv_enet pid=29204)\u001b[0m Epoch: 4 | train_loss: 0.0438 | train_ccc: 0.6749 | train_pcc: 0.6903 | val_loss: 0.0484 | val_ccc: 0.4617 | val_pcc: 0.5801\n"
     ]
    },
    {
     "name": "stderr",
     "output_type": "stream",
     "text": [
      " 25%|██▌       | 5/20 [06:38<19:56, 79.78s/it]\n"
     ]
    },
    {
     "name": "stdout",
     "output_type": "stream",
     "text": [
      "\u001b[36m(tune_cv_enet pid=29204)\u001b[0m Epoch: 5 | train_loss: 0.0420 | train_ccc: 0.6883 | train_pcc: 0.7047 | val_loss: 0.0480 | val_ccc: 0.4715 | val_pcc: 0.5890\n"
     ]
    },
    {
     "name": "stderr",
     "output_type": "stream",
     "text": [
      " 30%|███       | 6/20 [07:58<18:35, 79.71s/it]\n"
     ]
    },
    {
     "name": "stdout",
     "output_type": "stream",
     "text": [
      "\u001b[36m(tune_cv_enet pid=29204)\u001b[0m Epoch: 6 | train_loss: 0.0398 | train_ccc: 0.7021 | train_pcc: 0.7183 | val_loss: 0.0501 | val_ccc: 0.4978 | val_pcc: 0.6008\n"
     ]
    },
    {
     "name": "stderr",
     "output_type": "stream",
     "text": [
      " 35%|███▌      | 7/20 [09:18<17:17, 79.77s/it]\n"
     ]
    },
    {
     "name": "stdout",
     "output_type": "stream",
     "text": [
      "\u001b[36m(tune_cv_enet pid=29204)\u001b[0m Epoch: 7 | train_loss: 0.0396 | train_ccc: 0.7081 | train_pcc: 0.7244 | val_loss: 0.0466 | val_ccc: 0.4808 | val_pcc: 0.5946\n"
     ]
    },
    {
     "name": "stderr",
     "output_type": "stream",
     "text": [
      " 40%|████      | 8/20 [10:37<15:56, 79.74s/it]\n"
     ]
    },
    {
     "name": "stdout",
     "output_type": "stream",
     "text": [
      "\u001b[36m(tune_cv_enet pid=29204)\u001b[0m Epoch: 8 | train_loss: 0.0379 | train_ccc: 0.7184 | train_pcc: 0.7361 | val_loss: 0.0466 | val_ccc: 0.4888 | val_pcc: 0.5992\n"
     ]
    },
    {
     "name": "stderr",
     "output_type": "stream",
     "text": [
      " 45%|████▌     | 9/20 [11:57<14:36, 79.66s/it]\n"
     ]
    },
    {
     "name": "stdout",
     "output_type": "stream",
     "text": [
      "\u001b[36m(tune_cv_enet pid=29204)\u001b[0m Epoch: 9 | train_loss: 0.0373 | train_ccc: 0.7189 | train_pcc: 0.7368 | val_loss: 0.0469 | val_ccc: 0.4903 | val_pcc: 0.5960\n"
     ]
    },
    {
     "name": "stderr",
     "output_type": "stream",
     "text": [
      " 50%|█████     | 10/20 [13:17<13:17, 79.73s/it]\n"
     ]
    },
    {
     "name": "stdout",
     "output_type": "stream",
     "text": [
      "\u001b[36m(tune_cv_enet pid=29204)\u001b[0m Epoch: 10 | train_loss: 0.0364 | train_ccc: 0.7248 | train_pcc: 0.7440 | val_loss: 0.0474 | val_ccc: 0.4763 | val_pcc: 0.5900\n"
     ]
    },
    {
     "name": "stderr",
     "output_type": "stream",
     "text": [
      " 55%|█████▌    | 11/20 [14:36<11:56, 79.57s/it]\n"
     ]
    },
    {
     "name": "stdout",
     "output_type": "stream",
     "text": [
      "\u001b[36m(tune_cv_enet pid=29204)\u001b[0m Epoch: 11 | train_loss: 0.0368 | train_ccc: 0.7222 | train_pcc: 0.7406 | val_loss: 0.0473 | val_ccc: 0.4883 | val_pcc: 0.5979\n"
     ]
    },
    {
     "name": "stderr",
     "output_type": "stream",
     "text": [
      " 60%|██████    | 12/20 [15:56<10:36, 79.56s/it]\n"
     ]
    },
    {
     "name": "stdout",
     "output_type": "stream",
     "text": [
      "\u001b[36m(tune_cv_enet pid=29204)\u001b[0m Epoch: 12 | train_loss: 0.0363 | train_ccc: 0.7254 | train_pcc: 0.7447 | val_loss: 0.0474 | val_ccc: 0.4892 | val_pcc: 0.6047\n"
     ]
    },
    {
     "name": "stderr",
     "output_type": "stream",
     "text": [
      " 65%|██████▌   | 13/20 [17:15<09:16, 79.55s/it]\n"
     ]
    },
    {
     "name": "stdout",
     "output_type": "stream",
     "text": [
      "\u001b[36m(tune_cv_enet pid=29204)\u001b[0m Epoch: 13 | train_loss: 0.0356 | train_ccc: 0.7292 | train_pcc: 0.7493 | val_loss: 0.0469 | val_ccc: 0.4817 | val_pcc: 0.5997\n"
     ]
    },
    {
     "name": "stderr",
     "output_type": "stream",
     "text": [
      " 70%|███████   | 14/20 [18:34<07:56, 79.44s/it]\n"
     ]
    },
    {
     "name": "stdout",
     "output_type": "stream",
     "text": [
      "\u001b[36m(tune_cv_enet pid=29204)\u001b[0m Epoch: 14 | train_loss: 0.0356 | train_ccc: 0.7277 | train_pcc: 0.7483 | val_loss: 0.0468 | val_ccc: 0.4940 | val_pcc: 0.6000\n"
     ]
    },
    {
     "name": "stderr",
     "output_type": "stream",
     "text": [
      " 75%|███████▌  | 15/20 [19:54<06:37, 79.59s/it]\n"
     ]
    },
    {
     "name": "stdout",
     "output_type": "stream",
     "text": [
      "\u001b[36m(tune_cv_enet pid=29204)\u001b[0m Epoch: 15 | train_loss: 0.0356 | train_ccc: 0.7321 | train_pcc: 0.7505 | val_loss: 0.0487 | val_ccc: 0.4854 | val_pcc: 0.5992\n"
     ]
    },
    {
     "name": "stderr",
     "output_type": "stream",
     "text": [
      " 80%|████████  | 16/20 [21:14<05:18, 79.59s/it]\n"
     ]
    },
    {
     "name": "stdout",
     "output_type": "stream",
     "text": [
      "\u001b[36m(tune_cv_enet pid=29204)\u001b[0m Epoch: 16 | train_loss: 0.0358 | train_ccc: 0.7291 | train_pcc: 0.7491 | val_loss: 0.0457 | val_ccc: 0.4793 | val_pcc: 0.5976\n"
     ]
    },
    {
     "name": "stderr",
     "output_type": "stream",
     "text": [
      " 85%|████████▌ | 17/20 [22:34<03:59, 79.68s/it]\n"
     ]
    },
    {
     "name": "stdout",
     "output_type": "stream",
     "text": [
      "\u001b[36m(tune_cv_enet pid=29204)\u001b[0m Epoch: 17 | train_loss: 0.0359 | train_ccc: 0.7293 | train_pcc: 0.7491 | val_loss: 0.0491 | val_ccc: 0.4909 | val_pcc: 0.5969\n"
     ]
    },
    {
     "name": "stderr",
     "output_type": "stream",
     "text": [
      " 90%|█████████ | 18/20 [23:53<02:39, 79.63s/it]\n"
     ]
    },
    {
     "name": "stdout",
     "output_type": "stream",
     "text": [
      "\u001b[36m(tune_cv_enet pid=29204)\u001b[0m Epoch: 18 | train_loss: 0.0354 | train_ccc: 0.7342 | train_pcc: 0.7520 | val_loss: 0.0490 | val_ccc: 0.4984 | val_pcc: 0.6023\n"
     ]
    },
    {
     "name": "stderr",
     "output_type": "stream",
     "text": [
      " 95%|█████████▌| 19/20 [25:13<01:19, 79.66s/it]\n"
     ]
    },
    {
     "name": "stdout",
     "output_type": "stream",
     "text": [
      "\u001b[36m(tune_cv_enet pid=29204)\u001b[0m Epoch: 19 | train_loss: 0.0355 | train_ccc: 0.7334 | train_pcc: 0.7523 | val_loss: 0.0463 | val_ccc: 0.4747 | val_pcc: 0.5920\n"
     ]
    },
    {
     "name": "stderr",
     "output_type": "stream",
     "text": [
      "100%|██████████| 20/20 [26:32<00:00, 79.65s/it]\n",
      "  0%|          | 0/20 [00:00<?, ?it/s]\n"
     ]
    },
    {
     "name": "stdout",
     "output_type": "stream",
     "text": [
      "\u001b[36m(tune_cv_enet pid=29204)\u001b[0m Epoch: 20 | train_loss: 0.0352 | train_ccc: 0.7351 | train_pcc: 0.7545 | val_loss: 0.0469 | val_ccc: 0.4894 | val_pcc: 0.5986\n",
      "\u001b[36m(tune_cv_enet pid=29204)\u001b[0m \n",
      "\u001b[36m(tune_cv_enet pid=29204)\u001b[0m -------------------------------------------------------------------------\n",
      "\u001b[36m(tune_cv_enet pid=29204)\u001b[0m Size of the training set: 19873\n",
      "\u001b[36m(tune_cv_enet pid=29204)\u001b[0m Size of the validation set: 4845\n",
      "\u001b[36m(tune_cv_enet pid=29204)\u001b[0m [INFO] Created a new pretrained EfficientNet-B0 model.\n",
      "\u001b[36m(tune_cv_enet pid=29204)\u001b[0m Training results for fold_5:\n"
     ]
    },
    {
     "name": "stderr",
     "output_type": "stream",
     "text": [
      "  5%|▌         | 1/20 [01:19<25:03, 79.13s/it]\n"
     ]
    },
    {
     "name": "stdout",
     "output_type": "stream",
     "text": [
      "\u001b[36m(tune_cv_enet pid=29204)\u001b[0m Epoch: 1 | train_loss: 0.0713 | train_ccc: 0.4394 | train_pcc: 0.4545 | val_loss: 0.0559 | val_ccc: 0.4352 | val_pcc: 0.5523\n"
     ]
    },
    {
     "name": "stderr",
     "output_type": "stream",
     "text": [
      " 10%|█         | 2/20 [02:37<23:40, 78.93s/it]\n"
     ]
    },
    {
     "name": "stdout",
     "output_type": "stream",
     "text": [
      "\u001b[36m(tune_cv_enet pid=29204)\u001b[0m Epoch: 2 | train_loss: 0.0523 | train_ccc: 0.5902 | train_pcc: 0.6088 | val_loss: 0.0466 | val_ccc: 0.4586 | val_pcc: 0.6071\n"
     ]
    },
    {
     "name": "stderr",
     "output_type": "stream",
     "text": [
      " 15%|█▌        | 3/20 [03:56<22:22, 78.95s/it]\n"
     ]
    },
    {
     "name": "stdout",
     "output_type": "stream",
     "text": [
      "\u001b[36m(tune_cv_enet pid=29204)\u001b[0m Epoch: 3 | train_loss: 0.0471 | train_ccc: 0.6350 | train_pcc: 0.6526 | val_loss: 0.0493 | val_ccc: 0.4629 | val_pcc: 0.5805\n",
      "\u001b[36m(tune_cv_enet pid=29204)\u001b[0m Epoch: 4 | train_loss: 0.0440 | train_ccc: 0.6637 | train_pcc: 0.6808 | val_loss: 0.0462 | val_ccc: 0.4716 | val_pcc: 0.6078\n"
     ]
    },
    {
     "name": "stderr",
     "output_type": "stream",
     "text": [
      " 20%|██        | 4/20 [05:16<21:06, 79.14s/it]\n",
      " 25%|██▌       | 5/20 [06:35<19:49, 79.29s/it]\n"
     ]
    },
    {
     "name": "stdout",
     "output_type": "stream",
     "text": [
      "\u001b[36m(tune_cv_enet pid=29204)\u001b[0m Epoch: 5 | train_loss: 0.0409 | train_ccc: 0.6863 | train_pcc: 0.7032 | val_loss: 0.0464 | val_ccc: 0.4758 | val_pcc: 0.6077\n"
     ]
    },
    {
     "name": "stderr",
     "output_type": "stream",
     "text": [
      " 30%|███       | 6/20 [07:55<18:31, 79.42s/it]\n"
     ]
    },
    {
     "name": "stdout",
     "output_type": "stream",
     "text": [
      "\u001b[36m(tune_cv_enet pid=29204)\u001b[0m Epoch: 6 | train_loss: 0.0398 | train_ccc: 0.6935 | train_pcc: 0.7123 | val_loss: 0.0451 | val_ccc: 0.4935 | val_pcc: 0.6259\n"
     ]
    },
    {
     "name": "stderr",
     "output_type": "stream",
     "text": [
      " 35%|███▌      | 7/20 [09:15<17:12, 79.43s/it]\n"
     ]
    },
    {
     "name": "stdout",
     "output_type": "stream",
     "text": [
      "\u001b[36m(tune_cv_enet pid=29204)\u001b[0m Epoch: 7 | train_loss: 0.0391 | train_ccc: 0.6975 | train_pcc: 0.7167 | val_loss: 0.0466 | val_ccc: 0.4698 | val_pcc: 0.6281\n"
     ]
    },
    {
     "name": "stderr",
     "output_type": "stream",
     "text": [
      " 40%|████      | 8/20 [10:34<15:52, 79.35s/it]\n"
     ]
    },
    {
     "name": "stdout",
     "output_type": "stream",
     "text": [
      "\u001b[36m(tune_cv_enet pid=29204)\u001b[0m Epoch: 8 | train_loss: 0.0382 | train_ccc: 0.7046 | train_pcc: 0.7239 | val_loss: 0.0463 | val_ccc: 0.4970 | val_pcc: 0.6186\n"
     ]
    },
    {
     "name": "stderr",
     "output_type": "stream",
     "text": [
      " 45%|████▌     | 9/20 [11:53<14:33, 79.42s/it]\n"
     ]
    },
    {
     "name": "stdout",
     "output_type": "stream",
     "text": [
      "\u001b[36m(tune_cv_enet pid=29204)\u001b[0m Epoch: 9 | train_loss: 0.0379 | train_ccc: 0.7109 | train_pcc: 0.7290 | val_loss: 0.0460 | val_ccc: 0.4961 | val_pcc: 0.6239\n"
     ]
    },
    {
     "name": "stderr",
     "output_type": "stream",
     "text": [
      " 50%|█████     | 10/20 [13:13<13:15, 79.51s/it]\n"
     ]
    },
    {
     "name": "stdout",
     "output_type": "stream",
     "text": [
      "\u001b[36m(tune_cv_enet pid=29204)\u001b[0m Epoch: 10 | train_loss: 0.0380 | train_ccc: 0.7119 | train_pcc: 0.7285 | val_loss: 0.0454 | val_ccc: 0.4894 | val_pcc: 0.6351\n"
     ]
    },
    {
     "name": "stderr",
     "output_type": "stream",
     "text": [
      " 55%|█████▌    | 11/20 [14:32<11:54, 79.34s/it]\n"
     ]
    },
    {
     "name": "stdout",
     "output_type": "stream",
     "text": [
      "\u001b[36m(tune_cv_enet pid=29204)\u001b[0m Epoch: 11 | train_loss: 0.0372 | train_ccc: 0.7140 | train_pcc: 0.7320 | val_loss: 0.0469 | val_ccc: 0.4687 | val_pcc: 0.6268\n"
     ]
    },
    {
     "name": "stderr",
     "output_type": "stream",
     "text": [
      " 60%|██████    | 12/20 [15:52<10:36, 79.55s/it]\n"
     ]
    },
    {
     "name": "stdout",
     "output_type": "stream",
     "text": [
      "\u001b[36m(tune_cv_enet pid=29204)\u001b[0m Epoch: 12 | train_loss: 0.0367 | train_ccc: 0.7150 | train_pcc: 0.7348 | val_loss: 0.0478 | val_ccc: 0.4952 | val_pcc: 0.6110\n"
     ]
    },
    {
     "name": "stderr",
     "output_type": "stream",
     "text": [
      " 65%|██████▌   | 13/20 [17:12<09:16, 79.56s/it]\n"
     ]
    },
    {
     "name": "stdout",
     "output_type": "stream",
     "text": [
      "\u001b[36m(tune_cv_enet pid=29204)\u001b[0m Epoch: 13 | train_loss: 0.0366 | train_ccc: 0.7174 | train_pcc: 0.7368 | val_loss: 0.0458 | val_ccc: 0.4845 | val_pcc: 0.6322\n"
     ]
    },
    {
     "name": "stderr",
     "output_type": "stream",
     "text": [
      " 70%|███████   | 14/20 [18:31<07:57, 79.59s/it]\n"
     ]
    },
    {
     "name": "stdout",
     "output_type": "stream",
     "text": [
      "\u001b[36m(tune_cv_enet pid=29204)\u001b[0m Epoch: 14 | train_loss: 0.0359 | train_ccc: 0.7229 | train_pcc: 0.7408 | val_loss: 0.0452 | val_ccc: 0.5047 | val_pcc: 0.6277\n"
     ]
    },
    {
     "name": "stderr",
     "output_type": "stream",
     "text": [
      " 75%|███████▌  | 15/20 [19:51<06:37, 79.51s/it]\n"
     ]
    },
    {
     "name": "stdout",
     "output_type": "stream",
     "text": [
      "\u001b[36m(tune_cv_enet pid=29204)\u001b[0m Epoch: 15 | train_loss: 0.0365 | train_ccc: 0.7190 | train_pcc: 0.7377 | val_loss: 0.0461 | val_ccc: 0.4852 | val_pcc: 0.6314\n"
     ]
    },
    {
     "name": "stderr",
     "output_type": "stream",
     "text": [
      " 80%|████████  | 16/20 [21:10<05:17, 79.46s/it]\n"
     ]
    },
    {
     "name": "stdout",
     "output_type": "stream",
     "text": [
      "\u001b[36m(tune_cv_enet pid=29204)\u001b[0m Epoch: 16 | train_loss: 0.0359 | train_ccc: 0.7208 | train_pcc: 0.7403 | val_loss: 0.0457 | val_ccc: 0.4863 | val_pcc: 0.6305\n"
     ]
    },
    {
     "name": "stderr",
     "output_type": "stream",
     "text": [
      " 85%|████████▌ | 17/20 [22:29<03:58, 79.42s/it]\n"
     ]
    },
    {
     "name": "stdout",
     "output_type": "stream",
     "text": [
      "\u001b[36m(tune_cv_enet pid=29204)\u001b[0m Epoch: 17 | train_loss: 0.0363 | train_ccc: 0.7203 | train_pcc: 0.7382 | val_loss: 0.0466 | val_ccc: 0.4720 | val_pcc: 0.6264\n"
     ]
    },
    {
     "name": "stderr",
     "output_type": "stream",
     "text": [
      " 90%|█████████ | 18/20 [23:48<02:38, 79.33s/it]\n"
     ]
    },
    {
     "name": "stdout",
     "output_type": "stream",
     "text": [
      "\u001b[36m(tune_cv_enet pid=29204)\u001b[0m Epoch: 18 | train_loss: 0.0360 | train_ccc: 0.7194 | train_pcc: 0.7392 | val_loss: 0.0456 | val_ccc: 0.4986 | val_pcc: 0.6247\n"
     ]
    },
    {
     "name": "stderr",
     "output_type": "stream",
     "text": [
      " 95%|█████████▌| 19/20 [25:08<01:19, 79.30s/it]\n"
     ]
    },
    {
     "name": "stdout",
     "output_type": "stream",
     "text": [
      "\u001b[36m(tune_cv_enet pid=29204)\u001b[0m Epoch: 19 | train_loss: 0.0356 | train_ccc: 0.7215 | train_pcc: 0.7430 | val_loss: 0.0451 | val_ccc: 0.4876 | val_pcc: 0.6304\n"
     ]
    },
    {
     "name": "stderr",
     "output_type": "stream",
     "text": [
      "100%|██████████| 20/20 [26:27<00:00, 79.38s/it]\n"
     ]
    },
    {
     "name": "stdout",
     "output_type": "stream",
     "text": [
      "\u001b[36m(tune_cv_enet pid=29204)\u001b[0m Epoch: 20 | train_loss: 0.0358 | train_ccc: 0.7218 | train_pcc: 0.7427 | val_loss: 0.0454 | val_ccc: 0.4851 | val_pcc: 0.6336\n",
      "\u001b[36m(tune_cv_enet pid=29152)\u001b[0m cuda\n",
      "\u001b[36m(tune_cv_enet pid=29152)\u001b[0m [INFO] Created SummaryWriter, saving to: C:\\local\\AIProject\\runs\\hp_tuning_cv\\pretrained_enet\\start_07-11-56\\2024-05-30_17-58-35...\n",
      "\u001b[36m(tune_cv_enet pid=29152)\u001b[0m \n",
      "\u001b[36m(tune_cv_enet pid=29152)\u001b[0m -------------------------------------------------------------------------\n",
      "\u001b[36m(tune_cv_enet pid=29152)\u001b[0m Size of the training set: 19803\n",
      "\u001b[36m(tune_cv_enet pid=29152)\u001b[0m Size of the validation set: 4915\n"
     ]
    },
    {
     "name": "stderr",
     "output_type": "stream",
     "text": [
      "  0%|          | 0/20 [00:00<?, ?it/s]\n"
     ]
    },
    {
     "name": "stdout",
     "output_type": "stream",
     "text": [
      "\u001b[36m(tune_cv_enet pid=29152)\u001b[0m [INFO] Created a new pretrained EfficientNet-B0 model.\n",
      "\u001b[36m(tune_cv_enet pid=29152)\u001b[0m Training results for fold_1:\n"
     ]
    },
    {
     "name": "stderr",
     "output_type": "stream",
     "text": [
      "  5%|▌         | 1/20 [01:22<26:12, 82.76s/it]\n"
     ]
    },
    {
     "name": "stdout",
     "output_type": "stream",
     "text": [
      "\u001b[36m(tune_cv_enet pid=29152)\u001b[0m Epoch: 1 | train_loss: 0.0526 | train_ccc: 0.5677 | train_pcc: 0.6044 | val_loss: 0.0511 | val_ccc: 0.4195 | val_pcc: 0.5033\n",
      "\u001b[36m(tune_cv_enet pid=29152)\u001b[0m Epoch: 2 | train_loss: 0.0344 | train_ccc: 0.7169 | train_pcc: 0.7525 | val_loss: 0.0508 | val_ccc: 0.3883 | val_pcc: 0.4686\n"
     ]
    },
    {
     "name": "stderr",
     "output_type": "stream",
     "text": [
      " 10%|█         | 2/20 [02:43<24:23, 81.31s/it]\n",
      " 15%|█▌        | 3/20 [04:03<22:53, 80.77s/it]\n"
     ]
    },
    {
     "name": "stdout",
     "output_type": "stream",
     "text": [
      "\u001b[36m(tune_cv_enet pid=29152)\u001b[0m Epoch: 3 | train_loss: 0.0310 | train_ccc: 0.7466 | train_pcc: 0.7796 | val_loss: 0.0497 | val_ccc: 0.4126 | val_pcc: 0.4786\n"
     ]
    },
    {
     "name": "stderr",
     "output_type": "stream",
     "text": [
      " 20%|██        | 4/20 [05:23<21:29, 80.61s/it]\n"
     ]
    },
    {
     "name": "stdout",
     "output_type": "stream",
     "text": [
      "\u001b[36m(tune_cv_enet pid=29152)\u001b[0m Epoch: 4 | train_loss: 0.0291 | train_ccc: 0.7699 | train_pcc: 0.7965 | val_loss: 0.0516 | val_ccc: 0.3758 | val_pcc: 0.4507\n"
     ]
    },
    {
     "name": "stderr",
     "output_type": "stream",
     "text": [
      " 25%|██▌       | 5/20 [06:43<20:08, 80.55s/it]\n"
     ]
    },
    {
     "name": "stdout",
     "output_type": "stream",
     "text": [
      "\u001b[36m(tune_cv_enet pid=29152)\u001b[0m Epoch: 5 | train_loss: 0.0278 | train_ccc: 0.7831 | train_pcc: 0.8068 | val_loss: 0.0526 | val_ccc: 0.4523 | val_pcc: 0.5040\n"
     ]
    },
    {
     "name": "stderr",
     "output_type": "stream",
     "text": [
      " 30%|███       | 6/20 [08:04<18:46, 80.46s/it]\n"
     ]
    },
    {
     "name": "stdout",
     "output_type": "stream",
     "text": [
      "\u001b[36m(tune_cv_enet pid=29152)\u001b[0m Epoch: 6 | train_loss: 0.0263 | train_ccc: 0.7962 | train_pcc: 0.8179 | val_loss: 0.0534 | val_ccc: 0.3657 | val_pcc: 0.4288\n"
     ]
    },
    {
     "name": "stderr",
     "output_type": "stream",
     "text": [
      " 35%|███▌      | 7/20 [09:24<17:26, 80.52s/it]\n"
     ]
    },
    {
     "name": "stdout",
     "output_type": "stream",
     "text": [
      "\u001b[36m(tune_cv_enet pid=29152)\u001b[0m Epoch: 7 | train_loss: 0.0252 | train_ccc: 0.8047 | train_pcc: 0.8258 | val_loss: 0.0518 | val_ccc: 0.4113 | val_pcc: 0.4610\n"
     ]
    },
    {
     "name": "stderr",
     "output_type": "stream",
     "text": [
      " 40%|████      | 8/20 [10:45<16:04, 80.39s/it]\n"
     ]
    },
    {
     "name": "stdout",
     "output_type": "stream",
     "text": [
      "\u001b[36m(tune_cv_enet pid=29152)\u001b[0m Epoch: 8 | train_loss: 0.0249 | train_ccc: 0.8082 | train_pcc: 0.8291 | val_loss: 0.0558 | val_ccc: 0.3696 | val_pcc: 0.4236\n"
     ]
    },
    {
     "name": "stderr",
     "output_type": "stream",
     "text": [
      " 45%|████▌     | 9/20 [12:05<14:44, 80.39s/it]\n"
     ]
    },
    {
     "name": "stdout",
     "output_type": "stream",
     "text": [
      "\u001b[36m(tune_cv_enet pid=29152)\u001b[0m Epoch: 9 | train_loss: 0.0234 | train_ccc: 0.8199 | train_pcc: 0.8388 | val_loss: 0.0522 | val_ccc: 0.4396 | val_pcc: 0.4839\n"
     ]
    },
    {
     "name": "stderr",
     "output_type": "stream",
     "text": [
      " 50%|█████     | 10/20 [13:25<13:23, 80.34s/it]\n"
     ]
    },
    {
     "name": "stdout",
     "output_type": "stream",
     "text": [
      "\u001b[36m(tune_cv_enet pid=29152)\u001b[0m Epoch: 10 | train_loss: 0.0234 | train_ccc: 0.8232 | train_pcc: 0.8390 | val_loss: 0.0562 | val_ccc: 0.3618 | val_pcc: 0.4177\n"
     ]
    },
    {
     "name": "stderr",
     "output_type": "stream",
     "text": [
      " 55%|█████▌    | 11/20 [14:45<12:02, 80.28s/it]\n"
     ]
    },
    {
     "name": "stdout",
     "output_type": "stream",
     "text": [
      "\u001b[36m(tune_cv_enet pid=29152)\u001b[0m Epoch: 11 | train_loss: 0.0230 | train_ccc: 0.8254 | train_pcc: 0.8431 | val_loss: 0.0542 | val_ccc: 0.3959 | val_pcc: 0.4447\n"
     ]
    },
    {
     "name": "stderr",
     "output_type": "stream",
     "text": [
      " 60%|██████    | 12/20 [16:06<10:43, 80.38s/it]\n"
     ]
    },
    {
     "name": "stdout",
     "output_type": "stream",
     "text": [
      "\u001b[36m(tune_cv_enet pid=29152)\u001b[0m Epoch: 12 | train_loss: 0.0233 | train_ccc: 0.8250 | train_pcc: 0.8415 | val_loss: 0.0562 | val_ccc: 0.3580 | val_pcc: 0.4137\n"
     ]
    },
    {
     "name": "stderr",
     "output_type": "stream",
     "text": [
      " 65%|██████▌   | 13/20 [17:26<09:22, 80.40s/it]\n"
     ]
    },
    {
     "name": "stdout",
     "output_type": "stream",
     "text": [
      "\u001b[36m(tune_cv_enet pid=29152)\u001b[0m Epoch: 13 | train_loss: 0.0221 | train_ccc: 0.8323 | train_pcc: 0.8493 | val_loss: 0.0542 | val_ccc: 0.4366 | val_pcc: 0.4755\n"
     ]
    },
    {
     "name": "stderr",
     "output_type": "stream",
     "text": [
      " 70%|███████   | 14/20 [18:47<08:02, 80.37s/it]\n"
     ]
    },
    {
     "name": "stdout",
     "output_type": "stream",
     "text": [
      "\u001b[36m(tune_cv_enet pid=29152)\u001b[0m Epoch: 14 | train_loss: 0.0222 | train_ccc: 0.8341 | train_pcc: 0.8486 | val_loss: 0.0543 | val_ccc: 0.4105 | val_pcc: 0.4481\n"
     ]
    },
    {
     "name": "stderr",
     "output_type": "stream",
     "text": [
      " 75%|███████▌  | 15/20 [20:07<06:41, 80.30s/it]\n"
     ]
    },
    {
     "name": "stdout",
     "output_type": "stream",
     "text": [
      "\u001b[36m(tune_cv_enet pid=29152)\u001b[0m Epoch: 15 | train_loss: 0.0211 | train_ccc: 0.8414 | train_pcc: 0.8550 | val_loss: 0.0553 | val_ccc: 0.3931 | val_pcc: 0.4325\n"
     ]
    },
    {
     "name": "stderr",
     "output_type": "stream",
     "text": [
      " 80%|████████  | 16/20 [21:27<05:21, 80.41s/it]\n"
     ]
    },
    {
     "name": "stdout",
     "output_type": "stream",
     "text": [
      "\u001b[36m(tune_cv_enet pid=29152)\u001b[0m Epoch: 16 | train_loss: 0.0221 | train_ccc: 0.8360 | train_pcc: 0.8508 | val_loss: 0.0562 | val_ccc: 0.4389 | val_pcc: 0.4787\n"
     ]
    },
    {
     "name": "stderr",
     "output_type": "stream",
     "text": [
      " 85%|████████▌ | 17/20 [22:48<04:01, 80.37s/it]\n"
     ]
    },
    {
     "name": "stdout",
     "output_type": "stream",
     "text": [
      "\u001b[36m(tune_cv_enet pid=29152)\u001b[0m Epoch: 17 | train_loss: 0.0221 | train_ccc: 0.8366 | train_pcc: 0.8499 | val_loss: 0.0566 | val_ccc: 0.3665 | val_pcc: 0.4107\n"
     ]
    },
    {
     "name": "stderr",
     "output_type": "stream",
     "text": [
      " 90%|█████████ | 18/20 [24:08<02:40, 80.33s/it]\n"
     ]
    },
    {
     "name": "stdout",
     "output_type": "stream",
     "text": [
      "\u001b[36m(tune_cv_enet pid=29152)\u001b[0m Epoch: 18 | train_loss: 0.0212 | train_ccc: 0.8432 | train_pcc: 0.8576 | val_loss: 0.0547 | val_ccc: 0.4238 | val_pcc: 0.4614\n"
     ]
    },
    {
     "name": "stderr",
     "output_type": "stream",
     "text": [
      " 95%|█████████▌| 19/20 [25:29<01:20, 80.40s/it]\n"
     ]
    },
    {
     "name": "stdout",
     "output_type": "stream",
     "text": [
      "\u001b[36m(tune_cv_enet pid=29152)\u001b[0m Epoch: 19 | train_loss: 0.0217 | train_ccc: 0.8409 | train_pcc: 0.8530 | val_loss: 0.0554 | val_ccc: 0.4017 | val_pcc: 0.4384\n"
     ]
    },
    {
     "name": "stderr",
     "output_type": "stream",
     "text": [
      "100%|██████████| 20/20 [26:49<00:00, 80.48s/it]\n",
      "  0%|          | 0/20 [00:00<?, ?it/s]\n"
     ]
    },
    {
     "name": "stdout",
     "output_type": "stream",
     "text": [
      "\u001b[36m(tune_cv_enet pid=29152)\u001b[0m Epoch: 20 | train_loss: 0.0216 | train_ccc: 0.8411 | train_pcc: 0.8539 | val_loss: 0.0563 | val_ccc: 0.3886 | val_pcc: 0.4302\n",
      "\u001b[36m(tune_cv_enet pid=29152)\u001b[0m \n",
      "\u001b[36m(tune_cv_enet pid=29152)\u001b[0m -------------------------------------------------------------------------\n",
      "\u001b[36m(tune_cv_enet pid=29152)\u001b[0m Size of the training set: 19703\n",
      "\u001b[36m(tune_cv_enet pid=29152)\u001b[0m Size of the validation set: 5015\n",
      "\u001b[36m(tune_cv_enet pid=29152)\u001b[0m [INFO] Created a new pretrained EfficientNet-B0 model.\n",
      "\u001b[36m(tune_cv_enet pid=29152)\u001b[0m Training results for fold_2:\n"
     ]
    },
    {
     "name": "stderr",
     "output_type": "stream",
     "text": [
      "  5%|▌         | 1/20 [01:19<25:14, 79.71s/it]\n"
     ]
    },
    {
     "name": "stdout",
     "output_type": "stream",
     "text": [
      "\u001b[36m(tune_cv_enet pid=29152)\u001b[0m Epoch: 1 | train_loss: 0.0558 | train_ccc: 0.5209 | train_pcc: 0.5679 | val_loss: 0.0408 | val_ccc: 0.4697 | val_pcc: 0.5900\n"
     ]
    },
    {
     "name": "stderr",
     "output_type": "stream",
     "text": [
      " 10%|█         | 2/20 [02:39<23:50, 79.47s/it]\n"
     ]
    },
    {
     "name": "stdout",
     "output_type": "stream",
     "text": [
      "\u001b[36m(tune_cv_enet pid=29152)\u001b[0m Epoch: 2 | train_loss: 0.0394 | train_ccc: 0.6662 | train_pcc: 0.7097 | val_loss: 0.0372 | val_ccc: 0.5471 | val_pcc: 0.6233\n"
     ]
    },
    {
     "name": "stderr",
     "output_type": "stream",
     "text": [
      " 15%|█▌        | 3/20 [03:58<22:30, 79.45s/it]\n"
     ]
    },
    {
     "name": "stdout",
     "output_type": "stream",
     "text": [
      "\u001b[36m(tune_cv_enet pid=29152)\u001b[0m Epoch: 3 | train_loss: 0.0351 | train_ccc: 0.7093 | train_pcc: 0.7468 | val_loss: 0.0397 | val_ccc: 0.5855 | val_pcc: 0.6403\n"
     ]
    },
    {
     "name": "stderr",
     "output_type": "stream",
     "text": [
      " 20%|██        | 4/20 [05:17<21:11, 79.45s/it]\n"
     ]
    },
    {
     "name": "stdout",
     "output_type": "stream",
     "text": [
      "\u001b[36m(tune_cv_enet pid=29152)\u001b[0m Epoch: 4 | train_loss: 0.0314 | train_ccc: 0.7401 | train_pcc: 0.7754 | val_loss: 0.0436 | val_ccc: 0.5239 | val_pcc: 0.6121\n"
     ]
    },
    {
     "name": "stderr",
     "output_type": "stream",
     "text": [
      " 25%|██▌       | 5/20 [06:37<19:51, 79.42s/it]\n"
     ]
    },
    {
     "name": "stdout",
     "output_type": "stream",
     "text": [
      "\u001b[36m(tune_cv_enet pid=29152)\u001b[0m Epoch: 5 | train_loss: 0.0295 | train_ccc: 0.7599 | train_pcc: 0.7894 | val_loss: 0.0362 | val_ccc: 0.5944 | val_pcc: 0.6561\n"
     ]
    },
    {
     "name": "stderr",
     "output_type": "stream",
     "text": [
      " 30%|███       | 6/20 [07:56<18:30, 79.29s/it]\n"
     ]
    },
    {
     "name": "stdout",
     "output_type": "stream",
     "text": [
      "\u001b[36m(tune_cv_enet pid=29152)\u001b[0m Epoch: 6 | train_loss: 0.0282 | train_ccc: 0.7713 | train_pcc: 0.8000 | val_loss: 0.0380 | val_ccc: 0.5947 | val_pcc: 0.6549\n"
     ]
    },
    {
     "name": "stderr",
     "output_type": "stream",
     "text": [
      " 35%|███▌      | 7/20 [09:15<17:10, 79.27s/it]\n"
     ]
    },
    {
     "name": "stdout",
     "output_type": "stream",
     "text": [
      "\u001b[36m(tune_cv_enet pid=29152)\u001b[0m Epoch: 7 | train_loss: 0.0277 | train_ccc: 0.7780 | train_pcc: 0.8051 | val_loss: 0.0501 | val_ccc: 0.4580 | val_pcc: 0.5339\n"
     ]
    },
    {
     "name": "stderr",
     "output_type": "stream",
     "text": [
      " 40%|████      | 8/20 [10:35<15:52, 79.37s/it]\n"
     ]
    },
    {
     "name": "stdout",
     "output_type": "stream",
     "text": [
      "\u001b[36m(tune_cv_enet pid=29152)\u001b[0m Epoch: 8 | train_loss: 0.0270 | train_ccc: 0.7868 | train_pcc: 0.8116 | val_loss: 0.0420 | val_ccc: 0.5244 | val_pcc: 0.6094\n"
     ]
    },
    {
     "name": "stderr",
     "output_type": "stream",
     "text": [
      " 45%|████▌     | 9/20 [11:54<14:32, 79.31s/it]\n"
     ]
    },
    {
     "name": "stdout",
     "output_type": "stream",
     "text": [
      "\u001b[36m(tune_cv_enet pid=29152)\u001b[0m Epoch: 9 | train_loss: 0.0271 | train_ccc: 0.7887 | train_pcc: 0.8118 | val_loss: 0.0389 | val_ccc: 0.5952 | val_pcc: 0.6503\n"
     ]
    },
    {
     "name": "stderr",
     "output_type": "stream",
     "text": [
      " 50%|█████     | 10/20 [13:13<13:13, 79.31s/it]\n"
     ]
    },
    {
     "name": "stdout",
     "output_type": "stream",
     "text": [
      "\u001b[36m(tune_cv_enet pid=29152)\u001b[0m Epoch: 10 | train_loss: 0.0254 | train_ccc: 0.8009 | train_pcc: 0.8222 | val_loss: 0.0385 | val_ccc: 0.5904 | val_pcc: 0.6510\n"
     ]
    },
    {
     "name": "stderr",
     "output_type": "stream",
     "text": [
      " 55%|█████▌    | 11/20 [14:32<11:53, 79.32s/it]\n"
     ]
    },
    {
     "name": "stdout",
     "output_type": "stream",
     "text": [
      "\u001b[36m(tune_cv_enet pid=29152)\u001b[0m Epoch: 11 | train_loss: 0.0259 | train_ccc: 0.7996 | train_pcc: 0.8190 | val_loss: 0.0400 | val_ccc: 0.5661 | val_pcc: 0.6335\n"
     ]
    },
    {
     "name": "stderr",
     "output_type": "stream",
     "text": [
      " 60%|██████    | 12/20 [15:52<10:34, 79.37s/it]\n"
     ]
    },
    {
     "name": "stdout",
     "output_type": "stream",
     "text": [
      "\u001b[36m(tune_cv_enet pid=29152)\u001b[0m Epoch: 12 | train_loss: 0.0245 | train_ccc: 0.8109 | train_pcc: 0.8295 | val_loss: 0.0454 | val_ccc: 0.5058 | val_pcc: 0.5844\n"
     ]
    },
    {
     "name": "stderr",
     "output_type": "stream",
     "text": [
      " 65%|██████▌   | 13/20 [17:11<09:15, 79.42s/it]\n"
     ]
    },
    {
     "name": "stdout",
     "output_type": "stream",
     "text": [
      "\u001b[36m(tune_cv_enet pid=29152)\u001b[0m Epoch: 13 | train_loss: 0.0245 | train_ccc: 0.8104 | train_pcc: 0.8297 | val_loss: 0.0459 | val_ccc: 0.5180 | val_pcc: 0.5838\n"
     ]
    },
    {
     "name": "stderr",
     "output_type": "stream",
     "text": [
      " 70%|███████   | 14/20 [18:31<07:56, 79.45s/it]\n"
     ]
    },
    {
     "name": "stdout",
     "output_type": "stream",
     "text": [
      "\u001b[36m(tune_cv_enet pid=29152)\u001b[0m Epoch: 14 | train_loss: 0.0243 | train_ccc: 0.8136 | train_pcc: 0.8312 | val_loss: 0.0433 | val_ccc: 0.5407 | val_pcc: 0.6077\n"
     ]
    },
    {
     "name": "stderr",
     "output_type": "stream",
     "text": [
      " 75%|███████▌  | 15/20 [19:50<06:37, 79.44s/it]\n"
     ]
    },
    {
     "name": "stdout",
     "output_type": "stream",
     "text": [
      "\u001b[36m(tune_cv_enet pid=29152)\u001b[0m Epoch: 15 | train_loss: 0.0245 | train_ccc: 0.8133 | train_pcc: 0.8314 | val_loss: 0.0405 | val_ccc: 0.5938 | val_pcc: 0.6488\n"
     ]
    },
    {
     "name": "stderr",
     "output_type": "stream",
     "text": [
      " 80%|████████  | 16/20 [21:09<05:17, 79.31s/it]\n"
     ]
    },
    {
     "name": "stdout",
     "output_type": "stream",
     "text": [
      "\u001b[36m(tune_cv_enet pid=29152)\u001b[0m Epoch: 16 | train_loss: 0.0264 | train_ccc: 0.8032 | train_pcc: 0.8195 | val_loss: 0.0417 | val_ccc: 0.5776 | val_pcc: 0.6346\n"
     ]
    },
    {
     "name": "stderr",
     "output_type": "stream",
     "text": [
      " 85%|████████▌ | 17/20 [22:29<03:58, 79.34s/it]\n"
     ]
    },
    {
     "name": "stdout",
     "output_type": "stream",
     "text": [
      "\u001b[36m(tune_cv_enet pid=29152)\u001b[0m Epoch: 17 | train_loss: 0.0235 | train_ccc: 0.8221 | train_pcc: 0.8374 | val_loss: 0.0424 | val_ccc: 0.5537 | val_pcc: 0.6192\n"
     ]
    },
    {
     "name": "stderr",
     "output_type": "stream",
     "text": [
      " 90%|█████████ | 18/20 [23:48<02:38, 79.40s/it]\n"
     ]
    },
    {
     "name": "stdout",
     "output_type": "stream",
     "text": [
      "\u001b[36m(tune_cv_enet pid=29152)\u001b[0m Epoch: 18 | train_loss: 0.0237 | train_ccc: 0.8197 | train_pcc: 0.8365 | val_loss: 0.0458 | val_ccc: 0.5389 | val_pcc: 0.6008\n"
     ]
    },
    {
     "name": "stderr",
     "output_type": "stream",
     "text": [
      " 95%|█████████▌| 19/20 [25:08<01:19, 79.37s/it]\n"
     ]
    },
    {
     "name": "stdout",
     "output_type": "stream",
     "text": [
      "\u001b[36m(tune_cv_enet pid=29152)\u001b[0m Epoch: 19 | train_loss: 0.0229 | train_ccc: 0.8266 | train_pcc: 0.8427 | val_loss: 0.0440 | val_ccc: 0.5461 | val_pcc: 0.6153\n",
      "\u001b[36m(tune_cv_enet pid=29152)\u001b[0m Epoch: 20 | train_loss: 0.0219 | train_ccc: 0.8330 | train_pcc: 0.8481 | val_loss: 0.0496 | val_ccc: 0.4974 | val_pcc: 0.5673\n",
      "\u001b[36m(tune_cv_enet pid=29152)\u001b[0m \n",
      "\u001b[36m(tune_cv_enet pid=29152)\u001b[0m -------------------------------------------------------------------------\n",
      "\u001b[36m(tune_cv_enet pid=29152)\u001b[0m Size of the training set: 19826\n",
      "\u001b[36m(tune_cv_enet pid=29152)\u001b[0m Size of the validation set: 4892\n",
      "\u001b[36m(tune_cv_enet pid=29152)\u001b[0m [INFO] Created a new pretrained EfficientNet-B0 model.\n",
      "\u001b[36m(tune_cv_enet pid=29152)\u001b[0m Training results for fold_3:\n"
     ]
    },
    {
     "name": "stderr",
     "output_type": "stream",
     "text": [
      "100%|██████████| 20/20 [26:27<00:00, 79.38s/it]\n",
      "  0%|          | 0/20 [00:00<?, ?it/s]\n"
     ]
    },
    {
     "name": "stdout",
     "output_type": "stream",
     "text": [
      "\u001b[36m(tune_cv_enet pid=29152)\u001b[0m Epoch: 1 | train_loss: 0.0550 | train_ccc: 0.5653 | train_pcc: 0.6023 | val_loss: 0.0501 | val_ccc: 0.3142 | val_pcc: 0.3987\n"
     ]
    },
    {
     "name": "stderr",
     "output_type": "stream",
     "text": [
      "  5%|▌         | 1/20 [01:19<25:09, 79.47s/it]\n",
      " 10%|█         | 2/20 [02:38<23:44, 79.14s/it]\n"
     ]
    },
    {
     "name": "stdout",
     "output_type": "stream",
     "text": [
      "\u001b[36m(tune_cv_enet pid=29152)\u001b[0m Epoch: 2 | train_loss: 0.0346 | train_ccc: 0.7219 | train_pcc: 0.7581 | val_loss: 0.0482 | val_ccc: 0.3397 | val_pcc: 0.4302\n"
     ]
    },
    {
     "name": "stderr",
     "output_type": "stream",
     "text": [
      " 15%|█▌        | 3/20 [03:57<22:24, 79.06s/it]\n"
     ]
    },
    {
     "name": "stdout",
     "output_type": "stream",
     "text": [
      "\u001b[36m(tune_cv_enet pid=29152)\u001b[0m Epoch: 3 | train_loss: 0.0308 | train_ccc: 0.7593 | train_pcc: 0.7898 | val_loss: 0.0482 | val_ccc: 0.3505 | val_pcc: 0.4381\n"
     ]
    },
    {
     "name": "stderr",
     "output_type": "stream",
     "text": [
      " 20%|██        | 4/20 [05:16<21:04, 79.06s/it]\n"
     ]
    },
    {
     "name": "stdout",
     "output_type": "stream",
     "text": [
      "\u001b[36m(tune_cv_enet pid=29152)\u001b[0m Epoch: 4 | train_loss: 0.0282 | train_ccc: 0.7824 | train_pcc: 0.8090 | val_loss: 0.0486 | val_ccc: 0.3575 | val_pcc: 0.4415\n"
     ]
    },
    {
     "name": "stderr",
     "output_type": "stream",
     "text": [
      " 25%|██▌       | 5/20 [06:35<19:46, 79.13s/it]\n"
     ]
    },
    {
     "name": "stdout",
     "output_type": "stream",
     "text": [
      "\u001b[36m(tune_cv_enet pid=29152)\u001b[0m Epoch: 5 | train_loss: 0.0273 | train_ccc: 0.7942 | train_pcc: 0.8179 | val_loss: 0.0500 | val_ccc: 0.3713 | val_pcc: 0.4465\n"
     ]
    },
    {
     "name": "stderr",
     "output_type": "stream",
     "text": [
      " 30%|███       | 6/20 [07:55<18:28, 79.21s/it]\n"
     ]
    },
    {
     "name": "stdout",
     "output_type": "stream",
     "text": [
      "\u001b[36m(tune_cv_enet pid=29152)\u001b[0m Epoch: 6 | train_loss: 0.0269 | train_ccc: 0.8033 | train_pcc: 0.8237 | val_loss: 0.0510 | val_ccc: 0.3747 | val_pcc: 0.4443\n"
     ]
    },
    {
     "name": "stderr",
     "output_type": "stream",
     "text": [
      " 35%|███▌      | 7/20 [09:14<17:09, 79.20s/it]\n"
     ]
    },
    {
     "name": "stdout",
     "output_type": "stream",
     "text": [
      "\u001b[36m(tune_cv_enet pid=29152)\u001b[0m Epoch: 7 | train_loss: 0.0260 | train_ccc: 0.8084 | train_pcc: 0.8268 | val_loss: 0.0485 | val_ccc: 0.3724 | val_pcc: 0.4428\n"
     ]
    },
    {
     "name": "stderr",
     "output_type": "stream",
     "text": [
      " 40%|████      | 8/20 [10:33<15:49, 79.14s/it]\n"
     ]
    },
    {
     "name": "stdout",
     "output_type": "stream",
     "text": [
      "\u001b[36m(tune_cv_enet pid=29152)\u001b[0m Epoch: 8 | train_loss: 0.0241 | train_ccc: 0.8217 | train_pcc: 0.8396 | val_loss: 0.0490 | val_ccc: 0.3770 | val_pcc: 0.4447\n"
     ]
    },
    {
     "name": "stderr",
     "output_type": "stream",
     "text": [
      " 45%|████▌     | 9/20 [11:52<14:29, 79.06s/it]\n"
     ]
    },
    {
     "name": "stdout",
     "output_type": "stream",
     "text": [
      "\u001b[36m(tune_cv_enet pid=29152)\u001b[0m Epoch: 9 | train_loss: 0.0233 | train_ccc: 0.8287 | train_pcc: 0.8458 | val_loss: 0.0491 | val_ccc: 0.3676 | val_pcc: 0.4359\n"
     ]
    },
    {
     "name": "stderr",
     "output_type": "stream",
     "text": [
      " 50%|█████     | 10/20 [13:11<13:10, 79.06s/it]\n"
     ]
    },
    {
     "name": "stdout",
     "output_type": "stream",
     "text": [
      "\u001b[36m(tune_cv_enet pid=29152)\u001b[0m Epoch: 10 | train_loss: 0.0232 | train_ccc: 0.8306 | train_pcc: 0.8465 | val_loss: 0.0524 | val_ccc: 0.3739 | val_pcc: 0.4387\n"
     ]
    },
    {
     "name": "stderr",
     "output_type": "stream",
     "text": [
      " 55%|█████▌    | 11/20 [14:30<11:52, 79.12s/it]\n"
     ]
    },
    {
     "name": "stdout",
     "output_type": "stream",
     "text": [
      "\u001b[36m(tune_cv_enet pid=29152)\u001b[0m Epoch: 11 | train_loss: 0.0237 | train_ccc: 0.8289 | train_pcc: 0.8442 | val_loss: 0.0498 | val_ccc: 0.3664 | val_pcc: 0.4354\n"
     ]
    },
    {
     "name": "stderr",
     "output_type": "stream",
     "text": [
      " 60%|██████    | 12/20 [15:49<10:31, 78.98s/it]\n"
     ]
    },
    {
     "name": "stdout",
     "output_type": "stream",
     "text": [
      "\u001b[36m(tune_cv_enet pid=29152)\u001b[0m Epoch: 12 | train_loss: 0.0226 | train_ccc: 0.8366 | train_pcc: 0.8521 | val_loss: 0.0495 | val_ccc: 0.3600 | val_pcc: 0.4282\n"
     ]
    },
    {
     "name": "stderr",
     "output_type": "stream",
     "text": [
      " 65%|██████▌   | 13/20 [17:08<09:13, 79.10s/it]\n"
     ]
    },
    {
     "name": "stdout",
     "output_type": "stream",
     "text": [
      "\u001b[36m(tune_cv_enet pid=29152)\u001b[0m Epoch: 13 | train_loss: 0.0223 | train_ccc: 0.8398 | train_pcc: 0.8546 | val_loss: 0.0500 | val_ccc: 0.3568 | val_pcc: 0.4288\n"
     ]
    },
    {
     "name": "stderr",
     "output_type": "stream",
     "text": [
      " 70%|███████   | 14/20 [18:27<07:54, 79.09s/it]\n"
     ]
    },
    {
     "name": "stdout",
     "output_type": "stream",
     "text": [
      "\u001b[36m(tune_cv_enet pid=29152)\u001b[0m Epoch: 14 | train_loss: 0.0235 | train_ccc: 0.8335 | train_pcc: 0.8472 | val_loss: 0.0499 | val_ccc: 0.3744 | val_pcc: 0.4378\n"
     ]
    },
    {
     "name": "stderr",
     "output_type": "stream",
     "text": [
      " 75%|███████▌  | 15/20 [19:46<06:35, 79.17s/it]\n"
     ]
    },
    {
     "name": "stdout",
     "output_type": "stream",
     "text": [
      "\u001b[36m(tune_cv_enet pid=29152)\u001b[0m Epoch: 15 | train_loss: 0.0216 | train_ccc: 0.8437 | train_pcc: 0.8579 | val_loss: 0.0526 | val_ccc: 0.3727 | val_pcc: 0.4309\n"
     ]
    },
    {
     "name": "stderr",
     "output_type": "stream",
     "text": [
      " 80%|████████  | 16/20 [21:05<05:16, 79.12s/it]\n"
     ]
    },
    {
     "name": "stdout",
     "output_type": "stream",
     "text": [
      "\u001b[36m(tune_cv_enet pid=29152)\u001b[0m Epoch: 16 | train_loss: 0.0218 | train_ccc: 0.8443 | train_pcc: 0.8575 | val_loss: 0.0515 | val_ccc: 0.3550 | val_pcc: 0.4144\n"
     ]
    },
    {
     "name": "stderr",
     "output_type": "stream",
     "text": [
      " 85%|████████▌ | 17/20 [22:25<03:57, 79.19s/it]\n"
     ]
    },
    {
     "name": "stdout",
     "output_type": "stream",
     "text": [
      "\u001b[36m(tune_cv_enet pid=29152)\u001b[0m Epoch: 17 | train_loss: 0.0213 | train_ccc: 0.8475 | train_pcc: 0.8610 | val_loss: 0.0505 | val_ccc: 0.3507 | val_pcc: 0.4120\n"
     ]
    },
    {
     "name": "stderr",
     "output_type": "stream",
     "text": [
      " 90%|█████████ | 18/20 [23:44<02:38, 79.16s/it]\n"
     ]
    },
    {
     "name": "stdout",
     "output_type": "stream",
     "text": [
      "\u001b[36m(tune_cv_enet pid=29152)\u001b[0m Epoch: 18 | train_loss: 0.0221 | train_ccc: 0.8455 | train_pcc: 0.8570 | val_loss: 0.0515 | val_ccc: 0.3391 | val_pcc: 0.4034\n"
     ]
    },
    {
     "name": "stderr",
     "output_type": "stream",
     "text": [
      " 95%|█████████▌| 19/20 [25:03<01:19, 79.08s/it]\n"
     ]
    },
    {
     "name": "stdout",
     "output_type": "stream",
     "text": [
      "\u001b[36m(tune_cv_enet pid=29152)\u001b[0m Epoch: 19 | train_loss: 0.0209 | train_ccc: 0.8504 | train_pcc: 0.8635 | val_loss: 0.0513 | val_ccc: 0.3596 | val_pcc: 0.4170\n",
      "\u001b[36m(tune_cv_enet pid=29152)\u001b[0m Epoch: 20 | train_loss: 0.0205 | train_ccc: 0.8547 | train_pcc: 0.8658 | val_loss: 0.0525 | val_ccc: 0.3585 | val_pcc: 0.4168\n",
      "\u001b[36m(tune_cv_enet pid=29152)\u001b[0m \n",
      "\u001b[36m(tune_cv_enet pid=29152)\u001b[0m -------------------------------------------------------------------------\n",
      "\u001b[36m(tune_cv_enet pid=29152)\u001b[0m Size of the training set: 19667\n",
      "\u001b[36m(tune_cv_enet pid=29152)\u001b[0m \n",
      "\u001b[36m(tune_cv_enet pid=29152)\u001b[0m Size of the validation set: 5051\n",
      "\u001b[36m(tune_cv_enet pid=29152)\u001b[0m [INFO] Created a new pretrained EfficientNet-B0 model.\n",
      "\u001b[36m(tune_cv_enet pid=29152)\u001b[0m Training results for fold_4:\n"
     ]
    },
    {
     "name": "stderr",
     "output_type": "stream",
     "text": [
      "100%|██████████| 20/20 [26:22<00:00, 79.12s/it]\n",
      "\u001b[36m(tune_cv_enet pid=29152)\u001b[0m \n",
      "  0%|          | 0/20 [00:00<?, ?it/s]\n"
     ]
    },
    {
     "name": "stdout",
     "output_type": "stream",
     "text": [
      "\u001b[36m(tune_cv_enet pid=29152)\u001b[0m Epoch: 1 | train_loss: 0.0568 | train_ccc: 0.5488 | train_pcc: 0.5850 | val_loss: 0.0509 | val_ccc: 0.4381 | val_pcc: 0.5559\n"
     ]
    },
    {
     "name": "stderr",
     "output_type": "stream",
     "text": [
      "  5%|▌         | 1/20 [01:19<25:12, 79.59s/it]\n",
      " 10%|█         | 2/20 [02:39<24:00, 80.03s/it]\n"
     ]
    },
    {
     "name": "stdout",
     "output_type": "stream",
     "text": [
      "\u001b[36m(tune_cv_enet pid=29152)\u001b[0m Epoch: 2 | train_loss: 0.0365 | train_ccc: 0.7023 | train_pcc: 0.7428 | val_loss: 0.0499 | val_ccc: 0.4922 | val_pcc: 0.6017\n"
     ]
    },
    {
     "name": "stderr",
     "output_type": "stream",
     "text": [
      " 15%|█▌        | 3/20 [03:59<22:35, 79.73s/it]\n"
     ]
    },
    {
     "name": "stdout",
     "output_type": "stream",
     "text": [
      "\u001b[36m(tune_cv_enet pid=29152)\u001b[0m Epoch: 3 | train_loss: 0.0327 | train_ccc: 0.7450 | train_pcc: 0.7757 | val_loss: 0.0447 | val_ccc: 0.4969 | val_pcc: 0.6033\n"
     ]
    },
    {
     "name": "stderr",
     "output_type": "stream",
     "text": [
      " 20%|██        | 4/20 [05:18<21:12, 79.56s/it]\n"
     ]
    },
    {
     "name": "stdout",
     "output_type": "stream",
     "text": [
      "\u001b[36m(tune_cv_enet pid=29152)\u001b[0m Epoch: 4 | train_loss: 0.0299 | train_ccc: 0.7686 | train_pcc: 0.7958 | val_loss: 0.0463 | val_ccc: 0.5003 | val_pcc: 0.5990\n"
     ]
    },
    {
     "name": "stderr",
     "output_type": "stream",
     "text": [
      " 25%|██▌       | 5/20 [06:37<19:51, 79.43s/it]\n"
     ]
    },
    {
     "name": "stdout",
     "output_type": "stream",
     "text": [
      "\u001b[36m(tune_cv_enet pid=29152)\u001b[0m Epoch: 5 | train_loss: 0.0289 | train_ccc: 0.7812 | train_pcc: 0.8044 | val_loss: 0.0453 | val_ccc: 0.5069 | val_pcc: 0.6024\n"
     ]
    },
    {
     "name": "stderr",
     "output_type": "stream",
     "text": [
      " 30%|███       | 6/20 [07:57<18:31, 79.36s/it]\n"
     ]
    },
    {
     "name": "stdout",
     "output_type": "stream",
     "text": [
      "\u001b[36m(tune_cv_enet pid=29152)\u001b[0m Epoch: 6 | train_loss: 0.0275 | train_ccc: 0.7920 | train_pcc: 0.8139 | val_loss: 0.0474 | val_ccc: 0.4719 | val_pcc: 0.5768\n"
     ]
    },
    {
     "name": "stderr",
     "output_type": "stream",
     "text": [
      " 35%|███▌      | 7/20 [09:16<17:12, 79.46s/it]\n"
     ]
    },
    {
     "name": "stdout",
     "output_type": "stream",
     "text": [
      "\u001b[36m(tune_cv_enet pid=29152)\u001b[0m Epoch: 7 | train_loss: 0.0261 | train_ccc: 0.8039 | train_pcc: 0.8251 | val_loss: 0.0493 | val_ccc: 0.4514 | val_pcc: 0.5601\n"
     ]
    },
    {
     "name": "stderr",
     "output_type": "stream",
     "text": [
      " 40%|████      | 8/20 [10:36<15:54, 79.50s/it]\n"
     ]
    },
    {
     "name": "stdout",
     "output_type": "stream",
     "text": [
      "\u001b[36m(tune_cv_enet pid=29152)\u001b[0m Epoch: 8 | train_loss: 0.0251 | train_ccc: 0.8121 | train_pcc: 0.8330 | val_loss: 0.0464 | val_ccc: 0.4832 | val_pcc: 0.5774\n"
     ]
    },
    {
     "name": "stderr",
     "output_type": "stream",
     "text": [
      " 45%|████▌     | 9/20 [11:55<14:35, 79.56s/it]\n"
     ]
    },
    {
     "name": "stdout",
     "output_type": "stream",
     "text": [
      "\u001b[36m(tune_cv_enet pid=29152)\u001b[0m Epoch: 9 | train_loss: 0.0246 | train_ccc: 0.8165 | train_pcc: 0.8351 | val_loss: 0.0501 | val_ccc: 0.4462 | val_pcc: 0.5422\n"
     ]
    },
    {
     "name": "stderr",
     "output_type": "stream",
     "text": [
      " 50%|█████     | 10/20 [13:15<13:15, 79.52s/it]\n"
     ]
    },
    {
     "name": "stdout",
     "output_type": "stream",
     "text": [
      "\u001b[36m(tune_cv_enet pid=29152)\u001b[0m Epoch: 10 | train_loss: 0.0242 | train_ccc: 0.8213 | train_pcc: 0.8397 | val_loss: 0.0495 | val_ccc: 0.4783 | val_pcc: 0.5729\n"
     ]
    },
    {
     "name": "stderr",
     "output_type": "stream",
     "text": [
      " 55%|█████▌    | 11/20 [14:34<11:54, 79.37s/it]\n"
     ]
    },
    {
     "name": "stdout",
     "output_type": "stream",
     "text": [
      "\u001b[36m(tune_cv_enet pid=29152)\u001b[0m Epoch: 11 | train_loss: 0.0250 | train_ccc: 0.8184 | train_pcc: 0.8358 | val_loss: 0.0491 | val_ccc: 0.4610 | val_pcc: 0.5574\n"
     ]
    },
    {
     "name": "stderr",
     "output_type": "stream",
     "text": [
      " 60%|██████    | 12/20 [15:53<10:34, 79.33s/it]\n"
     ]
    },
    {
     "name": "stdout",
     "output_type": "stream",
     "text": [
      "\u001b[36m(tune_cv_enet pid=29152)\u001b[0m Epoch: 12 | train_loss: 0.0231 | train_ccc: 0.8300 | train_pcc: 0.8460 | val_loss: 0.0495 | val_ccc: 0.4940 | val_pcc: 0.5794\n"
     ]
    },
    {
     "name": "stderr",
     "output_type": "stream",
     "text": [
      " 65%|██████▌   | 13/20 [17:12<09:15, 79.31s/it]\n"
     ]
    },
    {
     "name": "stdout",
     "output_type": "stream",
     "text": [
      "\u001b[36m(tune_cv_enet pid=29152)\u001b[0m Epoch: 13 | train_loss: 0.0237 | train_ccc: 0.8269 | train_pcc: 0.8430 | val_loss: 0.0501 | val_ccc: 0.4720 | val_pcc: 0.5610\n"
     ]
    },
    {
     "name": "stderr",
     "output_type": "stream",
     "text": [
      " 70%|███████   | 14/20 [18:31<07:55, 79.22s/it]\n"
     ]
    },
    {
     "name": "stdout",
     "output_type": "stream",
     "text": [
      "\u001b[36m(tune_cv_enet pid=29152)\u001b[0m Epoch: 14 | train_loss: 0.0237 | train_ccc: 0.8303 | train_pcc: 0.8443 | val_loss: 0.0490 | val_ccc: 0.4831 | val_pcc: 0.5686\n"
     ]
    },
    {
     "name": "stderr",
     "output_type": "stream",
     "text": [
      " 75%|███████▌  | 15/20 [19:51<06:36, 79.24s/it]\n"
     ]
    },
    {
     "name": "stdout",
     "output_type": "stream",
     "text": [
      "\u001b[36m(tune_cv_enet pid=29152)\u001b[0m Epoch: 15 | train_loss: 0.0218 | train_ccc: 0.8403 | train_pcc: 0.8553 | val_loss: 0.0538 | val_ccc: 0.4989 | val_pcc: 0.5801\n"
     ]
    },
    {
     "name": "stderr",
     "output_type": "stream",
     "text": [
      " 80%|████████  | 16/20 [21:10<05:17, 79.28s/it]\n"
     ]
    },
    {
     "name": "stdout",
     "output_type": "stream",
     "text": [
      "\u001b[36m(tune_cv_enet pid=29152)\u001b[0m Epoch: 16 | train_loss: 0.0224 | train_ccc: 0.8382 | train_pcc: 0.8526 | val_loss: 0.0505 | val_ccc: 0.4884 | val_pcc: 0.5705\n"
     ]
    },
    {
     "name": "stderr",
     "output_type": "stream",
     "text": [
      " 85%|████████▌ | 17/20 [22:30<03:58, 79.43s/it]\n"
     ]
    },
    {
     "name": "stdout",
     "output_type": "stream",
     "text": [
      "\u001b[36m(tune_cv_enet pid=29152)\u001b[0m Epoch: 17 | train_loss: 0.0218 | train_ccc: 0.8414 | train_pcc: 0.8556 | val_loss: 0.0531 | val_ccc: 0.4458 | val_pcc: 0.5405\n"
     ]
    },
    {
     "name": "stderr",
     "output_type": "stream",
     "text": [
      " 90%|█████████ | 18/20 [23:49<02:38, 79.38s/it]\n"
     ]
    },
    {
     "name": "stdout",
     "output_type": "stream",
     "text": [
      "\u001b[36m(tune_cv_enet pid=29152)\u001b[0m Epoch: 18 | train_loss: 0.0222 | train_ccc: 0.8407 | train_pcc: 0.8544 | val_loss: 0.0511 | val_ccc: 0.4714 | val_pcc: 0.5566\n"
     ]
    },
    {
     "name": "stderr",
     "output_type": "stream",
     "text": [
      " 95%|█████████▌| 19/20 [25:09<01:19, 79.45s/it]\n"
     ]
    },
    {
     "name": "stdout",
     "output_type": "stream",
     "text": [
      "\u001b[36m(tune_cv_enet pid=29152)\u001b[0m Epoch: 19 | train_loss: 0.0221 | train_ccc: 0.8418 | train_pcc: 0.8550 | val_loss: 0.0525 | val_ccc: 0.4394 | val_pcc: 0.5279\n"
     ]
    },
    {
     "name": "stderr",
     "output_type": "stream",
     "text": [
      "100%|██████████| 20/20 [26:29<00:00, 79.45s/it]\n",
      "  0%|          | 0/20 [00:00<?, ?it/s]\n"
     ]
    },
    {
     "name": "stdout",
     "output_type": "stream",
     "text": [
      "\u001b[36m(tune_cv_enet pid=29152)\u001b[0m Epoch: 20 | train_loss: 0.0213 | train_ccc: 0.8463 | train_pcc: 0.8603 | val_loss: 0.0531 | val_ccc: 0.4550 | val_pcc: 0.5388\n",
      "\u001b[36m(tune_cv_enet pid=29152)\u001b[0m \n",
      "\u001b[36m(tune_cv_enet pid=29152)\u001b[0m -------------------------------------------------------------------------\n",
      "\u001b[36m(tune_cv_enet pid=29152)\u001b[0m Size of the training set: 19873\n",
      "\u001b[36m(tune_cv_enet pid=29152)\u001b[0m Size of the validation set: 4845\n",
      "\u001b[36m(tune_cv_enet pid=29152)\u001b[0m [INFO] Created a new pretrained EfficientNet-B0 model.\n",
      "\u001b[36m(tune_cv_enet pid=29152)\u001b[0m Training results for fold_5:\n",
      "\u001b[36m(tune_cv_enet pid=29152)\u001b[0m Epoch: 1 | train_loss: 0.0551 | train_ccc: 0.5414 | train_pcc: 0.5859 | val_loss: 0.0468 | val_ccc: 0.4578 | val_pcc: 0.6011\n"
     ]
    },
    {
     "name": "stderr",
     "output_type": "stream",
     "text": [
      "  5%|▌         | 1/20 [01:19<25:05, 79.26s/it]\n",
      " 10%|█         | 2/20 [02:38<23:42, 79.03s/it]\n"
     ]
    },
    {
     "name": "stdout",
     "output_type": "stream",
     "text": [
      "\u001b[36m(tune_cv_enet pid=29152)\u001b[0m Epoch: 2 | train_loss: 0.0356 | train_ccc: 0.7002 | train_pcc: 0.7408 | val_loss: 0.0473 | val_ccc: 0.4662 | val_pcc: 0.6021\n"
     ]
    },
    {
     "name": "stderr",
     "output_type": "stream",
     "text": [
      " 15%|█▌        | 3/20 [03:57<22:22, 78.97s/it]\n"
     ]
    },
    {
     "name": "stdout",
     "output_type": "stream",
     "text": [
      "\u001b[36m(tune_cv_enet pid=29152)\u001b[0m Epoch: 3 | train_loss: 0.0332 | train_ccc: 0.7347 | train_pcc: 0.7660 | val_loss: 0.0455 | val_ccc: 0.4998 | val_pcc: 0.6181\n"
     ]
    },
    {
     "name": "stderr",
     "output_type": "stream",
     "text": [
      " 20%|██        | 4/20 [05:16<21:04, 79.02s/it]\n"
     ]
    },
    {
     "name": "stdout",
     "output_type": "stream",
     "text": [
      "\u001b[36m(tune_cv_enet pid=29152)\u001b[0m Epoch: 4 | train_loss: 0.0293 | train_ccc: 0.7660 | train_pcc: 0.7936 | val_loss: 0.0483 | val_ccc: 0.4780 | val_pcc: 0.6135\n"
     ]
    },
    {
     "name": "stderr",
     "output_type": "stream",
     "text": [
      " 25%|██▌       | 5/20 [06:35<19:48, 79.24s/it]\n"
     ]
    },
    {
     "name": "stdout",
     "output_type": "stream",
     "text": [
      "\u001b[36m(tune_cv_enet pid=29152)\u001b[0m Epoch: 5 | train_loss: 0.0279 | train_ccc: 0.7791 | train_pcc: 0.8054 | val_loss: 0.0493 | val_ccc: 0.4680 | val_pcc: 0.6042\n"
     ]
    },
    {
     "name": "stderr",
     "output_type": "stream",
     "text": [
      " 30%|███       | 6/20 [07:55<18:31, 79.41s/it]\n"
     ]
    },
    {
     "name": "stdout",
     "output_type": "stream",
     "text": [
      "\u001b[36m(tune_cv_enet pid=29152)\u001b[0m Epoch: 6 | train_loss: 0.0268 | train_ccc: 0.7909 | train_pcc: 0.8139 | val_loss: 0.0482 | val_ccc: 0.4989 | val_pcc: 0.6293\n"
     ]
    },
    {
     "name": "stderr",
     "output_type": "stream",
     "text": [
      " 35%|███▌      | 7/20 [09:14<17:11, 79.35s/it]\n"
     ]
    },
    {
     "name": "stdout",
     "output_type": "stream",
     "text": [
      "\u001b[36m(tune_cv_enet pid=29152)\u001b[0m Epoch: 7 | train_loss: 0.0262 | train_ccc: 0.7970 | train_pcc: 0.8197 | val_loss: 0.0465 | val_ccc: 0.5104 | val_pcc: 0.6336\n"
     ]
    },
    {
     "name": "stderr",
     "output_type": "stream",
     "text": [
      " 40%|████      | 8/20 [10:33<15:50, 79.18s/it]\n"
     ]
    },
    {
     "name": "stdout",
     "output_type": "stream",
     "text": [
      "\u001b[36m(tune_cv_enet pid=29152)\u001b[0m Epoch: 8 | train_loss: 0.0252 | train_ccc: 0.8065 | train_pcc: 0.8261 | val_loss: 0.0493 | val_ccc: 0.4834 | val_pcc: 0.6105\n"
     ]
    },
    {
     "name": "stderr",
     "output_type": "stream",
     "text": [
      " 45%|████▌     | 9/20 [11:53<14:32, 79.32s/it]\n"
     ]
    },
    {
     "name": "stdout",
     "output_type": "stream",
     "text": [
      "\u001b[36m(tune_cv_enet pid=29152)\u001b[0m Epoch: 9 | train_loss: 0.0242 | train_ccc: 0.8136 | train_pcc: 0.8329 | val_loss: 0.0465 | val_ccc: 0.5080 | val_pcc: 0.6277\n"
     ]
    },
    {
     "name": "stderr",
     "output_type": "stream",
     "text": [
      " 50%|█████     | 10/20 [13:12<13:13, 79.35s/it]\n"
     ]
    },
    {
     "name": "stdout",
     "output_type": "stream",
     "text": [
      "\u001b[36m(tune_cv_enet pid=29152)\u001b[0m Epoch: 10 | train_loss: 0.0239 | train_ccc: 0.8175 | train_pcc: 0.8354 | val_loss: 0.0475 | val_ccc: 0.5029 | val_pcc: 0.6237\n"
     ]
    },
    {
     "name": "stderr",
     "output_type": "stream",
     "text": [
      " 55%|█████▌    | 11/20 [14:31<11:53, 79.30s/it]\n"
     ]
    },
    {
     "name": "stdout",
     "output_type": "stream",
     "text": [
      "\u001b[36m(tune_cv_enet pid=29152)\u001b[0m Epoch: 11 | train_loss: 0.0234 | train_ccc: 0.8219 | train_pcc: 0.8401 | val_loss: 0.0491 | val_ccc: 0.4920 | val_pcc: 0.6157\n"
     ]
    },
    {
     "name": "stderr",
     "output_type": "stream",
     "text": [
      " 60%|██████    | 12/20 [15:51<10:35, 79.49s/it]\n"
     ]
    },
    {
     "name": "stdout",
     "output_type": "stream",
     "text": [
      "\u001b[36m(tune_cv_enet pid=29152)\u001b[0m Epoch: 12 | train_loss: 0.0234 | train_ccc: 0.8242 | train_pcc: 0.8398 | val_loss: 0.0530 | val_ccc: 0.4556 | val_pcc: 0.5815\n"
     ]
    },
    {
     "name": "stderr",
     "output_type": "stream",
     "text": [
      " 65%|██████▌   | 13/20 [17:11<09:16, 79.48s/it]\n"
     ]
    },
    {
     "name": "stdout",
     "output_type": "stream",
     "text": [
      "\u001b[36m(tune_cv_enet pid=29152)\u001b[0m Epoch: 13 | train_loss: 0.0230 | train_ccc: 0.8266 | train_pcc: 0.8420 | val_loss: 0.0500 | val_ccc: 0.4710 | val_pcc: 0.5947\n"
     ]
    },
    {
     "name": "stderr",
     "output_type": "stream",
     "text": [
      " 70%|███████   | 14/20 [18:30<07:56, 79.50s/it]\n"
     ]
    },
    {
     "name": "stdout",
     "output_type": "stream",
     "text": [
      "\u001b[36m(tune_cv_enet pid=29152)\u001b[0m Epoch: 14 | train_loss: 0.0234 | train_ccc: 0.8263 | train_pcc: 0.8411 | val_loss: 0.0467 | val_ccc: 0.5244 | val_pcc: 0.6276\n"
     ]
    },
    {
     "name": "stderr",
     "output_type": "stream",
     "text": [
      " 75%|███████▌  | 15/20 [19:49<06:37, 79.41s/it]\n"
     ]
    },
    {
     "name": "stdout",
     "output_type": "stream",
     "text": [
      "\u001b[36m(tune_cv_enet pid=29152)\u001b[0m Epoch: 15 | train_loss: 0.0219 | train_ccc: 0.8356 | train_pcc: 0.8506 | val_loss: 0.0475 | val_ccc: 0.5117 | val_pcc: 0.6261\n"
     ]
    },
    {
     "name": "stderr",
     "output_type": "stream",
     "text": [
      " 80%|████████  | 16/20 [21:09<05:17, 79.40s/it]\n"
     ]
    },
    {
     "name": "stdout",
     "output_type": "stream",
     "text": [
      "\u001b[36m(tune_cv_enet pid=29152)\u001b[0m Epoch: 16 | train_loss: 0.0224 | train_ccc: 0.8332 | train_pcc: 0.8485 | val_loss: 0.0511 | val_ccc: 0.4744 | val_pcc: 0.5865\n"
     ]
    },
    {
     "name": "stderr",
     "output_type": "stream",
     "text": [
      " 85%|████████▌ | 17/20 [22:28<03:58, 79.44s/it]\n"
     ]
    },
    {
     "name": "stdout",
     "output_type": "stream",
     "text": [
      "\u001b[36m(tune_cv_enet pid=29152)\u001b[0m Epoch: 17 | train_loss: 0.0221 | train_ccc: 0.8358 | train_pcc: 0.8503 | val_loss: 0.0476 | val_ccc: 0.5133 | val_pcc: 0.6219\n"
     ]
    },
    {
     "name": "stderr",
     "output_type": "stream",
     "text": [
      " 90%|█████████ | 18/20 [23:48<02:38, 79.41s/it]\n"
     ]
    },
    {
     "name": "stdout",
     "output_type": "stream",
     "text": [
      "\u001b[36m(tune_cv_enet pid=29152)\u001b[0m Epoch: 18 | train_loss: 0.0223 | train_ccc: 0.8347 | train_pcc: 0.8480 | val_loss: 0.0482 | val_ccc: 0.5135 | val_pcc: 0.6235\n"
     ]
    },
    {
     "name": "stderr",
     "output_type": "stream",
     "text": [
      " 95%|█████████▌| 19/20 [25:07<01:19, 79.40s/it]\n"
     ]
    },
    {
     "name": "stdout",
     "output_type": "stream",
     "text": [
      "\u001b[36m(tune_cv_enet pid=29152)\u001b[0m Epoch: 19 | train_loss: 0.0219 | train_ccc: 0.8375 | train_pcc: 0.8518 | val_loss: 0.0473 | val_ccc: 0.5183 | val_pcc: 0.6243\n"
     ]
    },
    {
     "name": "stderr",
     "output_type": "stream",
     "text": [
      "100%|██████████| 20/20 [26:27<00:00, 79.36s/it]\n"
     ]
    },
    {
     "name": "stdout",
     "output_type": "stream",
     "text": [
      "\u001b[36m(tune_cv_enet pid=29152)\u001b[0m Epoch: 20 | train_loss: 0.0217 | train_ccc: 0.8400 | train_pcc: 0.8534 | val_loss: 0.0488 | val_ccc: 0.5020 | val_pcc: 0.6163\n",
      "\u001b[36m(tune_cv_enet pid=22968)\u001b[0m cuda\n",
      "\u001b[36m(tune_cv_enet pid=22968)\u001b[0m [INFO] Created SummaryWriter, saving to: C:\\local\\AIProject\\runs\\hp_tuning_cv\\pretrained_enet\\start_07-11-56\\2024-05-30_20-11-18...\n",
      "\u001b[36m(tune_cv_enet pid=22968)\u001b[0m \n",
      "\u001b[36m(tune_cv_enet pid=22968)\u001b[0m -------------------------------------------------------------------------\n",
      "\u001b[36m(tune_cv_enet pid=22968)\u001b[0m Size of the training set: 39606\n",
      "\u001b[36m(tune_cv_enet pid=22968)\u001b[0m Size of the validation set: 4915\n"
     ]
    },
    {
     "name": "stderr",
     "output_type": "stream",
     "text": [
      "  0%|          | 0/20 [00:00<?, ?it/s]\n"
     ]
    },
    {
     "name": "stdout",
     "output_type": "stream",
     "text": [
      "\u001b[36m(tune_cv_enet pid=22968)\u001b[0m [INFO] Created a new pretrained EfficientNet-B0 model.\n",
      "\u001b[36m(tune_cv_enet pid=22968)\u001b[0m Training results for fold_1:\n"
     ]
    },
    {
     "name": "stderr",
     "output_type": "stream",
     "text": [
      "  5%|▌         | 1/20 [02:31<47:55, 151.36s/it]\n"
     ]
    },
    {
     "name": "stdout",
     "output_type": "stream",
     "text": [
      "\u001b[36m(tune_cv_enet pid=22968)\u001b[0m Epoch: 1 | train_loss: 0.0468 | train_ccc: 0.6004 | train_pcc: 0.6452 | val_loss: 0.0501 | val_ccc: 0.4191 | val_pcc: 0.4985\n"
     ]
    },
    {
     "name": "stderr",
     "output_type": "stream",
     "text": [
      " 10%|█         | 2/20 [05:00<44:59, 149.98s/it]\n"
     ]
    },
    {
     "name": "stdout",
     "output_type": "stream",
     "text": [
      "\u001b[36m(tune_cv_enet pid=22968)\u001b[0m Epoch: 2 | train_loss: 0.0329 | train_ccc: 0.7311 | train_pcc: 0.7641 | val_loss: 0.0510 | val_ccc: 0.4368 | val_pcc: 0.4930\n"
     ]
    },
    {
     "name": "stderr",
     "output_type": "stream",
     "text": [
      " 15%|█▌        | 3/20 [07:29<42:21, 149.52s/it]\n"
     ]
    },
    {
     "name": "stdout",
     "output_type": "stream",
     "text": [
      "\u001b[36m(tune_cv_enet pid=22968)\u001b[0m Epoch: 3 | train_loss: 0.0298 | train_ccc: 0.7651 | train_pcc: 0.7910 | val_loss: 0.0503 | val_ccc: 0.4238 | val_pcc: 0.4776\n"
     ]
    },
    {
     "name": "stderr",
     "output_type": "stream",
     "text": [
      " 20%|██        | 4/20 [09:58<39:50, 149.38s/it]\n"
     ]
    },
    {
     "name": "stdout",
     "output_type": "stream",
     "text": [
      "\u001b[36m(tune_cv_enet pid=22968)\u001b[0m Epoch: 4 | train_loss: 0.0267 | train_ccc: 0.7895 | train_pcc: 0.8139 | val_loss: 0.0557 | val_ccc: 0.3416 | val_pcc: 0.4039\n"
     ]
    },
    {
     "name": "stderr",
     "output_type": "stream",
     "text": [
      " 25%|██▌       | 5/20 [12:27<37:19, 149.30s/it]\n"
     ]
    },
    {
     "name": "stdout",
     "output_type": "stream",
     "text": [
      "\u001b[36m(tune_cv_enet pid=22968)\u001b[0m Epoch: 5 | train_loss: 0.0262 | train_ccc: 0.7982 | train_pcc: 0.8189 | val_loss: 0.0551 | val_ccc: 0.3607 | val_pcc: 0.4185\n"
     ]
    },
    {
     "name": "stderr",
     "output_type": "stream",
     "text": [
      " 30%|███       | 6/20 [14:57<34:53, 149.52s/it]\n"
     ]
    },
    {
     "name": "stdout",
     "output_type": "stream",
     "text": [
      "\u001b[36m(tune_cv_enet pid=22968)\u001b[0m Epoch: 6 | train_loss: 0.0245 | train_ccc: 0.8115 | train_pcc: 0.8311 | val_loss: 0.0548 | val_ccc: 0.3773 | val_pcc: 0.4263\n"
     ]
    },
    {
     "name": "stderr",
     "output_type": "stream",
     "text": [
      " 35%|███▌      | 7/20 [17:27<32:25, 149.62s/it]\n"
     ]
    },
    {
     "name": "stdout",
     "output_type": "stream",
     "text": [
      "\u001b[36m(tune_cv_enet pid=22968)\u001b[0m Epoch: 7 | train_loss: 0.0237 | train_ccc: 0.8181 | train_pcc: 0.8362 | val_loss: 0.0531 | val_ccc: 0.4148 | val_pcc: 0.4574\n"
     ]
    },
    {
     "name": "stderr",
     "output_type": "stream",
     "text": [
      " 40%|████      | 8/20 [19:56<29:53, 149.48s/it]\n"
     ]
    },
    {
     "name": "stdout",
     "output_type": "stream",
     "text": [
      "\u001b[36m(tune_cv_enet pid=22968)\u001b[0m Epoch: 8 | train_loss: 0.0234 | train_ccc: 0.8215 | train_pcc: 0.8386 | val_loss: 0.0545 | val_ccc: 0.3950 | val_pcc: 0.4389\n"
     ]
    },
    {
     "name": "stderr",
     "output_type": "stream",
     "text": [
      " 45%|████▌     | 9/20 [22:25<27:23, 149.41s/it]\n"
     ]
    },
    {
     "name": "stdout",
     "output_type": "stream",
     "text": [
      "\u001b[36m(tune_cv_enet pid=22968)\u001b[0m Epoch: 9 | train_loss: 0.0227 | train_ccc: 0.8276 | train_pcc: 0.8437 | val_loss: 0.0547 | val_ccc: 0.3808 | val_pcc: 0.4286\n"
     ]
    },
    {
     "name": "stderr",
     "output_type": "stream",
     "text": [
      " 50%|█████     | 10/20 [24:55<24:53, 149.32s/it]\n"
     ]
    },
    {
     "name": "stdout",
     "output_type": "stream",
     "text": [
      "\u001b[36m(tune_cv_enet pid=22968)\u001b[0m Epoch: 10 | train_loss: 0.0228 | train_ccc: 0.8286 | train_pcc: 0.8440 | val_loss: 0.0543 | val_ccc: 0.4011 | val_pcc: 0.4430\n"
     ]
    },
    {
     "name": "stderr",
     "output_type": "stream",
     "text": [
      " 55%|█████▌    | 11/20 [27:24<22:25, 149.45s/it]\n"
     ]
    },
    {
     "name": "stdout",
     "output_type": "stream",
     "text": [
      "\u001b[36m(tune_cv_enet pid=22968)\u001b[0m Epoch: 11 | train_loss: 0.0219 | train_ccc: 0.8355 | train_pcc: 0.8496 | val_loss: 0.0544 | val_ccc: 0.4032 | val_pcc: 0.4433\n"
     ]
    },
    {
     "name": "stderr",
     "output_type": "stream",
     "text": [
      " 60%|██████    | 12/20 [29:54<19:57, 149.68s/it]\n"
     ]
    },
    {
     "name": "stdout",
     "output_type": "stream",
     "text": [
      "\u001b[36m(tune_cv_enet pid=22968)\u001b[0m Epoch: 12 | train_loss: 0.0220 | train_ccc: 0.8353 | train_pcc: 0.8496 | val_loss: 0.0559 | val_ccc: 0.3748 | val_pcc: 0.4207\n"
     ]
    },
    {
     "name": "stderr",
     "output_type": "stream",
     "text": [
      " 65%|██████▌   | 13/20 [32:24<17:26, 149.55s/it]\n"
     ]
    },
    {
     "name": "stdout",
     "output_type": "stream",
     "text": [
      "\u001b[36m(tune_cv_enet pid=22968)\u001b[0m Epoch: 13 | train_loss: 0.0217 | train_ccc: 0.8388 | train_pcc: 0.8527 | val_loss: 0.0571 | val_ccc: 0.4205 | val_pcc: 0.4595\n"
     ]
    },
    {
     "name": "stderr",
     "output_type": "stream",
     "text": [
      " 70%|███████   | 14/20 [34:53<14:57, 149.59s/it]\n"
     ]
    },
    {
     "name": "stdout",
     "output_type": "stream",
     "text": [
      "\u001b[36m(tune_cv_enet pid=22968)\u001b[0m Epoch: 14 | train_loss: 0.0217 | train_ccc: 0.8401 | train_pcc: 0.8530 | val_loss: 0.0560 | val_ccc: 0.3797 | val_pcc: 0.4202\n"
     ]
    },
    {
     "name": "stderr",
     "output_type": "stream",
     "text": [
      " 75%|███████▌  | 15/20 [37:22<12:27, 149.44s/it]\n"
     ]
    },
    {
     "name": "stdout",
     "output_type": "stream",
     "text": [
      "\u001b[36m(tune_cv_enet pid=22968)\u001b[0m Epoch: 15 | train_loss: 0.0214 | train_ccc: 0.8420 | train_pcc: 0.8547 | val_loss: 0.0556 | val_ccc: 0.4121 | val_pcc: 0.4501\n"
     ]
    },
    {
     "name": "stderr",
     "output_type": "stream",
     "text": [
      " 80%|████████  | 16/20 [39:52<09:58, 149.60s/it]\n"
     ]
    },
    {
     "name": "stdout",
     "output_type": "stream",
     "text": [
      "\u001b[36m(tune_cv_enet pid=22968)\u001b[0m Epoch: 16 | train_loss: 0.0217 | train_ccc: 0.8395 | train_pcc: 0.8524 | val_loss: 0.0593 | val_ccc: 0.3358 | val_pcc: 0.3814\n"
     ]
    },
    {
     "name": "stderr",
     "output_type": "stream",
     "text": [
      " 85%|████████▌ | 17/20 [42:21<07:28, 149.34s/it]\n"
     ]
    },
    {
     "name": "stdout",
     "output_type": "stream",
     "text": [
      "\u001b[36m(tune_cv_enet pid=22968)\u001b[0m Epoch: 17 | train_loss: 0.0214 | train_ccc: 0.8424 | train_pcc: 0.8547 | val_loss: 0.0587 | val_ccc: 0.3548 | val_pcc: 0.3955\n"
     ]
    },
    {
     "name": "stderr",
     "output_type": "stream",
     "text": [
      " 90%|█████████ | 18/20 [44:50<04:58, 149.18s/it]\n"
     ]
    },
    {
     "name": "stdout",
     "output_type": "stream",
     "text": [
      "\u001b[36m(tune_cv_enet pid=22968)\u001b[0m Epoch: 18 | train_loss: 0.0208 | train_ccc: 0.8465 | train_pcc: 0.8586 | val_loss: 0.0566 | val_ccc: 0.3996 | val_pcc: 0.4318\n"
     ]
    },
    {
     "name": "stderr",
     "output_type": "stream",
     "text": [
      " 95%|█████████▌| 19/20 [47:19<02:29, 149.15s/it]\n"
     ]
    },
    {
     "name": "stdout",
     "output_type": "stream",
     "text": [
      "\u001b[36m(tune_cv_enet pid=22968)\u001b[0m Epoch: 19 | train_loss: 0.0215 | train_ccc: 0.8436 | train_pcc: 0.8553 | val_loss: 0.0571 | val_ccc: 0.3842 | val_pcc: 0.4156\n"
     ]
    },
    {
     "name": "stderr",
     "output_type": "stream",
     "text": [
      "100%|██████████| 20/20 [49:48<00:00, 149.10s/it]\n",
      "100%|██████████| 20/20 [49:48<00:00, 149.43s/it]\n",
      "  0%|          | 0/20 [00:00<?, ?it/s]\n"
     ]
    },
    {
     "name": "stdout",
     "output_type": "stream",
     "text": [
      "\u001b[36m(tune_cv_enet pid=22968)\u001b[0m Epoch: 20 | train_loss: 0.0206 | train_ccc: 0.8484 | train_pcc: 0.8600 | val_loss: 0.0580 | val_ccc: 0.3848 | val_pcc: 0.4146\n",
      "\u001b[36m(tune_cv_enet pid=22968)\u001b[0m \n",
      "\u001b[36m(tune_cv_enet pid=22968)\u001b[0m -------------------------------------------------------------------------\n",
      "\u001b[36m(tune_cv_enet pid=22968)\u001b[0m Size of the training set: 39406\n",
      "\u001b[36m(tune_cv_enet pid=22968)\u001b[0m Size of the validation set: 5015\n",
      "\u001b[36m(tune_cv_enet pid=22968)\u001b[0m [INFO] Created a new pretrained EfficientNet-B0 model.\n",
      "\u001b[36m(tune_cv_enet pid=22968)\u001b[0m Training results for fold_2:\n"
     ]
    },
    {
     "name": "stderr",
     "output_type": "stream",
     "text": [
      "  5%|▌         | 1/20 [02:27<46:50, 147.93s/it]\n"
     ]
    },
    {
     "name": "stdout",
     "output_type": "stream",
     "text": [
      "\u001b[36m(tune_cv_enet pid=22968)\u001b[0m Epoch: 1 | train_loss: 0.0487 | train_ccc: 0.5658 | train_pcc: 0.6200 | val_loss: 0.0401 | val_ccc: 0.5059 | val_pcc: 0.6028\n"
     ]
    },
    {
     "name": "stderr",
     "output_type": "stream",
     "text": [
      " 10%|█         | 2/20 [04:55<44:22, 147.91s/it]\n"
     ]
    },
    {
     "name": "stdout",
     "output_type": "stream",
     "text": [
      "\u001b[36m(tune_cv_enet pid=22968)\u001b[0m Epoch: 2 | train_loss: 0.0346 | train_ccc: 0.7057 | train_pcc: 0.7478 | val_loss: 0.0351 | val_ccc: 0.5741 | val_pcc: 0.6447\n"
     ]
    },
    {
     "name": "stderr",
     "output_type": "stream",
     "text": [
      " 15%|█▌        | 3/20 [07:23<41:55, 147.99s/it]\n"
     ]
    },
    {
     "name": "stdout",
     "output_type": "stream",
     "text": [
      "\u001b[36m(tune_cv_enet pid=22968)\u001b[0m Epoch: 3 | train_loss: 0.0309 | train_ccc: 0.7458 | train_pcc: 0.7790 | val_loss: 0.0384 | val_ccc: 0.5658 | val_pcc: 0.6356\n"
     ]
    },
    {
     "name": "stderr",
     "output_type": "stream",
     "text": [
      " 20%|██        | 4/20 [09:52<39:29, 148.07s/it]\n"
     ]
    },
    {
     "name": "stdout",
     "output_type": "stream",
     "text": [
      "\u001b[36m(tune_cv_enet pid=22968)\u001b[0m Epoch: 4 | train_loss: 0.0288 | train_ccc: 0.7676 | train_pcc: 0.7959 | val_loss: 0.0378 | val_ccc: 0.5711 | val_pcc: 0.6401\n",
      "\u001b[36m(tune_cv_enet pid=22968)\u001b[0m Epoch: 5 | train_loss: 0.0279 | train_ccc: 0.7778 | train_pcc: 0.8030 | val_loss: 0.0384 | val_ccc: 0.5806 | val_pcc: 0.6397\n"
     ]
    },
    {
     "name": "stderr",
     "output_type": "stream",
     "text": [
      " 25%|██▌       | 5/20 [12:20<37:00, 148.01s/it]\n",
      " 30%|███       | 6/20 [14:48<34:33, 148.10s/it]\n"
     ]
    },
    {
     "name": "stdout",
     "output_type": "stream",
     "text": [
      "\u001b[36m(tune_cv_enet pid=22968)\u001b[0m Epoch: 6 | train_loss: 0.0264 | train_ccc: 0.7908 | train_pcc: 0.8137 | val_loss: 0.0374 | val_ccc: 0.5975 | val_pcc: 0.6558\n"
     ]
    },
    {
     "name": "stderr",
     "output_type": "stream",
     "text": [
      " 35%|███▌      | 7/20 [17:16<32:05, 148.12s/it]\n"
     ]
    },
    {
     "name": "stdout",
     "output_type": "stream",
     "text": [
      "\u001b[36m(tune_cv_enet pid=22968)\u001b[0m Epoch: 7 | train_loss: 0.0257 | train_ccc: 0.7976 | train_pcc: 0.8195 | val_loss: 0.0437 | val_ccc: 0.5475 | val_pcc: 0.6136\n"
     ]
    },
    {
     "name": "stderr",
     "output_type": "stream",
     "text": [
      " 40%|████      | 8/20 [19:45<29:39, 148.27s/it]\n"
     ]
    },
    {
     "name": "stdout",
     "output_type": "stream",
     "text": [
      "\u001b[36m(tune_cv_enet pid=22968)\u001b[0m Epoch: 8 | train_loss: 0.0250 | train_ccc: 0.8053 | train_pcc: 0.8257 | val_loss: 0.0477 | val_ccc: 0.5061 | val_pcc: 0.5852\n"
     ]
    },
    {
     "name": "stderr",
     "output_type": "stream",
     "text": [
      " 45%|████▌     | 9/20 [22:13<27:10, 148.24s/it]\n"
     ]
    },
    {
     "name": "stdout",
     "output_type": "stream",
     "text": [
      "\u001b[36m(tune_cv_enet pid=22968)\u001b[0m Epoch: 9 | train_loss: 0.0248 | train_ccc: 0.8079 | train_pcc: 0.8269 | val_loss: 0.0494 | val_ccc: 0.4996 | val_pcc: 0.5669\n"
     ]
    },
    {
     "name": "stderr",
     "output_type": "stream",
     "text": [
      " 50%|█████     | 10/20 [24:41<24:41, 148.14s/it]\n"
     ]
    },
    {
     "name": "stdout",
     "output_type": "stream",
     "text": [
      "\u001b[36m(tune_cv_enet pid=22968)\u001b[0m Epoch: 10 | train_loss: 0.0242 | train_ccc: 0.8127 | train_pcc: 0.8312 | val_loss: 0.0491 | val_ccc: 0.5113 | val_pcc: 0.5810\n"
     ]
    },
    {
     "name": "stderr",
     "output_type": "stream",
     "text": [
      " 55%|█████▌    | 11/20 [27:10<22:15, 148.40s/it]\n"
     ]
    },
    {
     "name": "stdout",
     "output_type": "stream",
     "text": [
      "\u001b[36m(tune_cv_enet pid=22968)\u001b[0m Epoch: 11 | train_loss: 0.0247 | train_ccc: 0.8114 | train_pcc: 0.8292 | val_loss: 0.0401 | val_ccc: 0.5844 | val_pcc: 0.6423\n"
     ]
    },
    {
     "name": "stderr",
     "output_type": "stream",
     "text": [
      " 60%|██████    | 12/20 [29:38<19:46, 148.34s/it]\n"
     ]
    },
    {
     "name": "stdout",
     "output_type": "stream",
     "text": [
      "\u001b[36m(tune_cv_enet pid=22968)\u001b[0m Epoch: 12 | train_loss: 0.0241 | train_ccc: 0.8160 | train_pcc: 0.8328 | val_loss: 0.0516 | val_ccc: 0.4920 | val_pcc: 0.5709\n"
     ]
    },
    {
     "name": "stderr",
     "output_type": "stream",
     "text": [
      " 65%|██████▌   | 13/20 [32:06<17:18, 148.33s/it]\n"
     ]
    },
    {
     "name": "stdout",
     "output_type": "stream",
     "text": [
      "\u001b[36m(tune_cv_enet pid=22968)\u001b[0m Epoch: 13 | train_loss: 0.0243 | train_ccc: 0.8155 | train_pcc: 0.8323 | val_loss: 0.0408 | val_ccc: 0.5787 | val_pcc: 0.6409\n"
     ]
    },
    {
     "name": "stderr",
     "output_type": "stream",
     "text": [
      " 70%|███████   | 14/20 [34:35<14:50, 148.35s/it]\n"
     ]
    },
    {
     "name": "stdout",
     "output_type": "stream",
     "text": [
      "\u001b[36m(tune_cv_enet pid=22968)\u001b[0m Epoch: 14 | train_loss: 0.0233 | train_ccc: 0.8220 | train_pcc: 0.8384 | val_loss: 0.0401 | val_ccc: 0.6025 | val_pcc: 0.6624\n"
     ]
    },
    {
     "name": "stderr",
     "output_type": "stream",
     "text": [
      " 75%|███████▌  | 15/20 [37:03<12:21, 148.28s/it]\n"
     ]
    },
    {
     "name": "stdout",
     "output_type": "stream",
     "text": [
      "\u001b[36m(tune_cv_enet pid=22968)\u001b[0m Epoch: 15 | train_loss: 0.0234 | train_ccc: 0.8229 | train_pcc: 0.8384 | val_loss: 0.0460 | val_ccc: 0.5463 | val_pcc: 0.6094\n",
      "\u001b[36m(tune_cv_enet pid=22968)\u001b[0m Epoch: 16 | train_loss: 0.0230 | train_ccc: 0.8248 | train_pcc: 0.8402 | val_loss: 0.0404 | val_ccc: 0.5845 | val_pcc: 0.6408\n"
     ]
    },
    {
     "name": "stderr",
     "output_type": "stream",
     "text": [
      " 80%|████████  | 16/20 [39:31<09:53, 148.32s/it]\n",
      " 85%|████████▌ | 17/20 [41:59<07:24, 148.30s/it]\n"
     ]
    },
    {
     "name": "stdout",
     "output_type": "stream",
     "text": [
      "\u001b[36m(tune_cv_enet pid=22968)\u001b[0m Epoch: 17 | train_loss: 0.0239 | train_ccc: 0.8206 | train_pcc: 0.8353 | val_loss: 0.0424 | val_ccc: 0.6085 | val_pcc: 0.6631\n"
     ]
    },
    {
     "name": "stderr",
     "output_type": "stream",
     "text": [
      " 90%|█████████ | 18/20 [44:27<04:56, 148.23s/it]\n"
     ]
    },
    {
     "name": "stdout",
     "output_type": "stream",
     "text": [
      "\u001b[36m(tune_cv_enet pid=22968)\u001b[0m Epoch: 18 | train_loss: 0.0232 | train_ccc: 0.8261 | train_pcc: 0.8401 | val_loss: 0.0593 | val_ccc: 0.4519 | val_pcc: 0.5318\n"
     ]
    },
    {
     "name": "stderr",
     "output_type": "stream",
     "text": [
      " 95%|█████████▌| 19/20 [46:55<02:28, 148.18s/it]\n"
     ]
    },
    {
     "name": "stdout",
     "output_type": "stream",
     "text": [
      "\u001b[36m(tune_cv_enet pid=22968)\u001b[0m Epoch: 19 | train_loss: 0.0229 | train_ccc: 0.8286 | train_pcc: 0.8422 | val_loss: 0.0412 | val_ccc: 0.5864 | val_pcc: 0.6451\n"
     ]
    },
    {
     "name": "stderr",
     "output_type": "stream",
     "text": [
      "100%|██████████| 20/20 [49:24<00:00, 148.20s/it]\n",
      "  0%|          | 0/20 [00:00<?, ?it/s]\n"
     ]
    },
    {
     "name": "stdout",
     "output_type": "stream",
     "text": [
      "\u001b[36m(tune_cv_enet pid=22968)\u001b[0m Epoch: 20 | train_loss: 0.0226 | train_ccc: 0.8305 | train_pcc: 0.8444 | val_loss: 0.0440 | val_ccc: 0.5697 | val_pcc: 0.6343\n",
      "\u001b[36m(tune_cv_enet pid=22968)\u001b[0m \n",
      "\u001b[36m(tune_cv_enet pid=22968)\u001b[0m -------------------------------------------------------------------------\n",
      "\u001b[36m(tune_cv_enet pid=22968)\u001b[0m Size of the training set: 39652\n",
      "\u001b[36m(tune_cv_enet pid=22968)\u001b[0m Size of the validation set: 4892\n",
      "\u001b[36m(tune_cv_enet pid=22968)\u001b[0m [INFO] Created a new pretrained EfficientNet-B0 model.\n",
      "\u001b[36m(tune_cv_enet pid=22968)\u001b[0m Training results for fold_3:\n",
      "\u001b[36m(tune_cv_enet pid=22968)\u001b[0m Epoch: 1 | train_loss: 0.0480 | train_ccc: 0.6127 | train_pcc: 0.6554 | val_loss: 0.0488 | val_ccc: 0.3493 | val_pcc: 0.4312\n"
     ]
    },
    {
     "name": "stderr",
     "output_type": "stream",
     "text": [
      "  5%|▌         | 1/20 [02:28<47:07, 148.84s/it]\n",
      " 10%|█         | 2/20 [04:57<44:35, 148.62s/it]\n"
     ]
    },
    {
     "name": "stdout",
     "output_type": "stream",
     "text": [
      "\u001b[36m(tune_cv_enet pid=22968)\u001b[0m Epoch: 2 | train_loss: 0.0324 | train_ccc: 0.7448 | train_pcc: 0.7778 | val_loss: 0.0476 | val_ccc: 0.3505 | val_pcc: 0.4453\n"
     ]
    },
    {
     "name": "stderr",
     "output_type": "stream",
     "text": [
      " 15%|█▌        | 3/20 [07:25<42:05, 148.57s/it]\n"
     ]
    },
    {
     "name": "stdout",
     "output_type": "stream",
     "text": [
      "\u001b[36m(tune_cv_enet pid=22968)\u001b[0m Epoch: 3 | train_loss: 0.0289 | train_ccc: 0.7786 | train_pcc: 0.8041 | val_loss: 0.0470 | val_ccc: 0.3774 | val_pcc: 0.4599\n"
     ]
    },
    {
     "name": "stderr",
     "output_type": "stream",
     "text": [
      " 20%|██        | 4/20 [09:54<39:38, 148.63s/it]\n"
     ]
    },
    {
     "name": "stdout",
     "output_type": "stream",
     "text": [
      "\u001b[36m(tune_cv_enet pid=22968)\u001b[0m Epoch: 4 | train_loss: 0.0274 | train_ccc: 0.7942 | train_pcc: 0.8161 | val_loss: 0.0476 | val_ccc: 0.3901 | val_pcc: 0.4625\n"
     ]
    },
    {
     "name": "stderr",
     "output_type": "stream",
     "text": [
      " 25%|██▌       | 5/20 [12:23<37:09, 148.60s/it]\n"
     ]
    },
    {
     "name": "stdout",
     "output_type": "stream",
     "text": [
      "\u001b[36m(tune_cv_enet pid=22968)\u001b[0m Epoch: 5 | train_loss: 0.0255 | train_ccc: 0.8090 | train_pcc: 0.8295 | val_loss: 0.0490 | val_ccc: 0.3580 | val_pcc: 0.4376\n"
     ]
    },
    {
     "name": "stderr",
     "output_type": "stream",
     "text": [
      " 30%|███       | 6/20 [14:51<34:40, 148.60s/it]\n"
     ]
    },
    {
     "name": "stdout",
     "output_type": "stream",
     "text": [
      "\u001b[36m(tune_cv_enet pid=22968)\u001b[0m Epoch: 6 | train_loss: 0.0250 | train_ccc: 0.8154 | train_pcc: 0.8337 | val_loss: 0.0482 | val_ccc: 0.3860 | val_pcc: 0.4554\n"
     ]
    },
    {
     "name": "stderr",
     "output_type": "stream",
     "text": [
      " 35%|███▌      | 7/20 [17:20<32:13, 148.70s/it]\n"
     ]
    },
    {
     "name": "stdout",
     "output_type": "stream",
     "text": [
      "\u001b[36m(tune_cv_enet pid=22968)\u001b[0m Epoch: 7 | train_loss: 0.0238 | train_ccc: 0.8243 | train_pcc: 0.8420 | val_loss: 0.0484 | val_ccc: 0.3720 | val_pcc: 0.4452\n"
     ]
    },
    {
     "name": "stderr",
     "output_type": "stream",
     "text": [
      " 40%|████      | 8/20 [19:49<29:44, 148.71s/it]\n"
     ]
    },
    {
     "name": "stdout",
     "output_type": "stream",
     "text": [
      "\u001b[36m(tune_cv_enet pid=22968)\u001b[0m Epoch: 8 | train_loss: 0.0235 | train_ccc: 0.8277 | train_pcc: 0.8445 | val_loss: 0.0546 | val_ccc: 0.3029 | val_pcc: 0.3757\n"
     ]
    },
    {
     "name": "stderr",
     "output_type": "stream",
     "text": [
      " 45%|████▌     | 9/20 [22:18<27:17, 148.87s/it]\n"
     ]
    },
    {
     "name": "stdout",
     "output_type": "stream",
     "text": [
      "\u001b[36m(tune_cv_enet pid=22968)\u001b[0m Epoch: 9 | train_loss: 0.0232 | train_ccc: 0.8312 | train_pcc: 0.8460 | val_loss: 0.0486 | val_ccc: 0.3839 | val_pcc: 0.4543\n"
     ]
    },
    {
     "name": "stderr",
     "output_type": "stream",
     "text": [
      " 50%|█████     | 10/20 [24:46<24:44, 148.47s/it]\n"
     ]
    },
    {
     "name": "stdout",
     "output_type": "stream",
     "text": [
      "\u001b[36m(tune_cv_enet pid=22968)\u001b[0m Epoch: 10 | train_loss: 0.0226 | train_ccc: 0.8359 | train_pcc: 0.8508 | val_loss: 0.0494 | val_ccc: 0.3614 | val_pcc: 0.4341\n"
     ]
    },
    {
     "name": "stderr",
     "output_type": "stream",
     "text": [
      " 55%|█████▌    | 11/20 [27:15<22:18, 148.77s/it]\n"
     ]
    },
    {
     "name": "stdout",
     "output_type": "stream",
     "text": [
      "\u001b[36m(tune_cv_enet pid=22968)\u001b[0m Epoch: 11 | train_loss: 0.0228 | train_ccc: 0.8367 | train_pcc: 0.8496 | val_loss: 0.0504 | val_ccc: 0.3789 | val_pcc: 0.4446\n"
     ]
    },
    {
     "name": "stderr",
     "output_type": "stream",
     "text": [
      " 60%|██████    | 12/20 [29:43<19:49, 148.65s/it]\n"
     ]
    },
    {
     "name": "stdout",
     "output_type": "stream",
     "text": [
      "\u001b[36m(tune_cv_enet pid=22968)\u001b[0m Epoch: 12 | train_loss: 0.0224 | train_ccc: 0.8398 | train_pcc: 0.8531 | val_loss: 0.0509 | val_ccc: 0.3622 | val_pcc: 0.4290\n"
     ]
    },
    {
     "name": "stderr",
     "output_type": "stream",
     "text": [
      " 65%|██████▌   | 13/20 [32:12<17:20, 148.70s/it]\n"
     ]
    },
    {
     "name": "stdout",
     "output_type": "stream",
     "text": [
      "\u001b[36m(tune_cv_enet pid=22968)\u001b[0m Epoch: 13 | train_loss: 0.0218 | train_ccc: 0.8434 | train_pcc: 0.8562 | val_loss: 0.0514 | val_ccc: 0.3353 | val_pcc: 0.4102\n"
     ]
    },
    {
     "name": "stderr",
     "output_type": "stream",
     "text": [
      " 70%|███████   | 14/20 [34:41<14:52, 148.71s/it]\n"
     ]
    },
    {
     "name": "stdout",
     "output_type": "stream",
     "text": [
      "\u001b[36m(tune_cv_enet pid=22968)\u001b[0m Epoch: 14 | train_loss: 0.0217 | train_ccc: 0.8452 | train_pcc: 0.8570 | val_loss: 0.0508 | val_ccc: 0.3466 | val_pcc: 0.4187\n"
     ]
    },
    {
     "name": "stderr",
     "output_type": "stream",
     "text": [
      " 75%|███████▌  | 15/20 [37:10<12:24, 148.92s/it]\n"
     ]
    },
    {
     "name": "stdout",
     "output_type": "stream",
     "text": [
      "\u001b[36m(tune_cv_enet pid=22968)\u001b[0m Epoch: 15 | train_loss: 0.0219 | train_ccc: 0.8445 | train_pcc: 0.8567 | val_loss: 0.0504 | val_ccc: 0.3637 | val_pcc: 0.4288\n"
     ]
    },
    {
     "name": "stderr",
     "output_type": "stream",
     "text": [
      " 80%|████████  | 16/20 [39:40<09:56, 149.03s/it]\n"
     ]
    },
    {
     "name": "stdout",
     "output_type": "stream",
     "text": [
      "\u001b[36m(tune_cv_enet pid=22968)\u001b[0m Epoch: 16 | train_loss: 0.0215 | train_ccc: 0.8467 | train_pcc: 0.8590 | val_loss: 0.0505 | val_ccc: 0.3635 | val_pcc: 0.4292\n"
     ]
    },
    {
     "name": "stderr",
     "output_type": "stream",
     "text": [
      " 85%|████████▌ | 17/20 [42:08<07:26, 148.96s/it]\n"
     ]
    },
    {
     "name": "stdout",
     "output_type": "stream",
     "text": [
      "\u001b[36m(tune_cv_enet pid=22968)\u001b[0m Epoch: 17 | train_loss: 0.0218 | train_ccc: 0.8462 | train_pcc: 0.8577 | val_loss: 0.0515 | val_ccc: 0.3435 | val_pcc: 0.4146\n"
     ]
    },
    {
     "name": "stderr",
     "output_type": "stream",
     "text": [
      " 90%|█████████ | 18/20 [44:37<04:57, 148.82s/it]\n"
     ]
    },
    {
     "name": "stdout",
     "output_type": "stream",
     "text": [
      "\u001b[36m(tune_cv_enet pid=22968)\u001b[0m Epoch: 18 | train_loss: 0.0213 | train_ccc: 0.8496 | train_pcc: 0.8605 | val_loss: 0.0527 | val_ccc: 0.3244 | val_pcc: 0.3943\n"
     ]
    },
    {
     "name": "stderr",
     "output_type": "stream",
     "text": [
      " 95%|█████████▌| 19/20 [47:05<02:28, 148.68s/it]\n"
     ]
    },
    {
     "name": "stdout",
     "output_type": "stream",
     "text": [
      "\u001b[36m(tune_cv_enet pid=22968)\u001b[0m Epoch: 19 | train_loss: 0.0208 | train_ccc: 0.8526 | train_pcc: 0.8633 | val_loss: 0.0509 | val_ccc: 0.3600 | val_pcc: 0.4253\n"
     ]
    },
    {
     "name": "stderr",
     "output_type": "stream",
     "text": [
      "100%|██████████| 20/20 [49:34<00:00, 148.71s/it]\n",
      "  0%|          | 0/20 [00:00<?, ?it/s]\n"
     ]
    },
    {
     "name": "stdout",
     "output_type": "stream",
     "text": [
      "\u001b[36m(tune_cv_enet pid=22968)\u001b[0m Epoch: 20 | train_loss: 0.0212 | train_ccc: 0.8505 | train_pcc: 0.8616 | val_loss: 0.0522 | val_ccc: 0.3229 | val_pcc: 0.3981\n",
      "\u001b[36m(tune_cv_enet pid=22968)\u001b[0m \n",
      "\u001b[36m(tune_cv_enet pid=22968)\u001b[0m -------------------------------------------------------------------------\n",
      "\u001b[36m(tune_cv_enet pid=22968)\u001b[0m Size of the training set: 39334\n",
      "\u001b[36m(tune_cv_enet pid=22968)\u001b[0m Size of the validation set: 5051\n",
      "\u001b[36m(tune_cv_enet pid=22968)\u001b[0m [INFO] Created a new pretrained EfficientNet-B0 model.\n",
      "\u001b[36m(tune_cv_enet pid=22968)\u001b[0m Training results for fold_4:\n"
     ]
    },
    {
     "name": "stderr",
     "output_type": "stream",
     "text": [
      "  5%|▌         | 1/20 [02:28<46:57, 148.31s/it]\n"
     ]
    },
    {
     "name": "stdout",
     "output_type": "stream",
     "text": [
      "\u001b[36m(tune_cv_enet pid=22968)\u001b[0m Epoch: 1 | train_loss: 0.0456 | train_ccc: 0.6118 | train_pcc: 0.6598 | val_loss: 0.0453 | val_ccc: 0.4782 | val_pcc: 0.5960\n",
      "\u001b[36m(tune_cv_enet pid=22968)\u001b[0m Epoch: 2 | train_loss: 0.0320 | train_ccc: 0.7440 | train_pcc: 0.7776 | val_loss: 0.0454 | val_ccc: 0.5034 | val_pcc: 0.6073\n"
     ]
    },
    {
     "name": "stderr",
     "output_type": "stream",
     "text": [
      " 10%|█         | 2/20 [04:56<44:26, 148.15s/it]\n",
      " 15%|█▌        | 3/20 [07:24<41:58, 148.16s/it]\n"
     ]
    },
    {
     "name": "stdout",
     "output_type": "stream",
     "text": [
      "\u001b[36m(tune_cv_enet pid=22968)\u001b[0m Epoch: 3 | train_loss: 0.0282 | train_ccc: 0.7803 | train_pcc: 0.8068 | val_loss: 0.0460 | val_ccc: 0.5050 | val_pcc: 0.6032\n"
     ]
    },
    {
     "name": "stderr",
     "output_type": "stream",
     "text": [
      " 20%|██        | 4/20 [09:52<39:32, 148.27s/it]\n"
     ]
    },
    {
     "name": "stdout",
     "output_type": "stream",
     "text": [
      "\u001b[36m(tune_cv_enet pid=22968)\u001b[0m Epoch: 4 | train_loss: 0.0274 | train_ccc: 0.7929 | train_pcc: 0.8156 | val_loss: 0.0477 | val_ccc: 0.4851 | val_pcc: 0.5789\n"
     ]
    },
    {
     "name": "stderr",
     "output_type": "stream",
     "text": [
      " 25%|██▌       | 5/20 [12:22<37:08, 148.56s/it]\n"
     ]
    },
    {
     "name": "stdout",
     "output_type": "stream",
     "text": [
      "\u001b[36m(tune_cv_enet pid=22968)\u001b[0m Epoch: 5 | train_loss: 0.0257 | train_ccc: 0.8060 | train_pcc: 0.8263 | val_loss: 0.0484 | val_ccc: 0.5178 | val_pcc: 0.6000\n"
     ]
    },
    {
     "name": "stderr",
     "output_type": "stream",
     "text": [
      " 30%|███       | 6/20 [14:50<34:41, 148.64s/it]\n"
     ]
    },
    {
     "name": "stdout",
     "output_type": "stream",
     "text": [
      "\u001b[36m(tune_cv_enet pid=22968)\u001b[0m Epoch: 6 | train_loss: 0.0246 | train_ccc: 0.8162 | train_pcc: 0.8353 | val_loss: 0.0497 | val_ccc: 0.4703 | val_pcc: 0.5550\n"
     ]
    },
    {
     "name": "stderr",
     "output_type": "stream",
     "text": [
      " 35%|███▌      | 7/20 [17:19<32:11, 148.60s/it]\n"
     ]
    },
    {
     "name": "stdout",
     "output_type": "stream",
     "text": [
      "\u001b[36m(tune_cv_enet pid=22968)\u001b[0m Epoch: 7 | train_loss: 0.0242 | train_ccc: 0.8212 | train_pcc: 0.8389 | val_loss: 0.0489 | val_ccc: 0.4737 | val_pcc: 0.5677\n"
     ]
    },
    {
     "name": "stderr",
     "output_type": "stream",
     "text": [
      " 40%|████      | 8/20 [19:47<29:42, 148.54s/it]\n"
     ]
    },
    {
     "name": "stdout",
     "output_type": "stream",
     "text": [
      "\u001b[36m(tune_cv_enet pid=22968)\u001b[0m Epoch: 8 | train_loss: 0.0239 | train_ccc: 0.8254 | train_pcc: 0.8416 | val_loss: 0.0499 | val_ccc: 0.4584 | val_pcc: 0.5474\n"
     ]
    },
    {
     "name": "stderr",
     "output_type": "stream",
     "text": [
      " 45%|████▌     | 9/20 [22:16<27:13, 148.51s/it]\n"
     ]
    },
    {
     "name": "stdout",
     "output_type": "stream",
     "text": [
      "\u001b[36m(tune_cv_enet pid=22968)\u001b[0m Epoch: 9 | train_loss: 0.0232 | train_ccc: 0.8301 | train_pcc: 0.8461 | val_loss: 0.0506 | val_ccc: 0.4535 | val_pcc: 0.5424\n"
     ]
    },
    {
     "name": "stderr",
     "output_type": "stream",
     "text": [
      " 50%|█████     | 10/20 [24:44<24:42, 148.30s/it]\n"
     ]
    },
    {
     "name": "stdout",
     "output_type": "stream",
     "text": [
      "\u001b[36m(tune_cv_enet pid=22968)\u001b[0m Epoch: 10 | train_loss: 0.0228 | train_ccc: 0.8332 | train_pcc: 0.8486 | val_loss: 0.0508 | val_ccc: 0.4748 | val_pcc: 0.5650\n",
      "\u001b[36m(tune_cv_enet pid=22968)\u001b[0m Epoch: 11 | train_loss: 0.0220 | train_ccc: 0.8392 | train_pcc: 0.8534 | val_loss: 0.0567 | val_ccc: 0.3896 | val_pcc: 0.4816\n"
     ]
    },
    {
     "name": "stderr",
     "output_type": "stream",
     "text": [
      " 55%|█████▌    | 11/20 [27:12<22:15, 148.37s/it]\n",
      " 60%|██████    | 12/20 [29:42<19:49, 148.72s/it]\n"
     ]
    },
    {
     "name": "stdout",
     "output_type": "stream",
     "text": [
      "\u001b[36m(tune_cv_enet pid=22968)\u001b[0m Epoch: 12 | train_loss: 0.0223 | train_ccc: 0.8381 | train_pcc: 0.8521 | val_loss: 0.0582 | val_ccc: 0.3891 | val_pcc: 0.4827\n"
     ]
    },
    {
     "name": "stderr",
     "output_type": "stream",
     "text": [
      " 65%|██████▌   | 13/20 [32:10<17:21, 148.74s/it]\n"
     ]
    },
    {
     "name": "stdout",
     "output_type": "stream",
     "text": [
      "\u001b[36m(tune_cv_enet pid=22968)\u001b[0m Epoch: 13 | train_loss: 0.0224 | train_ccc: 0.8383 | train_pcc: 0.8519 | val_loss: 0.0546 | val_ccc: 0.5023 | val_pcc: 0.5834\n"
     ]
    },
    {
     "name": "stderr",
     "output_type": "stream",
     "text": [
      " 70%|███████   | 14/20 [34:39<14:53, 148.85s/it]\n"
     ]
    },
    {
     "name": "stdout",
     "output_type": "stream",
     "text": [
      "\u001b[36m(tune_cv_enet pid=22968)\u001b[0m Epoch: 14 | train_loss: 0.0219 | train_ccc: 0.8430 | train_pcc: 0.8553 | val_loss: 0.0513 | val_ccc: 0.4638 | val_pcc: 0.5477\n"
     ]
    },
    {
     "name": "stderr",
     "output_type": "stream",
     "text": [
      " 75%|███████▌  | 15/20 [37:08<12:24, 148.86s/it]\n"
     ]
    },
    {
     "name": "stdout",
     "output_type": "stream",
     "text": [
      "\u001b[36m(tune_cv_enet pid=22968)\u001b[0m Epoch: 15 | train_loss: 0.0215 | train_ccc: 0.8454 | train_pcc: 0.8580 | val_loss: 0.0539 | val_ccc: 0.4338 | val_pcc: 0.5170\n",
      "\u001b[36m(tune_cv_enet pid=22968)\u001b[0m Epoch: 16 | train_loss: 0.0216 | train_ccc: 0.8456 | train_pcc: 0.8581 | val_loss: 0.0522 | val_ccc: 0.4409 | val_pcc: 0.5313\n"
     ]
    },
    {
     "name": "stderr",
     "output_type": "stream",
     "text": [
      " 80%|████████  | 16/20 [39:37<09:55, 148.77s/it]\n",
      " 85%|████████▌ | 17/20 [42:04<07:25, 148.35s/it]\n"
     ]
    },
    {
     "name": "stdout",
     "output_type": "stream",
     "text": [
      "\u001b[36m(tune_cv_enet pid=22968)\u001b[0m Epoch: 17 | train_loss: 0.0210 | train_ccc: 0.8491 | train_pcc: 0.8612 | val_loss: 0.0557 | val_ccc: 0.4224 | val_pcc: 0.5056\n"
     ]
    },
    {
     "name": "stderr",
     "output_type": "stream",
     "text": [
      " 90%|█████████ | 18/20 [44:32<04:56, 148.28s/it]\n"
     ]
    },
    {
     "name": "stdout",
     "output_type": "stream",
     "text": [
      "\u001b[36m(tune_cv_enet pid=22968)\u001b[0m Epoch: 18 | train_loss: 0.0213 | train_ccc: 0.8483 | train_pcc: 0.8600 | val_loss: 0.0519 | val_ccc: 0.4588 | val_pcc: 0.5418\n"
     ]
    },
    {
     "name": "stderr",
     "output_type": "stream",
     "text": [
      " 95%|█████████▌| 19/20 [47:02<02:28, 148.66s/it]\n"
     ]
    },
    {
     "name": "stdout",
     "output_type": "stream",
     "text": [
      "\u001b[36m(tune_cv_enet pid=22968)\u001b[0m Epoch: 19 | train_loss: 0.0213 | train_ccc: 0.8487 | train_pcc: 0.8600 | val_loss: 0.0558 | val_ccc: 0.4163 | val_pcc: 0.5060\n"
     ]
    },
    {
     "name": "stderr",
     "output_type": "stream",
     "text": [
      "100%|██████████| 20/20 [49:31<00:00, 148.59s/it]\n",
      "  0%|          | 0/20 [00:00<?, ?it/s]\n"
     ]
    },
    {
     "name": "stdout",
     "output_type": "stream",
     "text": [
      "\u001b[36m(tune_cv_enet pid=22968)\u001b[0m Epoch: 20 | train_loss: 0.0214 | train_ccc: 0.8487 | train_pcc: 0.8596 | val_loss: 0.0602 | val_ccc: 0.3840 | val_pcc: 0.4661\n",
      "\u001b[36m(tune_cv_enet pid=22968)\u001b[0m \n",
      "\u001b[36m(tune_cv_enet pid=22968)\u001b[0m -------------------------------------------------------------------------\n",
      "\u001b[36m(tune_cv_enet pid=22968)\u001b[0m Size of the training set: 39746\n",
      "\u001b[36m(tune_cv_enet pid=22968)\u001b[0m Size of the validation set: 4845\n",
      "\u001b[36m(tune_cv_enet pid=22968)\u001b[0m [INFO] Created a new pretrained EfficientNet-B0 model.\n",
      "\u001b[36m(tune_cv_enet pid=22968)\u001b[0m Training results for fold_5:\n"
     ]
    },
    {
     "name": "stderr",
     "output_type": "stream",
     "text": [
      "\u001b[36m(tune_cv_enet pid=22968)\u001b[0m C:\\local\\AIProject\\venv\\Lib\\site-packages\\torch\\nn\\modules\\conv.py:456: UserWarning: Plan failed with a cudnnException: CUDNN_BACKEND_EXECUTION_PLAN_DESCRIPTOR: cudnnFinalize Descriptor Failed cudnn_status: CUDNN_STATUS_NOT_SUPPORTED (Triggered internally at ..\\aten\\src\\ATen\\native\\cudnn\\Conv_v8.cpp:919.)\n",
      "\u001b[36m(tune_cv_enet pid=22968)\u001b[0m   return F.conv2d(input, weight, bias, self.stride,\n",
      "  5%|▌         | 1/20 [02:29<47:19, 149.45s/it]\n"
     ]
    },
    {
     "name": "stdout",
     "output_type": "stream",
     "text": [
      "\u001b[36m(tune_cv_enet pid=22968)\u001b[0m Epoch: 1 | train_loss: 0.0493 | train_ccc: 0.5833 | train_pcc: 0.6308 | val_loss: 0.0469 | val_ccc: 0.4633 | val_pcc: 0.5986\n"
     ]
    },
    {
     "name": "stderr",
     "output_type": "stream",
     "text": [
      " 10%|█         | 2/20 [04:58<44:44, 149.12s/it]\n"
     ]
    },
    {
     "name": "stdout",
     "output_type": "stream",
     "text": [
      "\u001b[36m(tune_cv_enet pid=22968)\u001b[0m Epoch: 2 | train_loss: 0.0330 | train_ccc: 0.7280 | train_pcc: 0.7637 | val_loss: 0.0470 | val_ccc: 0.4780 | val_pcc: 0.6140\n"
     ]
    },
    {
     "name": "stderr",
     "output_type": "stream",
     "text": [
      " 15%|█▌        | 3/20 [07:27<42:18, 149.30s/it]\n"
     ]
    },
    {
     "name": "stdout",
     "output_type": "stream",
     "text": [
      "\u001b[36m(tune_cv_enet pid=22968)\u001b[0m Epoch: 3 | train_loss: 0.0292 | train_ccc: 0.7662 | train_pcc: 0.7937 | val_loss: 0.0516 | val_ccc: 0.4469 | val_pcc: 0.5745\n",
      "\u001b[36m(tune_cv_enet pid=22968)\u001b[0m Epoch: 4 | train_loss: 0.0278 | train_ccc: 0.7819 | train_pcc: 0.8057 | val_loss: 0.0484 | val_ccc: 0.4780 | val_pcc: 0.6006\n"
     ]
    },
    {
     "name": "stderr",
     "output_type": "stream",
     "text": [
      " 20%|██        | 4/20 [09:56<39:42, 148.92s/it]\n",
      " 25%|██▌       | 5/20 [12:24<37:11, 148.79s/it]\n"
     ]
    },
    {
     "name": "stdout",
     "output_type": "stream",
     "text": [
      "\u001b[36m(tune_cv_enet pid=22968)\u001b[0m Epoch: 5 | train_loss: 0.0262 | train_ccc: 0.7974 | train_pcc: 0.8173 | val_loss: 0.0474 | val_ccc: 0.5023 | val_pcc: 0.6258\n"
     ]
    },
    {
     "name": "stderr",
     "output_type": "stream",
     "text": [
      " 30%|███       | 6/20 [14:53<34:44, 148.91s/it]\n"
     ]
    },
    {
     "name": "stdout",
     "output_type": "stream",
     "text": [
      "\u001b[36m(tune_cv_enet pid=22968)\u001b[0m Epoch: 6 | train_loss: 0.0257 | train_ccc: 0.8025 | train_pcc: 0.8226 | val_loss: 0.0667 | val_ccc: 0.3729 | val_pcc: 0.4606\n"
     ]
    },
    {
     "name": "stderr",
     "output_type": "stream",
     "text": [
      " 35%|███▌      | 7/20 [17:22<32:16, 148.93s/it]\n"
     ]
    },
    {
     "name": "stdout",
     "output_type": "stream",
     "text": [
      "\u001b[36m(tune_cv_enet pid=22968)\u001b[0m Epoch: 7 | train_loss: 0.0252 | train_ccc: 0.8083 | train_pcc: 0.8272 | val_loss: 0.0480 | val_ccc: 0.5004 | val_pcc: 0.6159\n"
     ]
    },
    {
     "name": "stderr",
     "output_type": "stream",
     "text": [
      " 40%|████      | 8/20 [19:50<29:43, 148.62s/it]\n"
     ]
    },
    {
     "name": "stdout",
     "output_type": "stream",
     "text": [
      "\u001b[36m(tune_cv_enet pid=22968)\u001b[0m Epoch: 8 | train_loss: 0.0241 | train_ccc: 0.8166 | train_pcc: 0.8345 | val_loss: 0.0555 | val_ccc: 0.4345 | val_pcc: 0.5469\n"
     ]
    },
    {
     "name": "stderr",
     "output_type": "stream",
     "text": [
      " 45%|████▌     | 9/20 [22:19<27:14, 148.58s/it]\n"
     ]
    },
    {
     "name": "stdout",
     "output_type": "stream",
     "text": [
      "\u001b[36m(tune_cv_enet pid=22968)\u001b[0m Epoch: 9 | train_loss: 0.0242 | train_ccc: 0.8178 | train_pcc: 0.8347 | val_loss: 0.0479 | val_ccc: 0.4993 | val_pcc: 0.6144\n"
     ]
    },
    {
     "name": "stderr",
     "output_type": "stream",
     "text": [
      " 50%|█████     | 10/20 [24:47<24:43, 148.33s/it]\n"
     ]
    },
    {
     "name": "stdout",
     "output_type": "stream",
     "text": [
      "\u001b[36m(tune_cv_enet pid=22968)\u001b[0m Epoch: 10 | train_loss: 0.0233 | train_ccc: 0.8247 | train_pcc: 0.8405 | val_loss: 0.0483 | val_ccc: 0.5030 | val_pcc: 0.6232\n"
     ]
    },
    {
     "name": "stderr",
     "output_type": "stream",
     "text": [
      " 55%|█████▌    | 11/20 [27:14<22:13, 148.13s/it]\n"
     ]
    },
    {
     "name": "stdout",
     "output_type": "stream",
     "text": [
      "\u001b[36m(tune_cv_enet pid=22968)\u001b[0m Epoch: 11 | train_loss: 0.0230 | train_ccc: 0.8279 | train_pcc: 0.8429 | val_loss: 0.0476 | val_ccc: 0.5336 | val_pcc: 0.6351\n"
     ]
    },
    {
     "name": "stderr",
     "output_type": "stream",
     "text": [
      " 60%|██████    | 12/20 [29:43<19:45, 148.17s/it]\n"
     ]
    },
    {
     "name": "stdout",
     "output_type": "stream",
     "text": [
      "\u001b[36m(tune_cv_enet pid=22968)\u001b[0m Epoch: 12 | train_loss: 0.0229 | train_ccc: 0.8289 | train_pcc: 0.8438 | val_loss: 0.0467 | val_ccc: 0.5276 | val_pcc: 0.6377\n"
     ]
    },
    {
     "name": "stderr",
     "output_type": "stream",
     "text": [
      " 65%|██████▌   | 13/20 [32:11<17:18, 148.34s/it]\n"
     ]
    },
    {
     "name": "stdout",
     "output_type": "stream",
     "text": [
      "\u001b[36m(tune_cv_enet pid=22968)\u001b[0m Epoch: 13 | train_loss: 0.0228 | train_ccc: 0.8307 | train_pcc: 0.8444 | val_loss: 0.0492 | val_ccc: 0.5279 | val_pcc: 0.6249\n"
     ]
    },
    {
     "name": "stderr",
     "output_type": "stream",
     "text": [
      " 70%|███████   | 14/20 [34:40<14:51, 148.60s/it]\n"
     ]
    },
    {
     "name": "stdout",
     "output_type": "stream",
     "text": [
      "\u001b[36m(tune_cv_enet pid=22968)\u001b[0m Epoch: 14 | train_loss: 0.0222 | train_ccc: 0.8346 | train_pcc: 0.8493 | val_loss: 0.0484 | val_ccc: 0.5154 | val_pcc: 0.6299\n"
     ]
    },
    {
     "name": "stderr",
     "output_type": "stream",
     "text": [
      " 75%|███████▌  | 15/20 [37:09<12:23, 148.61s/it]\n"
     ]
    },
    {
     "name": "stdout",
     "output_type": "stream",
     "text": [
      "\u001b[36m(tune_cv_enet pid=22968)\u001b[0m Epoch: 15 | train_loss: 0.0223 | train_ccc: 0.8337 | train_pcc: 0.8485 | val_loss: 0.0519 | val_ccc: 0.4724 | val_pcc: 0.5897\n"
     ]
    },
    {
     "name": "stderr",
     "output_type": "stream",
     "text": [
      " 80%|████████  | 16/20 [39:38<09:54, 148.68s/it]\n"
     ]
    },
    {
     "name": "stdout",
     "output_type": "stream",
     "text": [
      "\u001b[36m(tune_cv_enet pid=22968)\u001b[0m Epoch: 16 | train_loss: 0.0221 | train_ccc: 0.8374 | train_pcc: 0.8499 | val_loss: 0.0503 | val_ccc: 0.4834 | val_pcc: 0.5952\n"
     ]
    },
    {
     "name": "stderr",
     "output_type": "stream",
     "text": [
      " 85%|████████▌ | 17/20 [42:06<07:25, 148.52s/it]\n"
     ]
    },
    {
     "name": "stdout",
     "output_type": "stream",
     "text": [
      "\u001b[36m(tune_cv_enet pid=22968)\u001b[0m Epoch: 17 | train_loss: 0.0215 | train_ccc: 0.8406 | train_pcc: 0.8531 | val_loss: 0.0492 | val_ccc: 0.5037 | val_pcc: 0.6159\n"
     ]
    },
    {
     "name": "stderr",
     "output_type": "stream",
     "text": [
      " 90%|█████████ | 18/20 [44:35<04:57, 148.65s/it]\n"
     ]
    },
    {
     "name": "stdout",
     "output_type": "stream",
     "text": [
      "\u001b[36m(tune_cv_enet pid=22968)\u001b[0m Epoch: 18 | train_loss: 0.0225 | train_ccc: 0.8354 | train_pcc: 0.8477 | val_loss: 0.0492 | val_ccc: 0.4955 | val_pcc: 0.6093\n"
     ]
    },
    {
     "name": "stderr",
     "output_type": "stream",
     "text": [
      " 95%|█████████▌| 19/20 [47:04<02:28, 148.87s/it]\n"
     ]
    },
    {
     "name": "stdout",
     "output_type": "stream",
     "text": [
      "\u001b[36m(tune_cv_enet pid=22968)\u001b[0m Epoch: 19 | train_loss: 0.0217 | train_ccc: 0.8416 | train_pcc: 0.8536 | val_loss: 0.0509 | val_ccc: 0.5180 | val_pcc: 0.6167\n"
     ]
    },
    {
     "name": "stderr",
     "output_type": "stream",
     "text": [
      "100%|██████████| 20/20 [49:34<00:00, 148.70s/it]\n"
     ]
    },
    {
     "name": "stdout",
     "output_type": "stream",
     "text": [
      "\u001b[36m(tune_cv_enet pid=22968)\u001b[0m Epoch: 20 | train_loss: 0.0221 | train_ccc: 0.8387 | train_pcc: 0.8507 | val_loss: 0.0486 | val_ccc: 0.5266 | val_pcc: 0.6292\n",
      "\u001b[36m(tune_cv_enet pid=12720)\u001b[0m cuda\n",
      "\u001b[36m(tune_cv_enet pid=12720)\u001b[0m [INFO] Created SummaryWriter, saving to: C:\\local\\AIProject\\runs\\hp_tuning_cv\\pretrained_enet\\start_07-11-56\\2024-05-31_00-19-17...\n",
      "\u001b[36m(tune_cv_enet pid=12720)\u001b[0m \n",
      "\u001b[36m(tune_cv_enet pid=12720)\u001b[0m -------------------------------------------------------------------------\n",
      "\u001b[36m(tune_cv_enet pid=12720)\u001b[0m Size of the training set: 39606\n",
      "\u001b[36m(tune_cv_enet pid=12720)\u001b[0m Size of the validation set: 4915\n"
     ]
    },
    {
     "name": "stderr",
     "output_type": "stream",
     "text": [
      "  0%|          | 0/20 [00:00<?, ?it/s]\n"
     ]
    },
    {
     "name": "stdout",
     "output_type": "stream",
     "text": [
      "\u001b[36m(tune_cv_enet pid=12720)\u001b[0m [INFO] Created a new pretrained EfficientNet-B0 model.\n",
      "\u001b[36m(tune_cv_enet pid=12720)\u001b[0m Training results for fold_1:\n"
     ]
    },
    {
     "name": "stderr",
     "output_type": "stream",
     "text": [
      "  5%|▌         | 1/20 [02:31<48:04, 151.83s/it]\n"
     ]
    },
    {
     "name": "stdout",
     "output_type": "stream",
     "text": [
      "\u001b[36m(tune_cv_enet pid=12720)\u001b[0m Epoch: 1 | train_loss: 0.0534 | train_ccc: 0.5366 | train_pcc: 0.5835 | val_loss: 0.0525 | val_ccc: 0.3995 | val_pcc: 0.4905\n"
     ]
    },
    {
     "name": "stderr",
     "output_type": "stream",
     "text": [
      " 10%|█         | 2/20 [05:01<45:07, 150.42s/it]\n"
     ]
    },
    {
     "name": "stdout",
     "output_type": "stream",
     "text": [
      "\u001b[36m(tune_cv_enet pid=12720)\u001b[0m Epoch: 2 | train_loss: 0.0368 | train_ccc: 0.6890 | train_pcc: 0.7287 | val_loss: 0.0503 | val_ccc: 0.4194 | val_pcc: 0.4892\n"
     ]
    },
    {
     "name": "stderr",
     "output_type": "stream",
     "text": [
      " 15%|█▌        | 3/20 [07:30<42:30, 150.02s/it]\n"
     ]
    },
    {
     "name": "stdout",
     "output_type": "stream",
     "text": [
      "\u001b[36m(tune_cv_enet pid=12720)\u001b[0m Epoch: 3 | train_loss: 0.0334 | train_ccc: 0.7291 | train_pcc: 0.7602 | val_loss: 0.0494 | val_ccc: 0.4240 | val_pcc: 0.4910\n"
     ]
    },
    {
     "name": "stderr",
     "output_type": "stream",
     "text": [
      " 20%|██        | 4/20 [10:00<39:57, 149.87s/it]\n"
     ]
    },
    {
     "name": "stdout",
     "output_type": "stream",
     "text": [
      "\u001b[36m(tune_cv_enet pid=12720)\u001b[0m Epoch: 4 | train_loss: 0.0306 | train_ccc: 0.7555 | train_pcc: 0.7823 | val_loss: 0.0502 | val_ccc: 0.4412 | val_pcc: 0.4946\n"
     ]
    },
    {
     "name": "stderr",
     "output_type": "stream",
     "text": [
      " 25%|██▌       | 5/20 [12:29<37:25, 149.68s/it]\n"
     ]
    },
    {
     "name": "stdout",
     "output_type": "stream",
     "text": [
      "\u001b[36m(tune_cv_enet pid=12720)\u001b[0m Epoch: 5 | train_loss: 0.0295 | train_ccc: 0.7672 | train_pcc: 0.7913 | val_loss: 0.0514 | val_ccc: 0.4495 | val_pcc: 0.4993\n"
     ]
    },
    {
     "name": "stderr",
     "output_type": "stream",
     "text": [
      " 30%|███       | 6/20 [14:59<34:56, 149.78s/it]\n"
     ]
    },
    {
     "name": "stdout",
     "output_type": "stream",
     "text": [
      "\u001b[36m(tune_cv_enet pid=12720)\u001b[0m Epoch: 6 | train_loss: 0.0283 | train_ccc: 0.7799 | train_pcc: 0.8021 | val_loss: 0.0514 | val_ccc: 0.4407 | val_pcc: 0.4879\n"
     ]
    },
    {
     "name": "stderr",
     "output_type": "stream",
     "text": [
      " 35%|███▌      | 7/20 [17:29<32:27, 149.84s/it]\n"
     ]
    },
    {
     "name": "stdout",
     "output_type": "stream",
     "text": [
      "\u001b[36m(tune_cv_enet pid=12720)\u001b[0m Epoch: 7 | train_loss: 0.0277 | train_ccc: 0.7861 | train_pcc: 0.8055 | val_loss: 0.0510 | val_ccc: 0.4213 | val_pcc: 0.4712\n"
     ]
    },
    {
     "name": "stderr",
     "output_type": "stream",
     "text": [
      " 40%|████      | 8/20 [19:58<29:55, 149.60s/it]\n"
     ]
    },
    {
     "name": "stdout",
     "output_type": "stream",
     "text": [
      "\u001b[36m(tune_cv_enet pid=12720)\u001b[0m Epoch: 8 | train_loss: 0.0267 | train_ccc: 0.7931 | train_pcc: 0.8130 | val_loss: 0.0517 | val_ccc: 0.4264 | val_pcc: 0.4745\n"
     ]
    },
    {
     "name": "stderr",
     "output_type": "stream",
     "text": [
      " 45%|████▌     | 9/20 [22:28<27:24, 149.51s/it]\n"
     ]
    },
    {
     "name": "stdout",
     "output_type": "stream",
     "text": [
      "\u001b[36m(tune_cv_enet pid=12720)\u001b[0m Epoch: 9 | train_loss: 0.0258 | train_ccc: 0.8002 | train_pcc: 0.8195 | val_loss: 0.0548 | val_ccc: 0.3640 | val_pcc: 0.4242\n"
     ]
    },
    {
     "name": "stderr",
     "output_type": "stream",
     "text": [
      " 50%|█████     | 10/20 [24:56<24:52, 149.21s/it]\n"
     ]
    },
    {
     "name": "stdout",
     "output_type": "stream",
     "text": [
      "\u001b[36m(tune_cv_enet pid=12720)\u001b[0m Epoch: 10 | train_loss: 0.0258 | train_ccc: 0.8010 | train_pcc: 0.8200 | val_loss: 0.0514 | val_ccc: 0.4098 | val_pcc: 0.4610\n"
     ]
    },
    {
     "name": "stderr",
     "output_type": "stream",
     "text": [
      " 55%|█████▌    | 11/20 [27:25<22:21, 149.07s/it]\n"
     ]
    },
    {
     "name": "stdout",
     "output_type": "stream",
     "text": [
      "\u001b[36m(tune_cv_enet pid=12720)\u001b[0m Epoch: 11 | train_loss: 0.0256 | train_ccc: 0.8053 | train_pcc: 0.8220 | val_loss: 0.0535 | val_ccc: 0.3733 | val_pcc: 0.4303\n"
     ]
    },
    {
     "name": "stderr",
     "output_type": "stream",
     "text": [
      " 60%|██████    | 12/20 [29:54<19:53, 149.16s/it]\n"
     ]
    },
    {
     "name": "stdout",
     "output_type": "stream",
     "text": [
      "\u001b[36m(tune_cv_enet pid=12720)\u001b[0m Epoch: 12 | train_loss: 0.0253 | train_ccc: 0.8074 | train_pcc: 0.8246 | val_loss: 0.0516 | val_ccc: 0.4097 | val_pcc: 0.4592\n",
      "\u001b[36m(tune_cv_enet pid=12720)\u001b[0m Epoch: 13 | train_loss: 0.0247 | train_ccc: 0.8126 | train_pcc: 0.8295 | val_loss: 0.0524 | val_ccc: 0.4278 | val_pcc: 0.4722\n"
     ]
    },
    {
     "name": "stderr",
     "output_type": "stream",
     "text": [
      " 65%|██████▌   | 13/20 [32:23<17:23, 149.10s/it]\n",
      " 70%|███████   | 14/20 [34:52<14:54, 149.11s/it]\n"
     ]
    },
    {
     "name": "stdout",
     "output_type": "stream",
     "text": [
      "\u001b[36m(tune_cv_enet pid=12720)\u001b[0m Epoch: 14 | train_loss: 0.0243 | train_ccc: 0.8165 | train_pcc: 0.8319 | val_loss: 0.0520 | val_ccc: 0.4216 | val_pcc: 0.4668\n"
     ]
    },
    {
     "name": "stderr",
     "output_type": "stream",
     "text": [
      " 75%|███████▌  | 15/20 [37:21<12:24, 148.89s/it]\n"
     ]
    },
    {
     "name": "stdout",
     "output_type": "stream",
     "text": [
      "\u001b[36m(tune_cv_enet pid=12720)\u001b[0m Epoch: 15 | train_loss: 0.0245 | train_ccc: 0.8158 | train_pcc: 0.8307 | val_loss: 0.0526 | val_ccc: 0.4075 | val_pcc: 0.4521\n"
     ]
    },
    {
     "name": "stderr",
     "output_type": "stream",
     "text": [
      " 80%|████████  | 16/20 [39:50<09:56, 149.03s/it]\n"
     ]
    },
    {
     "name": "stdout",
     "output_type": "stream",
     "text": [
      "\u001b[36m(tune_cv_enet pid=12720)\u001b[0m Epoch: 16 | train_loss: 0.0241 | train_ccc: 0.8166 | train_pcc: 0.8320 | val_loss: 0.0527 | val_ccc: 0.4139 | val_pcc: 0.4559\n"
     ]
    },
    {
     "name": "stderr",
     "output_type": "stream",
     "text": [
      " 85%|████████▌ | 17/20 [42:19<07:26, 148.88s/it]\n"
     ]
    },
    {
     "name": "stdout",
     "output_type": "stream",
     "text": [
      "\u001b[36m(tune_cv_enet pid=12720)\u001b[0m Epoch: 17 | train_loss: 0.0241 | train_ccc: 0.8184 | train_pcc: 0.8330 | val_loss: 0.0537 | val_ccc: 0.4240 | val_pcc: 0.4644\n"
     ]
    },
    {
     "name": "stderr",
     "output_type": "stream",
     "text": [
      " 90%|█████████ | 18/20 [44:47<04:57, 148.74s/it]\n"
     ]
    },
    {
     "name": "stdout",
     "output_type": "stream",
     "text": [
      "\u001b[36m(tune_cv_enet pid=12720)\u001b[0m Epoch: 18 | train_loss: 0.0236 | train_ccc: 0.8226 | train_pcc: 0.8372 | val_loss: 0.0541 | val_ccc: 0.3872 | val_pcc: 0.4323\n"
     ]
    },
    {
     "name": "stderr",
     "output_type": "stream",
     "text": [
      " 95%|█████████▌| 19/20 [47:16<02:28, 148.79s/it]\n"
     ]
    },
    {
     "name": "stdout",
     "output_type": "stream",
     "text": [
      "\u001b[36m(tune_cv_enet pid=12720)\u001b[0m Epoch: 19 | train_loss: 0.0236 | train_ccc: 0.8226 | train_pcc: 0.8367 | val_loss: 0.0532 | val_ccc: 0.4097 | val_pcc: 0.4505\n"
     ]
    },
    {
     "name": "stderr",
     "output_type": "stream",
     "text": [
      "100%|██████████| 20/20 [49:45<00:00, 149.26s/it]\n",
      "  0%|          | 0/20 [00:00<?, ?it/s]\n"
     ]
    },
    {
     "name": "stdout",
     "output_type": "stream",
     "text": [
      "\u001b[36m(tune_cv_enet pid=12720)\u001b[0m Epoch: 20 | train_loss: 0.0235 | train_ccc: 0.8238 | train_pcc: 0.8378 | val_loss: 0.0541 | val_ccc: 0.4012 | val_pcc: 0.4405\n",
      "\u001b[36m(tune_cv_enet pid=12720)\u001b[0m \n",
      "\u001b[36m(tune_cv_enet pid=12720)\u001b[0m -------------------------------------------------------------------------\n",
      "\u001b[36m(tune_cv_enet pid=12720)\u001b[0m Size of the training set: 39406\n",
      "\u001b[36m(tune_cv_enet pid=12720)\u001b[0m Size of the validation set: 5015\n",
      "\u001b[36m(tune_cv_enet pid=12720)\u001b[0m [INFO] Created a new pretrained EfficientNet-B0 model.\n",
      "\u001b[36m(tune_cv_enet pid=12720)\u001b[0m Training results for fold_2:\n"
     ]
    },
    {
     "name": "stderr",
     "output_type": "stream",
     "text": [
      "  5%|▌         | 1/20 [02:27<46:51, 147.97s/it]\n"
     ]
    },
    {
     "name": "stdout",
     "output_type": "stream",
     "text": [
      "\u001b[36m(tune_cv_enet pid=12720)\u001b[0m Epoch: 1 | train_loss: 0.0542 | train_ccc: 0.5043 | train_pcc: 0.5603 | val_loss: 0.0397 | val_ccc: 0.4986 | val_pcc: 0.5981\n"
     ]
    },
    {
     "name": "stderr",
     "output_type": "stream",
     "text": [
      " 10%|█         | 2/20 [04:55<44:14, 147.45s/it]\n"
     ]
    },
    {
     "name": "stdout",
     "output_type": "stream",
     "text": [
      "\u001b[36m(tune_cv_enet pid=12720)\u001b[0m Epoch: 2 | train_loss: 0.0397 | train_ccc: 0.6549 | train_pcc: 0.7009 | val_loss: 0.0354 | val_ccc: 0.5534 | val_pcc: 0.6319\n"
     ]
    },
    {
     "name": "stderr",
     "output_type": "stream",
     "text": [
      " 15%|█▌        | 3/20 [07:23<41:50, 147.69s/it]\n"
     ]
    },
    {
     "name": "stdout",
     "output_type": "stream",
     "text": [
      "\u001b[36m(tune_cv_enet pid=12720)\u001b[0m Epoch: 3 | train_loss: 0.0353 | train_ccc: 0.7019 | train_pcc: 0.7410 | val_loss: 0.0373 | val_ccc: 0.5524 | val_pcc: 0.6329\n"
     ]
    },
    {
     "name": "stderr",
     "output_type": "stream",
     "text": [
      " 20%|██        | 4/20 [09:51<39:26, 147.89s/it]\n"
     ]
    },
    {
     "name": "stdout",
     "output_type": "stream",
     "text": [
      "\u001b[36m(tune_cv_enet pid=12720)\u001b[0m Epoch: 4 | train_loss: 0.0328 | train_ccc: 0.7293 | train_pcc: 0.7617 | val_loss: 0.0358 | val_ccc: 0.5848 | val_pcc: 0.6505\n"
     ]
    },
    {
     "name": "stderr",
     "output_type": "stream",
     "text": [
      " 25%|██▌       | 5/20 [12:18<36:56, 147.74s/it]\n"
     ]
    },
    {
     "name": "stdout",
     "output_type": "stream",
     "text": [
      "\u001b[36m(tune_cv_enet pid=12720)\u001b[0m Epoch: 5 | train_loss: 0.0317 | train_ccc: 0.7417 | train_pcc: 0.7719 | val_loss: 0.0438 | val_ccc: 0.5189 | val_pcc: 0.5953\n"
     ]
    },
    {
     "name": "stderr",
     "output_type": "stream",
     "text": [
      " 30%|███       | 6/20 [14:46<34:29, 147.83s/it]\n"
     ]
    },
    {
     "name": "stdout",
     "output_type": "stream",
     "text": [
      "\u001b[36m(tune_cv_enet pid=12720)\u001b[0m Epoch: 6 | train_loss: 0.0301 | train_ccc: 0.7560 | train_pcc: 0.7830 | val_loss: 0.0362 | val_ccc: 0.5872 | val_pcc: 0.6529\n"
     ]
    },
    {
     "name": "stderr",
     "output_type": "stream",
     "text": [
      " 35%|███▌      | 7/20 [17:14<32:01, 147.81s/it]\n"
     ]
    },
    {
     "name": "stdout",
     "output_type": "stream",
     "text": [
      "\u001b[36m(tune_cv_enet pid=12720)\u001b[0m Epoch: 7 | train_loss: 0.0292 | train_ccc: 0.7650 | train_pcc: 0.7903 | val_loss: 0.0382 | val_ccc: 0.5716 | val_pcc: 0.6421\n"
     ]
    },
    {
     "name": "stderr",
     "output_type": "stream",
     "text": [
      " 40%|████      | 8/20 [19:42<29:35, 148.00s/it]\n"
     ]
    },
    {
     "name": "stdout",
     "output_type": "stream",
     "text": [
      "\u001b[36m(tune_cv_enet pid=12720)\u001b[0m Epoch: 8 | train_loss: 0.0286 | train_ccc: 0.7723 | train_pcc: 0.7965 | val_loss: 0.0402 | val_ccc: 0.5500 | val_pcc: 0.6293\n"
     ]
    },
    {
     "name": "stderr",
     "output_type": "stream",
     "text": [
      " 45%|████▌     | 9/20 [22:11<27:10, 148.22s/it]\n"
     ]
    },
    {
     "name": "stdout",
     "output_type": "stream",
     "text": [
      "\u001b[36m(tune_cv_enet pid=12720)\u001b[0m Epoch: 9 | train_loss: 0.0282 | train_ccc: 0.7768 | train_pcc: 0.7989 | val_loss: 0.0371 | val_ccc: 0.5776 | val_pcc: 0.6417\n"
     ]
    },
    {
     "name": "stderr",
     "output_type": "stream",
     "text": [
      " 50%|█████     | 10/20 [24:39<24:40, 148.04s/it]\n"
     ]
    },
    {
     "name": "stdout",
     "output_type": "stream",
     "text": [
      "\u001b[36m(tune_cv_enet pid=12720)\u001b[0m Epoch: 10 | train_loss: 0.0277 | train_ccc: 0.7809 | train_pcc: 0.8035 | val_loss: 0.0371 | val_ccc: 0.5839 | val_pcc: 0.6454\n"
     ]
    },
    {
     "name": "stderr",
     "output_type": "stream",
     "text": [
      " 55%|█████▌    | 11/20 [27:08<22:15, 148.36s/it]\n"
     ]
    },
    {
     "name": "stdout",
     "output_type": "stream",
     "text": [
      "\u001b[36m(tune_cv_enet pid=12720)\u001b[0m Epoch: 11 | train_loss: 0.0285 | train_ccc: 0.7789 | train_pcc: 0.7998 | val_loss: 0.0383 | val_ccc: 0.5781 | val_pcc: 0.6443\n"
     ]
    },
    {
     "name": "stderr",
     "output_type": "stream",
     "text": [
      " 60%|██████    | 12/20 [29:36<19:46, 148.34s/it]\n"
     ]
    },
    {
     "name": "stdout",
     "output_type": "stream",
     "text": [
      "\u001b[36m(tune_cv_enet pid=12720)\u001b[0m Epoch: 12 | train_loss: 0.0269 | train_ccc: 0.7898 | train_pcc: 0.8091 | val_loss: 0.0438 | val_ccc: 0.5173 | val_pcc: 0.5980\n"
     ]
    },
    {
     "name": "stderr",
     "output_type": "stream",
     "text": [
      " 65%|██████▌   | 13/20 [32:05<17:19, 148.49s/it]\n"
     ]
    },
    {
     "name": "stdout",
     "output_type": "stream",
     "text": [
      "\u001b[36m(tune_cv_enet pid=12720)\u001b[0m Epoch: 13 | train_loss: 0.0271 | train_ccc: 0.7883 | train_pcc: 0.8087 | val_loss: 0.0378 | val_ccc: 0.5862 | val_pcc: 0.6492\n"
     ]
    },
    {
     "name": "stderr",
     "output_type": "stream",
     "text": [
      " 70%|███████   | 14/20 [34:34<14:51, 148.56s/it]\n"
     ]
    },
    {
     "name": "stdout",
     "output_type": "stream",
     "text": [
      "\u001b[36m(tune_cv_enet pid=12720)\u001b[0m Epoch: 14 | train_loss: 0.0270 | train_ccc: 0.7904 | train_pcc: 0.8094 | val_loss: 0.0399 | val_ccc: 0.5587 | val_pcc: 0.6371\n"
     ]
    },
    {
     "name": "stderr",
     "output_type": "stream",
     "text": [
      " 75%|███████▌  | 15/20 [37:02<12:22, 148.55s/it]\n"
     ]
    },
    {
     "name": "stdout",
     "output_type": "stream",
     "text": [
      "\u001b[36m(tune_cv_enet pid=12720)\u001b[0m Epoch: 15 | train_loss: 0.0263 | train_ccc: 0.7964 | train_pcc: 0.8150 | val_loss: 0.0381 | val_ccc: 0.5830 | val_pcc: 0.6467\n"
     ]
    },
    {
     "name": "stderr",
     "output_type": "stream",
     "text": [
      " 80%|████████  | 16/20 [39:31<09:54, 148.58s/it]\n"
     ]
    },
    {
     "name": "stdout",
     "output_type": "stream",
     "text": [
      "\u001b[36m(tune_cv_enet pid=12720)\u001b[0m Epoch: 16 | train_loss: 0.0262 | train_ccc: 0.7968 | train_pcc: 0.8152 | val_loss: 0.0382 | val_ccc: 0.5791 | val_pcc: 0.6434\n"
     ]
    },
    {
     "name": "stderr",
     "output_type": "stream",
     "text": [
      " 85%|████████▌ | 17/20 [41:59<07:25, 148.44s/it]\n"
     ]
    },
    {
     "name": "stdout",
     "output_type": "stream",
     "text": [
      "\u001b[36m(tune_cv_enet pid=12720)\u001b[0m Epoch: 17 | train_loss: 0.0262 | train_ccc: 0.7978 | train_pcc: 0.8156 | val_loss: 0.0385 | val_ccc: 0.5826 | val_pcc: 0.6421\n"
     ]
    },
    {
     "name": "stderr",
     "output_type": "stream",
     "text": [
      " 90%|█████████ | 18/20 [44:27<04:56, 148.41s/it]\n"
     ]
    },
    {
     "name": "stdout",
     "output_type": "stream",
     "text": [
      "\u001b[36m(tune_cv_enet pid=12720)\u001b[0m Epoch: 18 | train_loss: 0.0256 | train_ccc: 0.8025 | train_pcc: 0.8201 | val_loss: 0.0411 | val_ccc: 0.5562 | val_pcc: 0.6281\n"
     ]
    },
    {
     "name": "stderr",
     "output_type": "stream",
     "text": [
      " 95%|█████████▌| 19/20 [46:55<02:28, 148.29s/it]\n"
     ]
    },
    {
     "name": "stdout",
     "output_type": "stream",
     "text": [
      "\u001b[36m(tune_cv_enet pid=12720)\u001b[0m Epoch: 19 | train_loss: 0.0254 | train_ccc: 0.8038 | train_pcc: 0.8211 | val_loss: 0.0373 | val_ccc: 0.6010 | val_pcc: 0.6590\n"
     ]
    },
    {
     "name": "stderr",
     "output_type": "stream",
     "text": [
      "100%|██████████| 20/20 [49:23<00:00, 148.17s/it]\n",
      "  0%|          | 0/20 [00:00<?, ?it/s]\n"
     ]
    },
    {
     "name": "stdout",
     "output_type": "stream",
     "text": [
      "\u001b[36m(tune_cv_enet pid=12720)\u001b[0m Epoch: 20 | train_loss: 0.0256 | train_ccc: 0.8036 | train_pcc: 0.8204 | val_loss: 0.0395 | val_ccc: 0.5799 | val_pcc: 0.6411\n",
      "\u001b[36m(tune_cv_enet pid=12720)\u001b[0m \n",
      "\u001b[36m(tune_cv_enet pid=12720)\u001b[0m -------------------------------------------------------------------------\n",
      "\u001b[36m(tune_cv_enet pid=12720)\u001b[0m Size of the training set: 39652\n",
      "\u001b[36m(tune_cv_enet pid=12720)\u001b[0m Size of the validation set: 4892\n",
      "\u001b[36m(tune_cv_enet pid=12720)\u001b[0m [INFO] Created a new pretrained EfficientNet-B0 model.\n",
      "\u001b[36m(tune_cv_enet pid=12720)\u001b[0m Training results for fold_3:\n"
     ]
    },
    {
     "name": "stderr",
     "output_type": "stream",
     "text": [
      "  5%|▌         | 1/20 [02:28<46:59, 148.40s/it]\n"
     ]
    },
    {
     "name": "stdout",
     "output_type": "stream",
     "text": [
      "\u001b[36m(tune_cv_enet pid=12720)\u001b[0m Epoch: 1 | train_loss: 0.0542 | train_ccc: 0.5428 | train_pcc: 0.5911 | val_loss: 0.0494 | val_ccc: 0.3251 | val_pcc: 0.4046\n"
     ]
    },
    {
     "name": "stderr",
     "output_type": "stream",
     "text": [
      " 10%|█         | 2/20 [04:56<44:27, 148.17s/it]\n"
     ]
    },
    {
     "name": "stdout",
     "output_type": "stream",
     "text": [
      "\u001b[36m(tune_cv_enet pid=12720)\u001b[0m Epoch: 2 | train_loss: 0.0371 | train_ccc: 0.6987 | train_pcc: 0.7385 | val_loss: 0.0490 | val_ccc: 0.3214 | val_pcc: 0.4163\n"
     ]
    },
    {
     "name": "stderr",
     "output_type": "stream",
     "text": [
      " 15%|█▌        | 3/20 [07:24<42:01, 148.30s/it]\n"
     ]
    },
    {
     "name": "stdout",
     "output_type": "stream",
     "text": [
      "\u001b[36m(tune_cv_enet pid=12720)\u001b[0m Epoch: 3 | train_loss: 0.0330 | train_ccc: 0.7415 | train_pcc: 0.7712 | val_loss: 0.0487 | val_ccc: 0.3363 | val_pcc: 0.4295\n"
     ]
    },
    {
     "name": "stderr",
     "output_type": "stream",
     "text": [
      " 20%|██        | 4/20 [09:53<39:31, 148.24s/it]\n"
     ]
    },
    {
     "name": "stdout",
     "output_type": "stream",
     "text": [
      "\u001b[36m(tune_cv_enet pid=12720)\u001b[0m Epoch: 4 | train_loss: 0.0307 | train_ccc: 0.7629 | train_pcc: 0.7886 | val_loss: 0.0489 | val_ccc: 0.3417 | val_pcc: 0.4326\n"
     ]
    },
    {
     "name": "stderr",
     "output_type": "stream",
     "text": [
      " 25%|██▌       | 5/20 [12:21<37:03, 148.26s/it]\n"
     ]
    },
    {
     "name": "stdout",
     "output_type": "stream",
     "text": [
      "\u001b[36m(tune_cv_enet pid=12720)\u001b[0m Epoch: 5 | train_loss: 0.0292 | train_ccc: 0.7763 | train_pcc: 0.8003 | val_loss: 0.0474 | val_ccc: 0.3642 | val_pcc: 0.4479\n"
     ]
    },
    {
     "name": "stderr",
     "output_type": "stream",
     "text": [
      " 30%|███       | 6/20 [14:49<34:35, 148.26s/it]\n"
     ]
    },
    {
     "name": "stdout",
     "output_type": "stream",
     "text": [
      "\u001b[36m(tune_cv_enet pid=12720)\u001b[0m Epoch: 6 | train_loss: 0.0282 | train_ccc: 0.7870 | train_pcc: 0.8085 | val_loss: 0.0481 | val_ccc: 0.3887 | val_pcc: 0.4594\n"
     ]
    },
    {
     "name": "stderr",
     "output_type": "stream",
     "text": [
      " 35%|███▌      | 7/20 [17:17<32:07, 148.24s/it]\n"
     ]
    },
    {
     "name": "stdout",
     "output_type": "stream",
     "text": [
      "\u001b[36m(tune_cv_enet pid=12720)\u001b[0m Epoch: 7 | train_loss: 0.0277 | train_ccc: 0.7935 | train_pcc: 0.8127 | val_loss: 0.0470 | val_ccc: 0.3785 | val_pcc: 0.4548\n"
     ]
    },
    {
     "name": "stderr",
     "output_type": "stream",
     "text": [
      " 40%|████      | 8/20 [19:45<29:37, 148.11s/it]\n"
     ]
    },
    {
     "name": "stdout",
     "output_type": "stream",
     "text": [
      "\u001b[36m(tune_cv_enet pid=12720)\u001b[0m Epoch: 8 | train_loss: 0.0266 | train_ccc: 0.8007 | train_pcc: 0.8204 | val_loss: 0.0477 | val_ccc: 0.3689 | val_pcc: 0.4455\n"
     ]
    },
    {
     "name": "stderr",
     "output_type": "stream",
     "text": [
      " 45%|████▌     | 9/20 [22:14<27:10, 148.24s/it]\n"
     ]
    },
    {
     "name": "stdout",
     "output_type": "stream",
     "text": [
      "\u001b[36m(tune_cv_enet pid=12720)\u001b[0m Epoch: 9 | train_loss: 0.0268 | train_ccc: 0.8020 | train_pcc: 0.8194 | val_loss: 0.0476 | val_ccc: 0.3810 | val_pcc: 0.4550\n"
     ]
    },
    {
     "name": "stderr",
     "output_type": "stream",
     "text": [
      " 50%|█████     | 10/20 [24:42<24:41, 148.17s/it]\n"
     ]
    },
    {
     "name": "stdout",
     "output_type": "stream",
     "text": [
      "\u001b[36m(tune_cv_enet pid=12720)\u001b[0m Epoch: 10 | train_loss: 0.0256 | train_ccc: 0.8103 | train_pcc: 0.8277 | val_loss: 0.0473 | val_ccc: 0.3777 | val_pcc: 0.4542\n"
     ]
    },
    {
     "name": "stderr",
     "output_type": "stream",
     "text": [
      " 55%|█████▌    | 11/20 [27:10<22:15, 148.35s/it]\n"
     ]
    },
    {
     "name": "stdout",
     "output_type": "stream",
     "text": [
      "\u001b[36m(tune_cv_enet pid=12720)\u001b[0m Epoch: 11 | train_loss: 0.0252 | train_ccc: 0.8140 | train_pcc: 0.8298 | val_loss: 0.0480 | val_ccc: 0.3611 | val_pcc: 0.4425\n"
     ]
    },
    {
     "name": "stderr",
     "output_type": "stream",
     "text": [
      " 60%|██████    | 12/20 [29:39<19:46, 148.28s/it]\n"
     ]
    },
    {
     "name": "stdout",
     "output_type": "stream",
     "text": [
      "\u001b[36m(tune_cv_enet pid=12720)\u001b[0m Epoch: 12 | train_loss: 0.0250 | train_ccc: 0.8160 | train_pcc: 0.8328 | val_loss: 0.0482 | val_ccc: 0.3649 | val_pcc: 0.4403\n"
     ]
    },
    {
     "name": "stderr",
     "output_type": "stream",
     "text": [
      " 65%|██████▌   | 13/20 [32:07<17:18, 148.37s/it]\n"
     ]
    },
    {
     "name": "stdout",
     "output_type": "stream",
     "text": [
      "\u001b[36m(tune_cv_enet pid=12720)\u001b[0m Epoch: 13 | train_loss: 0.0247 | train_ccc: 0.8188 | train_pcc: 0.8338 | val_loss: 0.0481 | val_ccc: 0.3699 | val_pcc: 0.4457\n"
     ]
    },
    {
     "name": "stderr",
     "output_type": "stream",
     "text": [
      " 70%|███████   | 14/20 [34:35<14:49, 148.32s/it]\n"
     ]
    },
    {
     "name": "stdout",
     "output_type": "stream",
     "text": [
      "\u001b[36m(tune_cv_enet pid=12720)\u001b[0m Epoch: 14 | train_loss: 0.0246 | train_ccc: 0.8198 | train_pcc: 0.8346 | val_loss: 0.0483 | val_ccc: 0.3753 | val_pcc: 0.4472\n"
     ]
    },
    {
     "name": "stderr",
     "output_type": "stream",
     "text": [
      " 75%|███████▌  | 15/20 [37:03<12:21, 148.23s/it]\n"
     ]
    },
    {
     "name": "stdout",
     "output_type": "stream",
     "text": [
      "\u001b[36m(tune_cv_enet pid=12720)\u001b[0m Epoch: 15 | train_loss: 0.0245 | train_ccc: 0.8218 | train_pcc: 0.8363 | val_loss: 0.0484 | val_ccc: 0.3834 | val_pcc: 0.4513\n"
     ]
    },
    {
     "name": "stderr",
     "output_type": "stream",
     "text": [
      " 80%|████████  | 16/20 [39:32<09:52, 148.24s/it]\n"
     ]
    },
    {
     "name": "stdout",
     "output_type": "stream",
     "text": [
      "\u001b[36m(tune_cv_enet pid=12720)\u001b[0m Epoch: 16 | train_loss: 0.0244 | train_ccc: 0.8225 | train_pcc: 0.8372 | val_loss: 0.0498 | val_ccc: 0.3853 | val_pcc: 0.4534\n"
     ]
    },
    {
     "name": "stderr",
     "output_type": "stream",
     "text": [
      " 85%|████████▌ | 17/20 [42:00<07:24, 148.32s/it]\n"
     ]
    },
    {
     "name": "stdout",
     "output_type": "stream",
     "text": [
      "\u001b[36m(tune_cv_enet pid=12720)\u001b[0m Epoch: 17 | train_loss: 0.0242 | train_ccc: 0.8242 | train_pcc: 0.8381 | val_loss: 0.0488 | val_ccc: 0.3600 | val_pcc: 0.4379\n"
     ]
    },
    {
     "name": "stderr",
     "output_type": "stream",
     "text": [
      " 90%|█████████ | 18/20 [44:28<04:56, 148.26s/it]\n"
     ]
    },
    {
     "name": "stdout",
     "output_type": "stream",
     "text": [
      "\u001b[36m(tune_cv_enet pid=12720)\u001b[0m Epoch: 18 | train_loss: 0.0243 | train_ccc: 0.8248 | train_pcc: 0.8381 | val_loss: 0.0484 | val_ccc: 0.3702 | val_pcc: 0.4432\n",
      "\u001b[36m(tune_cv_enet pid=12720)\u001b[0m Epoch: 19 | train_loss: 0.0242 | train_ccc: 0.8259 | train_pcc: 0.8391 | val_loss: 0.0490 | val_ccc: 0.3675 | val_pcc: 0.4396\n"
     ]
    },
    {
     "name": "stderr",
     "output_type": "stream",
     "text": [
      " 95%|█████████▌| 19/20 [46:57<02:28, 148.33s/it]\n",
      "100%|██████████| 20/20 [49:25<00:00, 148.28s/it]\n",
      "  0%|          | 0/20 [00:00<?, ?it/s]\n"
     ]
    },
    {
     "name": "stdout",
     "output_type": "stream",
     "text": [
      "\u001b[36m(tune_cv_enet pid=12720)\u001b[0m Epoch: 20 | train_loss: 0.0240 | train_ccc: 0.8279 | train_pcc: 0.8408 | val_loss: 0.0490 | val_ccc: 0.3577 | val_pcc: 0.4313\n",
      "\u001b[36m(tune_cv_enet pid=12720)\u001b[0m \n",
      "\u001b[36m(tune_cv_enet pid=12720)\u001b[0m -------------------------------------------------------------------------\n",
      "\u001b[36m(tune_cv_enet pid=12720)\u001b[0m Size of the training set: 39334\n",
      "\u001b[36m(tune_cv_enet pid=12720)\u001b[0m Size of the validation set: 5051\n",
      "\u001b[36m(tune_cv_enet pid=12720)\u001b[0m [INFO] Created a new pretrained EfficientNet-B0 model.\n",
      "\u001b[36m(tune_cv_enet pid=12720)\u001b[0m Training results for fold_4:\n"
     ]
    },
    {
     "name": "stderr",
     "output_type": "stream",
     "text": [
      "  5%|▌         | 1/20 [02:27<46:50, 147.92s/it]\n"
     ]
    },
    {
     "name": "stdout",
     "output_type": "stream",
     "text": [
      "\u001b[36m(tune_cv_enet pid=12720)\u001b[0m Epoch: 1 | train_loss: 0.0528 | train_ccc: 0.5450 | train_pcc: 0.5938 | val_loss: 0.0487 | val_ccc: 0.4376 | val_pcc: 0.5583\n"
     ]
    },
    {
     "name": "stderr",
     "output_type": "stream",
     "text": [
      " 10%|█         | 2/20 [04:55<44:17, 147.66s/it]\n"
     ]
    },
    {
     "name": "stdout",
     "output_type": "stream",
     "text": [
      "\u001b[36m(tune_cv_enet pid=12720)\u001b[0m Epoch: 2 | train_loss: 0.0373 | train_ccc: 0.6945 | train_pcc: 0.7326 | val_loss: 0.0460 | val_ccc: 0.4799 | val_pcc: 0.5990\n"
     ]
    },
    {
     "name": "stderr",
     "output_type": "stream",
     "text": [
      " 15%|█▌        | 3/20 [07:22<41:49, 147.62s/it]\n"
     ]
    },
    {
     "name": "stdout",
     "output_type": "stream",
     "text": [
      "\u001b[36m(tune_cv_enet pid=12720)\u001b[0m Epoch: 3 | train_loss: 0.0334 | train_ccc: 0.7354 | train_pcc: 0.7660 | val_loss: 0.0450 | val_ccc: 0.4990 | val_pcc: 0.6077\n"
     ]
    },
    {
     "name": "stderr",
     "output_type": "stream",
     "text": [
      " 20%|██        | 4/20 [09:51<39:25, 147.83s/it]\n"
     ]
    },
    {
     "name": "stdout",
     "output_type": "stream",
     "text": [
      "\u001b[36m(tune_cv_enet pid=12720)\u001b[0m Epoch: 4 | train_loss: 0.0311 | train_ccc: 0.7575 | train_pcc: 0.7845 | val_loss: 0.0446 | val_ccc: 0.5059 | val_pcc: 0.6065\n"
     ]
    },
    {
     "name": "stderr",
     "output_type": "stream",
     "text": [
      " 25%|██▌       | 5/20 [12:19<37:01, 148.11s/it]\n"
     ]
    },
    {
     "name": "stdout",
     "output_type": "stream",
     "text": [
      "\u001b[36m(tune_cv_enet pid=12720)\u001b[0m Epoch: 5 | train_loss: 0.0302 | train_ccc: 0.7671 | train_pcc: 0.7920 | val_loss: 0.0466 | val_ccc: 0.5143 | val_pcc: 0.6086\n"
     ]
    },
    {
     "name": "stderr",
     "output_type": "stream",
     "text": [
      " 30%|███       | 6/20 [14:47<34:34, 148.15s/it]\n"
     ]
    },
    {
     "name": "stdout",
     "output_type": "stream",
     "text": [
      "\u001b[36m(tune_cv_enet pid=12720)\u001b[0m Epoch: 6 | train_loss: 0.0288 | train_ccc: 0.7816 | train_pcc: 0.8032 | val_loss: 0.0455 | val_ccc: 0.4893 | val_pcc: 0.5874\n"
     ]
    },
    {
     "name": "stderr",
     "output_type": "stream",
     "text": [
      " 35%|███▌      | 7/20 [17:16<32:06, 148.19s/it]\n"
     ]
    },
    {
     "name": "stdout",
     "output_type": "stream",
     "text": [
      "\u001b[36m(tune_cv_enet pid=12720)\u001b[0m Epoch: 7 | train_loss: 0.0271 | train_ccc: 0.7929 | train_pcc: 0.8146 | val_loss: 0.0463 | val_ccc: 0.4896 | val_pcc: 0.5929\n"
     ]
    },
    {
     "name": "stderr",
     "output_type": "stream",
     "text": [
      " 40%|████      | 8/20 [19:44<29:39, 148.27s/it]\n"
     ]
    },
    {
     "name": "stdout",
     "output_type": "stream",
     "text": [
      "\u001b[36m(tune_cv_enet pid=12720)\u001b[0m Epoch: 8 | train_loss: 0.0270 | train_ccc: 0.7965 | train_pcc: 0.8159 | val_loss: 0.0458 | val_ccc: 0.4914 | val_pcc: 0.5892\n"
     ]
    },
    {
     "name": "stderr",
     "output_type": "stream",
     "text": [
      " 45%|████▌     | 9/20 [22:13<27:13, 148.47s/it]\n"
     ]
    },
    {
     "name": "stdout",
     "output_type": "stream",
     "text": [
      "\u001b[36m(tune_cv_enet pid=12720)\u001b[0m Epoch: 9 | train_loss: 0.0264 | train_ccc: 0.8014 | train_pcc: 0.8209 | val_loss: 0.0468 | val_ccc: 0.4990 | val_pcc: 0.5916\n"
     ]
    },
    {
     "name": "stderr",
     "output_type": "stream",
     "text": [
      " 50%|█████     | 10/20 [24:41<24:42, 148.26s/it]\n"
     ]
    },
    {
     "name": "stdout",
     "output_type": "stream",
     "text": [
      "\u001b[36m(tune_cv_enet pid=12720)\u001b[0m Epoch: 10 | train_loss: 0.0266 | train_ccc: 0.8020 | train_pcc: 0.8200 | val_loss: 0.0472 | val_ccc: 0.4843 | val_pcc: 0.5832\n"
     ]
    },
    {
     "name": "stderr",
     "output_type": "stream",
     "text": [
      " 55%|█████▌    | 11/20 [27:09<22:13, 148.18s/it]\n"
     ]
    },
    {
     "name": "stdout",
     "output_type": "stream",
     "text": [
      "\u001b[36m(tune_cv_enet pid=12720)\u001b[0m Epoch: 11 | train_loss: 0.0256 | train_ccc: 0.8098 | train_pcc: 0.8271 | val_loss: 0.0488 | val_ccc: 0.4556 | val_pcc: 0.5579\n"
     ]
    },
    {
     "name": "stderr",
     "output_type": "stream",
     "text": [
      " 60%|██████    | 12/20 [29:38<19:48, 148.56s/it]\n"
     ]
    },
    {
     "name": "stdout",
     "output_type": "stream",
     "text": [
      "\u001b[36m(tune_cv_enet pid=12720)\u001b[0m Epoch: 12 | train_loss: 0.0255 | train_ccc: 0.8108 | train_pcc: 0.8281 | val_loss: 0.0491 | val_ccc: 0.4628 | val_pcc: 0.5590\n"
     ]
    },
    {
     "name": "stderr",
     "output_type": "stream",
     "text": [
      " 65%|██████▌   | 13/20 [32:07<17:19, 148.48s/it]\n"
     ]
    },
    {
     "name": "stdout",
     "output_type": "stream",
     "text": [
      "\u001b[36m(tune_cv_enet pid=12720)\u001b[0m Epoch: 13 | train_loss: 0.0253 | train_ccc: 0.8124 | train_pcc: 0.8292 | val_loss: 0.0498 | val_ccc: 0.5084 | val_pcc: 0.5939\n"
     ]
    },
    {
     "name": "stderr",
     "output_type": "stream",
     "text": [
      " 70%|███████   | 14/20 [34:35<14:50, 148.47s/it]\n"
     ]
    },
    {
     "name": "stdout",
     "output_type": "stream",
     "text": [
      "\u001b[36m(tune_cv_enet pid=12720)\u001b[0m Epoch: 14 | train_loss: 0.0249 | train_ccc: 0.8169 | train_pcc: 0.8322 | val_loss: 0.0481 | val_ccc: 0.4942 | val_pcc: 0.5838\n"
     ]
    },
    {
     "name": "stderr",
     "output_type": "stream",
     "text": [
      " 75%|███████▌  | 15/20 [37:04<12:22, 148.55s/it]\n"
     ]
    },
    {
     "name": "stdout",
     "output_type": "stream",
     "text": [
      "\u001b[36m(tune_cv_enet pid=12720)\u001b[0m Epoch: 15 | train_loss: 0.0243 | train_ccc: 0.8206 | train_pcc: 0.8360 | val_loss: 0.0498 | val_ccc: 0.4593 | val_pcc: 0.5528\n"
     ]
    },
    {
     "name": "stderr",
     "output_type": "stream",
     "text": [
      " 80%|████████  | 16/20 [39:32<09:53, 148.49s/it]\n"
     ]
    },
    {
     "name": "stdout",
     "output_type": "stream",
     "text": [
      "\u001b[36m(tune_cv_enet pid=12720)\u001b[0m Epoch: 16 | train_loss: 0.0246 | train_ccc: 0.8197 | train_pcc: 0.8351 | val_loss: 0.0479 | val_ccc: 0.4955 | val_pcc: 0.5815\n"
     ]
    },
    {
     "name": "stderr",
     "output_type": "stream",
     "text": [
      " 85%|████████▌ | 17/20 [41:59<07:23, 147.95s/it]\n"
     ]
    },
    {
     "name": "stdout",
     "output_type": "stream",
     "text": [
      "\u001b[36m(tune_cv_enet pid=12720)\u001b[0m Epoch: 17 | train_loss: 0.0242 | train_ccc: 0.8230 | train_pcc: 0.8376 | val_loss: 0.0495 | val_ccc: 0.4725 | val_pcc: 0.5671\n"
     ]
    },
    {
     "name": "stderr",
     "output_type": "stream",
     "text": [
      " 90%|█████████ | 18/20 [44:27<04:56, 148.02s/it]\n"
     ]
    },
    {
     "name": "stdout",
     "output_type": "stream",
     "text": [
      "\u001b[36m(tune_cv_enet pid=12720)\u001b[0m Epoch: 18 | train_loss: 0.0240 | train_ccc: 0.8248 | train_pcc: 0.8389 | val_loss: 0.0489 | val_ccc: 0.4949 | val_pcc: 0.5827\n"
     ]
    },
    {
     "name": "stderr",
     "output_type": "stream",
     "text": [
      " 95%|█████████▌| 19/20 [46:55<02:28, 148.13s/it]\n"
     ]
    },
    {
     "name": "stdout",
     "output_type": "stream",
     "text": [
      "\u001b[36m(tune_cv_enet pid=12720)\u001b[0m Epoch: 19 | train_loss: 0.0238 | train_ccc: 0.8260 | train_pcc: 0.8402 | val_loss: 0.0513 | val_ccc: 0.4376 | val_pcc: 0.5364\n"
     ]
    },
    {
     "name": "stderr",
     "output_type": "stream",
     "text": [
      "100%|██████████| 20/20 [49:24<00:00, 148.23s/it]\n",
      "  0%|          | 0/20 [00:00<?, ?it/s]\n"
     ]
    },
    {
     "name": "stdout",
     "output_type": "stream",
     "text": [
      "\u001b[36m(tune_cv_enet pid=12720)\u001b[0m Epoch: 20 | train_loss: 0.0239 | train_ccc: 0.8257 | train_pcc: 0.8393 | val_loss: 0.0550 | val_ccc: 0.4143 | val_pcc: 0.5077\n",
      "\u001b[36m(tune_cv_enet pid=12720)\u001b[0m \n",
      "\u001b[36m(tune_cv_enet pid=12720)\u001b[0m -------------------------------------------------------------------------\n",
      "\u001b[36m(tune_cv_enet pid=12720)\u001b[0m Size of the training set: 39746\n",
      "\u001b[36m(tune_cv_enet pid=12720)\u001b[0m Size of the validation set: 4845\n",
      "\u001b[36m(tune_cv_enet pid=12720)\u001b[0m [INFO] Created a new pretrained EfficientNet-B0 model.\n",
      "\u001b[36m(tune_cv_enet pid=12720)\u001b[0m Training results for fold_5:\n"
     ]
    },
    {
     "name": "stderr",
     "output_type": "stream",
     "text": [
      "\u001b[36m(tune_cv_enet pid=12720)\u001b[0m C:\\local\\AIProject\\venv\\Lib\\site-packages\\torch\\nn\\modules\\conv.py:456: UserWarning: Plan failed with a cudnnException: CUDNN_BACKEND_EXECUTION_PLAN_DESCRIPTOR: cudnnFinalize Descriptor Failed cudnn_status: CUDNN_STATUS_NOT_SUPPORTED (Triggered internally at ..\\aten\\src\\ATen\\native\\cudnn\\Conv_v8.cpp:919.)\n",
      "\u001b[36m(tune_cv_enet pid=12720)\u001b[0m   return F.conv2d(input, weight, bias, self.stride,\n",
      "  5%|▌         | 1/20 [02:28<46:59, 148.40s/it]\n"
     ]
    },
    {
     "name": "stdout",
     "output_type": "stream",
     "text": [
      "\u001b[36m(tune_cv_enet pid=12720)\u001b[0m Epoch: 1 | train_loss: 0.0553 | train_ccc: 0.5142 | train_pcc: 0.5633 | val_loss: 0.0474 | val_ccc: 0.4509 | val_pcc: 0.5895\n"
     ]
    },
    {
     "name": "stderr",
     "output_type": "stream",
     "text": [
      " 10%|█         | 2/20 [04:56<44:32, 148.49s/it]\n"
     ]
    },
    {
     "name": "stdout",
     "output_type": "stream",
     "text": [
      "\u001b[36m(tune_cv_enet pid=12720)\u001b[0m Epoch: 2 | train_loss: 0.0379 | train_ccc: 0.6767 | train_pcc: 0.7194 | val_loss: 0.0460 | val_ccc: 0.4816 | val_pcc: 0.6082\n"
     ]
    },
    {
     "name": "stderr",
     "output_type": "stream",
     "text": [
      " 15%|█▌        | 3/20 [07:25<42:06, 148.63s/it]\n"
     ]
    },
    {
     "name": "stdout",
     "output_type": "stream",
     "text": [
      "\u001b[36m(tune_cv_enet pid=12720)\u001b[0m Epoch: 3 | train_loss: 0.0338 | train_ccc: 0.7228 | train_pcc: 0.7558 | val_loss: 0.0455 | val_ccc: 0.4908 | val_pcc: 0.6296\n"
     ]
    },
    {
     "name": "stderr",
     "output_type": "stream",
     "text": [
      " 20%|██        | 4/20 [09:54<39:36, 148.52s/it]\n"
     ]
    },
    {
     "name": "stdout",
     "output_type": "stream",
     "text": [
      "\u001b[36m(tune_cv_enet pid=12720)\u001b[0m Epoch: 4 | train_loss: 0.0315 | train_ccc: 0.7461 | train_pcc: 0.7745 | val_loss: 0.0461 | val_ccc: 0.4887 | val_pcc: 0.6259\n"
     ]
    },
    {
     "name": "stderr",
     "output_type": "stream",
     "text": [
      " 25%|██▌       | 5/20 [12:23<37:12, 148.85s/it]\n"
     ]
    },
    {
     "name": "stdout",
     "output_type": "stream",
     "text": [
      "\u001b[36m(tune_cv_enet pid=12720)\u001b[0m Epoch: 5 | train_loss: 0.0295 | train_ccc: 0.7644 | train_pcc: 0.7897 | val_loss: 0.0456 | val_ccc: 0.5070 | val_pcc: 0.6321\n"
     ]
    },
    {
     "name": "stderr",
     "output_type": "stream",
     "text": [
      " 30%|███       | 6/20 [14:53<34:47, 149.10s/it]\n"
     ]
    },
    {
     "name": "stdout",
     "output_type": "stream",
     "text": [
      "\u001b[36m(tune_cv_enet pid=12720)\u001b[0m Epoch: 6 | train_loss: 0.0294 | train_ccc: 0.7691 | train_pcc: 0.7936 | val_loss: 0.0471 | val_ccc: 0.4956 | val_pcc: 0.6216\n"
     ]
    },
    {
     "name": "stderr",
     "output_type": "stream",
     "text": [
      " 35%|███▌      | 7/20 [17:22<32:19, 149.17s/it]\n"
     ]
    },
    {
     "name": "stdout",
     "output_type": "stream",
     "text": [
      "\u001b[36m(tune_cv_enet pid=12720)\u001b[0m Epoch: 7 | train_loss: 0.0279 | train_ccc: 0.7810 | train_pcc: 0.8037 | val_loss: 0.0473 | val_ccc: 0.4926 | val_pcc: 0.6172\n"
     ]
    },
    {
     "name": "stderr",
     "output_type": "stream",
     "text": [
      " 40%|████      | 8/20 [19:50<29:45, 148.79s/it]\n"
     ]
    },
    {
     "name": "stdout",
     "output_type": "stream",
     "text": [
      "\u001b[36m(tune_cv_enet pid=12720)\u001b[0m Epoch: 8 | train_loss: 0.0273 | train_ccc: 0.7874 | train_pcc: 0.8085 | val_loss: 0.0487 | val_ccc: 0.4782 | val_pcc: 0.6029\n"
     ]
    },
    {
     "name": "stderr",
     "output_type": "stream",
     "text": [
      " 45%|████▌     | 9/20 [22:18<27:14, 148.62s/it]\n"
     ]
    },
    {
     "name": "stdout",
     "output_type": "stream",
     "text": [
      "\u001b[36m(tune_cv_enet pid=12720)\u001b[0m Epoch: 9 | train_loss: 0.0271 | train_ccc: 0.7905 | train_pcc: 0.8109 | val_loss: 0.0477 | val_ccc: 0.4919 | val_pcc: 0.6145\n",
      "\u001b[36m(tune_cv_enet pid=12720)\u001b[0m Epoch: 10 | train_loss: 0.0265 | train_ccc: 0.7968 | train_pcc: 0.8154 | val_loss: 0.0476 | val_ccc: 0.4978 | val_pcc: 0.6239\n"
     ]
    },
    {
     "name": "stderr",
     "output_type": "stream",
     "text": [
      " 50%|█████     | 10/20 [24:46<24:44, 148.48s/it]\n",
      " 55%|█████▌    | 11/20 [27:14<22:14, 148.25s/it]\n"
     ]
    },
    {
     "name": "stdout",
     "output_type": "stream",
     "text": [
      "\u001b[36m(tune_cv_enet pid=12720)\u001b[0m Epoch: 11 | train_loss: 0.0261 | train_ccc: 0.8010 | train_pcc: 0.8184 | val_loss: 0.0485 | val_ccc: 0.4929 | val_pcc: 0.6130\n"
     ]
    },
    {
     "name": "stderr",
     "output_type": "stream",
     "text": [
      " 60%|██████    | 12/20 [29:43<19:46, 148.33s/it]\n"
     ]
    },
    {
     "name": "stdout",
     "output_type": "stream",
     "text": [
      "\u001b[36m(tune_cv_enet pid=12720)\u001b[0m Epoch: 12 | train_loss: 0.0260 | train_ccc: 0.8009 | train_pcc: 0.8187 | val_loss: 0.0468 | val_ccc: 0.5101 | val_pcc: 0.6312\n"
     ]
    },
    {
     "name": "stderr",
     "output_type": "stream",
     "text": [
      " 65%|██████▌   | 13/20 [32:11<17:18, 148.29s/it]\n"
     ]
    },
    {
     "name": "stdout",
     "output_type": "stream",
     "text": [
      "\u001b[36m(tune_cv_enet pid=12720)\u001b[0m Epoch: 13 | train_loss: 0.0257 | train_ccc: 0.8049 | train_pcc: 0.8209 | val_loss: 0.0485 | val_ccc: 0.4910 | val_pcc: 0.6105\n"
     ]
    },
    {
     "name": "stderr",
     "output_type": "stream",
     "text": [
      " 70%|███████   | 14/20 [34:40<14:51, 148.60s/it]\n"
     ]
    },
    {
     "name": "stdout",
     "output_type": "stream",
     "text": [
      "\u001b[36m(tune_cv_enet pid=12720)\u001b[0m Epoch: 14 | train_loss: 0.0250 | train_ccc: 0.8093 | train_pcc: 0.8264 | val_loss: 0.0465 | val_ccc: 0.5141 | val_pcc: 0.6303\n"
     ]
    },
    {
     "name": "stderr",
     "output_type": "stream",
     "text": [
      " 75%|███████▌  | 15/20 [37:09<12:23, 148.66s/it]\n"
     ]
    },
    {
     "name": "stdout",
     "output_type": "stream",
     "text": [
      "\u001b[36m(tune_cv_enet pid=12720)\u001b[0m Epoch: 15 | train_loss: 0.0252 | train_ccc: 0.8087 | train_pcc: 0.8258 | val_loss: 0.0476 | val_ccc: 0.5056 | val_pcc: 0.6259\n"
     ]
    },
    {
     "name": "stderr",
     "output_type": "stream",
     "text": [
      " 80%|████████  | 16/20 [39:38<09:54, 148.71s/it]\n"
     ]
    },
    {
     "name": "stdout",
     "output_type": "stream",
     "text": [
      "\u001b[36m(tune_cv_enet pid=12720)\u001b[0m Epoch: 16 | train_loss: 0.0249 | train_ccc: 0.8122 | train_pcc: 0.8271 | val_loss: 0.0473 | val_ccc: 0.5033 | val_pcc: 0.6186\n"
     ]
    },
    {
     "name": "stderr",
     "output_type": "stream",
     "text": [
      " 85%|████████▌ | 17/20 [42:05<07:25, 148.40s/it]\n"
     ]
    },
    {
     "name": "stdout",
     "output_type": "stream",
     "text": [
      "\u001b[36m(tune_cv_enet pid=12720)\u001b[0m Epoch: 17 | train_loss: 0.0245 | train_ccc: 0.8146 | train_pcc: 0.8302 | val_loss: 0.0474 | val_ccc: 0.5103 | val_pcc: 0.6267\n"
     ]
    },
    {
     "name": "stderr",
     "output_type": "stream",
     "text": [
      " 90%|█████████ | 18/20 [44:34<04:57, 148.54s/it]\n"
     ]
    },
    {
     "name": "stdout",
     "output_type": "stream",
     "text": [
      "\u001b[36m(tune_cv_enet pid=12720)\u001b[0m Epoch: 18 | train_loss: 0.0252 | train_ccc: 0.8110 | train_pcc: 0.8266 | val_loss: 0.0473 | val_ccc: 0.5024 | val_pcc: 0.6224\n"
     ]
    },
    {
     "name": "stderr",
     "output_type": "stream",
     "text": [
      " 95%|█████████▌| 19/20 [47:04<02:28, 148.77s/it]\n"
     ]
    },
    {
     "name": "stdout",
     "output_type": "stream",
     "text": [
      "\u001b[36m(tune_cv_enet pid=12720)\u001b[0m Epoch: 19 | train_loss: 0.0246 | train_ccc: 0.8163 | train_pcc: 0.8305 | val_loss: 0.0477 | val_ccc: 0.5258 | val_pcc: 0.6246\n",
      "\u001b[36m(tune_cv_enet pid=12720)\u001b[0m Epoch: 20 | train_loss: 0.0244 | train_ccc: 0.8166 | train_pcc: 0.8312 | val_loss: 0.0474 | val_ccc: 0.5248 | val_pcc: 0.6303\n"
     ]
    },
    {
     "name": "stderr",
     "output_type": "stream",
     "text": [
      "100%|██████████| 20/20 [49:32<00:00, 148.65s/it]\n"
     ]
    }
   ],
   "source": [
    "search_space = {\n",
    "    \"bs\": 256,\n",
    "    \"do\": tune.uniform(0.0, 0.5),\n",
    "    \"loss_fn\": \"MSE\",\n",
    "    \"lr\": tune.quniform(1e-4, 1e-3, 5e-5),\n",
    "    \"aug\": tune.choice([True, False])\n",
    "}\n",
    "\n",
    "os.environ[\"TUNE_DISABLE_AUTO_CALLBACK_LOGGERS\"] = \"1\"\n",
    "\n",
    "ray.shutdown()\n",
    "ray.init(num_gpus=1, logging_level=logging.ERROR)\n",
    "resources = {\"gpu\": 1}\n",
    "trainable_with_resources = tune.with_resources(tune_cv_enet, resources)\n",
    "\n",
    "start_tune = dt.now().strftime(\"%H-%M-%S\")\n",
    "\n",
    "tuner = tune.Tuner(\n",
    "    tune.with_parameters(trainable_with_resources, start_time_tuning=start_tune),\n",
    "    tune_config=tune.TuneConfig(num_samples=7),\n",
    "    param_space=search_space\n",
    ")\n",
    "\n",
    "results = tuner.fit()"
   ]
  },
  {
   "cell_type": "code",
   "execution_count": null,
   "id": "02e1e984-78f0-41c6-aa62-011938728086",
   "metadata": {},
   "outputs": [],
   "source": []
  }
 ],
 "metadata": {
  "kernelspec": {
   "display_name": "Python 3 (ipykernel)",
   "language": "python",
   "name": "python3"
  },
  "language_info": {
   "codemirror_mode": {
    "name": "ipython",
    "version": 3
   },
   "file_extension": ".py",
   "mimetype": "text/x-python",
   "name": "python",
   "nbconvert_exporter": "python",
   "pygments_lexer": "ipython3",
   "version": "3.11.9"
  }
 },
 "nbformat": 4,
 "nbformat_minor": 5
}
